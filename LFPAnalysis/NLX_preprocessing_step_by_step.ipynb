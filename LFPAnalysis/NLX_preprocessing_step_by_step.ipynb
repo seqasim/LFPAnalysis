{
 "cells": [
  {
   "cell_type": "markdown",
   "metadata": {},
   "source": [
    "# Example preprocessing notebook"
   ]
  },
  {
   "cell_type": "markdown",
   "metadata": {},
   "source": [
    "In this notebook we are going to walk through a single patient example. There are probably some patient-specific stuff in here that might change with other patients. Should be able to demonstrate the usage of different functions from the toolbox.\n",
    "\n",
    "1. Load raw data (.edf in this notebook) using mne\n",
    "\n",
    "2. Add in electrode information\n",
    "\n",
    "3. Notch filter line noise and cleaning out bad channels \n",
    "\n",
    "4. Re-reference the data \n",
    "\n",
    "5. Annotate data (i.e. artifact and IEDs) \n",
    "\n",
    "\n",
    "Must read guides: \n",
    "\n",
    "https://www.sciencedirect.com/science/article/pii/S1053811922005559\n"
   ]
  },
  {
   "cell_type": "code",
   "execution_count": 1,
   "metadata": {},
   "outputs": [],
   "source": [
    "%matplotlib inline\n",
    "%reload_ext autoreload\n",
    "%autoreload 2"
   ]
  },
  {
   "cell_type": "code",
   "execution_count": 2,
   "metadata": {},
   "outputs": [],
   "source": [
    "import numpy as np\n",
    "import mne\n",
    "from glob import glob\n",
    "import matplotlib.pyplot as plt\n",
    "from matplotlib.backends.backend_pdf import PdfPages\n",
    "import seaborn as sns\n",
    "from scipy.stats import zscore, linregress\n",
    "import pandas as pd\n",
    "from mne.preprocessing.bads import _find_outliers\n",
    "import re"
   ]
  },
  {
   "cell_type": "code",
   "execution_count": 3,
   "metadata": {},
   "outputs": [],
   "source": [
    "import sys\n",
    "sys.path.append('/hpc/users/qasims01/resources/LFPAnalysis')"
   ]
  },
  {
   "cell_type": "code",
   "execution_count": 4,
   "metadata": {},
   "outputs": [],
   "source": [
    "from LFPAnalysis import lfp_preprocess_utils, sync_utils, nlx_utils"
   ]
  },
  {
   "cell_type": "markdown",
   "metadata": {},
   "source": [
    "## Load raw data (.nlx in this notebook) using mne"
   ]
  },
  {
   "cell_type": "markdown",
   "metadata": {},
   "source": [
    "It's a good idea to setup a sensible directory structure like below. Note that all my data lives on '/sc/arion' which is Minerva. \n"
   ]
  },
  {
   "cell_type": "markdown",
   "metadata": {},
   "source": [
    "mne: https://mne.tools/stable/index.html"
   ]
  },
  {
   "cell_type": "code",
   "execution_count": 5,
   "metadata": {},
   "outputs": [],
   "source": [
    "base_dir = '/sc/arion' # this is the root directory for most un-archived data and results \n",
    "\n",
    "save_dir = f'{base_dir}/work/qasims01/MemoryBanditData/EMU/Subjects/MS022'  # save intermediate results in the 'work' directory\n",
    "    \n",
    "# I have saved most of my raw data in the 'projects directory'\n",
    "behav_dir = f'{base_dir}/projects/guLab/Salman/EMU/MS022/behav/Day1'\n",
    "neural_dir = f'{base_dir}/projects/guLab/Salman/EMU/MS022/neural/Day1'\n",
    "anat_dir = f'{base_dir}/projects/guLab/Salman/EMU/MS022/anat'\n"
   ]
  },
  {
   "cell_type": "code",
   "execution_count": 6,
   "metadata": {},
   "outputs": [],
   "source": [
    "load_path = neural_dir"
   ]
  },
  {
   "cell_type": "code",
   "execution_count": 7,
   "metadata": {},
   "outputs": [],
   "source": [
    "eeg_names = ['fp1', 'f7', 't3', 't5', 'o1', 'f3', 'c3', 'p3', 'fp2', 'f8', 't4', 't6', 'o2', 'f4', 'c4', 'p4', 'fz', 'cz', 'pz']\n"
   ]
  },
  {
   "cell_type": "code",
   "execution_count": null,
   "metadata": {},
   "outputs": [],
   "source": []
  },
  {
   "cell_type": "code",
   "execution_count": 8,
   "metadata": {},
   "outputs": [],
   "source": [
    "seeg_names = None\n",
    "resp_names = None\n",
    "ekg_names = None"
   ]
  },
  {
   "cell_type": "code",
   "execution_count": 9,
   "metadata": {},
   "outputs": [],
   "source": [
    "# per Shawn, MSSM data seems to sometime have a \"_0000.ncs\" to \"_9999.ncs\" appended to the end of real data\n",
    "pattern = re.compile(r\"_\\d{4}\\.ncs\")  # regex pattern to match \"_0000.ncs\" to \"_9999.ncs\"\n",
    "ncs_files = [x for x in glob(f'{load_path}/*.ncs') if re.search(pattern, x)]\n",
    "# just in case this changes in the future: \n",
    "if len(ncs_files) == 0: \n",
    "    ncs_files = glob(f'{load_path}/*.ncs')\n",
    "    if not seeg_names:\n",
    "        seeg_names = [x.split('/')[-1].replace('.ncs','') for x in glob(f'{load_path}/[R,L]*.ncs')]\n",
    "else:\n",
    "    if not seeg_names:\n",
    "        seeg_names = [x.split('/')[-1].replace('.ncs','').split('_')[0] for x in glob(f'{load_path}/[R,L]*.ncs') if re.search(pattern, x)]"
   ]
  },
  {
   "cell_type": "code",
   "execution_count": 10,
   "metadata": {},
   "outputs": [],
   "source": [
    "seeg_names = [x.lower() for x in seeg_names]\n",
    "sEEG_mapping_dict = {f'{x}':'seeg' for x in seeg_names}"
   ]
  },
  {
   "cell_type": "code",
   "execution_count": 11,
   "metadata": {},
   "outputs": [],
   "source": [
    "signals = [] \n",
    "srs = [] \n",
    "ch_name = [] \n",
    "ch_type = []"
   ]
  },
  {
   "cell_type": "code",
   "execution_count": 12,
   "metadata": {},
   "outputs": [
    {
     "name": "stderr",
     "output_type": "stream",
     "text": [
      "/hpc/users/qasims01/resources/LFPAnalysis/LFPAnalysis/nlx_utils.py:82: UserWarning: Unable to parse original file path from Neuralynx header: -FileType NCS\n",
      "  warnings.warn('Unable to parse original file path from Neuralynx header: ' + hdr_lines[1])\n",
      "/hpc/users/qasims01/resources/LFPAnalysis/LFPAnalysis/nlx_utils.py:134: UserWarning: Unable to parse time string from Neuralynx header: -FileVersion 3.4\n",
      "  warnings.warn('Unable to parse time string from Neuralynx header: ' + time_string)\n",
      "/hpc/users/qasims01/resources/LFPAnalysis/LFPAnalysis/nlx_utils.py:134: UserWarning: Unable to parse time string from Neuralynx header: -FileUUID 2623c1e9-e532-42cc-9e7a-fe23bec5609a\n",
      "  warnings.warn('Unable to parse time string from Neuralynx header: ' + time_string)\n",
      "/hpc/users/qasims01/resources/LFPAnalysis/LFPAnalysis/nlx_utils.py:96: UserWarning: Unable to parse parameter line from Neuralynx header: -ProbeName\n",
      "  warnings.warn('Unable to parse parameter line from Neuralynx header: ' + line)\n",
      "/hpc/users/qasims01/resources/LFPAnalysis/LFPAnalysis/nlx_utils.py:96: UserWarning: Unable to parse parameter line from Neuralynx header: -TimeCreated 2023/02/05 10:15:26\n",
      "  warnings.warn('Unable to parse parameter line from Neuralynx header: ' + line)\n",
      "/hpc/users/qasims01/resources/LFPAnalysis/LFPAnalysis/nlx_utils.py:96: UserWarning: Unable to parse parameter line from Neuralynx header: -TimeClosed 2023/02/05 10:56:18\n",
      "  warnings.warn('Unable to parse parameter line from Neuralynx header: ' + line)\n",
      "/hpc/users/qasims01/resources/LFPAnalysis/LFPAnalysis/nlx_utils.py:96: UserWarning: Unable to parse parameter line from Neuralynx header: -ApplicationName Pegasus \"2.2.2 \"\n",
      "  warnings.warn('Unable to parse parameter line from Neuralynx header: ' + line)\n",
      "/hpc/users/qasims01/resources/LFPAnalysis/LFPAnalysis/nlx_utils.py:96: UserWarning: Unable to parse parameter line from Neuralynx header: -AcquisitionSystem AcqSystem1 ATLAS\n",
      "  warnings.warn('Unable to parse parameter line from Neuralynx header: ' + line)\n",
      "/hpc/users/qasims01/resources/LFPAnalysis/LFPAnalysis/nlx_utils.py:96: UserWarning: Unable to parse parameter line from Neuralynx header: -ReferenceChannel \"Source 08 Subject Ground\"\n",
      "  warnings.warn('Unable to parse parameter line from Neuralynx header: ' + line)\n",
      "/hpc/users/qasims01/resources/LFPAnalysis/LFPAnalysis/nlx_utils.py:153: UserWarning: Invalid samples in one or more records\n",
      "  warnings.warn('Invalid samples in one or more records')\n"
     ]
    },
    {
     "name": "stdout",
     "output_type": "stream",
     "text": [
      "Unidentified data type in Analog4\n"
     ]
    },
    {
     "name": "stderr",
     "output_type": "stream",
     "text": [
      "/hpc/users/qasims01/resources/LFPAnalysis/LFPAnalysis/nlx_utils.py:134: UserWarning: Unable to parse time string from Neuralynx header: -FileUUID 959cb163-d218-4c33-9620-dc15f647560f\n",
      "  warnings.warn('Unable to parse time string from Neuralynx header: ' + time_string)\n",
      "/hpc/users/qasims01/resources/LFPAnalysis/LFPAnalysis/nlx_utils.py:96: UserWarning: Unable to parse parameter line from Neuralynx header: -TimeClosed 2023/02/05 10:56:17\n",
      "  warnings.warn('Unable to parse parameter line from Neuralynx header: ' + line)\n",
      "/hpc/users/qasims01/resources/LFPAnalysis/LFPAnalysis/nlx_utils.py:96: UserWarning: Unable to parse parameter line from Neuralynx header: -ReferenceChannel \"Source 03 Subject Ground\"\n",
      "  warnings.warn('Unable to parse parameter line from Neuralynx header: ' + line)\n",
      "/hpc/users/qasims01/resources/LFPAnalysis/LFPAnalysis/nlx_utils.py:134: UserWarning: Unable to parse time string from Neuralynx header: -FileUUID 71544c0d-e6d8-4b5a-a8f4-c3b722541447\n",
      "  warnings.warn('Unable to parse time string from Neuralynx header: ' + time_string)\n",
      "/hpc/users/qasims01/resources/LFPAnalysis/LFPAnalysis/nlx_utils.py:96: UserWarning: Unable to parse parameter line from Neuralynx header: -ReferenceChannel \"Source 07 Reference 2\"\n",
      "  warnings.warn('Unable to parse parameter line from Neuralynx header: ' + line)\n",
      "/hpc/users/qasims01/resources/LFPAnalysis/LFPAnalysis/nlx_utils.py:134: UserWarning: Unable to parse time string from Neuralynx header: -FileUUID 66aceaf9-de74-47a4-8471-e15e2f254eaa\n",
      "  warnings.warn('Unable to parse time string from Neuralynx header: ' + time_string)\n",
      "/hpc/users/qasims01/resources/LFPAnalysis/LFPAnalysis/nlx_utils.py:96: UserWarning: Unable to parse parameter line from Neuralynx header: -TimeClosed 2023/02/05 10:56:16\n",
      "  warnings.warn('Unable to parse parameter line from Neuralynx header: ' + line)\n",
      "/hpc/users/qasims01/resources/LFPAnalysis/LFPAnalysis/nlx_utils.py:96: UserWarning: Unable to parse parameter line from Neuralynx header: -ReferenceChannel \"AD Channel 0038\"\n",
      "  warnings.warn('Unable to parse parameter line from Neuralynx header: ' + line)\n",
      "/hpc/users/qasims01/resources/LFPAnalysis/LFPAnalysis/nlx_utils.py:134: UserWarning: Unable to parse time string from Neuralynx header: -FileUUID c07dc2b0-9228-4f0b-89f3-cc82d8560528\n",
      "  warnings.warn('Unable to parse time string from Neuralynx header: ' + time_string)\n",
      "/hpc/users/qasims01/resources/LFPAnalysis/LFPAnalysis/nlx_utils.py:96: UserWarning: Unable to parse parameter line from Neuralynx header: -TimeClosed 2023/02/05 10:56:15\n",
      "  warnings.warn('Unable to parse parameter line from Neuralynx header: ' + line)\n",
      "/hpc/users/qasims01/resources/LFPAnalysis/LFPAnalysis/nlx_utils.py:134: UserWarning: Unable to parse time string from Neuralynx header: -FileUUID b8bd04b0-bbbb-4d03-9cc5-1795cafa552c\n",
      "  warnings.warn('Unable to parse time string from Neuralynx header: ' + time_string)\n",
      "/hpc/users/qasims01/resources/LFPAnalysis/LFPAnalysis/nlx_utils.py:134: UserWarning: Unable to parse time string from Neuralynx header: -FileUUID 84698a65-bfe5-4576-aab0-0edb243aa4f5\n",
      "  warnings.warn('Unable to parse time string from Neuralynx header: ' + time_string)\n",
      "/hpc/users/qasims01/resources/LFPAnalysis/LFPAnalysis/nlx_utils.py:134: UserWarning: Unable to parse time string from Neuralynx header: -FileUUID af20270b-bd78-4d94-a09e-ddd4165c0544\n",
      "  warnings.warn('Unable to parse time string from Neuralynx header: ' + time_string)\n",
      "/hpc/users/qasims01/resources/LFPAnalysis/LFPAnalysis/nlx_utils.py:134: UserWarning: Unable to parse time string from Neuralynx header: -FileUUID 51713b09-4db7-4fc9-9e68-28ace7db1a17\n",
      "  warnings.warn('Unable to parse time string from Neuralynx header: ' + time_string)\n",
      "/hpc/users/qasims01/resources/LFPAnalysis/LFPAnalysis/nlx_utils.py:134: UserWarning: Unable to parse time string from Neuralynx header: -FileUUID 330ec1c2-c966-489c-bef9-f40cb2081eaf\n",
      "  warnings.warn('Unable to parse time string from Neuralynx header: ' + time_string)\n",
      "/hpc/users/qasims01/resources/LFPAnalysis/LFPAnalysis/nlx_utils.py:134: UserWarning: Unable to parse time string from Neuralynx header: -FileUUID 80fb2719-7ef1-480e-a93d-166e280e7fa5\n",
      "  warnings.warn('Unable to parse time string from Neuralynx header: ' + time_string)\n",
      "/hpc/users/qasims01/resources/LFPAnalysis/LFPAnalysis/nlx_utils.py:134: UserWarning: Unable to parse time string from Neuralynx header: -FileUUID 2c08f35b-80f4-4854-9952-1332576e7933\n",
      "  warnings.warn('Unable to parse time string from Neuralynx header: ' + time_string)\n",
      "/hpc/users/qasims01/resources/LFPAnalysis/LFPAnalysis/nlx_utils.py:134: UserWarning: Unable to parse time string from Neuralynx header: -FileUUID d6d7203d-5cd7-4590-af47-4d658aac4642\n",
      "  warnings.warn('Unable to parse time string from Neuralynx header: ' + time_string)\n",
      "/hpc/users/qasims01/resources/LFPAnalysis/LFPAnalysis/nlx_utils.py:134: UserWarning: Unable to parse time string from Neuralynx header: -FileUUID 7f407302-0e85-43b7-b3ac-92c9172b2aa3\n",
      "  warnings.warn('Unable to parse time string from Neuralynx header: ' + time_string)\n",
      "/hpc/users/qasims01/resources/LFPAnalysis/LFPAnalysis/nlx_utils.py:134: UserWarning: Unable to parse time string from Neuralynx header: -FileUUID 3c5d8fe3-0bba-4088-a088-48ba88fe8cfd\n",
      "  warnings.warn('Unable to parse time string from Neuralynx header: ' + time_string)\n"
     ]
    },
    {
     "name": "stdout",
     "output_type": "stream",
     "text": [
      "Unidentified data type in ABS1\n"
     ]
    },
    {
     "name": "stderr",
     "output_type": "stream",
     "text": [
      "/hpc/users/qasims01/resources/LFPAnalysis/LFPAnalysis/nlx_utils.py:134: UserWarning: Unable to parse time string from Neuralynx header: -FileUUID 393740ff-230e-433d-b780-178e3ef14ec8\n",
      "  warnings.warn('Unable to parse time string from Neuralynx header: ' + time_string)\n",
      "/hpc/users/qasims01/resources/LFPAnalysis/LFPAnalysis/nlx_utils.py:134: UserWarning: Unable to parse time string from Neuralynx header: -FileUUID fcb8da22-488c-495a-a823-592319966658\n",
      "  warnings.warn('Unable to parse time string from Neuralynx header: ' + time_string)\n",
      "/hpc/users/qasims01/resources/LFPAnalysis/LFPAnalysis/nlx_utils.py:134: UserWarning: Unable to parse time string from Neuralynx header: -FileUUID 2ffa7a06-84ed-4d2d-8dc0-f76c0a05f3a0\n",
      "  warnings.warn('Unable to parse time string from Neuralynx header: ' + time_string)\n",
      "/hpc/users/qasims01/resources/LFPAnalysis/LFPAnalysis/nlx_utils.py:134: UserWarning: Unable to parse time string from Neuralynx header: -FileUUID c165f11b-2178-417d-8651-dd0fab5b2f0b\n",
      "  warnings.warn('Unable to parse time string from Neuralynx header: ' + time_string)\n",
      "/hpc/users/qasims01/resources/LFPAnalysis/LFPAnalysis/nlx_utils.py:134: UserWarning: Unable to parse time string from Neuralynx header: -FileUUID e887013b-9728-49f5-8d6e-443e2404238a\n",
      "  warnings.warn('Unable to parse time string from Neuralynx header: ' + time_string)\n",
      "/hpc/users/qasims01/resources/LFPAnalysis/LFPAnalysis/nlx_utils.py:134: UserWarning: Unable to parse time string from Neuralynx header: -FileUUID 2e8a80a0-4ca8-4487-8e71-424040a6c26b\n",
      "  warnings.warn('Unable to parse time string from Neuralynx header: ' + time_string)\n",
      "/hpc/users/qasims01/resources/LFPAnalysis/LFPAnalysis/nlx_utils.py:134: UserWarning: Unable to parse time string from Neuralynx header: -FileUUID 5f0bba14-95cd-45ac-80eb-30dedb932e13\n",
      "  warnings.warn('Unable to parse time string from Neuralynx header: ' + time_string)\n",
      "/hpc/users/qasims01/resources/LFPAnalysis/LFPAnalysis/nlx_utils.py:134: UserWarning: Unable to parse time string from Neuralynx header: -FileUUID b3b2ac2a-1cfe-4b5e-82ce-de7336bbd63b\n",
      "  warnings.warn('Unable to parse time string from Neuralynx header: ' + time_string)\n",
      "/hpc/users/qasims01/resources/LFPAnalysis/LFPAnalysis/nlx_utils.py:134: UserWarning: Unable to parse time string from Neuralynx header: -FileUUID 7f59a8cc-c829-4005-ad61-b0bb49622fd3\n",
      "  warnings.warn('Unable to parse time string from Neuralynx header: ' + time_string)\n",
      "/hpc/users/qasims01/resources/LFPAnalysis/LFPAnalysis/nlx_utils.py:96: UserWarning: Unable to parse parameter line from Neuralynx header: -ReferenceChannel \"AD Channel 0192\"\n",
      "  warnings.warn('Unable to parse parameter line from Neuralynx header: ' + line)\n",
      "/hpc/users/qasims01/resources/LFPAnalysis/LFPAnalysis/nlx_utils.py:134: UserWarning: Unable to parse time string from Neuralynx header: -FileUUID 04ac83cc-0555-4f63-87c3-0b1e8f6ca997\n",
      "  warnings.warn('Unable to parse time string from Neuralynx header: ' + time_string)\n",
      "/hpc/users/qasims01/resources/LFPAnalysis/LFPAnalysis/nlx_utils.py:134: UserWarning: Unable to parse time string from Neuralynx header: -FileUUID 9e8a24fa-7f90-4d7b-96eb-c28b45f2fe94\n",
      "  warnings.warn('Unable to parse time string from Neuralynx header: ' + time_string)\n",
      "/hpc/users/qasims01/resources/LFPAnalysis/LFPAnalysis/nlx_utils.py:134: UserWarning: Unable to parse time string from Neuralynx header: -FileUUID 9ff49142-33c3-49d2-aaf5-d14e7d1f63c4\n",
      "  warnings.warn('Unable to parse time string from Neuralynx header: ' + time_string)\n"
     ]
    },
    {
     "name": "stdout",
     "output_type": "stream",
     "text": [
      "Unidentified data type in EKG1\n"
     ]
    },
    {
     "name": "stderr",
     "output_type": "stream",
     "text": [
      "/hpc/users/qasims01/resources/LFPAnalysis/LFPAnalysis/nlx_utils.py:134: UserWarning: Unable to parse time string from Neuralynx header: -FileUUID afbbc14b-91c9-4359-8c2c-b59b32ca9514\n",
      "  warnings.warn('Unable to parse time string from Neuralynx header: ' + time_string)\n",
      "/hpc/users/qasims01/resources/LFPAnalysis/LFPAnalysis/nlx_utils.py:134: UserWarning: Unable to parse time string from Neuralynx header: -FileUUID 9de02852-1dc2-4de2-8b81-19db8dc3fcc8\n",
      "  warnings.warn('Unable to parse time string from Neuralynx header: ' + time_string)\n"
     ]
    },
    {
     "name": "stdout",
     "output_type": "stream",
     "text": [
      "Unidentified data type in Mic\n"
     ]
    },
    {
     "name": "stderr",
     "output_type": "stream",
     "text": [
      "/hpc/users/qasims01/resources/LFPAnalysis/LFPAnalysis/nlx_utils.py:134: UserWarning: Unable to parse time string from Neuralynx header: -FileUUID 979d433b-d012-4a25-82dc-c054811c867f\n",
      "  warnings.warn('Unable to parse time string from Neuralynx header: ' + time_string)\n",
      "/hpc/users/qasims01/resources/LFPAnalysis/LFPAnalysis/nlx_utils.py:134: UserWarning: Unable to parse time string from Neuralynx header: -FileUUID 92067a0d-8c2e-4ed7-b9c2-7025efb7a0c6\n",
      "  warnings.warn('Unable to parse time string from Neuralynx header: ' + time_string)\n",
      "/hpc/users/qasims01/resources/LFPAnalysis/LFPAnalysis/nlx_utils.py:134: UserWarning: Unable to parse time string from Neuralynx header: -FileUUID 48fd226d-5a37-451d-9100-612e5cf5de41\n",
      "  warnings.warn('Unable to parse time string from Neuralynx header: ' + time_string)\n"
     ]
    },
    {
     "name": "stdout",
     "output_type": "stream",
     "text": [
      "Unidentified data type in Photodiode\n"
     ]
    },
    {
     "name": "stderr",
     "output_type": "stream",
     "text": [
      "/hpc/users/qasims01/resources/LFPAnalysis/LFPAnalysis/nlx_utils.py:134: UserWarning: Unable to parse time string from Neuralynx header: -FileUUID 16ef7377-5f8d-4652-ab25-1f527a13116c\n",
      "  warnings.warn('Unable to parse time string from Neuralynx header: ' + time_string)\n",
      "/hpc/users/qasims01/resources/LFPAnalysis/LFPAnalysis/nlx_utils.py:134: UserWarning: Unable to parse time string from Neuralynx header: -FileUUID c2584992-90bb-4624-85cf-53ad7ecc99ca\n",
      "  warnings.warn('Unable to parse time string from Neuralynx header: ' + time_string)\n",
      "/hpc/users/qasims01/resources/LFPAnalysis/LFPAnalysis/nlx_utils.py:134: UserWarning: Unable to parse time string from Neuralynx header: -FileUUID 512a44f5-6bfe-45d9-8c8a-55ec4d4a7b6b\n",
      "  warnings.warn('Unable to parse time string from Neuralynx header: ' + time_string)\n",
      "/hpc/users/qasims01/resources/LFPAnalysis/LFPAnalysis/nlx_utils.py:134: UserWarning: Unable to parse time string from Neuralynx header: -FileUUID 80bf0833-33cf-4605-a8c5-6595a9c59c22\n",
      "  warnings.warn('Unable to parse time string from Neuralynx header: ' + time_string)\n",
      "/hpc/users/qasims01/resources/LFPAnalysis/LFPAnalysis/nlx_utils.py:134: UserWarning: Unable to parse time string from Neuralynx header: -FileUUID 14208120-dd9f-47e5-916a-2cb563e91899\n",
      "  warnings.warn('Unable to parse time string from Neuralynx header: ' + time_string)\n",
      "/hpc/users/qasims01/resources/LFPAnalysis/LFPAnalysis/nlx_utils.py:134: UserWarning: Unable to parse time string from Neuralynx header: -FileUUID 4915bd5b-712f-4ca8-b07a-62da2885d318\n",
      "  warnings.warn('Unable to parse time string from Neuralynx header: ' + time_string)\n",
      "/hpc/users/qasims01/resources/LFPAnalysis/LFPAnalysis/nlx_utils.py:134: UserWarning: Unable to parse time string from Neuralynx header: -FileUUID a94b26d2-95bd-4453-a620-6ca0c89298e3\n",
      "  warnings.warn('Unable to parse time string from Neuralynx header: ' + time_string)\n",
      "/hpc/users/qasims01/resources/LFPAnalysis/LFPAnalysis/nlx_utils.py:134: UserWarning: Unable to parse time string from Neuralynx header: -FileUUID 74198149-3970-49a8-9c1b-82c6b430cfc2\n",
      "  warnings.warn('Unable to parse time string from Neuralynx header: ' + time_string)\n",
      "/hpc/users/qasims01/resources/LFPAnalysis/LFPAnalysis/nlx_utils.py:134: UserWarning: Unable to parse time string from Neuralynx header: -FileUUID 624d0305-c094-4b02-b49d-a6db2fa20e31\n",
      "  warnings.warn('Unable to parse time string from Neuralynx header: ' + time_string)\n",
      "/hpc/users/qasims01/resources/LFPAnalysis/LFPAnalysis/nlx_utils.py:134: UserWarning: Unable to parse time string from Neuralynx header: -FileUUID 5faa8437-61a0-449c-bde6-6d57c7a02f2d\n",
      "  warnings.warn('Unable to parse time string from Neuralynx header: ' + time_string)\n",
      "/hpc/users/qasims01/resources/LFPAnalysis/LFPAnalysis/nlx_utils.py:134: UserWarning: Unable to parse time string from Neuralynx header: -FileUUID 3c18243b-8252-495d-958a-b763f0aa20ad\n",
      "  warnings.warn('Unable to parse time string from Neuralynx header: ' + time_string)\n",
      "/hpc/users/qasims01/resources/LFPAnalysis/LFPAnalysis/nlx_utils.py:134: UserWarning: Unable to parse time string from Neuralynx header: -FileUUID acee17d4-6103-4a6b-b66f-0659ecb69548\n",
      "  warnings.warn('Unable to parse time string from Neuralynx header: ' + time_string)\n"
     ]
    },
    {
     "name": "stdout",
     "output_type": "stream",
     "text": [
      "Unidentified data type in Audio\n"
     ]
    },
    {
     "name": "stderr",
     "output_type": "stream",
     "text": [
      "/hpc/users/qasims01/resources/LFPAnalysis/LFPAnalysis/nlx_utils.py:134: UserWarning: Unable to parse time string from Neuralynx header: -FileUUID 024987bd-15fc-417f-95fb-558c1edec501\n",
      "  warnings.warn('Unable to parse time string from Neuralynx header: ' + time_string)\n",
      "/hpc/users/qasims01/resources/LFPAnalysis/LFPAnalysis/nlx_utils.py:96: UserWarning: Unable to parse parameter line from Neuralynx header: -ReferenceChannel \"Source 04 Subject Ground\"\n",
      "  warnings.warn('Unable to parse parameter line from Neuralynx header: ' + line)\n"
     ]
    },
    {
     "name": "stdout",
     "output_type": "stream",
     "text": [
      "Unidentified data type in CHEST2\n"
     ]
    },
    {
     "name": "stderr",
     "output_type": "stream",
     "text": [
      "/hpc/users/qasims01/resources/LFPAnalysis/LFPAnalysis/nlx_utils.py:134: UserWarning: Unable to parse time string from Neuralynx header: -FileUUID 581c6652-e14a-4977-b241-17390fb824a0\n",
      "  warnings.warn('Unable to parse time string from Neuralynx header: ' + time_string)\n",
      "/hpc/users/qasims01/resources/LFPAnalysis/LFPAnalysis/nlx_utils.py:96: UserWarning: Unable to parse parameter line from Neuralynx header: -ReferenceChannel \"AD Channel 0195\"\n",
      "  warnings.warn('Unable to parse parameter line from Neuralynx header: ' + line)\n",
      "/hpc/users/qasims01/resources/LFPAnalysis/LFPAnalysis/nlx_utils.py:134: UserWarning: Unable to parse time string from Neuralynx header: -FileUUID acfb5007-1bd7-41f2-871b-41e15bab49a0\n",
      "  warnings.warn('Unable to parse time string from Neuralynx header: ' + time_string)\n",
      "/hpc/users/qasims01/resources/LFPAnalysis/LFPAnalysis/nlx_utils.py:134: UserWarning: Unable to parse time string from Neuralynx header: -FileUUID 692e3221-f54f-43c6-ab02-db1699727727\n",
      "  warnings.warn('Unable to parse time string from Neuralynx header: ' + time_string)\n",
      "/hpc/users/qasims01/resources/LFPAnalysis/LFPAnalysis/nlx_utils.py:134: UserWarning: Unable to parse time string from Neuralynx header: -FileUUID 29f24039-71da-4eb1-a9df-c18038a8f141\n",
      "  warnings.warn('Unable to parse time string from Neuralynx header: ' + time_string)\n",
      "/hpc/users/qasims01/resources/LFPAnalysis/LFPAnalysis/nlx_utils.py:134: UserWarning: Unable to parse time string from Neuralynx header: -FileUUID b32c8251-0506-48ad-b8f4-4883cd547c20\n",
      "  warnings.warn('Unable to parse time string from Neuralynx header: ' + time_string)\n",
      "/hpc/users/qasims01/resources/LFPAnalysis/LFPAnalysis/nlx_utils.py:134: UserWarning: Unable to parse time string from Neuralynx header: -FileUUID a66da283-1436-4052-a24c-da83604b2d6f\n",
      "  warnings.warn('Unable to parse time string from Neuralynx header: ' + time_string)\n",
      "/hpc/users/qasims01/resources/LFPAnalysis/LFPAnalysis/nlx_utils.py:134: UserWarning: Unable to parse time string from Neuralynx header: -FileUUID 72bfe6d4-0197-4afd-a699-5a4098c6e783\n",
      "  warnings.warn('Unable to parse time string from Neuralynx header: ' + time_string)\n",
      "/hpc/users/qasims01/resources/LFPAnalysis/LFPAnalysis/nlx_utils.py:134: UserWarning: Unable to parse time string from Neuralynx header: -FileUUID 1466ed01-78cf-4d5b-a564-f9eca1b9ec42\n",
      "  warnings.warn('Unable to parse time string from Neuralynx header: ' + time_string)\n",
      "/hpc/users/qasims01/resources/LFPAnalysis/LFPAnalysis/nlx_utils.py:134: UserWarning: Unable to parse time string from Neuralynx header: -FileUUID b133db27-2d25-498e-b4d6-5689728e7aa4\n",
      "  warnings.warn('Unable to parse time string from Neuralynx header: ' + time_string)\n",
      "/hpc/users/qasims01/resources/LFPAnalysis/LFPAnalysis/nlx_utils.py:134: UserWarning: Unable to parse time string from Neuralynx header: -FileUUID e5a4830c-6c29-4976-adf6-87fd136ed500\n",
      "  warnings.warn('Unable to parse time string from Neuralynx header: ' + time_string)\n",
      "/hpc/users/qasims01/resources/LFPAnalysis/LFPAnalysis/nlx_utils.py:134: UserWarning: Unable to parse time string from Neuralynx header: -FileUUID 2f565e20-1852-4ba8-8fa3-df367d848964\n",
      "  warnings.warn('Unable to parse time string from Neuralynx header: ' + time_string)\n",
      "/hpc/users/qasims01/resources/LFPAnalysis/LFPAnalysis/nlx_utils.py:134: UserWarning: Unable to parse time string from Neuralynx header: -FileUUID 39f60a89-a285-4863-8fa5-132834d54796\n",
      "  warnings.warn('Unable to parse time string from Neuralynx header: ' + time_string)\n",
      "/hpc/users/qasims01/resources/LFPAnalysis/LFPAnalysis/nlx_utils.py:134: UserWarning: Unable to parse time string from Neuralynx header: -FileUUID 95a77411-4903-4f50-ac5f-c96ab6ab06e6\n",
      "  warnings.warn('Unable to parse time string from Neuralynx header: ' + time_string)\n",
      "/hpc/users/qasims01/resources/LFPAnalysis/LFPAnalysis/nlx_utils.py:134: UserWarning: Unable to parse time string from Neuralynx header: -FileUUID 752ca1ef-b457-479e-a313-0a6ba44a384e\n",
      "  warnings.warn('Unable to parse time string from Neuralynx header: ' + time_string)\n",
      "/hpc/users/qasims01/resources/LFPAnalysis/LFPAnalysis/nlx_utils.py:134: UserWarning: Unable to parse time string from Neuralynx header: -FileUUID 43858b00-5fdc-4a5c-93ce-07b19a12327f\n",
      "  warnings.warn('Unable to parse time string from Neuralynx header: ' + time_string)\n",
      "/hpc/users/qasims01/resources/LFPAnalysis/LFPAnalysis/nlx_utils.py:134: UserWarning: Unable to parse time string from Neuralynx header: -FileUUID c936e11b-22b9-4982-87ad-38f1f496f36c\n",
      "  warnings.warn('Unable to parse time string from Neuralynx header: ' + time_string)\n",
      "/hpc/users/qasims01/resources/LFPAnalysis/LFPAnalysis/nlx_utils.py:134: UserWarning: Unable to parse time string from Neuralynx header: -FileUUID 79ee7246-67fa-4573-b703-36ec17f3d70c\n",
      "  warnings.warn('Unable to parse time string from Neuralynx header: ' + time_string)\n",
      "/hpc/users/qasims01/resources/LFPAnalysis/LFPAnalysis/nlx_utils.py:134: UserWarning: Unable to parse time string from Neuralynx header: -FileUUID eda7ff8c-1a9e-43c4-b130-2d921ddacb7a\n",
      "  warnings.warn('Unable to parse time string from Neuralynx header: ' + time_string)\n",
      "/hpc/users/qasims01/resources/LFPAnalysis/LFPAnalysis/nlx_utils.py:134: UserWarning: Unable to parse time string from Neuralynx header: -FileUUID 1b256b55-4c02-4efb-85d3-70b4baf72ad4\n",
      "  warnings.warn('Unable to parse time string from Neuralynx header: ' + time_string)\n",
      "/hpc/users/qasims01/resources/LFPAnalysis/LFPAnalysis/nlx_utils.py:134: UserWarning: Unable to parse time string from Neuralynx header: -FileUUID 83acf0ab-637f-4234-9a55-73ff3c1d05fc\n",
      "  warnings.warn('Unable to parse time string from Neuralynx header: ' + time_string)\n",
      "/hpc/users/qasims01/resources/LFPAnalysis/LFPAnalysis/nlx_utils.py:134: UserWarning: Unable to parse time string from Neuralynx header: -FileUUID a0cd6975-39f5-4608-a217-21401cb0a4d8\n",
      "  warnings.warn('Unable to parse time string from Neuralynx header: ' + time_string)\n",
      "/hpc/users/qasims01/resources/LFPAnalysis/LFPAnalysis/nlx_utils.py:96: UserWarning: Unable to parse parameter line from Neuralynx header: -ReferenceChannel \"Source 02 Subject Ground\"\n",
      "  warnings.warn('Unable to parse parameter line from Neuralynx header: ' + line)\n"
     ]
    },
    {
     "name": "stdout",
     "output_type": "stream",
     "text": [
      "Unidentified data type in BLANK2\n"
     ]
    },
    {
     "name": "stderr",
     "output_type": "stream",
     "text": [
      "/hpc/users/qasims01/resources/LFPAnalysis/LFPAnalysis/nlx_utils.py:134: UserWarning: Unable to parse time string from Neuralynx header: -FileUUID 715dcb1d-926f-413c-ade9-af4bf4dbfe79\n",
      "  warnings.warn('Unable to parse time string from Neuralynx header: ' + time_string)\n",
      "/hpc/users/qasims01/resources/LFPAnalysis/LFPAnalysis/nlx_utils.py:134: UserWarning: Unable to parse time string from Neuralynx header: -FileUUID 2f1c0985-8418-4f31-bb00-064cbbc7ee3c\n",
      "  warnings.warn('Unable to parse time string from Neuralynx header: ' + time_string)\n",
      "/hpc/users/qasims01/resources/LFPAnalysis/LFPAnalysis/nlx_utils.py:134: UserWarning: Unable to parse time string from Neuralynx header: -FileUUID ee4aba97-ede6-469d-964c-f539fb5c0fc7\n",
      "  warnings.warn('Unable to parse time string from Neuralynx header: ' + time_string)\n",
      "/hpc/users/qasims01/resources/LFPAnalysis/LFPAnalysis/nlx_utils.py:134: UserWarning: Unable to parse time string from Neuralynx header: -FileUUID 2662efdc-4a60-4ccd-9985-fef5774ba588\n",
      "  warnings.warn('Unable to parse time string from Neuralynx header: ' + time_string)\n"
     ]
    },
    {
     "name": "stdout",
     "output_type": "stream",
     "text": [
      "Unidentified data type in EKG2\n"
     ]
    },
    {
     "name": "stderr",
     "output_type": "stream",
     "text": [
      "/hpc/users/qasims01/resources/LFPAnalysis/LFPAnalysis/nlx_utils.py:134: UserWarning: Unable to parse time string from Neuralynx header: -FileUUID 1080f445-82f7-4164-89af-9ef14fd972f8\n",
      "  warnings.warn('Unable to parse time string from Neuralynx header: ' + time_string)\n",
      "/hpc/users/qasims01/resources/LFPAnalysis/LFPAnalysis/nlx_utils.py:134: UserWarning: Unable to parse time string from Neuralynx header: -FileUUID 83c95854-b0a4-4fb7-add2-d46d14c7c5d2\n",
      "  warnings.warn('Unable to parse time string from Neuralynx header: ' + time_string)\n",
      "/hpc/users/qasims01/resources/LFPAnalysis/LFPAnalysis/nlx_utils.py:134: UserWarning: Unable to parse time string from Neuralynx header: -FileUUID bf8cf8a9-b734-462a-a836-af2964f2be22\n",
      "  warnings.warn('Unable to parse time string from Neuralynx header: ' + time_string)\n",
      "/hpc/users/qasims01/resources/LFPAnalysis/LFPAnalysis/nlx_utils.py:134: UserWarning: Unable to parse time string from Neuralynx header: -FileUUID 8db8a6db-3665-4146-978a-0a84257390b9\n",
      "  warnings.warn('Unable to parse time string from Neuralynx header: ' + time_string)\n",
      "/hpc/users/qasims01/resources/LFPAnalysis/LFPAnalysis/nlx_utils.py:134: UserWarning: Unable to parse time string from Neuralynx header: -FileUUID 6cbc508f-ccc5-419f-b3a0-494362fdbb6e\n",
      "  warnings.warn('Unable to parse time string from Neuralynx header: ' + time_string)\n",
      "/hpc/users/qasims01/resources/LFPAnalysis/LFPAnalysis/nlx_utils.py:134: UserWarning: Unable to parse time string from Neuralynx header: -FileUUID 785bcecd-e984-46f4-ab13-b34b638dac11\n",
      "  warnings.warn('Unable to parse time string from Neuralynx header: ' + time_string)\n"
     ]
    },
    {
     "name": "stdout",
     "output_type": "stream",
     "text": [
      "Unidentified data type in CHEST1\n"
     ]
    },
    {
     "name": "stderr",
     "output_type": "stream",
     "text": [
      "/hpc/users/qasims01/resources/LFPAnalysis/LFPAnalysis/nlx_utils.py:134: UserWarning: Unable to parse time string from Neuralynx header: -FileUUID ce87ad17-bd13-408d-b40a-a4d436a5710a\n",
      "  warnings.warn('Unable to parse time string from Neuralynx header: ' + time_string)\n",
      "/hpc/users/qasims01/resources/LFPAnalysis/LFPAnalysis/nlx_utils.py:134: UserWarning: Unable to parse time string from Neuralynx header: -FileUUID 02170735-2453-460f-8a34-b5d1d18ac56b\n",
      "  warnings.warn('Unable to parse time string from Neuralynx header: ' + time_string)\n",
      "/hpc/users/qasims01/resources/LFPAnalysis/LFPAnalysis/nlx_utils.py:134: UserWarning: Unable to parse time string from Neuralynx header: -FileUUID 7ae1c7fe-8928-4ef8-9be8-a7c3812e6d5e\n",
      "  warnings.warn('Unable to parse time string from Neuralynx header: ' + time_string)\n",
      "/hpc/users/qasims01/resources/LFPAnalysis/LFPAnalysis/nlx_utils.py:134: UserWarning: Unable to parse time string from Neuralynx header: -FileUUID 3ce34952-f769-45a0-a3f1-d76654d67e8f\n",
      "  warnings.warn('Unable to parse time string from Neuralynx header: ' + time_string)\n",
      "/hpc/users/qasims01/resources/LFPAnalysis/LFPAnalysis/nlx_utils.py:134: UserWarning: Unable to parse time string from Neuralynx header: -FileUUID a7502311-b0f5-4cbc-8c1c-ef87b6bc36e5\n",
      "  warnings.warn('Unable to parse time string from Neuralynx header: ' + time_string)\n",
      "/hpc/users/qasims01/resources/LFPAnalysis/LFPAnalysis/nlx_utils.py:134: UserWarning: Unable to parse time string from Neuralynx header: -FileUUID 69f58978-0b37-4f1a-aaf2-bde29689d613\n",
      "  warnings.warn('Unable to parse time string from Neuralynx header: ' + time_string)\n",
      "/hpc/users/qasims01/resources/LFPAnalysis/LFPAnalysis/nlx_utils.py:134: UserWarning: Unable to parse time string from Neuralynx header: -FileUUID b12545e2-82d3-4325-867a-bd0ddab3f213\n",
      "  warnings.warn('Unable to parse time string from Neuralynx header: ' + time_string)\n",
      "/hpc/users/qasims01/resources/LFPAnalysis/LFPAnalysis/nlx_utils.py:134: UserWarning: Unable to parse time string from Neuralynx header: -FileUUID 5b346c2e-d814-4c50-ac9a-ac3156d766df\n",
      "  warnings.warn('Unable to parse time string from Neuralynx header: ' + time_string)\n",
      "/hpc/users/qasims01/resources/LFPAnalysis/LFPAnalysis/nlx_utils.py:134: UserWarning: Unable to parse time string from Neuralynx header: -FileUUID cc46a51f-7b89-4939-9206-4a073dadeb1b\n",
      "  warnings.warn('Unable to parse time string from Neuralynx header: ' + time_string)\n",
      "/hpc/users/qasims01/resources/LFPAnalysis/LFPAnalysis/nlx_utils.py:134: UserWarning: Unable to parse time string from Neuralynx header: -FileUUID 53cc6d97-592c-4f92-8fe4-f7f891e840d2\n",
      "  warnings.warn('Unable to parse time string from Neuralynx header: ' + time_string)\n",
      "/hpc/users/qasims01/resources/LFPAnalysis/LFPAnalysis/nlx_utils.py:134: UserWarning: Unable to parse time string from Neuralynx header: -FileUUID d8d06f78-ca07-491a-9566-cbcaf24c241b\n",
      "  warnings.warn('Unable to parse time string from Neuralynx header: ' + time_string)\n",
      "/hpc/users/qasims01/resources/LFPAnalysis/LFPAnalysis/nlx_utils.py:134: UserWarning: Unable to parse time string from Neuralynx header: -FileUUID 744ecad7-290a-49cc-9f63-e31784049fb3\n",
      "  warnings.warn('Unable to parse time string from Neuralynx header: ' + time_string)\n",
      "/hpc/users/qasims01/resources/LFPAnalysis/LFPAnalysis/nlx_utils.py:134: UserWarning: Unable to parse time string from Neuralynx header: -FileUUID 72d45b3e-8276-4a48-b5af-c16ad3ab4448\n",
      "  warnings.warn('Unable to parse time string from Neuralynx header: ' + time_string)\n",
      "/hpc/users/qasims01/resources/LFPAnalysis/LFPAnalysis/nlx_utils.py:134: UserWarning: Unable to parse time string from Neuralynx header: -FileUUID 3018195f-d1fe-4fb5-abe3-b446758c98a1\n",
      "  warnings.warn('Unable to parse time string from Neuralynx header: ' + time_string)\n",
      "/hpc/users/qasims01/resources/LFPAnalysis/LFPAnalysis/nlx_utils.py:134: UserWarning: Unable to parse time string from Neuralynx header: -FileUUID 5901ddb4-e5b5-48b1-94b2-c00a5c86e4d2\n",
      "  warnings.warn('Unable to parse time string from Neuralynx header: ' + time_string)\n",
      "/hpc/users/qasims01/resources/LFPAnalysis/LFPAnalysis/nlx_utils.py:134: UserWarning: Unable to parse time string from Neuralynx header: -FileUUID 5be3e66d-d18c-4c94-b131-36e206a9a3e0\n",
      "  warnings.warn('Unable to parse time string from Neuralynx header: ' + time_string)\n",
      "/hpc/users/qasims01/resources/LFPAnalysis/LFPAnalysis/nlx_utils.py:134: UserWarning: Unable to parse time string from Neuralynx header: -FileUUID 69f2f6f1-861f-4cfc-a0bc-c1a2a9f1ece8\n",
      "  warnings.warn('Unable to parse time string from Neuralynx header: ' + time_string)\n",
      "/hpc/users/qasims01/resources/LFPAnalysis/LFPAnalysis/nlx_utils.py:134: UserWarning: Unable to parse time string from Neuralynx header: -FileUUID de252544-883c-42f3-8fc5-efd235ef345b\n",
      "  warnings.warn('Unable to parse time string from Neuralynx header: ' + time_string)\n",
      "/hpc/users/qasims01/resources/LFPAnalysis/LFPAnalysis/nlx_utils.py:96: UserWarning: Unable to parse parameter line from Neuralynx header: -ReferenceChannel \"Source 01 Reference 1\"\n",
      "  warnings.warn('Unable to parse parameter line from Neuralynx header: ' + line)\n",
      "/hpc/users/qasims01/resources/LFPAnalysis/LFPAnalysis/nlx_utils.py:134: UserWarning: Unable to parse time string from Neuralynx header: -FileUUID b2fc1e65-ab45-4337-adc0-78dfceaab440\n",
      "  warnings.warn('Unable to parse time string from Neuralynx header: ' + time_string)\n",
      "/hpc/users/qasims01/resources/LFPAnalysis/LFPAnalysis/nlx_utils.py:134: UserWarning: Unable to parse time string from Neuralynx header: -FileUUID 890d6aec-5c2d-45ea-b77a-883c3681c92b\n",
      "  warnings.warn('Unable to parse time string from Neuralynx header: ' + time_string)\n",
      "/hpc/users/qasims01/resources/LFPAnalysis/LFPAnalysis/nlx_utils.py:134: UserWarning: Unable to parse time string from Neuralynx header: -FileUUID a8737ea7-2e68-4a26-97fd-4e9ecfe32fcc\n",
      "  warnings.warn('Unable to parse time string from Neuralynx header: ' + time_string)\n",
      "/hpc/users/qasims01/resources/LFPAnalysis/LFPAnalysis/nlx_utils.py:134: UserWarning: Unable to parse time string from Neuralynx header: -FileUUID 964b108a-0488-488e-89ec-ef628940ec85\n",
      "  warnings.warn('Unable to parse time string from Neuralynx header: ' + time_string)\n",
      "/hpc/users/qasims01/resources/LFPAnalysis/LFPAnalysis/nlx_utils.py:134: UserWarning: Unable to parse time string from Neuralynx header: -FileUUID 72d62758-5e0c-4eae-8632-7e13784c9f12\n",
      "  warnings.warn('Unable to parse time string from Neuralynx header: ' + time_string)\n",
      "/hpc/users/qasims01/resources/LFPAnalysis/LFPAnalysis/nlx_utils.py:134: UserWarning: Unable to parse time string from Neuralynx header: -FileUUID 728676d5-092e-4718-bc26-7e0304d4f0af\n",
      "  warnings.warn('Unable to parse time string from Neuralynx header: ' + time_string)\n",
      "/hpc/users/qasims01/resources/LFPAnalysis/LFPAnalysis/nlx_utils.py:134: UserWarning: Unable to parse time string from Neuralynx header: -FileUUID 22ae4624-2d63-4c9a-bcf6-44875539457f\n",
      "  warnings.warn('Unable to parse time string from Neuralynx header: ' + time_string)\n",
      "/hpc/users/qasims01/resources/LFPAnalysis/LFPAnalysis/nlx_utils.py:134: UserWarning: Unable to parse time string from Neuralynx header: -FileUUID 21137933-c8d0-49e4-bf7f-e8b39651e19c\n",
      "  warnings.warn('Unable to parse time string from Neuralynx header: ' + time_string)\n",
      "/hpc/users/qasims01/resources/LFPAnalysis/LFPAnalysis/nlx_utils.py:134: UserWarning: Unable to parse time string from Neuralynx header: -FileUUID 789c08dc-7681-43e1-990c-ef09da5299aa\n",
      "  warnings.warn('Unable to parse time string from Neuralynx header: ' + time_string)\n",
      "/hpc/users/qasims01/resources/LFPAnalysis/LFPAnalysis/nlx_utils.py:134: UserWarning: Unable to parse time string from Neuralynx header: -FileUUID 7456706e-b4b0-42e2-984a-26624228920e\n",
      "  warnings.warn('Unable to parse time string from Neuralynx header: ' + time_string)\n",
      "/hpc/users/qasims01/resources/LFPAnalysis/LFPAnalysis/nlx_utils.py:134: UserWarning: Unable to parse time string from Neuralynx header: -FileUUID 499d5937-8e65-4326-9638-a5bc1a74d9db\n",
      "  warnings.warn('Unable to parse time string from Neuralynx header: ' + time_string)\n",
      "/hpc/users/qasims01/resources/LFPAnalysis/LFPAnalysis/nlx_utils.py:134: UserWarning: Unable to parse time string from Neuralynx header: -FileUUID 98b52f0e-1bb8-4fc8-a4b8-20ef4fa70ee6\n",
      "  warnings.warn('Unable to parse time string from Neuralynx header: ' + time_string)\n"
     ]
    },
    {
     "name": "stderr",
     "output_type": "stream",
     "text": [
      "/hpc/users/qasims01/resources/LFPAnalysis/LFPAnalysis/nlx_utils.py:134: UserWarning: Unable to parse time string from Neuralynx header: -FileUUID d456e6c6-3ab3-40a6-a3b6-8afc8bf82a99\n",
      "  warnings.warn('Unable to parse time string from Neuralynx header: ' + time_string)\n",
      "/hpc/users/qasims01/resources/LFPAnalysis/LFPAnalysis/nlx_utils.py:134: UserWarning: Unable to parse time string from Neuralynx header: -FileUUID 3cdcd468-9c7b-40c0-b5f1-c65e5e4f48ae\n",
      "  warnings.warn('Unable to parse time string from Neuralynx header: ' + time_string)\n"
     ]
    },
    {
     "name": "stdout",
     "output_type": "stream",
     "text": [
      "Unidentified data type in ABS2\n"
     ]
    },
    {
     "name": "stderr",
     "output_type": "stream",
     "text": [
      "/hpc/users/qasims01/resources/LFPAnalysis/LFPAnalysis/nlx_utils.py:134: UserWarning: Unable to parse time string from Neuralynx header: -FileUUID df738148-7a8a-4a3d-8f2e-68955c57613a\n",
      "  warnings.warn('Unable to parse time string from Neuralynx header: ' + time_string)\n"
     ]
    },
    {
     "name": "stdout",
     "output_type": "stream",
     "text": [
      "Unidentified data type in BLANK1\n"
     ]
    },
    {
     "name": "stderr",
     "output_type": "stream",
     "text": [
      "/hpc/users/qasims01/resources/LFPAnalysis/LFPAnalysis/nlx_utils.py:134: UserWarning: Unable to parse time string from Neuralynx header: -FileUUID 42430b23-d3ed-4cea-9175-05bcd2dba695\n",
      "  warnings.warn('Unable to parse time string from Neuralynx header: ' + time_string)\n",
      "/hpc/users/qasims01/resources/LFPAnalysis/LFPAnalysis/nlx_utils.py:134: UserWarning: Unable to parse time string from Neuralynx header: -FileUUID f86046c4-bb91-4230-8761-a36a015a9e6f\n",
      "  warnings.warn('Unable to parse time string from Neuralynx header: ' + time_string)\n",
      "/hpc/users/qasims01/resources/LFPAnalysis/LFPAnalysis/nlx_utils.py:134: UserWarning: Unable to parse time string from Neuralynx header: -FileUUID e3528fe5-b798-43a4-a353-573654b37141\n",
      "  warnings.warn('Unable to parse time string from Neuralynx header: ' + time_string)\n",
      "/hpc/users/qasims01/resources/LFPAnalysis/LFPAnalysis/nlx_utils.py:134: UserWarning: Unable to parse time string from Neuralynx header: -FileUUID 4e4b595f-13ca-4196-8718-d4a78e101282\n",
      "  warnings.warn('Unable to parse time string from Neuralynx header: ' + time_string)\n",
      "/hpc/users/qasims01/resources/LFPAnalysis/LFPAnalysis/nlx_utils.py:134: UserWarning: Unable to parse time string from Neuralynx header: -FileUUID f7d09658-db34-46e9-b4bb-b5025c1e3395\n",
      "  warnings.warn('Unable to parse time string from Neuralynx header: ' + time_string)\n",
      "/hpc/users/qasims01/resources/LFPAnalysis/LFPAnalysis/nlx_utils.py:134: UserWarning: Unable to parse time string from Neuralynx header: -FileUUID c832fcc3-ced6-41a6-b379-837a8a39a94f\n",
      "  warnings.warn('Unable to parse time string from Neuralynx header: ' + time_string)\n",
      "/hpc/users/qasims01/resources/LFPAnalysis/LFPAnalysis/nlx_utils.py:134: UserWarning: Unable to parse time string from Neuralynx header: -FileUUID 89e1529f-ff4d-4987-a3cf-f455e0705d33\n",
      "  warnings.warn('Unable to parse time string from Neuralynx header: ' + time_string)\n",
      "/hpc/users/qasims01/resources/LFPAnalysis/LFPAnalysis/nlx_utils.py:134: UserWarning: Unable to parse time string from Neuralynx header: -FileUUID 665ad3dc-100e-48f3-bcd9-e65e8b29ec36\n",
      "  warnings.warn('Unable to parse time string from Neuralynx header: ' + time_string)\n"
     ]
    }
   ],
   "source": [
    "for chan_path in ncs_files:\n",
    "    chan_name = chan_path.split('/')[-1].replace('.ncs','')\n",
    "    # strip the file type off the end if needed \n",
    "    if '_' in chan_name:\n",
    "        chan_name = chan_name.split('_')[0]\n",
    "    try:\n",
    "        fdata = nlx_utils.load_ncs(chan_path)\n",
    "    except IndexError: \n",
    "        print(f'No data in channel {chan_name}')\n",
    "        continue\n",
    "    if eeg_names:\n",
    "        if chan_name.lower() in eeg_names:\n",
    "            ch_type.append('eeg')\n",
    "    if resp_names:\n",
    "        if chan_name.lower() in resp_names:\n",
    "            ch_type.append('bio')\n",
    "    if ekg_names:\n",
    "        if chan_name.lower() in ekg_names: \n",
    "            ch_type.append('ecg') \n",
    "    if seeg_names: \n",
    "        if chan_name.lower() in seeg_names:\n",
    "            ch_type.append('seeg')  \n",
    "        elif chan_name.lower()[0] == 'u':\n",
    "            # microwire data\n",
    "            ch_type.append('seeg')  \n",
    "    signals.append(fdata['data'])\n",
    "    srs.append(fdata['sampling_rate'])\n",
    "    ch_name.append(chan_name)\n",
    "    if len(ch_type) < len(ch_name):\n",
    "        ch_type.append('misc')\n",
    "        print(f'Unidentified data type in {chan_name}')"
   ]
  },
  {
   "cell_type": "code",
   "execution_count": 14,
   "metadata": {},
   "outputs": [],
   "source": [
    "target_sr = np.min(srs)\n",
    "mne_data_resampled = []"
   ]
  },
  {
   "cell_type": "code",
   "execution_count": 15,
   "metadata": {},
   "outputs": [
    {
     "name": "stdout",
     "output_type": "stream",
     "text": [
      "Creating RawArray with float64 data, n_channels=95, n_times=4866048\n",
      "    Range : 0 ... 4866047 =      0.000 ...  2433.023 secs\n",
      "Ready.\n",
      "Creating RawArray with float64 data, n_channels=22, n_times=77853696\n",
      "    Range : 0 ... 77853695 =      0.000 ...  2432.928 secs\n",
      "Ready.\n"
     ]
    },
    {
     "name": "stderr",
     "output_type": "stream",
     "text": [
      "[Parallel(n_jobs=-1)]: Using backend LokyBackend with 4 concurrent workers.\n",
      "[Parallel(n_jobs=-1)]: Done  14 tasks      | elapsed:  1.2min\n",
      "[Parallel(n_jobs=-1)]: Done  22 out of  22 | elapsed:  1.7min finished\n"
     ]
    }
   ],
   "source": [
    "for sr in np.unique(srs):\n",
    "    ch_ix = np.where(srs==sr)[0].astype(int)\n",
    "    info = mne.create_info([x for ix, x in enumerate(ch_name) if ix in ch_ix], sr, [x for ix, x in enumerate(ch_type) if ix in ch_ix])\n",
    "    mne_data_temp = mne.io.RawArray([x for ix, x in enumerate(signals) if ix in ch_ix], info)\n",
    "    if sr != target_sr:\n",
    "        # resample down to one sample rate \n",
    "        mne_data_temp.resample(sfreq=target_sr, npad='auto', n_jobs=-1)\n",
    "        mne_data_resampled.append(mne_data_temp)\n",
    "    else: \n",
    "        mne_data = mne_data_temp\n",
    "        "
   ]
  },
  {
   "cell_type": "code",
   "execution_count": 29,
   "metadata": {},
   "outputs": [],
   "source": [
    "#Because of the resampling, the end timings might not match perfectly:https://github.com/mne-tools/mne-python/issues/8257\n",
    "\n",
    "if mne_data_resampled[0].tmax > mne_data.tmax:\n",
    "    mne_data_resampled[0].crop(tmin=0, tmax=mne_data.tmax)\n",
    "elif mne_data_resampled[0].tmax < mne_data.tmax:\n",
    "    mne_data.crop(tmin=0, tmax=mne_data_resampled[0].tmax)\n",
    "    "
   ]
  },
  {
   "cell_type": "code",
   "execution_count": 30,
   "metadata": {},
   "outputs": [
    {
     "data": {
      "text/html": [
       "<table class=\"table table-hover table-striped table-sm table-responsive small\">\n",
       "    <tr>\n",
       "        <th>Measurement date</th>\n",
       "        \n",
       "        <td>Unknown</td>\n",
       "        \n",
       "    </tr>\n",
       "    <tr>\n",
       "        <th>Experimenter</th>\n",
       "        \n",
       "        <td>Unknown</td>\n",
       "        \n",
       "    </tr>\n",
       "        <th>Participant</th>\n",
       "        \n",
       "        <td>Unknown</td>\n",
       "        \n",
       "    </tr>\n",
       "    <tr>\n",
       "        <th>Digitized points</th>\n",
       "        \n",
       "        <td>0 points</td>\n",
       "        \n",
       "    </tr>\n",
       "    <tr>\n",
       "        <th>Good channels</th>\n",
       "        <td>19 EEG, 86 sEEG, 12 misc</td>\n",
       "    </tr>\n",
       "    <tr>\n",
       "        <th>Bad channels</th>\n",
       "        <td>None</td>\n",
       "    </tr>\n",
       "    <tr>\n",
       "        <th>EOG channels</th>\n",
       "        <td>Not available</td>\n",
       "    </tr>\n",
       "    <tr>\n",
       "        <th>ECG channels</th>\n",
       "        <td>Not available</td>\n",
       "    \n",
       "    <tr>\n",
       "        <th>Sampling frequency</th>\n",
       "        <td>2000.00 Hz</td>\n",
       "    </tr>\n",
       "    \n",
       "    \n",
       "    <tr>\n",
       "        <th>Highpass</th>\n",
       "        <td>0.00 Hz</td>\n",
       "    </tr>\n",
       "    \n",
       "    \n",
       "    <tr>\n",
       "        <th>Lowpass</th>\n",
       "        <td>1000.00 Hz</td>\n",
       "    </tr>\n",
       "    \n",
       "    \n",
       "    \n",
       "    <tr>\n",
       "        <th>Duration</th>\n",
       "        <td>00:40:33 (HH:MM:SS)</td>\n",
       "    </tr>\n",
       "</table>"
      ],
      "text/plain": [
       "<RawArray | 117 x 4865856 (2432.9 s), ~4.24 GB, data loaded>"
      ]
     },
     "execution_count": 30,
     "metadata": {},
     "output_type": "execute_result"
    }
   ],
   "source": [
    "mne_data.add_channels(mne_data_resampled)"
   ]
  },
  {
   "cell_type": "markdown",
   "metadata": {},
   "source": [
    "Try loading in the data into memory"
   ]
  },
  {
   "cell_type": "code",
   "execution_count": 33,
   "metadata": {},
   "outputs": [
    {
     "name": "stdout",
     "output_type": "stream",
     "text": [
      "Setting up band-stop filter\n",
      "\n",
      "FIR filter parameters\n",
      "---------------------\n",
      "Designing a one-pass, zero-phase, non-causal bandstop filter:\n",
      "- Windowed time-domain design (firwin) method\n",
      "- Hamming window with 0.0194 passband ripple and 53 dB stopband attenuation\n",
      "- Lower transition bandwidth: 0.50 Hz\n",
      "- Upper transition bandwidth: 0.50 Hz\n",
      "- Filter length: 13201 samples (6.601 sec)\n",
      "\n"
     ]
    },
    {
     "name": "stderr",
     "output_type": "stream",
     "text": [
      "[Parallel(n_jobs=1)]: Using backend SequentialBackend with 1 concurrent workers.\n",
      "[Parallel(n_jobs=1)]: Done   1 out of   1 | elapsed:    0.2s remaining:    0.0s\n",
      "[Parallel(n_jobs=1)]: Done   2 out of   2 | elapsed:    0.5s remaining:    0.0s\n",
      "[Parallel(n_jobs=1)]: Done   3 out of   3 | elapsed:    0.7s remaining:    0.0s\n",
      "[Parallel(n_jobs=1)]: Done   4 out of   4 | elapsed:    1.0s remaining:    0.0s\n",
      "[Parallel(n_jobs=1)]: Done 105 out of 105 | elapsed:   25.0s finished\n"
     ]
    },
    {
     "data": {
      "text/html": [
       "<table class=\"table table-hover table-striped table-sm table-responsive small\">\n",
       "    <tr>\n",
       "        <th>Measurement date</th>\n",
       "        \n",
       "        <td>Unknown</td>\n",
       "        \n",
       "    </tr>\n",
       "    <tr>\n",
       "        <th>Experimenter</th>\n",
       "        \n",
       "        <td>Unknown</td>\n",
       "        \n",
       "    </tr>\n",
       "        <th>Participant</th>\n",
       "        \n",
       "        <td>Unknown</td>\n",
       "        \n",
       "    </tr>\n",
       "    <tr>\n",
       "        <th>Digitized points</th>\n",
       "        \n",
       "        <td>0 points</td>\n",
       "        \n",
       "    </tr>\n",
       "    <tr>\n",
       "        <th>Good channels</th>\n",
       "        <td>19 EEG, 86 sEEG, 12 misc</td>\n",
       "    </tr>\n",
       "    <tr>\n",
       "        <th>Bad channels</th>\n",
       "        <td>None</td>\n",
       "    </tr>\n",
       "    <tr>\n",
       "        <th>EOG channels</th>\n",
       "        <td>Not available</td>\n",
       "    </tr>\n",
       "    <tr>\n",
       "        <th>ECG channels</th>\n",
       "        <td>Not available</td>\n",
       "    \n",
       "    <tr>\n",
       "        <th>Sampling frequency</th>\n",
       "        <td>2000.00 Hz</td>\n",
       "    </tr>\n",
       "    \n",
       "    \n",
       "    <tr>\n",
       "        <th>Highpass</th>\n",
       "        <td>0.00 Hz</td>\n",
       "    </tr>\n",
       "    \n",
       "    \n",
       "    <tr>\n",
       "        <th>Lowpass</th>\n",
       "        <td>1000.00 Hz</td>\n",
       "    </tr>\n",
       "    \n",
       "    \n",
       "    \n",
       "    <tr>\n",
       "        <th>Duration</th>\n",
       "        <td>00:40:33 (HH:MM:SS)</td>\n",
       "    </tr>\n",
       "</table>"
      ],
      "text/plain": [
       "<RawArray | 117 x 4865856 (2432.9 s), ~4.24 GB, data loaded>"
      ]
     },
     "execution_count": 33,
     "metadata": {},
     "output_type": "execute_result"
    }
   ],
   "source": [
    "mne_data.ch_names\n",
    "mne_data.info['line_freq'] = 60\n",
    "# Notch out 60 Hz noise and harmonics \n",
    "mne_data.notch_filter(freqs=(60, 120, 180, 240))"
   ]
  },
  {
   "cell_type": "code",
   "execution_count": 36,
   "metadata": {},
   "outputs": [],
   "source": [
    "drop_chans = list(set([x.lower() for x in mne_data.ch_names])^set(seeg_names))"
   ]
  },
  {
   "cell_type": "code",
   "execution_count": 40,
   "metadata": {},
   "outputs": [
    {
     "data": {
      "text/html": [
       "<table class=\"table table-hover table-striped table-sm table-responsive small\">\n",
       "    <tr>\n",
       "        <th>Measurement date</th>\n",
       "        \n",
       "        <td>Unknown</td>\n",
       "        \n",
       "    </tr>\n",
       "    <tr>\n",
       "        <th>Experimenter</th>\n",
       "        \n",
       "        <td>Unknown</td>\n",
       "        \n",
       "    </tr>\n",
       "        <th>Participant</th>\n",
       "        \n",
       "        <td>Unknown</td>\n",
       "        \n",
       "    </tr>\n",
       "    <tr>\n",
       "        <th>Digitized points</th>\n",
       "        \n",
       "        <td>0 points</td>\n",
       "        \n",
       "    </tr>\n",
       "    <tr>\n",
       "        <th>Good channels</th>\n",
       "        <td>19 EEG, 86 sEEG, 12 misc</td>\n",
       "    </tr>\n",
       "    <tr>\n",
       "        <th>Bad channels</th>\n",
       "        <td>None</td>\n",
       "    </tr>\n",
       "    <tr>\n",
       "        <th>EOG channels</th>\n",
       "        <td>Not available</td>\n",
       "    </tr>\n",
       "    <tr>\n",
       "        <th>ECG channels</th>\n",
       "        <td>Not available</td>\n",
       "    \n",
       "    <tr>\n",
       "        <th>Sampling frequency</th>\n",
       "        <td>2000.00 Hz</td>\n",
       "    </tr>\n",
       "    \n",
       "    \n",
       "    <tr>\n",
       "        <th>Highpass</th>\n",
       "        <td>0.00 Hz</td>\n",
       "    </tr>\n",
       "    \n",
       "    \n",
       "    <tr>\n",
       "        <th>Lowpass</th>\n",
       "        <td>1000.00 Hz</td>\n",
       "    </tr>\n",
       "    \n",
       "    \n",
       "    \n",
       "    <tr>\n",
       "        <th>Duration</th>\n",
       "        <td>00:40:33 (HH:MM:SS)</td>\n",
       "    </tr>\n",
       "</table>"
      ],
      "text/plain": [
       "<RawArray | 117 x 4865856 (2432.9 s), ~4.24 GB, data loaded>"
      ]
     },
     "execution_count": 40,
     "metadata": {},
     "output_type": "execute_result"
    }
   ],
   "source": [
    "new_name_dict = {x:x.replace(\" \", \"\").lower() for x in mne_data.ch_names}\n",
    "mne_data.rename_channels(new_name_dict)"
   ]
  },
  {
   "cell_type": "code",
   "execution_count": 41,
   "metadata": {},
   "outputs": [
    {
     "data": {
      "text/html": [
       "<table class=\"table table-hover table-striped table-sm table-responsive small\">\n",
       "    <tr>\n",
       "        <th>Measurement date</th>\n",
       "        \n",
       "        <td>Unknown</td>\n",
       "        \n",
       "    </tr>\n",
       "    <tr>\n",
       "        <th>Experimenter</th>\n",
       "        \n",
       "        <td>Unknown</td>\n",
       "        \n",
       "    </tr>\n",
       "        <th>Participant</th>\n",
       "        \n",
       "        <td>Unknown</td>\n",
       "        \n",
       "    </tr>\n",
       "    <tr>\n",
       "        <th>Digitized points</th>\n",
       "        \n",
       "        <td>0 points</td>\n",
       "        \n",
       "    </tr>\n",
       "    <tr>\n",
       "        <th>Good channels</th>\n",
       "        <td>70 sEEG</td>\n",
       "    </tr>\n",
       "    <tr>\n",
       "        <th>Bad channels</th>\n",
       "        <td>None</td>\n",
       "    </tr>\n",
       "    <tr>\n",
       "        <th>EOG channels</th>\n",
       "        <td>Not available</td>\n",
       "    </tr>\n",
       "    <tr>\n",
       "        <th>ECG channels</th>\n",
       "        <td>Not available</td>\n",
       "    \n",
       "    <tr>\n",
       "        <th>Sampling frequency</th>\n",
       "        <td>2000.00 Hz</td>\n",
       "    </tr>\n",
       "    \n",
       "    \n",
       "    <tr>\n",
       "        <th>Highpass</th>\n",
       "        <td>0.00 Hz</td>\n",
       "    </tr>\n",
       "    \n",
       "    \n",
       "    <tr>\n",
       "        <th>Lowpass</th>\n",
       "        <td>1000.00 Hz</td>\n",
       "    </tr>\n",
       "    \n",
       "    \n",
       "    \n",
       "    <tr>\n",
       "        <th>Duration</th>\n",
       "        <td>00:40:33 (HH:MM:SS)</td>\n",
       "    </tr>\n",
       "</table>"
      ],
      "text/plain": [
       "<RawArray | 70 x 4865856 (2432.9 s), ~2.54 GB, data loaded>"
      ]
     },
     "execution_count": 41,
     "metadata": {},
     "output_type": "execute_result"
    }
   ],
   "source": [
    "mne_data.drop_channels(drop_chans)"
   ]
  },
  {
   "cell_type": "code",
   "execution_count": 43,
   "metadata": {},
   "outputs": [],
   "source": [
    "bads = lfp_preprocess_utils.detect_bad_elecs(mne_data, sEEG_mapping_dict)\n",
    "mne_data.info['bads'] = bads"
   ]
  },
  {
   "cell_type": "code",
   "execution_count": 44,
   "metadata": {},
   "outputs": [],
   "source": [
    "mne_data.info['bads'] = bads"
   ]
  },
  {
   "cell_type": "code",
   "execution_count": 8,
   "metadata": {},
   "outputs": [
    {
     "data": {
      "image/png": "[encoded data removed]",
      "text/plain": [
       "<Figure size 640x480 with 1 Axes>"
      ]
     },
     "metadata": {},
     "output_type": "display_data"
    }
   ],
   "source": [
    "# Sanity check the photodiode\n",
    "trig_ix = MS007_data.ch_names.index('DC1')\n",
    "plt.plot(MS007_data._data[trig_ix, 10000:50000])\n",
    "plt.title(\"Photodiode\")\n",
    "plt.show()"
   ]
  },
  {
   "cell_type": "markdown",
   "metadata": {},
   "source": [
    "## Add in electrode information"
   ]
  },
  {
   "cell_type": "code",
   "execution_count": 67,
   "metadata": {},
   "outputs": [],
   "source": [
    "# Load the electrode localization data and add it in\n",
    "\n",
    "csv_files = glob(f'{anat_dir}/*labels.csv')\n",
    "elec_locs = pd.read_csv(csv_files[0])\n",
    "\n",
    "# Sometimes there's extra columns with no entries: \n",
    "elec_locs = elec_locs[elec_locs.columns.drop(list(elec_locs.filter(regex='Unnamed')))]\n",
    "\n",
    "# # identify the bundles for re-referencing:\n",
    "# loc_data['bundle'] = np.nan\n",
    "# loc_data['bundle'] = loc_data.apply(lambda x: ''.join(i for i in x.label if not i.isdigit()), axis=1)\n",
    "\n"
   ]
  },
  {
   "cell_type": "code",
   "execution_count": 68,
   "metadata": {},
   "outputs": [
    {
     "data": {
      "text/html": [
       "<div>\n",
       "<style scoped>\n",
       "    .dataframe tbody tr th:only-of-type {\n",
       "        vertical-align: middle;\n",
       "    }\n",
       "\n",
       "    .dataframe tbody tr th {\n",
       "        vertical-align: top;\n",
       "    }\n",
       "\n",
       "    .dataframe thead th {\n",
       "        text-align: right;\n",
       "    }\n",
       "</style>\n",
       "<table border=\"1\" class=\"dataframe\">\n",
       "  <thead>\n",
       "    <tr style=\"text-align: right;\">\n",
       "      <th></th>\n",
       "      <th>label</th>\n",
       "      <th>BN246label</th>\n",
       "      <th>x</th>\n",
       "      <th>y</th>\n",
       "      <th>z</th>\n",
       "      <th>mni_x</th>\n",
       "      <th>mni_y</th>\n",
       "      <th>mni_z</th>\n",
       "      <th>gm</th>\n",
       "      <th>NMM</th>\n",
       "      <th>Anat</th>\n",
       "      <th>AnatMacro</th>\n",
       "      <th>BN246</th>\n",
       "      <th>YBA_1</th>\n",
       "      <th>Manual Examination</th>\n",
       "      <th>Notes</th>\n",
       "    </tr>\n",
       "  </thead>\n",
       "  <tbody>\n",
       "    <tr>\n",
       "      <th>0</th>\n",
       "      <td>LaCaS1</td>\n",
       "      <td>A32sg_L</td>\n",
       "      <td>-7.998392</td>\n",
       "      <td>33.753014</td>\n",
       "      <td>11.599995</td>\n",
       "      <td>-7.303106</td>\n",
       "      <td>29.507935</td>\n",
       "      <td>-4.544081</td>\n",
       "      <td>Gray</td>\n",
       "      <td>Left ACgG anterior cingulate gyrus</td>\n",
       "      <td>Area s24</td>\n",
       "      <td>L ACC</td>\n",
       "      <td>L CG</td>\n",
       "      <td>Left cingulate gyrus D</td>\n",
       "      <td>NaN</td>\n",
       "      <td>NaN</td>\n",
       "    </tr>\n",
       "    <tr>\n",
       "      <th>1</th>\n",
       "      <td>LaCaS2</td>\n",
       "      <td>Unknown</td>\n",
       "      <td>-11.997591</td>\n",
       "      <td>33.753014</td>\n",
       "      <td>15.199995</td>\n",
       "      <td>-11.263673</td>\n",
       "      <td>31.336920</td>\n",
       "      <td>-0.649451</td>\n",
       "      <td>White</td>\n",
       "      <td>Left Cerebral White Matter</td>\n",
       "      <td>Unknown</td>\n",
       "      <td>Unknown</td>\n",
       "      <td>Unknown</td>\n",
       "      <td>Unknown</td>\n",
       "      <td>NaN</td>\n",
       "      <td>NaN</td>\n",
       "    </tr>\n",
       "    <tr>\n",
       "      <th>2</th>\n",
       "      <td>LaCaS3</td>\n",
       "      <td>Unknown</td>\n",
       "      <td>-15.596870</td>\n",
       "      <td>33.753014</td>\n",
       "      <td>19.199995</td>\n",
       "      <td>-14.826880</td>\n",
       "      <td>33.353221</td>\n",
       "      <td>3.587480</td>\n",
       "      <td>White</td>\n",
       "      <td>Left Cerebral White Matter</td>\n",
       "      <td>Unknown</td>\n",
       "      <td>Unknown</td>\n",
       "      <td>Unknown</td>\n",
       "      <td>Unknown</td>\n",
       "      <td>NaN</td>\n",
       "      <td>NaN</td>\n",
       "    </tr>\n",
       "    <tr>\n",
       "      <th>3</th>\n",
       "      <td>LaCaS4</td>\n",
       "      <td>Unknown</td>\n",
       "      <td>-19.196148</td>\n",
       "      <td>34.551902</td>\n",
       "      <td>21.599995</td>\n",
       "      <td>-18.475267</td>\n",
       "      <td>35.217119</td>\n",
       "      <td>5.812331</td>\n",
       "      <td>White</td>\n",
       "      <td>Left Cerebral White Matter</td>\n",
       "      <td>Unknown</td>\n",
       "      <td>Unknown</td>\n",
       "      <td>Unknown</td>\n",
       "      <td>Unknown</td>\n",
       "      <td>NaN</td>\n",
       "      <td>NaN</td>\n",
       "    </tr>\n",
       "    <tr>\n",
       "      <th>4</th>\n",
       "      <td>LaCaS5</td>\n",
       "      <td>Unknown</td>\n",
       "      <td>-22.395507</td>\n",
       "      <td>34.551902</td>\n",
       "      <td>24.799995</td>\n",
       "      <td>-21.683689</td>\n",
       "      <td>36.761797</td>\n",
       "      <td>9.288654</td>\n",
       "      <td>White</td>\n",
       "      <td>Left Cerebral White Matter</td>\n",
       "      <td>Unknown</td>\n",
       "      <td>Unknown</td>\n",
       "      <td>Unknown</td>\n",
       "      <td>Unknown</td>\n",
       "      <td>NaN</td>\n",
       "      <td>NaN</td>\n",
       "    </tr>\n",
       "    <tr>\n",
       "      <th>...</th>\n",
       "      <td>...</td>\n",
       "      <td>...</td>\n",
       "      <td>...</td>\n",
       "      <td>...</td>\n",
       "      <td>...</td>\n",
       "      <td>...</td>\n",
       "      <td>...</td>\n",
       "      <td>...</td>\n",
       "      <td>...</td>\n",
       "      <td>...</td>\n",
       "      <td>...</td>\n",
       "      <td>...</td>\n",
       "      <td>...</td>\n",
       "      <td>...</td>\n",
       "      <td>...</td>\n",
       "      <td>...</td>\n",
       "    </tr>\n",
       "    <tr>\n",
       "      <th>67</th>\n",
       "      <td>LplfO4</td>\n",
       "      <td>Unknown</td>\n",
       "      <td>-49.590058</td>\n",
       "      <td>-4.194170</td>\n",
       "      <td>19.999995</td>\n",
       "      <td>-47.937431</td>\n",
       "      <td>-2.052692</td>\n",
       "      <td>25.197714</td>\n",
       "      <td>Gray</td>\n",
       "      <td>Left Cerebral White Matter</td>\n",
       "      <td>Unknown</td>\n",
       "      <td>L Precentral Gyrus</td>\n",
       "      <td>Unknown</td>\n",
       "      <td>Unknown</td>\n",
       "      <td>Left posterior motor I</td>\n",
       "      <td>NaN</td>\n",
       "    </tr>\n",
       "    <tr>\n",
       "      <th>68</th>\n",
       "      <td>LplfO5</td>\n",
       "      <td>A4hf_L</td>\n",
       "      <td>-54.389097</td>\n",
       "      <td>-3.794726</td>\n",
       "      <td>21.599995</td>\n",
       "      <td>-52.836611</td>\n",
       "      <td>-1.118054</td>\n",
       "      <td>26.762258</td>\n",
       "      <td>Gray</td>\n",
       "      <td>Left Cerebral White Matter</td>\n",
       "      <td>Unknown</td>\n",
       "      <td>L Precentral Gyrus</td>\n",
       "      <td>L PrG</td>\n",
       "      <td>Left posterior motor I</td>\n",
       "      <td>NaN</td>\n",
       "      <td>NaN</td>\n",
       "    </tr>\n",
       "    <tr>\n",
       "      <th>69</th>\n",
       "      <td>LplfO6</td>\n",
       "      <td>A4hf_L</td>\n",
       "      <td>-59.987975</td>\n",
       "      <td>-2.995838</td>\n",
       "      <td>23.599995</td>\n",
       "      <td>-58.569705</td>\n",
       "      <td>0.138888</td>\n",
       "      <td>28.441652</td>\n",
       "      <td>Gray</td>\n",
       "      <td>Left PrG precentral gyrus</td>\n",
       "      <td>Unknown</td>\n",
       "      <td>L Precentral Gyrus</td>\n",
       "      <td>L PrG</td>\n",
       "      <td>Left posterior motor I</td>\n",
       "      <td>NaN</td>\n",
       "      <td>NaN</td>\n",
       "    </tr>\n",
       "    <tr>\n",
       "      <th>70</th>\n",
       "      <td>uLaCaS</td>\n",
       "      <td>A32sg_L</td>\n",
       "      <td>-5.598873</td>\n",
       "      <td>34.152458</td>\n",
       "      <td>9.999995</td>\n",
       "      <td>-5.000333</td>\n",
       "      <td>29.004945</td>\n",
       "      <td>-6.416785</td>\n",
       "      <td>Gray</td>\n",
       "      <td>Left ACgG anterior cingulate gyrus</td>\n",
       "      <td>Area s24</td>\n",
       "      <td>L ACC</td>\n",
       "      <td>L CG</td>\n",
       "      <td>Left cingulate gyrus D</td>\n",
       "      <td>NaN</td>\n",
       "      <td>NaN</td>\n",
       "    </tr>\n",
       "    <tr>\n",
       "      <th>71</th>\n",
       "      <td>uLmOlF</td>\n",
       "      <td>A32sg_L</td>\n",
       "      <td>-5.198953</td>\n",
       "      <td>38.546343</td>\n",
       "      <td>7.599996</td>\n",
       "      <td>-4.863348</td>\n",
       "      <td>31.539595</td>\n",
       "      <td>-11.019659</td>\n",
       "      <td>Gray</td>\n",
       "      <td>Left ACgG anterior cingulate gyrus</td>\n",
       "      <td>Area s32</td>\n",
       "      <td>L Mid Orbital Gyrus</td>\n",
       "      <td>L CG</td>\n",
       "      <td>Left cingulate gyrus D</td>\n",
       "      <td>NaN</td>\n",
       "      <td>NaN</td>\n",
       "    </tr>\n",
       "  </tbody>\n",
       "</table>\n",
       "<p>72 rows × 16 columns</p>\n",
       "</div>"
      ],
      "text/plain": [
       "     label BN246label          x          y          z      mni_x      mni_y  \\\n",
       "0   LaCaS1    A32sg_L  -7.998392  33.753014  11.599995  -7.303106  29.507935   \n",
       "1   LaCaS2    Unknown -11.997591  33.753014  15.199995 -11.263673  31.336920   \n",
       "2   LaCaS3    Unknown -15.596870  33.753014  19.199995 -14.826880  33.353221   \n",
       "3   LaCaS4    Unknown -19.196148  34.551902  21.599995 -18.475267  35.217119   \n",
       "4   LaCaS5    Unknown -22.395507  34.551902  24.799995 -21.683689  36.761797   \n",
       "..     ...        ...        ...        ...        ...        ...        ...   \n",
       "67  LplfO4    Unknown -49.590058  -4.194170  19.999995 -47.937431  -2.052692   \n",
       "68  LplfO5     A4hf_L -54.389097  -3.794726  21.599995 -52.836611  -1.118054   \n",
       "69  LplfO6     A4hf_L -59.987975  -2.995838  23.599995 -58.569705   0.138888   \n",
       "70  uLaCaS    A32sg_L  -5.598873  34.152458   9.999995  -5.000333  29.004945   \n",
       "71  uLmOlF    A32sg_L  -5.198953  38.546343   7.599996  -4.863348  31.539595   \n",
       "\n",
       "        mni_z     gm                                 NMM      Anat  \\\n",
       "0   -4.544081   Gray  Left ACgG anterior cingulate gyrus  Area s24   \n",
       "1   -0.649451  White          Left Cerebral White Matter   Unknown   \n",
       "2    3.587480  White          Left Cerebral White Matter   Unknown   \n",
       "3    5.812331  White          Left Cerebral White Matter   Unknown   \n",
       "4    9.288654  White          Left Cerebral White Matter   Unknown   \n",
       "..        ...    ...                                 ...       ...   \n",
       "67  25.197714   Gray          Left Cerebral White Matter   Unknown   \n",
       "68  26.762258   Gray          Left Cerebral White Matter   Unknown   \n",
       "69  28.441652   Gray           Left PrG precentral gyrus   Unknown   \n",
       "70  -6.416785   Gray  Left ACgG anterior cingulate gyrus  Area s24   \n",
       "71 -11.019659   Gray  Left ACgG anterior cingulate gyrus  Area s32   \n",
       "\n",
       "              AnatMacro    BN246                   YBA_1  \\\n",
       "0                 L ACC     L CG  Left cingulate gyrus D   \n",
       "1               Unknown  Unknown                 Unknown   \n",
       "2               Unknown  Unknown                 Unknown   \n",
       "3               Unknown  Unknown                 Unknown   \n",
       "4               Unknown  Unknown                 Unknown   \n",
       "..                  ...      ...                     ...   \n",
       "67   L Precentral Gyrus  Unknown                 Unknown   \n",
       "68   L Precentral Gyrus    L PrG  Left posterior motor I   \n",
       "69   L Precentral Gyrus    L PrG  Left posterior motor I   \n",
       "70                L ACC     L CG  Left cingulate gyrus D   \n",
       "71  L Mid Orbital Gyrus     L CG  Left cingulate gyrus D   \n",
       "\n",
       "        Manual Examination  Notes  \n",
       "0                      NaN    NaN  \n",
       "1                      NaN    NaN  \n",
       "2                      NaN    NaN  \n",
       "3                      NaN    NaN  \n",
       "4                      NaN    NaN  \n",
       "..                     ...    ...  \n",
       "67  Left posterior motor I    NaN  \n",
       "68                     NaN    NaN  \n",
       "69                     NaN    NaN  \n",
       "70                     NaN    NaN  \n",
       "71                     NaN    NaN  \n",
       "\n",
       "[72 rows x 16 columns]"
      ]
     },
     "execution_count": 68,
     "metadata": {},
     "output_type": "execute_result"
    }
   ],
   "source": [
    "elec_locs"
   ]
  },
  {
   "cell_type": "markdown",
   "metadata": {},
   "source": [
    "The electrode names read out of the edf file do not always match those \n",
    "in the pdf (used for localization). This could be error on the side of the tech who input the labels, \n",
    "or on the side of MNE reading the labels in. Usually there's a mixup between lowercase 'l' and capital 'I'.\n",
    "\n",
    "Sometimes, there's electrodes on the pdf that are NOT in the MNE data structure... let's identify those as well. \n"
   ]
  },
  {
   "cell_type": "code",
   "execution_count": 9,
   "metadata": {},
   "outputs": [
    {
     "name": "stdout",
     "output_type": "stream",
     "text": [
      "Could not find a match for rhplt9.\n"
     ]
    }
   ],
   "source": [
    "new_mne_names, unmatched_names, unmatched_seeg = lfp_preprocess_utils.match_elec_names(MS007_data.ch_names, elec_locs.label)\n",
    "\n",
    "\n"
   ]
  },
  {
   "cell_type": "markdown",
   "metadata": {},
   "source": [
    "So we retun a new list of channel names for the mne data structure as well as a list of channels in the localization csv which are not found in the mne structure. Make sure that unmatched_seeg does not factor into any referencing schemes later - it's not in the MNE data"
   ]
  },
  {
   "cell_type": "code",
   "execution_count": 10,
   "metadata": {},
   "outputs": [
    {
     "data": {
      "text/html": [
       "<table class=\"table table-hover table-striped table-sm table-responsive small\">\n",
       "    <tr>\n",
       "        <th>Measurement date</th>\n",
       "        \n",
       "        <td>January 01, 2001  16:05:56 GMT</td>\n",
       "        \n",
       "    </tr>\n",
       "    <tr>\n",
       "        <th>Experimenter</th>\n",
       "        \n",
       "        <td>Unknown</td>\n",
       "        \n",
       "    </tr>\n",
       "        <th>Participant</th>\n",
       "        \n",
       "        <td>Unknown</td>\n",
       "        \n",
       "    </tr>\n",
       "    <tr>\n",
       "        <th>Digitized points</th>\n",
       "        \n",
       "        <td>Not available</td>\n",
       "        \n",
       "    </tr>\n",
       "    <tr>\n",
       "        <th>Good channels</th>\n",
       "        <td>276 EEG</td>\n",
       "    </tr>\n",
       "    <tr>\n",
       "        <th>Bad channels</th>\n",
       "        <td>None</td>\n",
       "    </tr>\n",
       "    <tr>\n",
       "        <th>EOG channels</th>\n",
       "        <td>Not available</td>\n",
       "    </tr>\n",
       "    <tr>\n",
       "        <th>ECG channels</th>\n",
       "        <td>Not available</td>\n",
       "    \n",
       "    <tr>\n",
       "        <th>Sampling frequency</th>\n",
       "        <td>1024.00 Hz</td>\n",
       "    </tr>\n",
       "    \n",
       "    \n",
       "    <tr>\n",
       "        <th>Highpass</th>\n",
       "        <td>0.00 Hz</td>\n",
       "    </tr>\n",
       "    \n",
       "    \n",
       "    <tr>\n",
       "        <th>Lowpass</th>\n",
       "        <td>512.00 Hz</td>\n",
       "    </tr>\n",
       "    \n",
       "    \n",
       "    \n",
       "    <tr>\n",
       "        <th>Filenames</th>\n",
       "        <td>MS007_MemBandit.edf</td>\n",
       "    </tr>\n",
       "    \n",
       "    <tr>\n",
       "        <th>Duration</th>\n",
       "        <td>00:30:24 (HH:MM:SS)</td>\n",
       "    </tr>\n",
       "</table>"
      ],
      "text/plain": [
       "<RawEDF | MS007_MemBandit.edf, 276 x 1867008 (1823.2 s), ~3.84 GB, data loaded>"
      ]
     },
     "execution_count": 10,
     "metadata": {},
     "output_type": "execute_result"
    }
   ],
   "source": [
    "# Rename the mne data according to the localization data\n",
    "new_name_dict = {x:y for (x,y) in zip(MS007_data.ch_names, new_mne_names)}\n",
    "MS007_data.rename_channels(new_name_dict)"
   ]
  },
  {
   "cell_type": "code",
   "execution_count": 38,
   "metadata": {},
   "outputs": [
    {
     "data": {
      "text/plain": [
       "['rhplt9']"
      ]
     },
     "execution_count": 38,
     "metadata": {},
     "output_type": "execute_result"
    }
   ],
   "source": [
    "unmatched_seeg"
   ]
  },
  {
   "cell_type": "code",
   "execution_count": 12,
   "metadata": {},
   "outputs": [
    {
     "name": "stdout",
     "output_type": "stream",
     "text": [
      "We have a total of 196 sEEG electrodes\n",
      "We have a total of 19 EEG electrodes\n"
     ]
    }
   ],
   "source": [
    "# Note, there is surface EEG data that we should separately indicate from the sEEG:\n",
    "right_seeg_names = [i for i in MS007_data.ch_names if i.startswith('r')]\n",
    "left_seeg_names = [i for i in MS007_data.ch_names if i.startswith('l')]\n",
    "# This is optional. I might want to look at scalp EEG at some point (lol) so might as well tag them here. \n",
    "eeg_names = [\n",
    " 'fp1',\n",
    " 'f7',\n",
    " 't3',\n",
    " 't5',\n",
    " 'o1',\n",
    " 'f3',\n",
    " 'c3',\n",
    " 'p3',\n",
    " 'fp2',\n",
    " 'f8',\n",
    " 't4',\n",
    " 't6',\n",
    " 'o2',\n",
    " 'f4',\n",
    " 'c4',\n",
    " 'p4',\n",
    " 'fz',\n",
    " 'cz',\n",
    " 'pz']\n",
    "print(f'We have a total of {len(left_seeg_names) + len(right_seeg_names)} sEEG electrodes')\n",
    "print(f'We have a total of {len(eeg_names)} EEG electrodes')\n",
    "# MS007_data.set_channel_types()"
   ]
  },
  {
   "cell_type": "code",
   "execution_count": 13,
   "metadata": {},
   "outputs": [
    {
     "data": {
      "text/html": [
       "<table class=\"table table-hover table-striped table-sm table-responsive small\">\n",
       "    <tr>\n",
       "        <th>Measurement date</th>\n",
       "        \n",
       "        <td>January 01, 2001  16:05:56 GMT</td>\n",
       "        \n",
       "    </tr>\n",
       "    <tr>\n",
       "        <th>Experimenter</th>\n",
       "        \n",
       "        <td>Unknown</td>\n",
       "        \n",
       "    </tr>\n",
       "        <th>Participant</th>\n",
       "        \n",
       "        <td>Unknown</td>\n",
       "        \n",
       "    </tr>\n",
       "    <tr>\n",
       "        <th>Digitized points</th>\n",
       "        \n",
       "        <td>Not available</td>\n",
       "        \n",
       "    </tr>\n",
       "    <tr>\n",
       "        <th>Good channels</th>\n",
       "        <td>216 EEG</td>\n",
       "    </tr>\n",
       "    <tr>\n",
       "        <th>Bad channels</th>\n",
       "        <td>None</td>\n",
       "    </tr>\n",
       "    <tr>\n",
       "        <th>EOG channels</th>\n",
       "        <td>Not available</td>\n",
       "    </tr>\n",
       "    <tr>\n",
       "        <th>ECG channels</th>\n",
       "        <td>Not available</td>\n",
       "    \n",
       "    <tr>\n",
       "        <th>Sampling frequency</th>\n",
       "        <td>1024.00 Hz</td>\n",
       "    </tr>\n",
       "    \n",
       "    \n",
       "    <tr>\n",
       "        <th>Highpass</th>\n",
       "        <td>0.00 Hz</td>\n",
       "    </tr>\n",
       "    \n",
       "    \n",
       "    <tr>\n",
       "        <th>Lowpass</th>\n",
       "        <td>512.00 Hz</td>\n",
       "    </tr>\n",
       "    \n",
       "    \n",
       "    \n",
       "    <tr>\n",
       "        <th>Filenames</th>\n",
       "        <td>MS007_MemBandit.edf</td>\n",
       "    </tr>\n",
       "    \n",
       "    <tr>\n",
       "        <th>Duration</th>\n",
       "        <td>00:30:24 (HH:MM:SS)</td>\n",
       "    </tr>\n",
       "</table>"
      ],
      "text/plain": [
       "<RawEDF | MS007_MemBandit.edf, 216 x 1867008 (1823.2 s), ~3.00 GB, data loaded>"
      ]
     },
     "execution_count": 13,
     "metadata": {},
     "output_type": "execute_result"
    }
   ],
   "source": [
    "sEEG_mapping_dict = {f'{x}':'seeg' for x in left_seeg_names+right_seeg_names}\n",
    "EEG_mapping_dict = {f'{x}':'eeg' for x in eeg_names}\n",
    "trig_mapping_dict = {'dc1':'stim'}\n",
    "# Drop random chans? \n",
    "drop_chans = list(set(MS007_data.ch_names)^set(eeg_names+left_seeg_names+right_seeg_names+['dc1']))\n",
    "MS007_data.drop_channels(drop_chans)"
   ]
  },
  {
   "cell_type": "code",
   "execution_count": 14,
   "metadata": {
    "scrolled": true
   },
   "outputs": [
    {
     "name": "stderr",
     "output_type": "stream",
     "text": [
      "/tmp/ipykernel_182879/1830004009.py:4: RuntimeWarning: The unit for channel(s) dc1 has changed from V to NA.\n",
      "  MS007_data.set_channel_types(trig_mapping_dict)\n"
     ]
    },
    {
     "data": {
      "text/html": [
       "<table class=\"table table-hover table-striped table-sm table-responsive small\">\n",
       "    <tr>\n",
       "        <th>Measurement date</th>\n",
       "        \n",
       "        <td>January 01, 2001  16:05:56 GMT</td>\n",
       "        \n",
       "    </tr>\n",
       "    <tr>\n",
       "        <th>Experimenter</th>\n",
       "        \n",
       "        <td>Unknown</td>\n",
       "        \n",
       "    </tr>\n",
       "        <th>Participant</th>\n",
       "        \n",
       "        <td>Unknown</td>\n",
       "        \n",
       "    </tr>\n",
       "    <tr>\n",
       "        <th>Digitized points</th>\n",
       "        \n",
       "        <td>Not available</td>\n",
       "        \n",
       "    </tr>\n",
       "    <tr>\n",
       "        <th>Good channels</th>\n",
       "        <td>196 sEEG, 19 EEG, 1 Stimulus</td>\n",
       "    </tr>\n",
       "    <tr>\n",
       "        <th>Bad channels</th>\n",
       "        <td>None</td>\n",
       "    </tr>\n",
       "    <tr>\n",
       "        <th>EOG channels</th>\n",
       "        <td>Not available</td>\n",
       "    </tr>\n",
       "    <tr>\n",
       "        <th>ECG channels</th>\n",
       "        <td>Not available</td>\n",
       "    \n",
       "    <tr>\n",
       "        <th>Sampling frequency</th>\n",
       "        <td>1024.00 Hz</td>\n",
       "    </tr>\n",
       "    \n",
       "    \n",
       "    <tr>\n",
       "        <th>Highpass</th>\n",
       "        <td>0.00 Hz</td>\n",
       "    </tr>\n",
       "    \n",
       "    \n",
       "    <tr>\n",
       "        <th>Lowpass</th>\n",
       "        <td>512.00 Hz</td>\n",
       "    </tr>\n",
       "    \n",
       "    \n",
       "    \n",
       "    <tr>\n",
       "        <th>Filenames</th>\n",
       "        <td>MS007_MemBandit.edf</td>\n",
       "    </tr>\n",
       "    \n",
       "    <tr>\n",
       "        <th>Duration</th>\n",
       "        <td>00:30:24 (HH:MM:SS)</td>\n",
       "    </tr>\n",
       "</table>"
      ],
      "text/plain": [
       "<RawEDF | MS007_MemBandit.edf, 216 x 1867008 (1823.2 s), ~3.00 GB, data loaded>"
      ]
     },
     "execution_count": 14,
     "metadata": {},
     "output_type": "execute_result"
    }
   ],
   "source": [
    "# Set channel types:\n",
    "MS007_data.set_channel_types(sEEG_mapping_dict)\n",
    "MS007_data.set_channel_types(EEG_mapping_dict)\n",
    "MS007_data.set_channel_types(trig_mapping_dict)"
   ]
  },
  {
   "cell_type": "code",
   "execution_count": 15,
   "metadata": {},
   "outputs": [
    {
     "name": "stderr",
     "output_type": "stream",
     "text": [
      "/tmp/ipykernel_182879/3983129385.py:7: RuntimeWarning: Fiducial point nasion not found, assuming identity unknown to head transformation\n",
      "  MS007_data.set_montage(montage, match_case=False, on_missing='warn')\n",
      "/tmp/ipykernel_182879/3983129385.py:7: RuntimeWarning: DigMontage is only a subset of info. There are 19 channel positions not present in the DigMontage. The required channels are:\n",
      "\n",
      "['fp1', 'f7', 't3', 't5', 'o1', 'f3', 'c3', 'p3', 'fp2', 'f8', 't4', 't6', 'o2', 'f4', 'c4', 'p4', 'fz', 'cz', 'pz'].\n",
      "\n",
      "Consider using inst.set_channel_types if these are not EEG channels, or use the on_missing parameter if the channel positions are allowed to be unknown in your analyses.\n",
      "  MS007_data.set_montage(montage, match_case=False, on_missing='warn')\n"
     ]
    },
    {
     "data": {
      "text/html": [
       "<table class=\"table table-hover table-striped table-sm table-responsive small\">\n",
       "    <tr>\n",
       "        <th>Measurement date</th>\n",
       "        \n",
       "        <td>January 01, 2001  16:05:56 GMT</td>\n",
       "        \n",
       "    </tr>\n",
       "    <tr>\n",
       "        <th>Experimenter</th>\n",
       "        \n",
       "        <td>Unknown</td>\n",
       "        \n",
       "    </tr>\n",
       "        <th>Participant</th>\n",
       "        \n",
       "        <td>Unknown</td>\n",
       "        \n",
       "    </tr>\n",
       "    <tr>\n",
       "        <th>Digitized points</th>\n",
       "        \n",
       "        <td>196 points</td>\n",
       "        \n",
       "    </tr>\n",
       "    <tr>\n",
       "        <th>Good channels</th>\n",
       "        <td>196 sEEG, 19 EEG, 1 Stimulus</td>\n",
       "    </tr>\n",
       "    <tr>\n",
       "        <th>Bad channels</th>\n",
       "        <td>None</td>\n",
       "    </tr>\n",
       "    <tr>\n",
       "        <th>EOG channels</th>\n",
       "        <td>Not available</td>\n",
       "    </tr>\n",
       "    <tr>\n",
       "        <th>ECG channels</th>\n",
       "        <td>Not available</td>\n",
       "    \n",
       "    <tr>\n",
       "        <th>Sampling frequency</th>\n",
       "        <td>1024.00 Hz</td>\n",
       "    </tr>\n",
       "    \n",
       "    \n",
       "    <tr>\n",
       "        <th>Highpass</th>\n",
       "        <td>0.00 Hz</td>\n",
       "    </tr>\n",
       "    \n",
       "    \n",
       "    <tr>\n",
       "        <th>Lowpass</th>\n",
       "        <td>512.00 Hz</td>\n",
       "    </tr>\n",
       "    \n",
       "    \n",
       "    \n",
       "    <tr>\n",
       "        <th>Filenames</th>\n",
       "        <td>MS007_MemBandit.edf</td>\n",
       "    </tr>\n",
       "    \n",
       "    <tr>\n",
       "        <th>Duration</th>\n",
       "        <td>00:30:24 (HH:MM:SS)</td>\n",
       "    </tr>\n",
       "</table>"
      ],
      "text/plain": [
       "<RawEDF | MS007_MemBandit.edf, 216 x 1867008 (1823.2 s), ~3.00 GB, data loaded>"
      ]
     },
     "execution_count": 15,
     "metadata": {},
     "output_type": "execute_result"
    }
   ],
   "source": [
    "# make montage (convert mm to m)!! I'm not sure if we will ever use or need this step, but why not just do it\n",
    "\n",
    "montage = mne.channels.make_dig_montage(ch_pos=dict(zip(elec_locs.label, \n",
    "                                                        elec_locs[['mni_x', 'mni_y', 'mni_z']].to_numpy(dtype=float)/1000)),\n",
    "                                        coord_frame='mni_tal')\n",
    "\n",
    "MS007_data.set_montage(montage, match_case=False, on_missing='warn')\n"
   ]
  },
  {
   "cell_type": "markdown",
   "metadata": {},
   "source": [
    "## Notch filter line noise and cleaning out bad channels \n"
   ]
  },
  {
   "cell_type": "markdown",
   "metadata": {},
   "source": [
    "We want to remove the line noise (60 Hz and harmonics in US data, 50 Hz and harmonics in EU data). \n",
    "\n",
    "To do so, we use a band-stop filter that removes a narrow band of frequencies. \n",
    "\n",
    "Maybe eventually we don't want to use filters, especially if interested in ERPs: https://www.ncbi.nlm.nih.gov/pmc/articles/PMC6456018/"
   ]
  },
  {
   "cell_type": "code",
   "execution_count": 16,
   "metadata": {},
   "outputs": [
    {
     "name": "stdout",
     "output_type": "stream",
     "text": [
      "Setting up band-stop filter\n",
      "\n",
      "FIR filter parameters\n",
      "---------------------\n",
      "Designing a one-pass, zero-phase, non-causal bandstop filter:\n",
      "- Windowed time-domain design (firwin) method\n",
      "- Hamming window with 0.0194 passband ripple and 53 dB stopband attenuation\n",
      "- Lower transition bandwidth: 0.50 Hz\n",
      "- Upper transition bandwidth: 0.50 Hz\n",
      "- Filter length: 6759 samples (6.601 sec)\n",
      "\n"
     ]
    },
    {
     "name": "stderr",
     "output_type": "stream",
     "text": [
      "[Parallel(n_jobs=1)]: Using backend SequentialBackend with 1 concurrent workers.\n",
      "[Parallel(n_jobs=1)]: Done   1 out of   1 | elapsed:    0.1s remaining:    0.0s\n",
      "[Parallel(n_jobs=1)]: Done   2 out of   2 | elapsed:    0.1s remaining:    0.0s\n",
      "[Parallel(n_jobs=1)]: Done   3 out of   3 | elapsed:    0.2s remaining:    0.0s\n",
      "[Parallel(n_jobs=1)]: Done   4 out of   4 | elapsed:    0.3s remaining:    0.0s\n",
      "[Parallel(n_jobs=1)]: Done 215 out of 215 | elapsed:   13.5s finished\n"
     ]
    },
    {
     "data": {
      "text/html": [
       "<table class=\"table table-hover table-striped table-sm table-responsive small\">\n",
       "    <tr>\n",
       "        <th>Measurement date</th>\n",
       "        \n",
       "        <td>January 01, 2001  16:05:56 GMT</td>\n",
       "        \n",
       "    </tr>\n",
       "    <tr>\n",
       "        <th>Experimenter</th>\n",
       "        \n",
       "        <td>Unknown</td>\n",
       "        \n",
       "    </tr>\n",
       "        <th>Participant</th>\n",
       "        \n",
       "        <td>Unknown</td>\n",
       "        \n",
       "    </tr>\n",
       "    <tr>\n",
       "        <th>Digitized points</th>\n",
       "        \n",
       "        <td>196 points</td>\n",
       "        \n",
       "    </tr>\n",
       "    <tr>\n",
       "        <th>Good channels</th>\n",
       "        <td>196 sEEG, 19 EEG, 1 Stimulus</td>\n",
       "    </tr>\n",
       "    <tr>\n",
       "        <th>Bad channels</th>\n",
       "        <td>None</td>\n",
       "    </tr>\n",
       "    <tr>\n",
       "        <th>EOG channels</th>\n",
       "        <td>Not available</td>\n",
       "    </tr>\n",
       "    <tr>\n",
       "        <th>ECG channels</th>\n",
       "        <td>Not available</td>\n",
       "    \n",
       "    <tr>\n",
       "        <th>Sampling frequency</th>\n",
       "        <td>1024.00 Hz</td>\n",
       "    </tr>\n",
       "    \n",
       "    \n",
       "    <tr>\n",
       "        <th>Highpass</th>\n",
       "        <td>0.00 Hz</td>\n",
       "    </tr>\n",
       "    \n",
       "    \n",
       "    <tr>\n",
       "        <th>Lowpass</th>\n",
       "        <td>512.00 Hz</td>\n",
       "    </tr>\n",
       "    \n",
       "    \n",
       "    \n",
       "    <tr>\n",
       "        <th>Filenames</th>\n",
       "        <td>MS007_MemBandit.edf</td>\n",
       "    </tr>\n",
       "    \n",
       "    <tr>\n",
       "        <th>Duration</th>\n",
       "        <td>00:30:24 (HH:MM:SS)</td>\n",
       "    </tr>\n",
       "</table>"
      ],
      "text/plain": [
       "<RawEDF | MS007_MemBandit.edf, 216 x 1867008 (1823.2 s), ~3.00 GB, data loaded>"
      ]
     },
     "execution_count": 16,
     "metadata": {},
     "output_type": "execute_result"
    }
   ],
   "source": [
    "# Identify line noise\n",
    "MS007_data.info['line_freq'] = 60\n",
    "\n",
    "# Notch out 60 Hz noise and harmonics \n",
    "MS007_data.notch_filter(freqs=(60, 120, 180, 240))"
   ]
  },
  {
   "cell_type": "code",
   "execution_count": 17,
   "metadata": {
    "scrolled": true
   },
   "outputs": [
    {
     "name": "stdout",
     "output_type": "stream",
     "text": [
      "Overwriting existing file.\n",
      "Writing /sc/arion/work/qasims01/MemoryBanditData/EMU/Subjects/MS007/photodiode.fif\n",
      "Closing /sc/arion/work/qasims01/MemoryBanditData/EMU/Subjects/MS007/photodiode.fif\n",
      "[done]\n"
     ]
    },
    {
     "name": "stderr",
     "output_type": "stream",
     "text": [
      "/tmp/ipykernel_182879/2725322655.py:2: RuntimeWarning: This filename (/sc/arion/work/qasims01/MemoryBanditData/EMU/Subjects/MS007/photodiode.fif) does not conform to MNE naming conventions. All raw files should end with raw.fif, raw_sss.fif, raw_tsss.fif, _meg.fif, _eeg.fif, _ieeg.fif, raw.fif.gz, raw_sss.fif.gz, raw_tsss.fif.gz, _meg.fif.gz, _eeg.fif.gz or _ieeg.fif.gz\n",
      "  MS007_data.save(f'{save_dir}/photodiode.fif', picks='dc1', overwrite=True)\n"
     ]
    }
   ],
   "source": [
    "# Save out the photodiode channel separately\n",
    "MS007_data.save(f'{save_dir}/photodiode.fif', picks='dc1', overwrite=True)"
   ]
  },
  {
   "cell_type": "markdown",
   "metadata": {},
   "source": [
    "Denote bad channels"
   ]
  },
  {
   "cell_type": "code",
   "execution_count": 18,
   "metadata": {},
   "outputs": [],
   "source": [
    "# Clean up the MNE data \n",
    "\n",
    "bads = lfp_preprocess_utils.detect_bad_elecs(MS007_data, \n",
    "                                             sEEG_mapping_dict)\n",
    "\n",
    "MS007_data.info['bads'] = bads"
   ]
  },
  {
   "cell_type": "code",
   "execution_count": 19,
   "metadata": {},
   "outputs": [
    {
     "data": {
      "text/plain": [
       "['laglt10',\n",
       " 'laglt8',\n",
       " 'laglt9',\n",
       " 'lcmfo7',\n",
       " 'lhplt1',\n",
       " 'lhplt2',\n",
       " 'lmcms1',\n",
       " 'lmcms2',\n",
       " 'lmcms9',\n",
       " 'lmolf4',\n",
       " 'lmolf5',\n",
       " 'racas8',\n",
       " 'rpcip7']"
      ]
     },
     "execution_count": 19,
     "metadata": {},
     "output_type": "execute_result"
    }
   ],
   "source": [
    "bads"
   ]
  },
  {
   "cell_type": "code",
   "execution_count": 20,
   "metadata": {},
   "outputs": [],
   "source": [
    "# Let's pick out any bad channels missed by automatic screening, or restore channels that were erroneously deemed bad"
   ]
  },
  {
   "cell_type": "markdown",
   "metadata": {},
   "source": [
    "When we plot the data using the interactive plotting, bad channels are grayed out. Can click them on the left to toggle this. We aren't annotating bad data time-windows yet! "
   ]
  },
  {
   "cell_type": "code",
   "execution_count": 37,
   "metadata": {
    "scrolled": false
   },
   "outputs": [
    {
     "data": {
      "application/javascript": "/* Put everything inside the global mpl namespace */\n/* global mpl */\nwindow.mpl = {};\n\nmpl.get_websocket_type = function () {\n    if (typeof WebSocket !== 'undefined') {\n        return WebSocket;\n    } else if (typeof MozWebSocket !== 'undefined') {\n        return MozWebSocket;\n    } else {\n        alert(\n            'Your browser does not have WebSocket support. ' +\n                'Please try Chrome, Safari or Firefox ≥ 6. ' +\n                'Firefox 4 and 5 are also supported but you ' +\n                'have to enable WebSockets in about:config.'\n        );\n    }\n};\n\nmpl.figure = function (figure_id, websocket, ondownload, parent_element) {\n    this.id = figure_id;\n\n    this.ws = websocket;\n\n    this.supports_binary = this.ws.binaryType !== undefined;\n\n    if (!this.supports_binary) {\n        var warnings = document.getElementById('mpl-warnings');\n        if (warnings) {\n            warnings.style.display = 'block';\n            warnings.textContent =\n                'This browser does not support binary websocket messages. ' +\n                'Performance may be slow.';\n        }\n    }\n\n    this.imageObj = new Image();\n\n    this.context = undefined;\n    this.message = undefined;\n    this.canvas = undefined;\n    this.rubberband_canvas = undefined;\n    this.rubberband_context = undefined;\n    this.format_dropdown = undefined;\n\n    this.image_mode = 'full';\n\n    this.root = document.createElement('div');\n    this.root.setAttribute('style', 'display: inline-block');\n    this._root_extra_style(this.root);\n\n    parent_element.appendChild(this.root);\n\n    this._init_header(this);\n    this._init_canvas(this);\n    this._init_toolbar(this);\n\n    var fig = this;\n\n    this.waiting = false;\n\n    this.ws.onopen = function () {\n        fig.send_message('supports_binary', { value: fig.supports_binary });\n        fig.send_message('send_image_mode', {});\n        if (fig.ratio !== 1) {\n            fig.send_message('set_device_pixel_ratio', {\n                device_pixel_ratio: fig.ratio,\n            });\n        }\n        fig.send_message('refresh', {});\n    };\n\n    this.imageObj.onload = function () {\n        if (fig.image_mode === 'full') {\n            // Full images could contain transparency (where diff images\n            // almost always do), so we need to clear the canvas so that\n            // there is no ghosting.\n            fig.context.clearRect(0, 0, fig.canvas.width, fig.canvas.height);\n        }\n        fig.context.drawImage(fig.imageObj, 0, 0);\n    };\n\n    this.imageObj.onunload = function () {\n        fig.ws.close();\n    };\n\n    this.ws.onmessage = this._make_on_message_function(this);\n\n    this.ondownload = ondownload;\n};\n\nmpl.figure.prototype._init_header = function () {\n    var titlebar = document.createElement('div');\n    titlebar.classList =\n        'ui-dialog-titlebar ui-widget-header ui-corner-all ui-helper-clearfix';\n    var titletext = document.createElement('div');\n    titletext.classList = 'ui-dialog-title';\n    titletext.setAttribute(\n        'style',\n        'width: 100%; text-align: center; padding: 3px;'\n    );\n    titlebar.appendChild(titletext);\n    this.root.appendChild(titlebar);\n    this.header = titletext;\n};\n\nmpl.figure.prototype._canvas_extra_style = function (_canvas_div) {};\n\nmpl.figure.prototype._root_extra_style = function (_canvas_div) {};\n\nmpl.figure.prototype._init_canvas = function () {\n    var fig = this;\n\n    var canvas_div = (this.canvas_div = document.createElement('div'));\n    canvas_div.setAttribute('tabindex', '0');\n    canvas_div.setAttribute(\n        'style',\n        'border: 1px solid #ddd;' +\n            'box-sizing: content-box;' +\n            'clear: both;' +\n            'min-height: 1px;' +\n            'min-width: 1px;' +\n            'outline: 0;' +\n            'overflow: hidden;' +\n            'position: relative;' +\n            'resize: both;' +\n            'z-index: 2;'\n    );\n\n    function on_keyboard_event_closure(name) {\n        return function (event) {\n            return fig.key_event(event, name);\n        };\n    }\n\n    canvas_div.addEventListener(\n        'keydown',\n        on_keyboard_event_closure('key_press')\n    );\n    canvas_div.addEventListener(\n        'keyup',\n        on_keyboard_event_closure('key_release')\n    );\n\n    this._canvas_extra_style(canvas_div);\n    this.root.appendChild(canvas_div);\n\n    var canvas = (this.canvas = document.createElement('canvas'));\n    canvas.classList.add('mpl-canvas');\n    canvas.setAttribute(\n        'style',\n        'box-sizing: content-box;' +\n            'pointer-events: none;' +\n            'position: relative;' +\n            'z-index: 0;'\n    );\n\n    this.context = canvas.getContext('2d');\n\n    var backingStore =\n        this.context.backingStorePixelRatio ||\n        this.context.webkitBackingStorePixelRatio ||\n        this.context.mozBackingStorePixelRatio ||\n        this.context.msBackingStorePixelRatio ||\n        this.context.oBackingStorePixelRatio ||\n        this.context.backingStorePixelRatio ||\n        1;\n\n    this.ratio = (window.devicePixelRatio || 1) / backingStore;\n\n    var rubberband_canvas = (this.rubberband_canvas = document.createElement(\n        'canvas'\n    ));\n    rubberband_canvas.setAttribute(\n        'style',\n        'box-sizing: content-box;' +\n            'left: 0;' +\n            'pointer-events: none;' +\n            'position: absolute;' +\n            'top: 0;' +\n            'z-index: 1;'\n    );\n\n    // Apply a ponyfill if ResizeObserver is not implemented by browser.\n    if (this.ResizeObserver === undefined) {\n        if (window.ResizeObserver !== undefined) {\n            this.ResizeObserver = window.ResizeObserver;\n        } else {\n            var obs = _JSXTOOLS_RESIZE_OBSERVER({});\n            this.ResizeObserver = obs.ResizeObserver;\n        }\n    }\n\n    this.resizeObserverInstance = new this.ResizeObserver(function (entries) {\n        var nentries = entries.length;\n        for (var i = 0; i < nentries; i++) {\n            var entry = entries[i];\n            var width, height;\n            if (entry.contentBoxSize) {\n                if (entry.contentBoxSize instanceof Array) {\n                    // Chrome 84 implements new version of spec.\n                    width = entry.contentBoxSize[0].inlineSize;\n                    height = entry.contentBoxSize[0].blockSize;\n                } else {\n                    // Firefox implements old version of spec.\n                    width = entry.contentBoxSize.inlineSize;\n                    height = entry.contentBoxSize.blockSize;\n                }\n            } else {\n                // Chrome <84 implements even older version of spec.\n                width = entry.contentRect.width;\n                height = entry.contentRect.height;\n            }\n\n            // Keep the size of the canvas and rubber band canvas in sync with\n            // the canvas container.\n            if (entry.devicePixelContentBoxSize) {\n                // Chrome 84 implements new version of spec.\n                canvas.setAttribute(\n                    'width',\n                    entry.devicePixelContentBoxSize[0].inlineSize\n                );\n                canvas.setAttribute(\n                    'height',\n                    entry.devicePixelContentBoxSize[0].blockSize\n                );\n            } else {\n                canvas.setAttribute('width', width * fig.ratio);\n                canvas.setAttribute('height', height * fig.ratio);\n            }\n            /* This rescales the canvas back to display pixels, so that it\n             * appears correct on HiDPI screens. */\n            canvas.style.width = width + 'px';\n            canvas.style.height = height + 'px';\n\n            rubberband_canvas.setAttribute('width', width);\n            rubberband_canvas.setAttribute('height', height);\n\n            // And update the size in Python. We ignore the initial 0/0 size\n            // that occurs as the element is placed into the DOM, which should\n            // otherwise not happen due to the minimum size styling.\n            if (fig.ws.readyState == 1 && width != 0 && height != 0) {\n                fig.request_resize(width, height);\n            }\n        }\n    });\n    this.resizeObserverInstance.observe(canvas_div);\n\n    function on_mouse_event_closure(name) {\n        /* User Agent sniffing is bad, but WebKit is busted:\n         * https://bugs.webkit.org/show_bug.cgi?id=144526\n         * https://bugs.webkit.org/show_bug.cgi?id=181818\n         * The worst that happens here is that they get an extra browser\n         * selection when dragging, if this check fails to catch them.\n         */\n        var UA = navigator.userAgent;\n        var isWebKit = /AppleWebKit/.test(UA) && !/Chrome/.test(UA);\n        if(isWebKit) {\n            return function (event) {\n                /* This prevents the web browser from automatically changing to\n                 * the text insertion cursor when the button is pressed. We\n                 * want to control all of the cursor setting manually through\n                 * the 'cursor' event from matplotlib */\n                event.preventDefault()\n                return fig.mouse_event(event, name);\n            };\n        } else {\n            return function (event) {\n                return fig.mouse_event(event, name);\n            };\n        }\n    }\n\n    canvas_div.addEventListener(\n        'mousedown',\n        on_mouse_event_closure('button_press')\n    );\n    canvas_div.addEventListener(\n        'mouseup',\n        on_mouse_event_closure('button_release')\n    );\n    canvas_div.addEventListener(\n        'dblclick',\n        on_mouse_event_closure('dblclick')\n    );\n    // Throttle sequential mouse events to 1 every 20ms.\n    canvas_div.addEventListener(\n        'mousemove',\n        on_mouse_event_closure('motion_notify')\n    );\n\n    canvas_div.addEventListener(\n        'mouseenter',\n        on_mouse_event_closure('figure_enter')\n    );\n    canvas_div.addEventListener(\n        'mouseleave',\n        on_mouse_event_closure('figure_leave')\n    );\n\n    canvas_div.addEventListener('wheel', function (event) {\n        if (event.deltaY < 0) {\n            event.step = 1;\n        } else {\n            event.step = -1;\n        }\n        on_mouse_event_closure('scroll')(event);\n    });\n\n    canvas_div.appendChild(canvas);\n    canvas_div.appendChild(rubberband_canvas);\n\n    this.rubberband_context = rubberband_canvas.getContext('2d');\n    this.rubberband_context.strokeStyle = '#000000';\n\n    this._resize_canvas = function (width, height, forward) {\n        if (forward) {\n            canvas_div.style.width = width + 'px';\n            canvas_div.style.height = height + 'px';\n        }\n    };\n\n    // Disable right mouse context menu.\n    canvas_div.addEventListener('contextmenu', function (_e) {\n        event.preventDefault();\n        return false;\n    });\n\n    function set_focus() {\n        canvas.focus();\n        canvas_div.focus();\n    }\n\n    window.setTimeout(set_focus, 100);\n};\n\nmpl.figure.prototype._init_toolbar = function () {\n    var fig = this;\n\n    var toolbar = document.createElement('div');\n    toolbar.classList = 'mpl-toolbar';\n    this.root.appendChild(toolbar);\n\n    function on_click_closure(name) {\n        return function (_event) {\n            return fig.toolbar_button_onclick(name);\n        };\n    }\n\n    function on_mouseover_closure(tooltip) {\n        return function (event) {\n            if (!event.currentTarget.disabled) {\n                return fig.toolbar_button_onmouseover(tooltip);\n            }\n        };\n    }\n\n    fig.buttons = {};\n    var buttonGroup = document.createElement('div');\n    buttonGroup.classList = 'mpl-button-group';\n    for (var toolbar_ind in mpl.toolbar_items) {\n        var name = mpl.toolbar_items[toolbar_ind][0];\n        var tooltip = mpl.toolbar_items[toolbar_ind][1];\n        var image = mpl.toolbar_items[toolbar_ind][2];\n        var method_name = mpl.toolbar_items[toolbar_ind][3];\n\n        if (!name) {\n            /* Instead of a spacer, we start a new button group. */\n            if (buttonGroup.hasChildNodes()) {\n                toolbar.appendChild(buttonGroup);\n            }\n            buttonGroup = document.createElement('div');\n            buttonGroup.classList = 'mpl-button-group';\n            continue;\n        }\n\n        var button = (fig.buttons[name] = document.createElement('button'));\n        button.classList = 'mpl-widget';\n        button.setAttribute('role', 'button');\n        button.setAttribute('aria-disabled', 'false');\n        button.addEventListener('click', on_click_closure(method_name));\n        button.addEventListener('mouseover', on_mouseover_closure(tooltip));\n\n        var icon_img = document.createElement('img');\n        icon_img.src = '_images/' + image + '.png';\n        icon_img.srcset = '_images/' + image + '_large.png 2x';\n        icon_img.alt = tooltip;\n        button.appendChild(icon_img);\n\n        buttonGroup.appendChild(button);\n    }\n\n    if (buttonGroup.hasChildNodes()) {\n        toolbar.appendChild(buttonGroup);\n    }\n\n    var fmt_picker = document.createElement('select');\n    fmt_picker.classList = 'mpl-widget';\n    toolbar.appendChild(fmt_picker);\n    this.format_dropdown = fmt_picker;\n\n    for (var ind in mpl.extensions) {\n        var fmt = mpl.extensions[ind];\n        var option = document.createElement('option');\n        option.selected = fmt === mpl.default_extension;\n        option.innerHTML = fmt;\n        fmt_picker.appendChild(option);\n    }\n\n    var status_bar = document.createElement('span');\n    status_bar.classList = 'mpl-message';\n    toolbar.appendChild(status_bar);\n    this.message = status_bar;\n};\n\nmpl.figure.prototype.request_resize = function (x_pixels, y_pixels) {\n    // Request matplotlib to resize the figure. Matplotlib will then trigger a resize in the client,\n    // which will in turn request a refresh of the image.\n    this.send_message('resize', { width: x_pixels, height: y_pixels });\n};\n\nmpl.figure.prototype.send_message = function (type, properties) {\n    properties['type'] = type;\n    properties['figure_id'] = this.id;\n    this.ws.send(JSON.stringify(properties));\n};\n\nmpl.figure.prototype.send_draw_message = function () {\n    if (!this.waiting) {\n        this.waiting = true;\n        this.ws.send(JSON.stringify({ type: 'draw', figure_id: this.id }));\n    }\n};\n\nmpl.figure.prototype.handle_save = function (fig, _msg) {\n    var format_dropdown = fig.format_dropdown;\n    var format = format_dropdown.options[format_dropdown.selectedIndex].value;\n    fig.ondownload(fig, format);\n};\n\nmpl.figure.prototype.handle_resize = function (fig, msg) {\n    var size = msg['size'];\n    if (size[0] !== fig.canvas.width || size[1] !== fig.canvas.height) {\n        fig._resize_canvas(size[0], size[1], msg['forward']);\n        fig.send_message('refresh', {});\n    }\n};\n\nmpl.figure.prototype.handle_rubberband = function (fig, msg) {\n    var x0 = msg['x0'] / fig.ratio;\n    var y0 = (fig.canvas.height - msg['y0']) / fig.ratio;\n    var x1 = msg['x1'] / fig.ratio;\n    var y1 = (fig.canvas.height - msg['y1']) / fig.ratio;\n    x0 = Math.floor(x0) + 0.5;\n    y0 = Math.floor(y0) + 0.5;\n    x1 = Math.floor(x1) + 0.5;\n    y1 = Math.floor(y1) + 0.5;\n    var min_x = Math.min(x0, x1);\n    var min_y = Math.min(y0, y1);\n    var width = Math.abs(x1 - x0);\n    var height = Math.abs(y1 - y0);\n\n    fig.rubberband_context.clearRect(\n        0,\n        0,\n        fig.canvas.width / fig.ratio,\n        fig.canvas.height / fig.ratio\n    );\n\n    fig.rubberband_context.strokeRect(min_x, min_y, width, height);\n};\n\nmpl.figure.prototype.handle_figure_label = function (fig, msg) {\n    // Updates the figure title.\n    fig.header.textContent = msg['label'];\n};\n\nmpl.figure.prototype.handle_cursor = function (fig, msg) {\n    fig.canvas_div.style.cursor = msg['cursor'];\n};\n\nmpl.figure.prototype.handle_message = function (fig, msg) {\n    fig.message.textContent = msg['message'];\n};\n\nmpl.figure.prototype.handle_draw = function (fig, _msg) {\n    // Request the server to send over a new figure.\n    fig.send_draw_message();\n};\n\nmpl.figure.prototype.handle_image_mode = function (fig, msg) {\n    fig.image_mode = msg['mode'];\n};\n\nmpl.figure.prototype.handle_history_buttons = function (fig, msg) {\n    for (var key in msg) {\n        if (!(key in fig.buttons)) {\n            continue;\n        }\n        fig.buttons[key].disabled = !msg[key];\n        fig.buttons[key].setAttribute('aria-disabled', !msg[key]);\n    }\n};\n\nmpl.figure.prototype.handle_navigate_mode = function (fig, msg) {\n    if (msg['mode'] === 'PAN') {\n        fig.buttons['Pan'].classList.add('active');\n        fig.buttons['Zoom'].classList.remove('active');\n    } else if (msg['mode'] === 'ZOOM') {\n        fig.buttons['Pan'].classList.remove('active');\n        fig.buttons['Zoom'].classList.add('active');\n    } else {\n        fig.buttons['Pan'].classList.remove('active');\n        fig.buttons['Zoom'].classList.remove('active');\n    }\n};\n\nmpl.figure.prototype.updated_canvas_event = function () {\n    // Called whenever the canvas gets updated.\n    this.send_message('ack', {});\n};\n\n// A function to construct a web socket function for onmessage handling.\n// Called in the figure constructor.\nmpl.figure.prototype._make_on_message_function = function (fig) {\n    return function socket_on_message(evt) {\n        if (evt.data instanceof Blob) {\n            var img = evt.data;\n            if (img.type !== 'image/png') {\n                /* FIXME: We get \"Resource interpreted as Image but\n                 * transferred with MIME type text/plain:\" errors on\n                 * Chrome.  But how to set the MIME type?  It doesn't seem\n                 * to be part of the websocket stream */\n                img.type = 'image/png';\n            }\n\n            /* Free the memory for the previous frames */\n            if (fig.imageObj.src) {\n                (window.URL || window.webkitURL).revokeObjectURL(\n                    fig.imageObj.src\n                );\n            }\n\n            fig.imageObj.src = (window.URL || window.webkitURL).createObjectURL(\n                img\n            );\n            fig.updated_canvas_event();\n            fig.waiting = false;\n            return;\n        } else if (\n            typeof evt.data === 'string' &&\n            evt.data.slice(0, 21) === 'data:image/png;base64'\n        ) {\n            fig.imageObj.src = evt.data;\n            fig.updated_canvas_event();\n            fig.waiting = false;\n            return;\n        }\n\n        var msg = JSON.parse(evt.data);\n        var msg_type = msg['type'];\n\n        // Call the  \"handle_{type}\" callback, which takes\n        // the figure and JSON message as its only arguments.\n        try {\n            var callback = fig['handle_' + msg_type];\n        } catch (e) {\n            console.log(\n                \"No handler for the '\" + msg_type + \"' message type: \",\n                msg\n            );\n            return;\n        }\n\n        if (callback) {\n            try {\n                // console.log(\"Handling '\" + msg_type + \"' message: \", msg);\n                callback(fig, msg);\n            } catch (e) {\n                console.log(\n                    \"Exception inside the 'handler_\" + msg_type + \"' callback:\",\n                    e,\n                    e.stack,\n                    msg\n                );\n            }\n        }\n    };\n};\n\n\n/*\n * return a copy of an object with only non-object keys\n * we need this to avoid circular references\n * https://stackoverflow.com/a/24161582/3208463\n */\nfunction simpleKeys(original) {\n    return Object.keys(original).reduce(function (obj, key) {\n        if (typeof original[key] !== 'object') {\n            obj[key] = original[key];\n        }\n        return obj;\n    }, {});\n}\n\nmpl.figure.prototype.mouse_event = function (event, name) {\n    if (name === 'button_press') {\n        this.canvas.focus();\n        this.canvas_div.focus();\n    }\n\n    // from https://stackoverflow.com/q/1114465\n    var boundingRect = this.canvas.getBoundingClientRect();\n    var x = (event.clientX - boundingRect.left) * this.ratio;\n    var y = (event.clientY - boundingRect.top) * this.ratio;\n\n    this.send_message(name, {\n        x: x,\n        y: y,\n        button: event.button,\n        step: event.step,\n        guiEvent: simpleKeys(event),\n    });\n\n    return false;\n};\n\nmpl.figure.prototype._key_event_extra = function (_event, _name) {\n    // Handle any extra behaviour associated with a key event\n};\n\nmpl.figure.prototype.key_event = function (event, name) {\n    // Prevent repeat events\n    if (name === 'key_press') {\n        if (event.key === this._key) {\n            return;\n        } else {\n            this._key = event.key;\n        }\n    }\n    if (name === 'key_release') {\n        this._key = null;\n    }\n\n    var value = '';\n    if (event.ctrlKey && event.key !== 'Control') {\n        value += 'ctrl+';\n    }\n    else if (event.altKey && event.key !== 'Alt') {\n        value += 'alt+';\n    }\n    else if (event.shiftKey && event.key !== 'Shift') {\n        value += 'shift+';\n    }\n\n    value += 'k' + event.key;\n\n    this._key_event_extra(event, name);\n\n    this.send_message(name, { key: value, guiEvent: simpleKeys(event) });\n    return false;\n};\n\nmpl.figure.prototype.toolbar_button_onclick = function (name) {\n    if (name === 'download') {\n        this.handle_save(this, null);\n    } else {\n        this.send_message('toolbar_button', { name: name });\n    }\n};\n\nmpl.figure.prototype.toolbar_button_onmouseover = function (tooltip) {\n    this.message.textContent = tooltip;\n};\n\n///////////////// REMAINING CONTENT GENERATED BY embed_js.py /////////////////\n// prettier-ignore\nvar _JSXTOOLS_RESIZE_OBSERVER=function(A){var t,i=new WeakMap,n=new WeakMap,a=new WeakMap,r=new WeakMap,o=new Set;function s(e){if(!(this instanceof s))throw new TypeError(\"Constructor requires 'new' operator\");i.set(this,e)}function h(){throw new TypeError(\"Function is not a constructor\")}function c(e,t,i,n){e=0 in arguments?Number(arguments[0]):0,t=1 in arguments?Number(arguments[1]):0,i=2 in arguments?Number(arguments[2]):0,n=3 in arguments?Number(arguments[3]):0,this.right=(this.x=this.left=e)+(this.width=i),this.bottom=(this.y=this.top=t)+(this.height=n),Object.freeze(this)}function d(){t=requestAnimationFrame(d);var s=new WeakMap,p=new Set;o.forEach((function(t){r.get(t).forEach((function(i){var r=t instanceof window.SVGElement,o=a.get(t),d=r?0:parseFloat(o.paddingTop),f=r?0:parseFloat(o.paddingRight),l=r?0:parseFloat(o.paddingBottom),u=r?0:parseFloat(o.paddingLeft),g=r?0:parseFloat(o.borderTopWidth),m=r?0:parseFloat(o.borderRightWidth),w=r?0:parseFloat(o.borderBottomWidth),b=u+f,F=d+l,v=(r?0:parseFloat(o.borderLeftWidth))+m,W=g+w,y=r?0:t.offsetHeight-W-t.clientHeight,E=r?0:t.offsetWidth-v-t.clientWidth,R=b+v,z=F+W,M=r?t.width:parseFloat(o.width)-R-E,O=r?t.height:parseFloat(o.height)-z-y;if(n.has(t)){var k=n.get(t);if(k[0]===M&&k[1]===O)return}n.set(t,[M,O]);var S=Object.create(h.prototype);S.target=t,S.contentRect=new c(u,d,M,O),s.has(i)||(s.set(i,[]),p.add(i)),s.get(i).push(S)}))})),p.forEach((function(e){i.get(e).call(e,s.get(e),e)}))}return s.prototype.observe=function(i){if(i instanceof window.Element){r.has(i)||(r.set(i,new Set),o.add(i),a.set(i,window.getComputedStyle(i)));var n=r.get(i);n.has(this)||n.add(this),cancelAnimationFrame(t),t=requestAnimationFrame(d)}},s.prototype.unobserve=function(i){if(i instanceof window.Element&&r.has(i)){var n=r.get(i);n.has(this)&&(n.delete(this),n.size||(r.delete(i),o.delete(i))),n.size||r.delete(i),o.size||cancelAnimationFrame(t)}},A.DOMRectReadOnly=c,A.ResizeObserver=s,A.ResizeObserverEntry=h,A}; // eslint-disable-line\nmpl.toolbar_items = [[\"Home\", \"Reset original view\", \"fa fa-home\", \"home\"], [\"Back\", \"Back to previous view\", \"fa fa-arrow-left\", \"back\"], [\"Forward\", \"Forward to next view\", \"fa fa-arrow-right\", \"forward\"], [\"\", \"\", \"\", \"\"], [\"Pan\", \"Left button pans, Right button zooms\\nx/y fixes axis, CTRL fixes aspect\", \"fa fa-arrows\", \"pan\"], [\"Zoom\", \"Zoom to rectangle\\nx/y fixes axis\", \"fa fa-square-o\", \"zoom\"], [\"\", \"\", \"\", \"\"], [\"Download\", \"Download plot\", \"fa fa-floppy-o\", \"download\"]];\n\nmpl.extensions = [\"eps\", \"jpeg\", \"pgf\", \"pdf\", \"png\", \"ps\", \"raw\", \"svg\", \"tif\", \"webp\"];\n\nmpl.default_extension = \"png\";/* global mpl */\n\nvar comm_websocket_adapter = function (comm) {\n    // Create a \"websocket\"-like object which calls the given IPython comm\n    // object with the appropriate methods. Currently this is a non binary\n    // socket, so there is still some room for performance tuning.\n    var ws = {};\n\n    ws.binaryType = comm.kernel.ws.binaryType;\n    ws.readyState = comm.kernel.ws.readyState;\n    function updateReadyState(_event) {\n        if (comm.kernel.ws) {\n            ws.readyState = comm.kernel.ws.readyState;\n        } else {\n            ws.readyState = 3; // Closed state.\n        }\n    }\n    comm.kernel.ws.addEventListener('open', updateReadyState);\n    comm.kernel.ws.addEventListener('close', updateReadyState);\n    comm.kernel.ws.addEventListener('error', updateReadyState);\n\n    ws.close = function () {\n        comm.close();\n    };\n    ws.send = function (m) {\n        //console.log('sending', m);\n        comm.send(m);\n    };\n    // Register the callback with on_msg.\n    comm.on_msg(function (msg) {\n        //console.log('receiving', msg['content']['data'], msg);\n        var data = msg['content']['data'];\n        if (data['blob'] !== undefined) {\n            data = {\n                data: new Blob(msg['buffers'], { type: data['blob'] }),\n            };\n        }\n        // Pass the mpl event to the overridden (by mpl) onmessage function.\n        ws.onmessage(data);\n    });\n    return ws;\n};\n\nmpl.mpl_figure_comm = function (comm, msg) {\n    // This is the function which gets called when the mpl process\n    // starts-up an IPython Comm through the \"matplotlib\" channel.\n\n    var id = msg.content.data.id;\n    // Get hold of the div created by the display call when the Comm\n    // socket was opened in Python.\n    var element = document.getElementById(id);\n    var ws_proxy = comm_websocket_adapter(comm);\n\n    function ondownload(figure, _format) {\n        window.open(figure.canvas.toDataURL());\n    }\n\n    var fig = new mpl.figure(id, ws_proxy, ondownload, element);\n\n    // Call onopen now - mpl needs it, as it is assuming we've passed it a real\n    // web socket which is closed, not our websocket->open comm proxy.\n    ws_proxy.onopen();\n\n    fig.parent_element = element;\n    fig.cell_info = mpl.find_output_cell(\"<div id='\" + id + \"'></div>\");\n    if (!fig.cell_info) {\n        console.error('Failed to find cell for figure', id, fig);\n        return;\n    }\n    fig.cell_info[0].output_area.element.on(\n        'cleared',\n        { fig: fig },\n        fig._remove_fig_handler\n    );\n};\n\nmpl.figure.prototype.handle_close = function (fig, msg) {\n    var width = fig.canvas.width / fig.ratio;\n    fig.cell_info[0].output_area.element.off(\n        'cleared',\n        fig._remove_fig_handler\n    );\n    fig.resizeObserverInstance.unobserve(fig.canvas_div);\n\n    // Update the output cell to use the data from the current canvas.\n    fig.push_to_output();\n    var dataURL = fig.canvas.toDataURL();\n    // Re-enable the keyboard manager in IPython - without this line, in FF,\n    // the notebook keyboard shortcuts fail.\n    IPython.keyboard_manager.enable();\n    fig.parent_element.innerHTML =\n        '<img src=\"' + dataURL + '\" width=\"' + width + '\">';\n    fig.close_ws(fig, msg);\n};\n\nmpl.figure.prototype.close_ws = function (fig, msg) {\n    fig.send_message('closing', msg);\n    // fig.ws.close()\n};\n\nmpl.figure.prototype.push_to_output = function (_remove_interactive) {\n    // Turn the data on the canvas into data in the output cell.\n    var width = this.canvas.width / this.ratio;\n    var dataURL = this.canvas.toDataURL();\n    this.cell_info[1]['text/html'] =\n        '<img src=\"' + dataURL + '\" width=\"' + width + '\">';\n};\n\nmpl.figure.prototype.updated_canvas_event = function () {\n    // Tell IPython that the notebook contents must change.\n    IPython.notebook.set_dirty(true);\n    this.send_message('ack', {});\n    var fig = this;\n    // Wait a second, then push the new image to the DOM so\n    // that it is saved nicely (might be nice to debounce this).\n    setTimeout(function () {\n        fig.push_to_output();\n    }, 1000);\n};\n\nmpl.figure.prototype._init_toolbar = function () {\n    var fig = this;\n\n    var toolbar = document.createElement('div');\n    toolbar.classList = 'btn-toolbar';\n    this.root.appendChild(toolbar);\n\n    function on_click_closure(name) {\n        return function (_event) {\n            return fig.toolbar_button_onclick(name);\n        };\n    }\n\n    function on_mouseover_closure(tooltip) {\n        return function (event) {\n            if (!event.currentTarget.disabled) {\n                return fig.toolbar_button_onmouseover(tooltip);\n            }\n        };\n    }\n\n    fig.buttons = {};\n    var buttonGroup = document.createElement('div');\n    buttonGroup.classList = 'btn-group';\n    var button;\n    for (var toolbar_ind in mpl.toolbar_items) {\n        var name = mpl.toolbar_items[toolbar_ind][0];\n        var tooltip = mpl.toolbar_items[toolbar_ind][1];\n        var image = mpl.toolbar_items[toolbar_ind][2];\n        var method_name = mpl.toolbar_items[toolbar_ind][3];\n\n        if (!name) {\n            /* Instead of a spacer, we start a new button group. */\n            if (buttonGroup.hasChildNodes()) {\n                toolbar.appendChild(buttonGroup);\n            }\n            buttonGroup = document.createElement('div');\n            buttonGroup.classList = 'btn-group';\n            continue;\n        }\n\n        button = fig.buttons[name] = document.createElement('button');\n        button.classList = 'btn btn-default';\n        button.href = '#';\n        button.title = name;\n        button.innerHTML = '<i class=\"fa ' + image + ' fa-lg\"></i>';\n        button.addEventListener('click', on_click_closure(method_name));\n        button.addEventListener('mouseover', on_mouseover_closure(tooltip));\n        buttonGroup.appendChild(button);\n    }\n\n    if (buttonGroup.hasChildNodes()) {\n        toolbar.appendChild(buttonGroup);\n    }\n\n    // Add the status bar.\n    var status_bar = document.createElement('span');\n    status_bar.classList = 'mpl-message pull-right';\n    toolbar.appendChild(status_bar);\n    this.message = status_bar;\n\n    // Add the close button to the window.\n    var buttongrp = document.createElement('div');\n    buttongrp.classList = 'btn-group inline pull-right';\n    button = document.createElement('button');\n    button.classList = 'btn btn-mini btn-primary';\n    button.href = '#';\n    button.title = 'Stop Interaction';\n    button.innerHTML = '<i class=\"fa fa-power-off icon-remove icon-large\"></i>';\n    button.addEventListener('click', function (_evt) {\n        fig.handle_close(fig, {});\n    });\n    button.addEventListener(\n        'mouseover',\n        on_mouseover_closure('Stop Interaction')\n    );\n    buttongrp.appendChild(button);\n    var titlebar = this.root.querySelector('.ui-dialog-titlebar');\n    titlebar.insertBefore(buttongrp, titlebar.firstChild);\n};\n\nmpl.figure.prototype._remove_fig_handler = function (event) {\n    var fig = event.data.fig;\n    if (event.target !== this) {\n        // Ignore bubbled events from children.\n        return;\n    }\n    fig.close_ws(fig, {});\n};\n\nmpl.figure.prototype._root_extra_style = function (el) {\n    el.style.boxSizing = 'content-box'; // override notebook setting of border-box.\n};\n\nmpl.figure.prototype._canvas_extra_style = function (el) {\n    // this is important to make the div 'focusable\n    el.setAttribute('tabindex', 0);\n    // reach out to IPython and tell the keyboard manager to turn it's self\n    // off when our div gets focus\n\n    // location in version 3\n    if (IPython.notebook.keyboard_manager) {\n        IPython.notebook.keyboard_manager.register_events(el);\n    } else {\n        // location in version 2\n        IPython.keyboard_manager.register_events(el);\n    }\n};\n\nmpl.figure.prototype._key_event_extra = function (event, _name) {\n    // Check for shift+enter\n    if (event.shiftKey && event.which === 13) {\n        this.canvas_div.blur();\n        // select the cell after this one\n        var index = IPython.notebook.find_cell_index(this.cell_info[0]);\n        IPython.notebook.select(index + 1);\n    }\n};\n\nmpl.figure.prototype.handle_save = function (fig, _msg) {\n    fig.ondownload(fig, null);\n};\n\nmpl.find_output_cell = function (html_output) {\n    // Return the cell and output element which can be found *uniquely* in the notebook.\n    // Note - this is a bit hacky, but it is done because the \"notebook_saving.Notebook\"\n    // IPython event is triggered only after the cells have been serialised, which for\n    // our purposes (turning an active figure into a static one), is too late.\n    var cells = IPython.notebook.get_cells();\n    var ncells = cells.length;\n    for (var i = 0; i < ncells; i++) {\n        var cell = cells[i];\n        if (cell.cell_type === 'code') {\n            for (var j = 0; j < cell.output_area.outputs.length; j++) {\n                var data = cell.output_area.outputs[j];\n                if (data.data) {\n                    // IPython >= 3 moved mimebundle to data attribute of output\n                    data = data.data;\n                }\n                if (data['text/html'] === html_output) {\n                    return [cell, data, j];\n                }\n            }\n        }\n    }\n};\n\n// Register the function which deals with the matplotlib target/channel.\n// The kernel may be null if the page has been refreshed.\nif (IPython.notebook.kernel !== null) {\n    IPython.notebook.kernel.comm_manager.register_target(\n        'matplotlib',\n        mpl.mpl_figure_comm\n    );\n}\n",
      "text/plain": [
       "<IPython.core.display.Javascript object>"
      ]
     },
     "metadata": {},
     "output_type": "display_data"
    },
    {
     "data": {
      "text/html": [
       "<img src=\"data:image/png;base64,iVBORw0KGgoAAAANSUhEUgAAAtAAAALQCAYAAAC5V0ecAAAAAXNSR0IArs4c6QAAIABJREFUeF7sXQV0G0cTnthxHIcdZmZmZmZmZmZo2j9t0rRpm6RhbJg5DTMzMzMzMzv537fqyqvzSTrJsiPbM+/1NdYtfru3++3szFy4b9++fSMWRoARYAQYAUaAEWAEGAFGgBGwi0A4CBNouzhxAkaAEWAEGAFGgBFgBBgBRkAgwASaJwIjwAgwAowAI8AIMAKMACPgAAJMoB0Ai5MyAowAI8AIMAKMACPACDACTKB5DjACjAAjwAiEGQSaTT9EpTPEpSYFkge6zyM3X6Jz91/RlKa5A10WF8AIMAIhCwEm0CFrvLi1jAAjwAgwAm6CABNoNxkIbgYj8B0QYAL9HUDnKhkBRiB0I3CzSVN6f+IEkZcXhSOi8AkTUJzOnSla+fLmjn++e5eulC5D0SqUp0QjRlgAIvOH8/Ii8vAgrwTxKXKhwhSrbRsKHzNm6AYvCHuHgFNfvxF5emBUAi9MoAOPIZfACIRUBJhAh9SR43YzAoyA2yIAAhy1dCmK2awZgbS92bmT7nTpSqk3rCevRIlEux+PGUvP582jr+/fU5pdO8kzRgxzf7T5P125Qo8nTKD3J05SiiWLKXzs2G7bd3drWKHB26hB3iS0+dxDuvDgNUWK4EmdS6ahVoVT0P6rT6ntnCPUq0xaGr/jKiGga8N8SalH6TTwsKclR27T9L03qES6ODT/0C2K5OVJHYqnMpt/aAn0kzcf6fc150S5kEpZE9CPFdKTd3hPd4OF28MIMAKBRIAJdCAB5OyMACPACGgRUAmwfHapYCFKOHQoRSlciL59/UpXSpemWC1b0dPp0yhW8xYUs2kTXQItf/z25Qtdr1GTohQrSnF792bQDSIAAu0d3oOmNMtNyWJGorqT9lOlrAnNBLrR1ANUM2di+r1aZrr74j01mXaQepVNR7VzJRYE+sdlp6l9sZTUrVRaOn33JcGGelqz3JQvZSxSCTQOSjUm7KPcyXxF/g+f/ajDvKOUJ3lM8TcLI8AIhC4EmECHrvHk3jACjIAbIGChQf76ld5s3073fuhLqTZvEiYYb3bvoTsdO1LqXTvp2cxZQkOdcsVymwQaDx+NGkVv9+2nFIsXuUEvQ0YTQKBbFk4hCDOk3qT9VDZTfDOBbjDlAB35uTTFjuItnk/ccZX2XHlM81rnFwT6t9Xn6Fj/MuTl6SGe91t+mr74faMhtbNaEOiTt19QsxmH6NjPZcjjPxOR3ZcfU7/lZ2jXDyVCBljcSkaAETCMABNow1BxQkaAEWAEjCEgbJhPnaJwESLQt48f6ZufH8Xr29esZb7TvQeR3xdKPHYsfbx2na5VrEjJly4ln8yZRAV6Gmz8/nzBAno6cyal3rjRWEM4FYFA/1I5A5XPnECXQDefcYguDqpgRmrVyXs0essl2tqruCDQ/+y8Kv4tZcKOK3Tw2jOa1TKvBYFee+o+dVlwjCJ7h/dH/RuR37dvdO43f9t3HhJGgBEIHQgwgQ4d48i9YAQYATdCQGvD/PHSJbrVujUlGPgb+eTITleKFqNEo0ZS1FKlRKuv16tHETNmpAQDBtgk0KyBdnyQQaD7V8lI5TLF1yXQWg00CDM0x9Y00D+vOE2fvwTUQB+79ZzazTlKh/uVdryRnIMRYARCHAJMoEPckHGDGQFGwN0R0NMg3+nWncLHikURkiWlh38NJk9E0/AwmQV8ffuWEHEDzoQeESPqaqDZBtq5UbdHoGEDDXvn3/6zgW467RB1K52G6uZOYraB7lQ8lXA8PHvvJeH5pKa5qGCq2BYaaL+v36jmxH1UJHVsal88FUWO4El3nr+nq4/fUPF0cZ1rPOdiBBgBt0WACbTbDg03jBFgBEIqAloC/fHKFbrZvIUIZYfIG5EK5KfYbdqYu/f14ye6Xr06xR/Qn6JXqWJBoOGc9unaNXoyYSK9O3aMo3A4OCnsEWjLKBzfqEFeROFIK+yYtVE4fLw8qX2xVNSsoOkjLHpROAavv0B7Lj+hNx+/UMIYEalx/mTU1AUfbXGw25ycEWAEghgBJtBBDDAXzwgwAmEPATUONHofPkYMilatKkUtUYJuNGhIqTdtNIezk+g8+PNP+njxEiWbNVMQaMSRlnGgw8eLR1GKFKFYbVoLLTaLaxCQYexO/1pOt0BJoNd3K+KaCrkURoARCDUIMIEONUPJHWEEGAFGgBFwBAEm0I6gxWkZAUZARYAJNM8HRoARYAQYgTCJABPoMDns3GlGwCUIMIF2CYxcCCPACDACwYfAk38m0ZPJkwNUGM7Tk9IdPhR8DeGaGAFGgBEIowgwgQ6jA8/dZgQYAUaAEWAEGAFGgBFwDgEm0M7hxrkYAUaAEWAEGAFGgBFgBMIoAkygw+jAc7cZAUaAEWAEGAFGgBFgBJxDgAm0c7hxLkaAEWAEGAFGgBFgBBiBMIoAE+gwOvDcbUaAEWAEGAFGgBFgBEIaAqtXrw7WJlepUkW3PibQwToMXBkjwAgwAowAI8AIMAKMgLMIMIF2FrlQlG9J7h/Nval7dEgo6hl3hRFgBBgBRoARYAQYAecR+Pbtm25mSaA3DO9KHuEjOF+BjZxluw0zP2UNdJBAHLhCVQJd58jgwBXGuRkBRsCtEPj6/j29WLGSPKNEIfLyCpq2ff5Mfm/eUIzq1cjDxydo6ghDpb7/5EdLj92mqN5e5OUZTrfnn/2+0euPn6l2ziTkE8EzDKHDXWUEgg+BcOHCkT0CvWl0b4oSO36QNKpgo95MoIMEWRcVygTaRUByMYyAGyJgJtC+vuQRIWi0JF8/fSK/58+ZQLto/CWBjhkpAnmH1yfHH7/40bN3n5hAuwhzLoYR0EOACTTPC5sIMIHmCcIIhF4EmECHvLFlAh3yxoxbHDoRcJRA50mb2CVAHL50R5TDGmiXwBl0hTCBDjpsuWRG4HsjwAT6e4+A4/UzgXYcM87BCAQFAkyggwLVUFQmE+hQNJjcFUZAgwAT6JA3JZhAh7wx4xaHTgSYQIfOcXVZr5hAuwxKLogRcDsEmEC73ZDYbRATaLsQcQJGIFgQYAIdLDCH3EqYQIfcseOWMwL2EGACbQ8h93vOBNr9xoRbFDYRYAIdNsfdcK+ZQBuGihMyAiEOASbQIW7IiAl0yBszbnHoRMAIgd468WeKFsfkPJgvY3KXAHHw3A1RTp7a7c3lcRxol0Dr2kKYQLsWTy6NEXAnBJhAu9NoGGsLE2hjOHEqRiCoETBCoG/fuE7ekSKLppQuXdolTdqyZYsoJ27cuEygXYJoEBXCBDqIgOViGQE3QIAJtBsMgoNNYALtIGCcnBEIIgSMEOi7d++S138fqWICHUQD4a7FMoF215HhdjECgUeACXTgMQzuEphABzfiXB8joI8AE2ieGTYRYALNE4QRCL0IMIEOeWPLBDrkjRm3OHQiwAQ6dI6ry3rFBNplUHJBjIDbIcAE2u2GxG6DmEDbhYgTMALBggAT6GCBOeRWwgQ65I4dt5wRsIcAE2h7CLnfcybQ7jcm3KKwiYARAn3r+lXy9DDhU7J4MZcAtW3HTlFOomSpzOVxFA6XQOvaQphAuxZPLo0RcCcEmEC702gYawsTaGM4cSpGIKgRMEKgt47/iXxixBJNyZPWFM4usHL40h1RRMFGvZlABxbMoMzPBDoo0eWyGYHviwAT6O+LvzO1M4F2BjXOwwi4HgEjBHrT6N4UJXZ8JtCuh9/9S2QC7f5jxC1kBJxFgAm0s8h9v3xMoL8f9lwzI6AiwASa54NNBJhA8wRhBEIvAkygQ97YMoEOeWPGLQ6dCBgh0PwlwtA59oZ6xQTaEEyciBEIkQgwgQ55w8YEOuSNGbc4dCJghEDzlwhD59gb6hUTaEMwcSJGIEQiwAQ65A0bE+iQN2bc4tCJgBECzV8iDJ1jb6hXTKANwcSJGIEQiQAT6JA3bEygQ96YcYtDJwJGCDSHsQudY2+oV0ygDcHEiRiBEIkAE+iQN2xMoEPemHGLQycCRgg0h7ELnWNvqFdMoA3BxIkYgRCJgCsI9KeP7yiCdySr/f/66RP5PX9OMapXIw8fnxCJkzs1mgm0O40GtyUsI2CEQKth7FyNFceBdjWiLi6PCbSLAeXiGAE3QsAVBHrS4DrUus988vT00u0ZE2jXDjgTaNfiyaUxAs4iwATaWeTCSD4m0GFkoLmbYRIBVxHo0tV7Uqr0BZhAB8MsYgIdDCBzFYyAAQSMEOg1f7WjCJGiGijN8SRluw0zZ+JPeTuOX5DnYAId5BBzBYzAd0PAVQQaHWj34xIm0MEwkkyggwFkroIRMICAEQK9vH8jAyU5l6TGb/OYQDsHXfDkYgIdPDhzLYzA90DAlQS6Yt1+lCRl9gDdYBMO144sE2jX4hlaSvP78pm+fvlMXhGt+yOElr66Sz+YQLvLSLhpO5hAu+nAcLMcQmDjiG6Ur0FPipEgmUP5QkPib9++0fO7Vylm4tQBye379/RixUry9PUljwgRHO7um1dPaN6EDuZ8elpoowT6xOrp9OrRXSra6heb7fjw5iVFjBLd4baGlgxMoEPLSLq2H+v/7kxnNy+k3pueuLZgLs0qArYItMw0rGzsIEPQyFiHg3zDLsAS7AgEFYHGJujpFYG8vIPXK/+rnx9tGtWTyvcaHexYosKPb1+Rh2f4MKMl+PLpA4WPENGM9Ve/LzSxfmbqtORCkOOPui7vXUvpilYjLGLle4+lzGUbBHm97148Ie/I0cT8dgd5/+oZja+dVndjDawGesbIZoQoHFJAoOFUqBJpWwR67V/tqEz3EfTl43uaUDe9KEa7KRxeMo7SFq1G0eMlEc8xlp2XXXULEv3o6hl68/QBpcxbOtiGmgl0sEH93Sp6+/wR3TiynTKVqWe4DZKo6ZEq0Cdop28c2UbRE6ag2MnSGS6XE1pHgAk0zw6bCAQVgZ7XtRzFSpY+2Insu5dPaUKddN/tlG5rkXN2KmJxxIss5dvXr/Tt21f68ukjRfCJ7GyxhvKhrnAeHlbTor9tZh+j6PGTijTXj2yjf/9XN1jw//D6BY2rlZripMxEj6+dpczlGunONy1+hjr+X6IHl45T3FRZycPTk3CF+vnDO1rQoxJlr9KCclRtZbWoWyd2U/T4ycy4OFKno2nfPntIE+tnssD82Z0rdPvEHspSqh49XrKYPnoR+cYzjZEjArKsiiTQTbpMIW/vyOQZ3otUAn3nwmFa3LemuS2YHyXaD6Lt//xsLqbXxsdio0+Rp5T4bUSF+FSiw5+Uo2pLurBzBa35ozXlrdeNkuUoSslyFhNpjI4h6jOitTGKwZ6Zf9Hdswep3t8rjGYJdLq1w7rSs8I9KWakCOQd3lOU9/n1E/r25RNF8E0o/v74xY+evftEtXMmIZ8IpjQsziPw+sl9wg1JkRb9nC/EgZxYJ1cMaEI91t61mev4qul0cdcKqj9sFR1dPom2T+ynO7/HVE9Bn969FmVlq9ycynT1dz47vXE+XiDKUj7obHW1ndg+6ReKkyJjoBQafp8/fXclBRNoByZ1WEzqLIGWFwYqsVPxw0YWN1UWajpxu0thBWn8+PYlRfaNK8rFoqF6wEoC23XFdYvft4zrS8lyFKPUBStYkFGXNu4/7RnK7LL8OnlHtu6ZC9IDLQQwsiWX96ylUxvmUK1BC+nhlVMUL3VWoaEr1PRHOr/9X2o5bb+ru2Au7/ndazStRV4q33scHV4yllpM2RugLrQFmthqA2YLQjS8XByRxpUkxhp52jF5AB1ZOt7cpnI9RlGWCo0t2vjp/Rua1CgbdVl2NUDbjy2fTMdXT6NW0w8GeAbNuqeXt+hP+hI1qfJPk2n3jD/o4IKRIm3SHEWpVKchdP/CkQCbBNqLfCnylKZafyy0Oz72Din2Cnj54BZNaZrTjLusHz+U7fI3vTt2nE6e2UwNO0wQaW5cOkzJ0+axWuz6JX9ShTr/E8+1BDpGzIT04tk98Sx34bqUq3AdCwK9cnAburp/gwWB1lbUdeVNGlMtWYA08dPlIByKXty7LrIUbtGP8jfoIf49vHw8SpmvDNUYOFf8fXzVNN0DDOZjrw2PxKHv6LJ/6OrBTVSt/0wCQYoUIzZFih7LHpwWz3dPH0QHF45yej4v7FWFynQbTrGSpjVcL/rg22YGxU+Xy0yg7/z7J72/d4nSdJkpynElgQZOuWq2N9w+d0z46f1bC2XC5jF9qEzXv81NtXcAW/NnG7qwYzm1nXuCosVNrNtFuf66ov8mAt1YrKmYyzhkagVr15hqycXPXZZfo1Pr59DOyQMCzEUc6kdX9T8cx0ySxmJfcFSps3Zwe3FzXLaHaa2zJfO7V6AGI9cF2FMX/1CDEmbIQ4VbmNYRI7Jr2u+UPHcJSpqtMGFNHF4+ru579/j6ebp5dDvlrt3RSLE200xvmZ9aTj8g0lzZt45S5S9voTBiAh1oiEN3Ac4S6JGVElG8NFmp4aj1AQDCJjirfTF6/fiu4Y0HC9zja2fsEsoVvzYVEx0EDVo2vADdVt0ym0zIxaLpxB20dnA7sUBBs3B6wzxKX7wGYUPsuf5BgDa/eXqfosRKIH4/s2khZS5b36mBl/XX/nOJWAwgeOGxKKuEWu2HrYpOrZstTFLQX7GxJkpJILbQMpxcM9Mwvs50BpqLjcO7mrNCc4gFBe3IVrkFler0l9Ae6kntv5ZS8lzFrVb79vljWtavHjWZsM1m0zAvprfKT2kKVTbbzsJ0Y8mPten2yT0B8mqJu9Roqr+jTCzQIyrEE/nlM/z+/uVTunfuEGF8UhesKOYaJFPZBnR20wLdtmrrvHPmAC3sWZkylq5HFX/wJ/h6mT++fU1ja6QQcxJtctQsBFpxEM4ZrQua+4K5/E8D/4NZ7tzV6Nz5XVS10UDavnYcPbx7iSrU+YmSpjKRblUundlJ29eMM5togEDDJAmY6wk00qoGekQ1kxlGyU6DKVPpujS2RsoA2drMOU5TmuQgeci1ZkNYqNlPVKBRL6F9lgez+iPWEEgpNGpa3IHD1OZ5qMn4rRQvTTYxT1WR5WkbhIPsxHoZqfnkPRQ7ucnMRAo0aUf/nej0e4Y2VPppEmUoUctcJsYMmntrIt7zVlMpfoa8gkBjXlwaXofe371A2UedFdkcIdCwj3968yLdOXOQ0hapIuoGPlJcrbW32jHNA3mD5IrDtlAqNPtJOXDFpZ7rH9K3r37k9+UTjauVRhyU5U2ZbAr2EPgOzOlUih5ePml+h+RzHKQx/0AoJU4g2iCtWo0uzH0wl5JkLUijKie2OWf+7Vefrh/eQgnS5xL1avek89uWkt+XL7RhWGfRlFYzDgmCv3fWXxbl/vtzfbp+aIsFsinzlaWav8+3GF/8UarzEJu3ZkgjiSv+bWRcgAkOxNqb0Fnti9PLBzeo64obdqcDyuiw6Jx4B1PkLS2URTeP7aQlP9bSbcO5LYtp17TfqNmkXQTMcVPliGDeQemGW0V54MaNLvayOkOWWZTHBNoRZMNgWmcJtLVT7e1Te2lR72pmJI28hEh8cddKWj2oFUmSZmtzkS+3bEOBxn2oUNO+wv5YbtjpilWjiztXikUURClGwhSUpUIT2j3tN/GySg22dhP5/PE9ja6ShFrNOEi+iVIFaMY/DTJTkmyFqdKP/wR4tnxAY6F9gxRo3FtoiSET62ek4m1/owwla4u/p7cqQM9uXzYv1u9fPSefaL4BypMbDB6AkC79yZRfCsg0FlYjgoXd7/NnihY3kZHkIs3ZzYto/d+dzOnbLzhNC3pWoZf3TYti15U3zBoSvUKlJlDv2cFFY8RY2JsfKgmSabUEUS0fB7qEGf21q3rz9MSaGYJ8Y35AMOdA0KBx2TTSpPF0RLR9uHVyDy3uU908vrbKku0r0qq/wENv/sMGN0os/YMKDhIPL58QmlsI2rJuaEfCJmNLsheoQfmKNQyQZPPy4XTt4gFBoOdP7ESvXz4SaVr2nEPTRzQJkL5V73nk8ZXElwjPvL5Ah5aOM6cBid423vQOqALN0ZGlEwiHXJNJTEXdpuaq0Y5KdPgjABGWict2H0FZKzYVfT++cipFiBxVXHFLUx4tgS7YtC8VbNwnQF0yHcxGtA6OG0d2p9Pr51Kdwf9Swkx56dCiMfTmyT3KXrWVuA1SZfUfrYUmN2GG3OafZdkgSJ/evaEt436gO6f3iyv2VPnLiXRYc6SviDy0+raeRvHT5xEE+kT3TObyHCHQK39rTtmrtKQlfWtatDNrhSYW2kVBIv47HNub97BXz1PHROqMCIhOwSY/WPhJoL6MpesKsyv8Z28NsFePNGFCulQFygttP8ap4+ILQnly7/xRunFkq7hRwoEsf8OeFuMDe/sNw7qYD8tqe9BWmGLhJhV7C54t6lONPL0iUu0/F9Hlvevoq99n4YexZ8afdO/CEXr77BE9vXmBirf7XRyIYeqFNmLN+/DqGRVt3d/igIvGNJ+yV9gt433wCO9FIysmoOS5S4l2Q3CAv3f2oFCeVOw7kXwTp6IE6XJafTeSZi9CdYcup31zhor/IOG9IxHWcFsOutiXsD9BcIuKtQVlaeXk2lniNhekt+OSi/Tk+jlzOlXxkiRbIao7dAXhIKL1h8JcwvurHrKT5SxOdQYvpSP/TqQdk34R2u1EmfJaVK99rx2dP5Ob5KCUecuQl09kOrx4LFXoM54SZykgbvFkfTjApClchby8I4oDlC2xpgCwN2+NPDfStxDvRIgBKdH+D0pTSH8jMAKUXhp43XpHiU4lO/whHt87f4Q2DO8qNLtFmvejnDXaOlu0OZ81Ao2T+dzOZYSWaM1fbSlfvW7C1lQKJk3UuImp3dwT4qcpTXNRw9HrCTERH1w8bk4nNzm9huLq+d3zxxQ7RQaLKyhMaGvOFSohkv/GhgBHpQPzR4gTuirQ/sCRCeITLSbB4arZpN0UJ0WGAC8lCN+OKQOExgmiN3m1hAzaHUm01RcpnIcn9drwUNgpT6yXgUp3/VtooVTyh0Ww6i8zaFa7ooRDQO5aHQQZgJYExOjmsR12xxcnZmyQ9l40bbuhAY7sazK3sCYgYSBjUiTxkX9DW6DVfqhlpStWnar0m2oxZ9DOgwtG0e4ZpitL/A1bwCv71wfoA65lcdUvBWlf3L9Ji3pVoddPTGYEWgF5Bok+uHA05avfzbzBSHweXDoh3iEs+FIylqpD57bqxzi2NwBYeOsPXx1gLuEHbLxtZh8Vz+Z2KUuNx24SZjeqNlK7+DYavZESZMhlLs+WJgaJ9DYTvK8Xti+z2fQCJZtR1ryVRZozRzdQdN/4IkTdqcNraf/WmVSkXBvavXGKuQxp+6xXaMlKXcjr81c6eHotvfjvcGUPN6PPi7YeQLumDrSaHOMKM6eVvzWzSINrWdxOqVKkxc+Ur0F38094B2DWIbXbuWt3ouJtB4p3NnwEb5FOb3PExlup70RxQ6ESDqTXmq3J/DhsTm4ME5Xnolx1jUMauXHL9L4tp1D8jPksCLRX9LiUaaDJJE5qoNM/2EZxk6XW1cINgzmVlc1fvg/bJvajY8snUdX+MyltYdN8sCVoHw4DDy+dFAoL3LLB1CCCTxTdbEgPIgucIZtH9yKQL1W05B2kO33xmrRl7A/UcNQ6i/HQq0QdI+CfIH1OUQeIH8wIDiwYYZENfcfYQ2sK04cav8+n5b/4Hya1BFrbVsyXCJGiULR4Sc3rSI9192nvrMF0aFFA53WUd+/cYYK5gy3B/rPq9xYUK2k60ebYyTPQkxvndbPYO1wik7y11BZgba/AeF47uIlgwgGBWR7ag31MK8AcMYqx3+eq1cF8S6NqsGWeWn8uFn4xUGZB6yvFFvGEkkreMKK9T25epFhJ0tDnj+8CKG3UG8Qr+9Zb8LCVA5tRkVa/0MNLJ8wKrLE1U9HHNy/N7cDB4oviKC3XnA4LzwrFBRNoe6tCIJ8HF4GGc06SLAWFdhMCR6X984bRw8unxNU67KQcFZVA5/6nLEWNnVBcY+6Y3F9oiVAmTojqNSQ0KLhGjZMyszjlQnuKlwHX+ifXzAjQBFy1gCRqX9z984aLayxcL+LllYKNqfqvsy3KQeQD2KnBDk2d/Hr9BXnF1R0kTeHKdHnPGotk5XqNodjJ0tO+uUMFwTuzYT5tm/g/Yf8GzQW0FnIB0ls48BsWUFxPod/ol3bhKNnxL3HFJ23ToLGGBhr2htKhCpEcMpWpT8dWTBbarJhJ0xJOvtBc4PTtiOCkX+9vk0ZVFbz80GpIIirHAO0Gac9btwsdXjpeaF/qDF5Gj6+epr1zhlKDEWuEFvP0xnl0+2RA22ejbZP1yet1bJY4bL16eMuMsZ6WGA+1C2ypzkMJTn1aU4oEGXLT/fNHzE3Kgz4tHmte2PGg3rBV4moVZcoF32gftOkKN/8f7Z09mCLHjEdvntwPMK9RR84a7QQxgcYHjmhn4Mjzn6i20do+guTlqdtZmE1Ih1hka7/gjK4WWptfatPt9S1jznJUpGxrOrB9jjDpSJwiG+UqVJuunt9HW1YGtH0Egb574zStWfibvaJtPseh6uJO2w558vbISEXWSALeNbxLqkCbjevyij+YbMG12OFdhFkSHLJAwHG1b2uTh1ZydgeTmZYqcs7fPXvIrF3vtPSSiJQiBTbabeecoHPbloqbB0j3NXdpVGX/G6IMw06ZCbR33BT08dF1CxOOW6tH09ud00ReHG6xN0SLn1Q4b+GWZcuYgNp2WT+0hrAHV/sHrThMw6BhxcEeCgdVZNrSXYYS+gZ8Jf4g1ZizqkjTG9XJeEK9jPTuuelWQ0qLqfspYpRotOiHGuLwO65mKjM5U8cX7zC0kQt7VaXUBcvTrqm/CbObmW0LW5QHLTRuAmHK4JswhXC+UwXvJEycslVqJog2bO9VpU+PtffMplT2tIsq+cIBTPXJkHVam6PW5re1ctT0UWInEGM0v1v5AMVgL8CajQP8ywfjgyN+AAAgAElEQVQ3AzwH3rGSphG/w0QQN7PgDzBzwa0IQuXpzWe9uaD+hvFZ1LtqgPqgMV83pIPwX8DYzOlYkvz8vlgoMaxhgd9bzzwsTLPARWBqI30kZB7Yj+PmR5o7gm/gHYCo4wfNf966XW2+02o7oPWv2GccE2hbg+OKZ8FFoKc0yy1MAaSm+/6FY8IO+OvnT4LwBpZA34xp0hZC67xpdK8AWiwsBNJmU+Im7arsLTRIj8395NqZ5B0pqiCT0BhDIwcCrQo0241GbxAEBS/2pMbZ6fWjOyKJtP21NW4Ro/qaNT3W0kELiLphAgFHOQhexI/vXtO+2UPE391W3w5w7aT2E1fQszsUF5vI3C5lLBZh5G8wcq2I2ACpPnAOpS5QgS7tWUOrfmtubhac0W4d30VYEKPHSyo8/mVUCUfnpp7JBMrGp0bfvXgsikNboWGTGzW0NDiIQdQFEBozaDEfXz8nrsedEZAEaYcobaWhqcH1pBQ4QcorQ6SFvSKu+qTtspF6oeHCNTjsaq0JFnHc5qiaJqSFmc2pDXPN80vmt2XzDCIGDRBkXrfyQluJ676c1VqbzYhaTN1ntkvWa5N6kNE+l1poda41HreZ4qe17J9qG4yDL8x0VFtlkCREpNGTMtV7UYKkGWj2mNYUM04SSp4mL+UpWp8undlF29eMpRTp8tH1i/7OlTJs3ZOH1+nEgZV09bz1QxWcTqXtplo35ueDyydoXpeyFk2C7Wrc1FnMY4PDAkylVMHhdnLjgB9xETbRPQNqTjGut0/vE++WVlRbfu2zxFkL0p1T+8TP7eafpkkNbTv5Gh1bmDHAcUw96CEvDtnwz5BzEQczKan7bSQv8qPLY5vSl1em2L8w4fD7+I4+e0SgC3387ZhlHhzuYKJgbz2GSRiIOxQSqkiyp3dg0ytTKkeKtfnVwrRjdscSVKbLMJrXzWSmgvUezpTqjZKst+agBeThEZ6W/q8OFWn5C+2e/jsVaztQOMzBjAA+AlpJlCmfWCtxG/D5/VvdOY4fcTsJ5zvLuXSSJje2xA7vO8wrrh7YaDKX+18dylq+MV07vEUckq0JbhGf3zE5KOes3lYoQyDqPIJ2X13zrRb23wN5ALCXztnn0RMkp1bTDxAUTdCmg6CeWDNTl/yjDvm+HFgwUjiKS0d2o/VDk71yYFORXM4Xo3nVdNbedaTBvIWvEEg0zIOsHZKh+IIplZ7ET5eTHlw8ZvGoz+anTKCdGSxH8kgCjegQR5dNEqfjE6umUzjP8ML8AtcA8AqG6UXaIlWpXI+RZk9PxILElRWuPmMkTE7FWv9qDt2kmnCIk/uLxxTey1tM/CYTtpo/nACby5W/NnUZgbbWd3myVZ9DW4pNQOsshKttaKpVgRYW10NYTPFve4s88lo71doan3I9RxM+rGFLQDhgBiBPt0gLDefWcT9YZIMmGSfekh3/FL/rtVl98UDIoYmRURHUwhqO3qCrMXBkrtlKqzpTynSYX9gMpOBQABOVPTNN/bEmuGLGglR/xGpBeOKlzS6uwbQCsic3SfkMRAke1BCtJhBars1jTDcoEGyquNaVAm0yDk9G5gbyqIcGW3msHUpA9qBJk+Yyct6qGzc0J7Bvl9EjYqfISM0nmYiZts5IvnGFhg1anhmtTbaEeqKnAZTpYLcKQqJ61msJtLZemJEI57r/xBZJlGmwlnz5/PG/P8NRux8X07njm2n3RhMJUEWN+7x19Ri6ctZ06LLWN0ncYeOITQ2CTQ4OdDhAqVe0ODhBVKdO6Ysgy0deHFa0BFRbPw6qMAmCwJH36a2LFiH08Duu+R9dPW21/YF9gDkJke8A/g2H0uuHt9L7l4H7CEbiOv3pzhLrtwD5G/SknDXbiUOF9LPQ64/2PTTPm//eXRDxV4/uiHkIcpU0e+EABx9tubZMH5zFVCWlzpaBfCpx0lvnkSZR5vx098wBMW+wZmqv9tX6ZXnhvX1EjHNI/ka96MC84eLfjcdtobmdAx87HLcA2So1D2CG4ggWuNXKUb21hekDlDkULpy4eYTyRj0kqIcC1INwtNjj5a2ooxr1Kj9PE/5NENy+4dZZFTj9gh/BxM3ouq/Xf3lYgqKk/fzTgiepNzraPLiJeP/ymQh4AMGhWz3A4jcm0I7MNCfTqgQaTkiwoclZvY24tkWoLcQyhS0wNH+4voA9LOzNQMxmti1CFX/8h1IXKC8cEuC0hWspfFFNawNtTdPtCIH+9ddfaeBAf5vCxbn6mnstNdCOwgCPVhmDEnmhfUMMR2hnHRG8mBPqZjBrS43khRfz/QsmO1MINmyQMmB3bssiu0WoL7dMDMcPtF+VHNVMDkJTm/k7COkVDoIKjYj8aISaBpso2iTJkFws4PR0ZqNJC+UVMTJ9/uCvUdE7DIBgSTMTtXyYq5TvNVZsFjK8YGAWJJSNxQ3XZnAcgtOHVuRiqh4ibC2wCE22Z4bJpt+aYHGHTTQEGz2uGCW5UvNow9Y509fK/5siTIOkJkuPBOC3i7tWUbqiVcUCr0bXgKYUTn5aUTXQklSraXC9jPBq83tUpAzFa4obJCkgQVq7TXwkBps7Nn8cuGEeogqimeAgIq+iZT9OrJxGW8b7v+NqnvDhI9CXL/7zHCT5xuUjtPFf0w2MlEiRYxDiPkt5/OAaLZvZl2o2H0Kr5vVXSLgpBeqG7SE+coPbAZiZ4RZD1bqrBy/5u4yqo6edx283j+8yO8RJDaQWd5gSyNuOmoMWCo0ZzMNgFmBNYiVLF+AWTE2rHghtTtz/HuJQDnKirhXQitlz7JRl56rbjY4udu5DUPL6HyE7bx7fqdtc+AnAJleK9vBlpI96aRwh0HDqxv4nowo5W6fMB3tkaRaG36LFS0KvHt4Wj0EQQUThsGhLYJKISFDS10M1BXS0fVpzHOTHXgPbaz3HWmvlA1P11jJNoUrivVIFYeuw3mBM9Rxybd126dULh0YooGCWqNXIIr095QDSRIoRR5idYd2GwiF+2uwWZmxqveptB9ZXvLfLfq4vbO2tRXmS+aHokY7uKheAeaRqFqrXT+zV+AiY9IHA7Sj2OtU/hgm0ozPfifQqgcb1U4eFJgclGZ+x1h+LzB8NWDWoFcVMlErER4QJA0ILwZtXCpzHoOlF/NOgINDa7qk20M4SaG2Z8oWVDlBGIXX0RW/2z07C4gH7KGj3IdJRQc+ZwWg7nL1mwiIGD3BtXE5tvTBbQLsl4VO1FSBCOGTBGxmmAnAoxBUvFrIE6XNTokx5KE6KTGKDBklH2DWt+ESPJX7Xuwo3ioFMB7IPZ1Kt6YV8jjFb+r+6wiMbNpdwyIO5xIiKCcSXsQIrtuYEcMPCLAWbExw2jUrEqDEoT92u4ipbmttoSYDWCRbOiQhHiEMMxBpp1y7+8loW2iDpQAky/OLeNWE6ZK0cozbNsNmF/b60tZb9OLV6Bm0a24cSJ8tK3pGiCBtnawICfefGadq5bjy9eeU/r5p2nUo+kSw/rQ0bRk+Et/vqR1OG+od8VMNA3T61T9isgvDDn0K26dLu1cLWcmQl00dBVMyhcIAjnxZbmQZmK3jXd0zqT5d2rxLpEO0DXvVR4yQUIdoklmooSan51vYdeRF3Fn4fMp+qEIAtO24RsZ5c3L1KaBthIyr9AnBYLdZmoMUtCkzPELVD2uZKG1DUbesKWbatRNeRtH2M49Fg1L4lzJhXhGOEwE8FzrPPbl+hcj1HCaUNokSo77Azh08tljCzAf64PZCHB7Xvanp5w6NVGCANfEGe3bpk9DUW6bSHHNzGqTc4OPSmK1JF3CQFRqTdtLUyQBZBwLTtwaEF44DQo/CB0X5cSJYHcybVER7zXsbjl+8KfCoOzDdpusX87/iXUNjBAR029VqCrq6hRrTHSANHa5jwIXqGEZGmeDDBgbJFOgvKeYVY+nqOzdhX1JCOMP1pOmG7cBaHEtHevER8fjhNWxN50yVvnNV02ls6vb2GCbSR0Q9kGq0JR7N//KMnYALA2UR+MEMlxfIqW/1qkLjODuchgsAHN4F+mGwpdVh03myj6hM9tkNXjlLrpm6IIFf46pg9xyDVcXBay3xmuzK9oZF2g7Kelw9vC/tX1VkF+eTLp8ax1V5X6ZVvb5EB8ZJhw9T80oRCtU2VGk41Xdu5J0U4Odk+tT78G4csafpja2rCUQiaJkTTgOOTVqxtXjKdqomyptGDnTccHyv0GScOBq8e3aU9M/8wO2aqYz2jTWFqPnm3Ie231qRC13EyXDjqvdFku61dSBuN2SS87bUCUyiE34MpBuzu8tXvIUIYrh5kIrxSoL2+eWKXSAfi33rWUWFqJaMvIB36it9Uz3FtfdYWeOACZyxJtPRilaMsvGP47DnCXB1fOU03YoC9TQTlILZylJjxApDSM2vn0O4pA6lem9H07sNLOnlwNZ0/sVl3WoFAnz+5ld6/fUGHd/k7EqnmG3oZt60aQ+lS5qM1a4bpRoM5tHisiKShzhV1TLW/yzrU90ibBrHV4VCKOOXYsGFqIEVGllAJtN4cwm9quYj/Dttt9YpfhsjU9ltGk4BZD2z2Ya6B8GPy0IiQedKXolr/WeYoIUaUBMU6DqWdEyxNyXQHzMsbMfB0H2G/wW2P3ifI5RftZEa0aVSVJGZTBFtrDhyx4LyH9xUKEu11vDavtbUUBHNy05xUvteYAGH2HHHylesW6rl//ii9efZQHHCTZC1ET25eEM7raj/VdwnO5Jg/Mnylao9uDQMcjLf/8wsdX+l/I6OmldFfZL/lzVbizPkJNrzYq17cvSZupfXea3WuqPMT0aPgq9P53yuiOuw/Xz69F6H5tM6e2yb8T9hiR42TSJhF4EAHeXrrklDwqPWqkT6kU6y9/U/2F7bU/iFNLT+OJNPIuuArtXVcwJswa+++zA/nQ0RIko7h2nGR5nW25iyedV9zR8TmhtQdskyEpIT2WW8d+urnJ6JyYE9lAm0PWRc8d5ZA62mgl/5URzggfA8NdLIfEomoDHLSW9M6yusy6QAHCKv8PN18xa2+FNDYQSuP0x4+iCEdLrSw69l44sUHsZAitbNoF67ncP0nRQ09JX/DIoM4rthMYH8IjQzapnWEhNkHrr6lXSTSIORQ7lodRRgfrchFB6dumDVIJyA1HJPEEPGkETNUdVrRfkBCLli2wvfZm6YLe1c1Oz/ZSyufw9tcagGlaQWI5cl1swKYAmjLRP9shShUFyb8G440sLeT19jaccDfatQJWZ8e4cD1qEp07fUXIeTkVSTMKTBvEGUEWkVobDFH2s07JTSYjsre2UPoxKppIjyiOk9ljGD1kCSfa7+gqL4vMF2RNrwoA3Me88uaTT82kL1zhgi7TYQKQ4QTeN7LMu8c30PHp/1NRSt3JI8IEUQT3r55TnPH+WttovsmEF8mxEHz+L5lFDdhGnp0zxSnHGKPQMsPqTyISZSxXMAPEAFnaIC1Y4YPziDShQxxpoe9/PqjtY0W+Gq1WHLu4VARPZ7pwy4QaB/x4QXpkCxjzsrnMsSkGg8c5g04ZGkF2nVEHJDtgvMmtNOzO5Y0RwlAVA/MNWhUpROZNQKtmjK0X36b/qnh325rczLeb0fEp7zHVzYRJFWgcYNznhp6VD6X4SFB/mFeU6z1APFI2pjjg1P4aIeeoP34Ylz+hj1E6DprhztpooH06kFIlqmOpywDZkqIxwwlDm6SpE2qjIGPuMiIpJO3Xlfztbs0lbA1P7R1qu8k2ub3GU7ViYVDOfYVfMBD+usgL24CoeBR55IsQ4Zyk3UAU5jXYR/F3uXlEyVABCSZFl/XRLQomL+lL1adnt+7TohwApMCmAsixCuiXzkjaB8IIoijVraO/9HsGK4656oYbh3/k9VDgiwPjp7wp4HJRdxUmc0RqdT6JE6qLxPGFwcb3JDaUk6gHJiGgsiqDvtYc+GUi3FDH9U5KKOGyTZgLntGiEgVeo81z0PtXMFtaalOg0VUFm3bmUA7M/sczOMsgcbVDCZS5f9NppT5ygm7T5y4oMWLkSC5XQ20aWP6RHdO7afVf7QSHwiByJOVkW6oJhwVN/cUHxiRV0aYaMdWTBHX1fKLPFOa5RJf90OAdXzNCp8aVeMqgwSpn8uVBFqdtGrge9lG2IchGL0URBzBtar8MAlIe9s5lh6yRvqHNPDChiZQhl3Cb+pLB0ILwYuatmg1qvrzNMIpFC83bNqRH5qo/XP/FiHQEFsUweihRVDLUvsoQ/1JsifrUz/xDXKAkGxYSPActtval9hoH7XxaNV80Khlq9TUwp4MhwYQYNkuxLzE1bVXxEhW+6RdXLQfLdG29cbRHeaPvwAbxMye1iKfRXxk1C8juaifrkVZ6odi4Ax5dovJFApmIo4IriOlaQNs8zou9o+tClv3JT/VJphZaQP9G6kDxBkhFuWXAJFHjd4iP2SgXbQl7pIk62066o2KlqjkqNZGbHAIj6bVQKmfBv/6/j29WLGSPH19zQT686f3NH2EySseEi9ROkqaMgcd3q3/2XGjBDpG9Wrk4eNjBDbDaUBMQb6tjQ1w0fsIyMrfWlC1/gFDaqLis1sW08fXLwh+DYgUowqeJUiXQ2y2cAhzlMCon3sHwchTu5NFDGCVQMPZSS8kZ6c1D2nh+u30dLzpMBKvbHt6uMn/w02J6wygO0sGkiTQO8Z0F/GeteHHpKmYHtjATTsn8XW8SL5xBNmwdbOiN1e1dUhnTi1RxoEEB0LcaEnBjQEOfTgMyk9yQyGCD9bAPE+GAMzXoAcVadHPvD5Bk4gremuffFbXZvxbe3hR2wZ7WdjNyjyS8MnQftr+AR/pCIxnMra9GgJP5pEfFtHiDaKNWNfQfMPXRYqY0xtMEXUc/TKpLGNmu6KiXBktSG3/tUObadnPDcRP6sew1Pad2bRAHGasSb763Qn29lj7ZEg8vU+dSwKsmqLZ0zqrdWJ9hpIHeaAEw/qvNxa41b1+aLOI0iX3QvAT+PCosnPqQPOBUf6Oj79BySbHX/6ONcDDw4OjcFidBS564CyBRvXXDm0Rn5fGZy+jx08uvlKUIndJ0TJ7JhzqF8/UrjgyQa19SOXYyqkiLJc9WTe0k83PFaufolYnJr48CM3ThW3/CoKKYPap8vmHtwKBRQgqxG3FhyX0voZkr23a55IU43fYdsEzGGGL1IVVjxTCgSxyzLjCs11vs8YiiMVQizteQNWZT4/syDY+vXVZEEZ7J3JbfVY/voKwYI+umCINaDcOraZc/WqiLP/Dm5cilnKRlj/rVolF3h6BRkb0Cx8skNpd7cYDuzjcuMgv7ckFM2W+MuSbODWVaPe7o8McID2u+2e1KyK+Hpe9cosAn2sOdAVEIooObjyixIpn/iQ8ysUGgzmm/eyvJCjqRyZkO0ZXSyYcUaFNUTd11ZFTOpfK2wxrfdAj0EiLT3RLiZ84vYgDfWS3yRcjScocdPua/8eQvieBtjc2wFZ+0c9e2uB4rn4NFbHsobmECI2gdyTqvtoU/xxrCcJtQmmiteMEgV68+zQ9HmKK4hC/fCd6sMH/k/BJG/5Jt+b/z0ygfSJ4ik0etuFqqD/pk6HX7yV9a1GdIf9aPIKyJFq8xCLcJhQhOJhhTt89s1982l5dS2RGaZ6jrQMa3NSFKlkcfPBhG5g4aAWmUjBHwG2EVmDmCBILxRLKkx97UQ8AWPfw9To9QTqQ9rVDOpg/+mXSOn+yeYuFNDiIWluP4WxW7+8VQukAkTjo7Q+SXGv3B2D76tFt8eEUlSi/fnKfosb2D/XpzLyFDTHGD+YsWpG8Adpz+A7gOwDYX1V/EnlrgJtlfA0R5k3QxGcu20Bo1FVFkL32yY926d3G2ctr5DlIuhwHpMd8wo2vXhhaI+WpafhT3o4iFsbSO/spb6Mw4UUUJ+nwXkazBFs6aDtwbS2vlqExTZgxt9WvallrGL4QiYD80NxYE5gvyM00qDqIK3F4aBdt+Yuwx8TXn2DrJT9fDC9tfMQCC6EUHCqghZNE32jbEC2l9l+Lzbb9RvNh47KnVcFnXBH+DmOj94lzo3XJdNgIF/1QneoPMzmduYOAkGBO6B12JeFXn+EwCZMpuQnhqhch/6A5sTV2Rgg08IjgHZk+fTRFf0mbpThdOr2DYsdLQYj77M4E2h3GUtsGOUba6ALQmGIMpUhnY2i5oUSRUSNAoJccuEyPBpk+EBK/QmfySZiOrk/rQolq9SOfhGnp0e4F5FNzkDDhAIGGaB2n1Q9mBBYn9El+qVFblp7DtvwQTWDrtZYfH+HCZ7ntyfFV0ylHVUv/B3t5nHmOWxK/Tx8siJwsR/roOKLYcqYNRvNgTwbp1GpcA4yrogAyWratdLhNgJmMo3uNM3Wryitn8ss8TKADg14YyBvUBDoMQBgmu4gNwx0PRSFlMHBFDft5PRKAxR/2+NKOWu0TrkkRpcWoHbg9Ag3zjYd3LT9kVLf1SFo8tQeVqtqdtq4axQTawUmlp2nDb3X/XiEifqiC36GtxaerZdxoQaCP3qJHA/KQh3dkiluqFcUv246eHVlNvjnKUzhPL/OnvFUCjXJV0wtXEjZ8shlmherhW+2H1q9EdZx3EL5Ql1xi48rxCHUguWmHmEC76cC4S7OYQLvLSHA7GAHXI2CPQKfOWIiunLP8qmDz7jNp5qjm1LDDBHr98hElTJrJZsOkE2FQ2EC7HpGgL9FhAv3TJMKXUWU+EOilx27Tw/65KVLSzBQ9S2mKV6aNRcM/fvGjZ+8+WWigJYFGRJKdU37Vvd1wtvevH5s+b23L4VPWnzxXCar15+Jg0TQ625/gzscKh+BG3DX1MYF2DY6hthQm0KF2aLljjADZI9BpMhWly2ctP3fduvd8mjqsIYFIe0eMbBdFJtCWEOkRaITcg62rdNKVOYQG2gaBjlu6DUVJmYuiZSxiiEAjbGjtPxfrRkSwO5AuSGDNqdMFRXMRjECwI8AEOtghD1kVMoEOWePFrWUEHEHAGoGePKQeffv2ldJlKUEXT2+3KLJt30WE5y17zSUvxBq2I0ygLQGCnT98EIzYeqoEGo6o+ACJqoHOPkr/63nWNNAqMf8eJgMXdq4QIdlYGIHQgAAT6NAwikHYBybQQQguF80IfGcErBFohLFDOLv02UrRhZOWoZ7gNIgoHa37zCdPT/vOv0ygnR9kxChHFBwZgWhM9eTUZvFVswmHswR685g+4mNcLIwAI+A8AkygnccuTORkAh0mhpk7GUYRsGfCESNWInrx9K4ZnaLl21GG7KUFgW7b15gdKxNo5ycXIhSF8/C00Fa//+QXaALtfIs4JyPACEgEmEDzXLCJABNoniCMQOhFwB6B1vZchqwDgbYXvk7mZQLt2vnDBNq1eHJpjICzCDCBdha5MJKPCXQYGWjuZphEgAl0yBt2JtAhb8y4xaETASbQoXNcXdYrJtAug5ILYgTcDgFHCHSKdPmobI3eog+sgf5+Q8kE+vthzzUzAioCTKB5PthEgAk0TxBGIPQiYI1Azx3fnt6+fmrR8egxE1D9tmOYQH/n6cAE+jsPAFfPCPyHABNongpMoHkOMAJhFAFrBPrgjrl04sBKC1Qq1PkfJU2VQ/y2duHvVKn+L4ZQYxtoQzAZTsQE2jBUnJARCFIEmEAHKbwhv3DWQIf8MeQeMALWELBGoA/vWkjH9v1rka1y/f6UKHkWh8FkAu0wZDYzSAId8eFZ8k2TWzetvTjQrm0Rl8YIhE0EmECHzXE33Gsm0Iah4oSMQIhDwBqBvn/7PK2a19+iP1UaDqSESTM63Ecm0A5DZohAx4wUgbzDezKBdi28XBojYBgBJtCGoQqbCZlAh81x516HDQSsEWjZezgLSqnW+HeKnzi9w8AwgXYYMibQroWMS2MEggQBJtBBAmvoKZQJdOgZS+4JI6BFwBECXb3JHxQvUVqHQWQC7TBkTKBdCxmXxggECQJMoIME1tBTKBPo0DOW3BNGIDAEukazvyhugtQOg8gE2mHImEC7FjIujREIEgSYQAcJrKGnUCbQoWcsuSeMgKMEesrfDQifk4bUbD6E4sRP6TCITKAdhowJtGsh49IYgSBBgAl0kMAaegplAh16xpJ7wgg4TKCH1qevX/1Ettoth1GsuMkcBpEJtMOQMYF2LWRcGiMQJAgwgQ4SWENPoUygQ89Yck8YAUcJ9L8z+9KTB9dEtjqtRlDMOEkcBpEJtMOQMYF2LWRcGiMQJAgwgQ4SWENPoUygQ89Yck8YAUcJ9JtXT2jehA4iW902o8g3ViKHQWQC7TBkTKBdCxmXxggECQJMoIME1tBTKBPo0DOW3BNGwFECjfQylB0+443PeTsqTKAdRcx2evkhFY4D7VpcuTRGwFEEmEA7ilgYS88EOowNOHc3TCFgL4ydSqBrNhtMcRKkchgfJtAOQ8YaaNdCxqUxAkGCABPoIIE19BTKBDr0jCX3hBEIjAa6WpNBFD9ROodBZALtMGRMoF0LGZfGCAQJAkyggwTW0FMoE+jQM5bcE0bAWQJdqX5/SpQsE4UL5+EwiEygHYaMCbRrIePSGIEgQYAJdJDAGnoKZQIdesaSe8IIOEug2/24xGnwmEA7DZ1uRraBdi2eXBoj4CwCTKCdRS6M5GMCHUYGmrsZJhEwYgN9+/pJSpIim9P4MIF2Gjom0K6FjktjBFyKABNol8IZ+gpjAh36xpR7xAhIBIwQ6MCixQQ6sAha5mcNtGvx5NIYAWcRYALtLHLBkO/Lh090bPAKCh8xAkVNFpvSNChsrvXxsWt0dckB8ormQ/Hzp6FEJTLT0T+X09cvfvT59XvKM6AOeUWJaLeVN9ceo2/fvlHyyrlE2gM/zaccfauRd4zI4m8m0HYh5ASMQIhFgAl0yBs6JtAhb8y4xaETASbQbjyuN9cdJ0/v8JS4VBba/+M8yjeoPnmE9xQtPv73KkrToBBFSRyLdnebQe27MAoAACAASURBVEVGtzD35NK83RQjXUKKm9s/5NSm+qMoQZEM9Ob2E4qTKyW9vPKAoqWISylr5KX9P86nwiOb0fsnr+j02A2Ud2Bdc1lMoN14gnDTGIFAIsAEOpAAfofsTKC/A+hcJSOggwATaDeeFudnbKd4eVNTzExJ6NiQFZShVUnyiR1NtBhE+OKc3eQV2ZseH7tOpWZ1Er+/f/SSTo5eJ0iwJNv4fUe7yVR8Ulu6MHMHRU0ehxIVz0T7fphLBYc2phPDVwsifXf7WYqdPbkg2FKYQLvxBOGmMQKBRIAJdCAB/A7ZmUB/B9C5SkaACXTImgNCAx3RixKXzEz7f5pP+X6vZ0GK0Zuvn7/Q3l6zqciYlvTmzlM6O2kz5exbPYD5BtIUGt6ULs3fQzHSJhDaaUmgX117SFeXHaQ3t56IclRhAh2y5gy3lhFwBAEm0I6g5R5pmUC7xzhwKxgB1kC78RyADfTxISspfCRvipI4prCBPjV6HaWqk58+vXxHV5cdoi9vP1Ka+gUpVtZktLbKYKFBDu/jTSmq56GYGRObe2eLQEsNdYIi6Sld46JMoN14TnDTGAFXIsAE2pVoBk9ZTKCDB2euhRGwhwATaHsIhfHnrIEO4xOAux+qEWACHfKGlwl0yBszbnHoRIAJdOgcV5f1igm0y6DkghgBt0OACbTbDYndBjGBtgsRJ2AEggUBJtDBAnPIrcTIBAm5veOWMwJhGwEm0CFv/JlAh7wx4xaHTgSM8KNhZWMHWed7b3pit+xwkG8IVswS7AgYmSDB3iiukBFgBFyCABNol8AYrIUwgQ5WuLkyRsAqAkb4ERPoMDyBjEyQMAwPd50RCNEIMIEOecPHBDrkjRm3OHQiYIQfMYEOnWNvqFdGJoihgjgRI8AIuB0CTKDdbkjsNogJtF2IOAEjECwIGOFHTKCDZSjcsxIjE8Q9W86tYgQYAXsIMIG2h5D7PWcC7X5jwi0KmwgY4UdMoMPm3BC9NjJBwjA83HVGIEQjwAQ65A0fE+iQN2bc4tCJgBF+xAQ6dI69oV4ZmSCGCuJEjAAj4HYIMIF2uyGx2yAm0HYh4gSMQLAgYIQfMYEOlqFwz0qMTBD3bDm3ihFgBOwhwATaHkLu95wJtPuNCbcobCJghB8xgQ6bc0P02sgECcPwcNcZgRCNABPokDd8TKBD3phxi0MnAkb4ERPo0Dn2hnplZIIYKogTMQKMgNshwATa7YbEboOYQNuFiBMwAsGCgBF+xAQ6WIbCPSsxMkHcs+XcKkaAEbCHABNoewi533Mm0O43JtyisImAEX40unoKCu8dOUgA6rTojN1y+UuEdiEKugRGJkjQ1c4lMwKMQFAiwAQ6KNENmrKZQAcNrlwqI+AoAkb40Ykjhyh8xEiOFm0ofebMme2mYwJtF6KgS2BkggRd7VwyI8AIBCUCTKCDEt2gKZsJdNDgyqUyAo4iYIQfnTljX0vsaL0yPRNoZ5ELpnxGJkgwNYWrYQQYARcjwATaxYAGQ3FMoIMBZK6CETCAgBF+dOzgPvry8a2B0hxPkrdoGbuZWANtF6KgS2BkggRd7VwyI8AIBCUCTKCDEt2gKZsJdNDgyqUyAo4iYIQfjaySlPw+vnO0aEPpe296YjcdE2i7EAVdAiMTJOhq55IZAUYgKBFgAh2U6AZN2UyggwZXLpURcBQBI/yIo3A4imooSm9kgoSi7nJXGIEwhQAT6JA33EygQ96YcYtDJwJG+BET6NA59oZ6ZWSCGCqIEzECjIDbIcAE2u2GxG6DmEDbhYgTMALBgoARfsQEOliGwj0rMTJB3LPl3CpGgBGwhwATaHsIud9zJtDuNybcorCJgBF+xAQ6bM4N0WsjEyQMw8NdZwRCNAJMoEPe8DGBDnljxi0OnQgY4UdMoEPn2BvqlZEJYqggTsQIMAJuhwATaLcbErsNYgJtFyJOwAgECwJG+BET6GAZCvesxMgEcc+Wc6sYAUbAHgJMoO0h5H7PmUC735hwi8ImAkb4ERPosDk3RK+NTJAwDA93nREI0Qi4gkAf3DGP8hZrQOHCeehi8fXTJ/J7/pxiVK9GHj4+IRovd2g8E2h3GAVuAyNgjB8xgQ7DM4UJdBgefO56qEfAFQR60uA6VL/dWIruG58JdDDMGCbQwQAyV8EIGEDACD9iAm0AyNCaxMgECa195365BoGXD27RvjlDqUKfca4p8DuX8tXPjzw8Pb9zK1xTvR6Bfvv6GUWK4itun4wICDSkRrO/KG6C1AGysAbaCIrG0zCBNo5VSE751e8LeXiGN9wFrEvhPDwMv7eGC+aEVhEwwo+YQIfhCWRkgoRheL571x9ePklX9q+nQk1//O5t0WvAi/s3aWqzXOIRPjv66f1biuAT2S3baqRRfp8/0chKCan6wDmUukAFI1ncIs3Ht6/JO3LUgOT2/Xt6sWIlefr60pH9SylvsYYEQly6Wg9KlaGgSH/3xmnyiRydYsZJqtsXSaBjx09JtZoPYQLt4Ih/+/qV7pzZT0myFjKUkwm0IZhCdKLprQvSs1uXxJppVGZ3LEEp85alws1/MprF4XRYR9CuBBlMa3pYFyP8iAl0GJ4lRiZISIRn06ieVLb7CLdtOhbDgk1+sCBp3759o+Hl4lCvjY/NWoZT62YT+qIutNiQoYkIDrGnjVUXD7QRfzuyKQS2Dx9ev6CIUWMQiK+nV4TAFkevH9+jSY2ymg8EegUC/3Nbl1DG0nXdQhv05dMHGlU5sS7uqgZ6yohG1O7HJYJAp8lUhEpW6Sq6t3R6H0qQJAMVKtOSbl8/SdvXjKWmXaaauy4JNH6o02oExYyTxAIWoxpojNG1Q1soTaGKNscJ/QkfIaJTY/np/RuK4BPFqbxBlQmkZGyNFHbfi49vX9Gnd28ofPR4tPTYbYoZKQJ5h9e/Cfn4xY+evftEtXMmIZ8IIfe25P2rZ+QTLWZQQe9QuVh/jd7KOFSwTmK5bjqyVtrKg/fq8t41VK7HqEA17eCCUbR7xiC7czVQlYSAzFIhYYQfMYEOAQMaVE00MkHUup/fvUq+iVLZbc7j6+eFJjJ6fH2tlt0CrCR4/eQ+Xdy5gnLX6kDvXz2nQ4vHULHWAyxS3zqxmxb/UOO7LQIT6magjovPW+3il08faVTlRJQ0exGqO3S5Od3TW5dpRusC1H3NHUEgzm9bSi8f3qY9M/6gcj1H06tHd6hQ077BRlIfXztLs9oXEzhaI6jq4pGjWms6vnIqle89jjKXre/sEBvOhyvQERXiU7fVt2l0lSROjfeNozsoea7i5jr3zxtOe2f9ZUGgt034n9D6RIgUlV7cu04bR3an2yf3Uvc1dyl8BO8A7d0+6Rcq0e53Q/2Y2jwPtZ552FBaa4k+vHlJ42qa3km5IZ/eMI+ylG9Ep1bPpCh3XtDdp9fo4K751KzbdJo1uiUlS52bytfuS2eOrqe9m6eLvCDXx/Yto8O7Foh/S1EJdP4STSlbvir06sVDunp+H+UoUIMkgQ5XIAdFipOQ7p49SCnzlg7Q3DV/tqELO5ZTxyUX6fP7t+a1AYcg78jRzIdCzClPL2/qsfauw7gE9wHOSANBjMfWSGl3fh5cOJqu7FtHNYetCxSBxi0Q1g9phoT3BAdDa2vxjSPbKXnuEka64tI0Z7cspvVDO9rFxZlKYVIGBYVRWdy3Jt06vitQbXn34glhrH0TpRTV2lI+yHUzee5SVPvPRQGaieedll4mn2i+5me2CPSJ1dPp2PLJ1HL6gQBlYc2K5BvX0M0g3k+8p44Qe22FjpqmyPw4wECC6xCDuk5vnE++CVNQ4iwF6PDS8ZQka0F6fPWsWOM7Lb1EkaLHItkua3OJCbTRtywUpnOUQBvdoJb90oB8E6e2IBKfP74XG2iWcg2dRlJdRJ7cvEgz2xQK8LLLNM5uwk43jkgQThDPzv9eEZpRrWBze3T1NC3sWdmC8OCPhb2q0J3T+6n9gjMUJVZ8QZSlJM9Vgm4c3U6FW/QThLrZpF0UO3mGIF1sVvzaVGzozSbtpoU9K1GX5df+2xi+EBZJbNLWFo/K/5tC0eIloYQZcutg8Ib8Pn8WdtOlOpnIqjPy5ukD+qdBZnNWRxf9+xeO0byuZS3mz7qhnejcFtOGJg4OXz7TyIoJqMXUffTkxnlaPaiVub7Czf9Heep2Ic/wXhbNByZpClehav1n2O2W0ffJVkFvnz2kifUzWcwnlFuy41+0bYLldW+Bkk1p/7bZIi20zLPHtjYX7R0xCiVJmZ2unNtjJtBPH92kpdN7W1Qvtdj4sXWfBRTO76uIwvHvuqGUtWLTABosefiScwUEekKddGbcR1dNRrFTZKBGozeIepzRzskGIm/P9Q+EbSlMn9zBDOft88c0sV4Gu6TkwPwRdO3QZvpG4ehr/QmGNNA1syWk51eOCgIgZVGfapQqf3l6/eQeJctRVBy8t4zpY7V+V8xBuxNdkwDkckSFeAHWQL1yQGCgmdczUVLTv33+SBwU4qfNrqtksEXQjMy5dy+fCkJlTfbN/ZtuHttJDUasISia5nQqTV1XXNdNrr25k4lw+xLOw1OsOe3mnaKocRLSp3evycsnCo2vnZY+vH5uMY44mLWde4JwYAaJLtCoN2UqUy/AelSgcW/KU6cLvXlyj2ImSaPbJqynDy+doOUDGtudq9jHvCJGCrD/yH6V6jxUHCSgnNg0sgfFS5ONslVublEv9pCLu1ZShhK1xO8T6mWkD6+eiffXmhxeMo6yVW4hDgPwvXlw6TilK1rN0elnTo+DU4J0OalIy5/FnMH6hVtfSMp8ZajWoIVMoJ1GNwxkbJglKs08dF9ce4L4RU+QzOYVqLrY2rryGlszFX1885IajFxLiTLlE0hKe1k9ovPq0V26e/aA+WXSQo8F986pvYQJD0EZS/9Xj24c2SoWkGhxE4vfcb0+vHxcc3ZtXaYN9qHQzhxfNZ1yVG3p0CjjpY0cM56u5hEFyQWk5bT95oUK10F44WF2seTH2nTz2A7d9sm83lGiU83f59OCHpXstk1qq+0mdCLBiTUzxMabKn85unpgo3lRnd6qgCAoTSduFxpgW6I31hjDcBSObh7faXehtlX2sztXaHrL/OYkrWcdpRgJkhnuqcRbYijJsixAmqTg71QFytPV/SaCp0qMhCkCaJBludUGzDabK1gjKerGPa1lPqrSbyrFTZXFXAU0WjAXyVHVn7hr24A5OaVpTvN7oc5Dw2D8lzBD9tJ0/sQWatt3Mc0d15b8/D7Txw9vLYqJEi0WvXn11B/3HnPJ7/kzWrZhOL18cFP8nqtWB3F4vn/+KM3rVk6Ms+xr+wWn6Z8GWajrypvivdCSFz0yAxIIEhU7eXo6uWYmZS7fKMDBRZKyDCVrU6Uf/xHlSnMokKtIMeJYPXCeXj+XslRoHAAulPnV77OFScnVg5soToqM5jVn85jelCxHMUpbpIou3LI/LabuJ7/PHyzG98LOFbTmj9YW+KCQmB3mUbxUWYQJx62F/SlRtT7kEcGHwv3ndCZNOCqnjkzTGlqS83ndyot3FoT8y8f3VLztb7Rjcn/qsOgcRfb1XxtlY9E+tC1WUn1ipdep60e20bvnjwOQNZkWpOn2qb3UasYhWjGgCZXpPoIi+8YRj3GwwW/qe2Zrnu6dPZj2zx0WYK3AwWTzqJ7CXwG3kWc3L6Qdk34RfcFNXs1BCyhl3jLmonEz5BPVl/I37Cl+AxnzTZxKHLLkGEFrjf+OrZgiSHCpToPN+eU7jH0P+8yDi8coYcY85ud7Zv5FB+YPF7eKuAGFpC9eg6BMgEDhc2bjfDq3ZTG9e/FYt/9r/morbnj3z/1bEGhpTlZ/xBo6tW6OONzLNRWYAJuagxbSsp/9b/yKtR1IeWp3smg3/sDN4IZhnc0HTC3mKqkHiQWRt6YNBtmFgiBhhjwW5oSyDOwPeA/L9xoj+gByrt0L5E1xrT8WUfLcJYX5IkQ1YQTJ3jtrsHjvUR7Kx80abmSxf28d94Mo15YpEMYKhF/vAKauNXrKoD6bnzKBdnQTcTT95CY5qET7P+za9jla7vq/OxPIVMkOf4is984foQ3Du9Lrx3epSPN+lLNGW0eLDJBeThpsHthE0hatRlV/nmZOJ52qavw+nyJGiUELelQkEINIMWLRmj/bUrt5J0Xau2cPUfx0OcRzTFg4v0npse6+2Oye371G01rkNb9IeDmQFrarK39rQZf3rKYm47eK06p6DYRnOaq1osV9qpvLzFuvGx1aNFr87RM9FnVcfEG87Ef+nSgWUSnypcUCi+sw9Lf2X0spYcbcNKZacl0C9+z2ZaundOTHotlw1PoAWEobZjxQNyRc0xdu9hOlL1EzgMYWWl1cX0P0XmB7A4xFFgsDzAsckTObFlKGkrUCkBC1jMt719HKgU3NP/Xa8IiuHdwkNBSQZv/sFBp3W6JHoKc0zWUmWvI55k+iTHltlvX5wzvCO1H1l+m0bkgHylG9Dc3rUtacp+7fKyhptsIWZcAs5vH1s5S+mGnugEjB5hILvMS70eiN9OzuVUqQPqcFIcctwrhapqgTIMq4CtUTvUMa0hVv97swNZLzQg8L2YauK2+I+QiR6XBTMbuD6WrdlnZdmv7IdNJEyJH5oE1bpeGvtHr+r4aKaNBmDC2Y0jUARjBNwdyHRI2bmF4/uiP+3Wb2MUH4Y6fISM0n7TKPAzbO5zgUtTJpU2sMnCsOLpAFPSvT3TMHzERT7+CCTRRausgx41LTiTuF1hfvFt4x4FykVX/KV89k962KNC2pN2wlxUycWmjzc9VsTwWb9BXa9NPr51CPtffMWSY1zi6ceqWZkroJYx5jfZDEQ28sqv86m+KnyylumTYM70ZnNs6zSqA93j6jswOKUziviBQrX3VKXNu0tkkCXSGFN81sksVifmDOYO5YE3lwkc/R/go/TKBMpevaHO+t43+inNXbCM0iCPmRpRNEvagPh2lVtMQEBDBx5vwkzTbUtFhXbPl0yLIaj9tMd88cpEi+cYSi5dDisbRr6kDRhvF10tH7l6ZDHebVk+vnxHg/v3PVAt8k2QpTvb9XiHTWyFPD0RtofrfylCJPaar1x0KRFvvH+NppqHK/qfTmyX1BnnGbKohmOA/RfokJbgNwkygF7cM+h/bunh7QtEsebKBoWTu4LUWJGZ9OrZ9DuWq0o6PLJ4liUuQtTeG9vOny3rXmsZbtx+ENyggpaKNc7+Z0LEkPr5wSj3JUa0PHV5rIvHY9wSEda6pWrK07UFJhH13St6ZFWdo9LFaydPT05sUAdWJNXDGgsVDMQPLU6SwONJBq/WdRmsKVaFKjbILrSAEG1w9toYQZ81KSbIWEBhy3sZg/aA84wKXdqyh6/GSUIk8pcz4cJPfM/JMq/jBB7MG4eYyTMpPQfm8cbloP1AO+igET6ABTwvU/BBeBhuYuSZaChOsYCCYcFqRXD28JAoXTbpEWPzvkTKVH2tSXRn2OK/lXD29bACgWh/+c3+TGqEU4apxEFi8C8kB7CHtZaKkr9p1oXsygrU5dqCLtnDzA/GLi5cACZEvyN+hJhVv8LwAJlX1BP7CA3zlzQJB0XNOcXDvLXMfcLmWp0RjTyyxPwg1GrrPYDPFMTzsm26Vi1WTCNoqXOqs49GAxxuk/UaY8NK2FSRuvSqnOQ8SCj/Y4KlI7XOvPxZQid8kA2aHBvH54q7jmUjcptBWbHsxsvLx9RL+02uzz2/+ltX+1M5eJhX5ivYwONVHVeu2Z9RflrNaGJtRNby4D4wON3vJfGlosxNiwDi4cSTmrt6O3zx+KzXHZzw1Evhq/zaPl/RsFaAc0E7jKVOcvNn1sGvhNEqWsFZpQtiotCJsLxCO8F3398tlcHt4vaHegwZJ12up0mW7DKVbStOIaHRqkC9uXieQJMuQWZgnSya/VjIP08MppoXGUWhZr7x/mqTTzQVm2CPSjq2dodgeTHTfSwXZ+7eD2Do1TYBLnKlibju5bariIqr/MoFW/txDpccU9pnoK8e+SnQaLmx1oLyE5a7QTygMoDaC5g0Bb9W8/0xV1waZ9qWDjPuZ6DywYKTZUCDRaN45sE/+GlhFESqscGFUlCXX+97JwwISU6zVGHMCkNl/tkIq/vF1rO/ckRYubyLwmQMmAeQyyDaUADnyjq+r7gGSr1IwwbySBlnb8ss6Y7WZT3FRZ6cIP2S1wzT7qrPj7wZ5F9PzCfor67j49uXZGjDuIfbu5JwwdxGV/QCKEWVK4cNR7o79WVK0U8zBz+cZCe4k+pspX1lxH8yl7hRkd1vCMpUzhDiH+B8ObNKaa6VYIdU5plpte3r9h0Sf4Enz98kloGkt0+IOgWYapBEz+1BsKmQnEsnj7QeZ1GgdnVbki0+Vv1IsOzBsu/oTDLzS/sh0wTYOJGgQ3VzKSEP4u33ssbRjWRSivYBIBBQ1staVgHwSZxR4GxVPU2AmF1nrLuL50YpW/8kmmR7/hEzSrXRGLfss/CjX7iTw8PMVhzYioe5q19FIxo64vuIGRmm+UgcMduANMOqwpb+RtrbYerbYaCok5nUpZKM60edSDGw66OPBaE2AifVGspakz+F9a8mMt6rbqlnjPVKWaxAi3enj3pYAj4eCjlbRFqgryrRUm0EZmZCDTBBeBxuKD6zjpxX5w0RhKmr2wuBLEddqKX5sQbGVhz2NU9F4c2E5C0yC9x22VJckwrtKxoUxunM1u1emKVReOgBBoa0AwHl0JqDHRWwSsFQ7td9GWv5hNPGS67FVaCtswreCFh5YbLzW0GEiDzfzIsn9o32z/UF3SnlLm1xLoB5dOCJs7iIolbKkQBURqAHCNBwInBTa1M1qbwoipAtItNQbyd5y24bRmT/QWu3vnDtP87hXEAStuqsxUf/hq0W9pegESgqtiaJVLdxlKwEvarOJGAs4UUqRmR68dsEs7uUbf5hdzRJoZlO76tzALkaKe/FWsVTJkr9/a57Ahh220qtUFYZUHI3vlQUMoN1draVvPOkJTm5nsu+VcylyuoZnoqf2DFlarvZYOiHrvHzTi64Z2EDc2UppP3iOuMbUCB7xHV06Z571KTu3105HnMOmYPERfQwnb6Y8f3jhSnKG0kmSqGEFBoBINa4d9qa3SVmQtPdIVa/OrOPSoBxd1HOW/1faANEJ7pwoO6CBZIAm2BO/iqfVzxbW89ho+fLzU9OXhlQDZJYE+0d1k8659j4zOc9wOQCMq7T1xQwDyLQUmdTgcQNT+Js1RlEBc5LuEq/SNI7qJdHrYqu+SnpYvZ/W2gnxCGXRw4SizJhDjcP/8EdKuF7J9uM7HQdGW4MAkSNF/zmkybYeFZ80+A/gNZoaquRwUGlvH9TU0R7E249ZCPQxpM2JdhqmBMwoSbVkZS9ejij+MJ2n6Y6uR0KBfP7zFnERLMKH9hSICihN5iNSWB6dE9A+CvW5u59IBtLVVfp4meAfssW0JDkeZyzakJzfOGTJPtDcAOGAfWz7JbJoCG2uYd0Fgv4ybctiSB0aYQAcGPYN5JYH++PYlHV02iVIXLE8nVk0X9mrQoOCqbvOYPkILi5NOuR4jzdpAeEDvmvYbvbh/g2IkTE7FWv9KyXKarsVVEw7YHOH0iJMvbJOaTNhqntiymfDCxYKB6zKjYu3kWXfIsgBkVK9MaGkRN1IlWkbrNpLO6IaAsnLX7kRHlo43Uqw5jWpnBuK1/Z9+dHHnSosycF1Y6SfTVZqWQONvXKEVafUzze3sb28XMaqv0G7J9D7RY9P7l/4xP61dGeVr0IMOLhhprh8kInvV1la1F2pDOy+7ShGjRLdo+8Vdq2j1IH87b9QLDR+uCCFwdoPpDMTLJ7LYHKExV6/fbQEKL3JskriyRvxkPcG16e2Te8Sj3LU7iqtfKVKDhb9xbV6ivUkLY21eOjS4SmKYERlZTLHpwP5ctaOPFi+p0NSoAhxHVkpEfp8/6jYpcdaCdOfUPqvNlYRYr5/Q5mmvU6VpkywQjkU4FMn8sHvErY1W0hetThd2mQ6rWfNUplOHja8NallwHLx+8SBtWj7M/HORcm1o90bTlXBQSP6GvYQjrmqSFS9tduHoJCVf/e6UqWx98ooYmSY19Lcdt9YerBHF2w4U/h5a8yMQDJhrWNOMYa24sGMZ7Zxi27QlWc7ilLlcA4vbG2vtwToBxzCjYo1AQ+ONg696FW60TJkO/Yc2Ml2xaiKqDQ55MJuBlk8VVRmgmg/A9AFzEn4IeoRMT8ECJ9y3Tx+YDyEgm9K50NH2f8/02nVbbQv8YaRZkvzdlkmYrX6AP2CMYGvtqKhKDmv7j7ZMcBeYPcBOHE7uEKN59dqHAxiinbhSpIN9osz5xXyVUqTlL7omM47UzQTaEbScTKsSaJCToq0HCA0urh13TB4gCDG0kbgygUYSp+q0hSsLrdTMtkWo4o//UOoC5Qk2p+v/7kTYXLEIaW2g7Wm6V/7WXDi4le4c8GMHsmu//vorDRw40NzTv8voexVnLtdI2I7ZE2z28DyGA0dQSJWfp1sQQG0dekQF0Tcq9p1gETHBWtvktSueQyMETbTeFQ+uiWBzJQkL7MxAYuR1s1k7i6+7/afxwFWuHqmE1gbmBtau7+Xv0EbXG75a1KtqT6GxQQQLPZGmATDdCO/tE4A0qv11xXip0UZGVExAMRIkJ9iQWxNc028bb/2jMCU7/CkIkT1thiwfi7l6HWutXmv22lr7QdgJIjIIbFlhzw/RM02yd41q7woSJkd563czX2+r7YYN4Mrfmll0BQcw2LrDKQvzCwQfGnt5k2DtBqBy30m0Zkg7Spk2H2XKXUHYNTujMZZh7dSQdm1+WEj3b52jNQt/MzyVMpVtQGc3LbCZHhshDiYPLh63SIfDzef3b4QZllZgUwy7VCMCIrdvzpAAtwVG8hpJg+g0WONhBuBqsUagXV2P8cFDDwAAIABJREFUXnkwAbNnSudoO1QzC+RVbeUdLSuw6bW2y4EtD2vZton/0y3G6P7qSBusOTqrZUBBsf2fn4XGfPPoXrrFS7NA9aGa3t4NHULmvXv+iNrNP23oUOtIHx1JCz8FOFk6KriVlbfQTKAdRc+J9CqBhpNAh4XnRCnSBg52e9KofdWgVhQzUSphrwvj9jtnDlrEgUSUBlwL5W/QwyECjau4PbMGU9MJ24TG26hY0/ThOtOepgV1WFskQOQLNfvRTDCNtMfatavMq0cs9BYC2KUhoLwzWkythstIu9U0uO6KnTITXdq1Utik65FxEHUs1tYINDzAYQKixhhW04Ikv332gGa1L252nFHbUGfIMto9fRB9/vDW7MDhaD9ker1FMErsBMKRBqKaXVzavZpwoIGTnlFzCWfbJfNJG3w47SzqXdXh4hKkz0X3Lxw155OOazJ6BB7IK1+peVG93PXGMFay9EIrD4dZrWDsocmBA453lGgWTpBqWlzV4mq/Qp/x4lCtJwhjiNB6EIw5HHpUXCbWz0jNxm6jXX91I98EKcg3blJaNa+/+WMq1sBKljoX3bzijwnS6RFo/PbuzXOaM87SmVk6JMvycbOBuM8QqamTdskyDczQpOMbDllwzMK1typYUxCyT09g1y5vVeRzaFK1t0kOTxAnM5TtMVJ37XNW86g2I0mDQXR7gX0zPdXmVSWq0RMkD2CHbKSbWl8WI3lspQHhw/sn7dYDWx7yI/rL0X8nEm7jZGx0V5TraBmIiY89VKuJl/MeDpHqjaW2fJgfHF4ylqr/OsfCZ8RWO2AWiNB5Xz6+s0im3vpZU+ogA3w/wFny1e9Bs9oXNa/xeAYTSXmgVd9VbXugSIKZ6dKfaluYhsB8Y/vEfgGa32jMJlo/rLO4xca/Yc4p13FokEGAhX/Kf4op2KNLZ1F7YyJMeHaZbpOlf4yaB2sr5qCcJ3A4huKpy/Lr4hYKdvFMoO2h7ILnWhOOZv/4hymTzloyNJWqVUb4I0iZrv7XouJUGM6DynT92zCBhg3ejkn9qc7gpcK71BFRCQBiDMMWGWYg0JjjC3haQexbXFEifq41kaQG1/qyfCwcsZNnNJsL6OVFvqU/1RHxjq091xIWre0g8sn4mXrkxsjmkaZQJeHt7IzAeQnYTW5s6fyjlgXbXIQN1DpSAH8cnPRE9gX2ZjLuJQ5g+DhCUDqMSdJo7TBgzbnN3uEFZjFwUrQnIKNPb16wOdfw8OmtS7o25fbKR0QB1dZY9kcNhygxkP+XYdJQtl4/28w5TlFjJ7AI8QcnJtiXIy42rnNhsgVbdK19pra9Rq9LYTeNcHFS5Dv47cMH86e8Hz68aibQVy/spy0r9L/UWapad9q60v+LZupHVe7cOE1r/9M4CwL99gXNGetv24/61TZDGwsnL5gFQWRsaq0jKOa1jLEN0wEQZT1nPpQhnYf0xlY1ZYEpGxyREKUE++/bZ490pwMcfD++eSE0c5C89brSoUVjxL9xXW7rRsXe/MJzkCFEmMHBElpce++GkTKNpGk6cYfYD3CYlTc/cJBDRCRH1ww94iLtlI20RZtGroHyy3e2ypB+IbYIPMwkFvaqKkwm4cgLky2YTEo/BVm+GmIOTqMyCoO2fj1TAyM+Po3HbRF2wnAKhXP2nM6lzSZHIJEQEEl777W6rkpFHA6EmMtwOIfAfweh9oAh9mzkgeMlzG+kSOWdanqozj/1PVTrPLNpgVM3KFjnEO0Cdag3ZIhIpJpiqeuU3sdbkB8mlXhfYIboEzWGmLPqoRBl1Bu2ypDiRK6HeBdAkPFlUOkzJIMgaOPTwy6+4ah1HMbOmRfckTzOEmg9DTQIJLR4RjXQcKTYNrEf1f5riYj64KioLxMm1u1TeyxidKI8GY0AJ1xEG0AoMFvRGNQXUXqZS9MCfChAL7IBjP5r/m662oVZi9Ssyf5U7T9TmL1AEIMUcYRhboH4oghXJV8suXAhHZyBtNe92MzU0GxIB/tJaGul4AtEthyAYOcH8w09AYZE3yxMEGTcW5lehm2SznxyMVXbri0b42QtfB6eBdZ5DM48x1b8n72zALei+AL4kQYFpDulQ8UO7FYEA7u7u7u7W1FsxRYE27/dHTTSICkhApL+v99cz2Xuvt27e/Pde9/M9/Hx3tvdiTOzs785c+acAWWaFAfoHfaLe5fQm9TTSNCYA0xHvP+ir70e+X7+xI3y9aAYxKkNp50Xmu5jHv0iQZb9b3xZXrk0dtqfyZ/tRk32WFa7a9sbA/cR/RH/oyR2avDAgWcZDstwENZ7EMreLeAa/ojxpathw/1gyGvuQ1l2dEb1X87f2bLue/njZkHKBwMzBD3AiOkICyQOaeFdJFki2M2HD14cP2yq7bBDeS9dvlh+H/G5iST48sDzZN6cRLtuzd8OlMLfbIDm90/fecT4iubvK1csk4F3HC4tmneRqs2amcUvZWPnWG3tOuaArQZ6QSuLj1s0TLYmjAUv2mW1fWWuwH+x7cHCHh/qJcFPHsA3njBw68XPmKFVrlbDBG/y6yugjL4nwIR6yGHrlwigfu7lKLNxh56+h565Zs8vqnn3LjK9vuBRSNi+4bc85kr56olws5gqTTvJ9oedJR/c4b9Doa7jPnnsGuOz+qc3Bsqxj30Z95qUdEBZF/VQrn0/B7ZYZOohRG9eNrhphFL7HpUJQXTsuZd7bPdt/I7pDuZLvMu2WQzvTuP23eM+6tmFYsGDlx/by43u+mhgLRsm0TQSBpsD0MwnOu/bttgb9j3OeNcIg17qSkwClCd6SFiD6HANbx+E21YPU15/2Nyj0GmPGV3M42mJhZ2eJ9F7iM6L7S9KDpI9zvWbjWzY+fK2wf7dLpOoira3JL+xoqYa9jUt761bT42DNNfxrkWEUm/SMvHTjMcVTXzjvV6l0A6zM6jzv+3vXRdZmHwyr6v5HfnRf2rWimz0XJXd3lcvO1j6XfWU/DHyW/ONIKHg3PWsOxxAR50o0r0vXYAGMJ46aVvpc+kAab/5bsbBPIeHjh7wmbElDbOBRoP3v/svlv43vSRNO/VKq/o1q1aSWdOnmIMi2F7jUcDefsdEA3/T+E7Ei4OCg+1aioLxrMGLrithrQyeQj4beG0CmHhfTia2Q+4altAG2yUOGl1MGoKSavnxR2o7YddJo/3muxr/xSQ8baxcsdxEQgtKcS3kf+757PuS2fCydb3zGbfJv6tXJWzdBU1S5It88E1LG4JCQ0fp2LGfD5M3rk2M9KTPcTjvh9ceTpqNDfn1W3cyW2ok6o5LOePXdq21ErZFg1wc2QXhJQJfysAEMKXeRMiXLXdsyNFK4vubsa+BOMiDDylaG/uwnsrSHPa7flCCo38Wks27bCz/LF4oLXtsKU+e2DsOxuQXA7XGZnGmvmvRSuIWDa3xkyf0lrPeiAUCIeHJA5txJmfOJ6j3G7t9Xihj23Hzg2NeCTjUxWl+2mkf8ORAsXoswQyD912D+hA2XBcy9Mk6DWKnyMO0lmjgOIGOZptDXtjNk2yArlStWrzqti2z3Z7jznvWHFS2r3sBesqEn2TRgtnSfaPY4mXVsmXy17SJUmfXnWXRwjkmHK6d2JbFpysHk9ni5dAc2lgbZOw26vun1/kos1Og9t4sUN647lijffN6N4m/u6tXl/Et7JWh7dbO9tfsdQnpfQ4f79++dK+x5ebQHu+9BvTRhRjtqVK9ltlO9wK0tz9RHkz45v34rt9pw2bJA31iUfpI1Ru3l2Wz13hk0b83ufZ76b9RK1kw4RcDR94DrbYHBeTELo0uOBmb9AkhvNW9W0KnWb/Y85e6fEPJgKcczCW8dsw8Sl+jxUV29sJJs1WZqEvARu17SKN2Xc1hQvK2x4cuBPRZ7Q8bkm0Zzxjzo4kuR2IBT2S+qb9+afw0H3H/B8YswC8wC/c/eGBXc1jfbjPfRXYhCJRjjwUOWteoUz9hTlTtZnwBa3k84m+Tf/o0wXeyCcgy7ud4cB12B5gHOVtkp7mTRpsgZ8sX/1Um6qi337SO9ndTvTFRBxvc+Z1FzJaHnyebHZjoI13n7qBxwWLhfw9cHA8wxW4THj3shKs/OEYDz3DNNm/yezeCytO/a8Ardoq2Pe5K0yfqOQUlFGURvAUXuSS7jFcuPVD63/iS2GMkqDw005Ww+/d4cQmSd1i907keRT5rkf4Nq2U6pefpmXQBmuqx+sVedeHMSVK3aVvZ9vgr4yuvMIAecMRGRnMCgGqq06Sl0dpFTX6hvO1JIhnU2Zq0oI7mo85KznvdDuVqQ6/Wm5eA4AmsCNmKBN6DkoYVBfztctAiPXpEL9GDS95IXOoc33s4xs4DTTN+avUergFWRFYiYdKCtxV7kWBv/6MZ5MPwxAlbm+2moFCw6lUhar9570vmc9YLJPqsbXOu3kiwzSNgDq7XsOPtsFXsIJ0mNKFfPXe7nPhM4gGvwElo9WqjManTtI2xXVPTH60T7pgwa0BDhq/UN649Km5SoX6AydsLW2Fy0q1MQp6jtSKwj92vnw68TrY49BxjSoMGB62FN+qWHcwnqDytF3Z/+PwmyIs32a4Oufb3nzNMJD4SGnUgRhPhgPUAi4Z0t9vvzVv9l/Ix/3nYk2YB0u/KmCsnUhBAv/nCdTJtUizAgp28ts5dNthJttsjuU/p1cuXm1De6+7TTyrVrBnWNfHr3j4F8hh39ngN8oCDf/IqNWrKrmfdmTTyqF0ZLwgDfgQ40hQ0xphnMcFgt4+PP/bWaNin/valCahC4hvAu4Jfag2+o/mGATQHkvENrmABQD9522Wy+JPHTBaNdzpOZv+vrH9hBeia1Sqb+3TsqFuyKB9fdlTGfvqGgUtN7Pxw0PnVSw8U25uQRoD75++FxtsPiw6UOH7afd09wT0dO6oArcIp5WjdCFrDDgXzD2OXhYDuxE355XNp2KaL1Fq3YcKYSnUu0Ic1cq661PSTD1EccZ8XpPSwx5DWk7/puRB9zs473foGvUjk511U2PdiesnOADa+GtabBQQ7P9QLf/zqH5vfWUyxE+cXdZCybNMZvG6h3cUT2HnvzDKh04FV3Dl6od+ukyqz+BsLYDzgMOeyO5BOYv7GLlt3pb3BqnSXHNOj016OBXJJJ/nxkTefMOVGOuUmmzu8+RU9QGcioPJ+1m+AvHr5wSbijx0i26+eqvXkZC9aTr8ETD5wQCfBW4M3ETWw+y4HmwiBfglPE/yzo/UlkxcD2Z64mBgoA02/bsf6DX7MQ3B/xyrdhhbuVRhGQ6oQxsSO4362EE98+kffUKX6UgWFz81Fv7NV+91L95XJ2guORHBUP9UPH9pTGrXrbsLhMsm16bWteZ764/EBzZ+dkAcaRdVwptKO5Uv/NtH22NK1Q+T69Qlbfsh8x1NvNJcxu/h56BO+gBpUB+qJVgRbNrYPowBFKu3hXg58/vLmkyktWlW+/A/gExZaEwtLPkhAhWriuIbPXmzfOVBIP6kdMKDCB+3Yx2Pbo+x+aGRLfg8C6PcH3ykTRq+Jlqbl2wC975E3SuPm4eGd0wXoJQv/jNkFs7vxX7LfYfVHbl9TH/WTfvhYKlWubLZb/UKZ+/Uji0x2A7BBRUtft0lradZ144Sy+cU7TtBWcS+wyULPC3R+45e/ATmYkfmNO9v2VwFaA4IA0K/8OFVmXRnzM954x2Nl9odrFmY1W3aVJvtfKUsbdDQaaAVo1SxS3iOHri8nPV92gRQ0vjEbwpsNbuXwtY1siTtw/BPfGuUBoNuy5xay92VlQd4ez/yMP3RCOPsljS2gMuEbgvKgx66xIEnsPGJHHBRCWvNUiE/1fdX7X7vikLjJoJ0HOwsoHNkVZCGEFjZBKTNzignMgRlBvA2fDTW7WsxRACH+/jV8N3mzc8JiPFvzD0q3lj02D4w+SyCnpYsWyIZ7HxOXI8G02GmjDl88fYsJFe5dvPvJkveRXVdMyZYtWiCdtu1rdlc1WqD2fZS2ZXsh4ffeeRcuO51+q/Tqu8aNa6rjxQF0qhKrYPf7DRC2vfhQR3kp8ARhH5osT/Fhb7Z2vUZlqoCfbWzH/NqDxgvtHVrBedPGlwkFrRNEn0sGmIho3i0qruN9gshqfloHb9jcXMtHV+JE0WILy6/8BTMmS90mrcyHkQMctRs1NzZqduIDBYiFfchSaQ/wzUESPUwT9CwTLfaImH14Q3OnUp7eqx41ooznVPNn+/u7Vx4wYc1TSciX09/eBRt5EOocM5AgsyU+7CxIWRh6FzjeOgQB9EfD7pexw8vW2Qbo4y94XipXrhrarHQB2i9jxkhQWOcgMxp9R9FoIc+wBLj77QT5vcdheQVBB38PG28AKmB16F1vmQOTmAuh9bUBukazjlKn6zZml2vW+wNE3dhpKG8boJOFjI/SDuC2ctWqZtHpTWEuUhWO8B6z1eHnm7Duyd7vMNlEqW+u72GhyjxqL3CDyuRdxDSRnQpv0hDz5dlm4k0o9LMo+P61hxJ2X4LaxYKexZSdvIoqFrNtN45FQk2WiDjLgpfDlblI3rnDmA+FmH+G1cMBdJiEKvj1oAGCNnO748sGZihGcaEl5JAOUJZOUk1m8CSz0ri94XCZJl5eToJj01ZeyQTnada2vIpPu1y0dqkEAworCLAYesPx0vdyf+1Z2PPJrjNpr1i2xJiCZCuxPdlxqz0TtKPp5h0E0M8/dKqxV/amRIAeJJUrVwktOpsAHVpYwA2EM+cA42YHpu97mR0mxgkL6kwSoMAOHpE9kyUW7dVq1TGHp9hW777zgfLZ4zfILhc9GtdA12zZTWp32lya9z1fVq9YJpX+M9fzA2jKwq75pOd+yaT6vs8OveE4Y85he4yyb8RvOoecoyy4P2IRfdJ1Wa+jyzBYAsxTLBz9FEypyg2zHGz/Cz1xRoJvMof+000OoNOVXAV5LsoAKXZRsIpG02P7Vc51mwBqtqddchIoTwkEAfTXHz0jv3zzhlngcSiH1GPjPWTrXWLbnRwiJFBKpUqJ2ie/thQCQJenjLNd9tLlq+IAXX+zfaRW6x7SsHfMxEFTEEBnuy6aH2YBlapWi9uc5qocl6+TQCFJIAofORvoQuqxPNclygDJc5VccU4CTgJZkkAQQH/z8XPy89eDjdcd448aF2xHXC9NW8S80wDQJ170ogloEpYcQIdJKLXrNkD3vOU7qVw95lGlPAE6tRa4u50ESkMCUfjIAXRp9HVarYgyQNLK2D3kJOAkUO4SCALomdNGy5BnrzAa5tWrV/kCtNd9XVBjHEBnt5ttgN7gjl+M/bMD6OzK2OXmJBBFAlH4yAF0FEmW6D1RBkiJNt01y0mg5CUQBNArli+Vx+88Ug4/fYA8+18o7n6HXy9NW67RQDuALp/hkQDQdw33tSvOtwlH+UjCleokUL4SiMJHDqDLt4/KtfQoA6RcK+gKdxJwEkhbAkEATYbLly2VatVrxoOmOIBOW8xZfdAGaPW64TTQWRWxy8xJIJIEovCRA+hIoizNm6IMkNJsuWuVk0DpSyAZQGvrNepgv8Ovk6Ytu5g/8zengS6f8aEAXW3qd9Kge8wvuwPo8ukLV2rFlkAUPnIAXYHHSJQBUoHF45ruJFDUEogK0NvsfqK067S51KxVxwF0Ofe4AnT9WtWkehV/LyjOhKOcO8kVXyEkEIWPHEBXiKHg38goA6QCi8c13UmgqCUQFaC92mangS6/bncAXX6ydyU7CdgSiMJHDqAr8JiJMkAqsHhc050EiloC6QL0my9cJ3sdfEWktjsvHJHEFPkmB9CRReVudBLIqQSi8JED6Jx2QWFnHmWAFHYLXO2cBJwEgiSQLkCnIlEH0KlIK/xeB9DhMnJ3OAnkQwJR+MgBdD56okDLiDJACrTqrlpOAk4CIRJwAF18Q8QBdPH1matxaUogCh85gC7Nvo/UqigDJFJG7iYnASeBgpOAA+iC65LQCjmADhWRu8FJIC8SiMJHDqDz0hWFWUiUAVKYNXe1chJwEgiTgAPoMAkV3nUH0IXXJ65GFVMCUfjIAXTFHBum1VEGSAUWj2u6k0BRS8ABdPF1nwPo4uszV+PSlEAUPnIAXZp9H6lVUQZIpIzcTU4CTgIFJwEH0AXXJaEVcgAdKiJ3g5NAXiQQhY8cQOelKwqzkCgDpDBr7mrlJOAkECYBB9BhEiq86w6gC69PXI0qpgSi8JED6Io5NkyrowyQCiwe13QngaKWgAPo4us+B9DF12euxqUpgSh85AC6NPs+UquiDJBIGbmbnAScBApOAg6gC65LQivkADpURO4GJ4G8SCAKHzmAzktXFGYhUQZIYdbc1cpJwEkgTAIOoMMkVHjXHUAXXp+4GlVMCUThIwfQFXNsmFZHGSAVWDyu6U4CRS0BB9DF130OoIuvz1yNS1MCUfjIAXRp9n2kVkUZIJEycjc5CTgJFJwEogD0mF8/ks7r75B23V0o77RF5/ugA+jsytPl5iSQrgSi8JED6HSlWwLPRRkgJdBM1wQngQopgSgAnalgHEBnKsHE5x1AZ1eeLjcngXQlEIWPHECnK90SeC7KACmBZromOAlUSAk4gC6+bncAXXx95mpcmhKIwkcOoEuz7yO1KsoAiZSRu8lJwEmg4CTgALrguiS0Qg6gQ0XkbnASyIsEovCRA+i8dEVhFhJlgBRmzV2tnAScBMIk4AA6TEKFd90BdOH1iatRxZRAFD5yAF0xx4ZpdZQBUoHF45ruJFDUEnAAXXzd5wC6+PrM1bg0JRCFjxxAl2bfR2pVlAESKSN3k5OAk0DBScABdMF1SWiFHECHisjd4CSQFwlE4SMH0HnpisIsJMoAKcyau1o5CTgJhEnAAXSYhArvugPowusTV6OKKYEofOQAumKODdPqKAOkAovHNd1JoKgl4AC6+LrPAXTx9ZmrcWlKIAofOYAuzb6P1KpkA2T48OHSuXNnqVq1amhec+fOlQULFkiHDh3MvfPnz5dZs2ZJly5dQp+tCDf88ccfsmLFCmnTpk1RNXfGjBmyfPnyoqt3UQk5h5V1AJ1D4eYoawfQORKsy9ZJIEUJOIBOUWAV7fZcAvTs2bMNgLskAkCvXLlSWrduXVTicABdVN1VprIOoIuv/xxAF1+fuRqXpgQcQJdmv2atVWEA3alTJ6lWrVpoeX4aaAfQa8TmADp0CLkbciABB9A5EGqOs3QAnWMBu+ydBCJKIApA37NPO6lSfe2IOaZ222kvDg99YC3Sv//++2/one6GrEvAAXTWReqboQJ0q1atjN15sSSngS6WnvKvpwPo4us/B9DF12euxqUpgSgA/fP330qVGrVyIoAePXqE5usAOlREubvBAXTuZGvn7AA6P3J2pSRKwAF08Y0IB9DF12euxqUpgSgAzVmxXCUH0LmSbJbyzRVAz5s3T+bMmeNsoP/rJwB61apV0rJlS6eBztLYddmES8ABdLiMCu0OB9CF1iOuPhVVAlEA+sdvvpSVyxbnRESbbbtLaL5OAx0qotzd4AA6d7L1aqAdQOdH1q6UNRJwAF18o8EBdPH1matxaUogCkDftXdrWbVsSU4EcP57c0PzdQAdKqLc3eAAOneytXOePn26rF692mmg8yNuV8p/EnAAXXxDwQF08fWZq3FpSiAKQDs/0KXZ95FaFQbQHTt2lOrVq4fm5fXCgQkHf8OLh0siDqDdKCgPCTiALg+pZ1amA+jM5OeedhLIlgQcQGdLkiWajwPo/HQsAI2jmebNm0ulSpXyU2gWSnFeOLIgxHLMwgF0OQo/zaIdQKcpOPeYk0CWJeAAOssCLbXsHEDnp0eLFaCLNYJifnq18EtxAF34feStoQPo4uszV+PSlIAD6NLs16y1KpcADXxFccOStcYUcEbFDNDFGEGxgIdCXqvmADqv4s5KYQ6gsyJGl4mTQMYScACdsQhLO4NcAfSff/4pbP87gI6NHwCa1KxZs6Iy4SjWCIql/dZGb50D6OiyKpQ7HUAXSk+4elR0CTiArugjIKT9uQRoDhJyCNElkWnTphn/zw6g3WjIpwQcQOdT2tkpywF0duTocnESyFQCDqAzlWCJPx80QDjwNmLECOnQoYPUqFEjVApeLxxooB1ArxGbA+jQIeRuyIEEHEDnQKg5ztIBdI4F7LJ3EogoAQfQEQVVUW9zAJ2fnncAnR85u1ISJeAAuvhGhAPo4uszV+PSlIAD6NLs16y1ygF01kSZNCMAGvd1TZo0kcqVK+en0CyU4mygsyDEcszCAXQ5Cj/Noh1Apyk495iTQJYl4AA6ywIttewcQOenRx1A50fOrhSngS72MeAAuth70NW/VCTgALpUejJH7QgaIISdHjlypLOBzpLcHUBnSZAum5Qk4DTQKYmrIG52AF0Q3eAq4SRgDv5zHixZcqG8K/BAyRVAc6hw/vz5zgvHf2PLAXQFfsnKsekOoMtR+GkW7QA6TcG5x5wEsiwBB9BZFmipZRcG0Outt57UrFkztNleLxze30MzKPEbAGhsnxs3buxsoEu8rwupeQ6gC6k3otXFAXQ0Obm7nARyLQEH0LmWcJHn7wA6Px3oADo/cnalJErAAXTxjQgH0MXXZ67GpSkBB9Cl2a9Za5UD6KyJMmlGDqDzI2dXigPoYh8DDqCLvQdd/UtFAg6gS6Unc9SOoAGyatUqGTVqlDgTjuwIXgG6UaNGUqVKlexkmodcKpobuxX/LJH37j5X9rr44TxIN/dFOA107mWc7RIcQGdboi4/J4H0JOAAOj25VZinHEDnp6sdQOdHzpmWsmTBXHnwwC5y/ntzM82qIJ53AF0Q3ZBSJRxApyQud7OTQM4kEAWg79mnnVSpvnZO6nDai8ND812L9G+Yr5DQbNwN6UggVwA94vN3pHrTDsYNXnmkZYv/kqo1akmlyoWh7S1lgP504HXScas9pVnXjcujq7Na5hdP3yxfPXu7A+gUpLq8VKlGAAAgAElEQVR6+XJZNX++rLtPP6kU4cBxCllXyFsdQFfIbneNLkAJRAHon7//VqrUqJWT2vfo0SM0XwfQoSLK3Q1hAN2+fXupVSt8cHi9buAbcZ8Hv845QM+ZM0caNGhgovzZ6elTdpCeexwhvfoemzvhpZBzeQM0fr29MopS/enTpwvmPK1btw68fcARG8mWh50nPXc/LEqWBX2P+vR0Gujo3eQAOrqsgu5869ZTZc6EEXLUw5+IA+jM5Wnn8PuXb0mHrfbMbqYutwohgSgAPXx4uJY4XWE5gE5Xcnl6LhlAjx49Wtq1a5cyQLOZcMdujWT3G9+QHptsldWW/DV7mtSova5Uq7mOyZfB26lTJ6lWrVpCOY8fv5X06nt8QQE0ts8NGzYsFxto5BTlZfR2FgANfLdq1SqwHx87elNZt1lb6X/Ty1nt6/LIzAF06lJ3AJ26zLxP2OPOAXTm8rRzQLZnDpkU/2ZkN3eXWylLIApA//jNl7Jy2eKciGGzbXcJzddpoENFlLsbggbIypUrZcyYMZEBGk3wwoULjcZ55fJlcnefFtJpt6Ok73l3ZLXyT5ywtWy497HSq+9xSQGaSXPnM2+TDfsck9Xy080MDXS6AL1q5QpjikJfpZtyBdBPnriNzJ00ylSrFLS2pQjQTx6zpfQ77FqptnbtdIePjBvxmTRv3V3Wrl2/TB6lCtArl/8jVarVSFtmqTzoBegHD+gkXa77TKpXqeybzbKVq2TekuXSf6NWUrOa/z2plF/K9yLbHU+5UTba98SiaSZ1PnrA59KwbZeiqXMpVjQKQN+1d2tZtWxJTpof5ZvqADonoo+WaboAvWrFcuEDU33tOqYgG6CXLPxTHjygs7Tf/kDZ79IHTShMhb8Vy5ZK1erBgVl+fH2AbNj3OKlU2f+jwMSyw8nXy8b7nRwI0ADnXXs2k13OukM22OuoaIKw7pr221fSsueWKT83b+o4qd+qo+9zUQB6/vTxUq/FevLokRvLCU//EM/nlUsPkvW22M1o0394/RHZeN+TUq5brgDaDmMa5WVPueJ5fkDbc8QD/5MmHTeQxfPnmB2PylWq5rkm0YrjHaxctXqZxRUmTEc+9JFwiPDOfq3koGPvlHUbB+8ieEtbtHCOVK1WQ2rUjEH3IzcfYP4/6eKyuww2QK9VvbosX/p3fF6I1orEu6JqDBfPmyVr12+SThGRnqEemFQ0at896f2ct9B5MOjGqb9+Ia3W3zowHy9AP9CniXS9/dfIAL161arAOTNSY0vgpuVLF8vCmVOkUbuu8daM++ItGXLNkbL35Y9L5237ptRK+7uV0oNZuDloIZ9OnVavWpnSWaDF82ebb3S1WuktuEd/9Jq02XgHqVmnXqgkZoz6Ia2zM5mOd8bKF0/dZFgiWYoC0C6Ud2g3l+4NyQB67Nix0rZt2wQTDiaouk1by3cv3y9jPx8mh93zjhGO2kC3adlc7ukbs5fd6MgrZPtDz5CRI0ca8wE17UgGWgzGs96YYg4A+iXvxOJnwqH37Hr2nbL+nkfGs4nyoft39Wq5Y/fGaWlTKTeobQrQ2GtXrVrVyGLhzMnG9EGTPu/NR9uzzXFXymcDr02rbtkAaCa7Tx69Sg6+c5ip8i/DnpT37z0/Xn/aPuXnz6Rm3QbSqF23nL80P70xUDDp2e74q7JWlsq6dsPmctLzv8oDB3QRxlHHrbNjQ/nHyO+kVr1GCf2eSeWfOX1ns6D66OEr5LSXR5usANh7+7U140QBmr/7we/MaWPknyV/SdtOmyZUY8izV0jLdhvI6tWrZMMt9pHH7zjcXPfmwTj+d8WK+CHCJ0/fUVhInj1sWsra20nffyTNu29q6s4CZtRHr8r2J14bKJ5k71smMrXfx036nybbn3hN0uzC6sHH/s49YqB/7tsz4zAz/ut35fUrDzP9RB7tN99F9rtukLGBBqC73PqT1PCYpmlFbA30P3MmybOn7yJnvD4hoZ7k36LHFlJjnbqybPEiqZ7BDkQ25JnrPBgv799znpw5eJIpijbft28783OfSwZIlx32S6kKYf2aUmYp3mx/54A9gHb2hOFmvJz8/G8p5UZejI2wRZ497vn55EHDZZ0GTVMqi5spb7/rX5D2m+0c+qwtYxRv1WvVlspVE80xvZno/Hbs419L/ZZrnBSw871WpUqRlB1zJ42WJ0/sbd495jC8L61dr1GZ+jqADu3Cin1DGECvvfpvadNjMyOkyT9+Ii9fvL8ZdAD0qA9fNVoukmqgWzZtJPfvt575W7d+p8huJ19t/EkD0H6raoAVzatqbsNedq5XqV5Lzh46xZSRDKBtDXQUeCc/NHp392mZFqSmAtCqJVfg1sn+lBdGyEMHd5fz3p0jy5f8LT8Pe8JAs53S0fSGAfSHD14qvY++pIzWARvoEcMGyoLxPxmt/7AbT5Sz3pgsS/+aJw/075RQr9NeGScP9I9p4Lc9/kpp1XNradJpwzKasX8WLZBKVapEtklkjNB/q1YuF36eOfYnWbteY3ni+K2kSvWacvbQqVl7iW1tAh+B1y4/WLY+6hJzSFITH2nGVjrpoYO7SeP11pf9b3ghncfLPOO3A2C/ZzZAn3jRS3FNNWBcqVJlo1kGlPc66HKTN5rn6ZN+kzG/fSRrrVVJZkwdKbXrNpZFC2eb60ed9XhcK83vn77ziNRv0Eo6t97YeOFA203a97rnZb3Ndy1TXw7L7Xnhg2X+rnPL/je+JK9eeqC023RnmfjdB0nfQ9p56N1vS/NuifCfimAZV0sX/im11m0YKNuw9y0MtHROoYAjHvxQmnRY35T10oX7mgWnAjRtZly8ceNJMvbjV6Xzzd9LzRr+u3U2QC+ZOd68C+TDzuBdezWPy+/A2wZL6w16m7mXRQ2QAVCXYvJ+X+ZOHiNPnhDT+uPXveuO/UObPfKDl6Tbzgea+2Lfook5W3gsmjtDBl91uFksepPdFs7zbNTvePnqudtl8bzZ8Xdi6A3Hy9ZHXZwAkZqPbX5EXszDR9z/gbx62cG+c8/nT9wovY+5NN5u88Naa8n5784JlRn573bO3dJzj9gi29sPaMD5lrGT59dOxq3uFOx27j2hh9FRhN23b3uTlb6bvMfv332uVK5WXXY67WZzDXPPYx79QgYeu7nRNLffbI098bxpv8vjx24hh9//gXz5zK0y4Zv3pGrNteWsIZPNs4vm/CHjv3lXeu19rPn2JEv2HBwqrBRvCJt7Yt3k3NilKNbs3d50nSoy8++V8QwBlCUL5kj1Og0EDfRbZ28bH6Rv336GjHhvkPn9sydukG8G3RW/BkD/9ddfsmrGKHnj2qPj+Z3z9ix57oL9ZOnsybJo9jTzd1sLw0B95LD14/kwGIHyxuv19G2kDlYmQybFZACtLxgvwNu3nS4jP3hRzhwyWarVDPbZuHzJIrl3n3Ypa9DCNNdeDfTXg+6Sz5+4wWjb16pU2diMk9CSsAV22D3vSs269YUDen7p7GHTI622+aAygY35fULCIUJctdVt1ka67RTbmkeuWx5+vmx1xEVxyEJuBFJ597rDZd6E32Tfa56VYTefZCaZjx65Qn549aHAgUj/VV+nrkz95fMyEPTyxf2lScf1ZdvjrvR9Ho3Lu3eeJXtf9pg8e8Yu8vfcGbJu83aCac2u59wl7911jhxy11sy6JyYVlgnmZcu2k8OvOW1tF+OL5+9Tb58+pb483wU3r3rbPM744aPUq26DYysKPPjAVcmaEiZiDv27pOgfV84a6rUbbLGdMJvEakF8qE89rEvE+rPeKxac51A+/dUAPr4CwZJ5cpVZPaM3+X1py4x2mSvaYb+3rRlF5k5LabRttM6dRrJ3odeJXXWbSJLlyyUp+89Xnr02l0227BPAkCjFd/hlBsSnn3hvL1NH9J3jdp3i2tisTP+7d3n5d07zixTXtAHRBfErTbYWg66bYjYW7pAEAkQmj7iG5n1+28GQPzSnIkj5amTYnPcgj8mGlmrJkple9Qjn5bZUZk59mcZ9eEr5sPMfae8OKqMBov3DheP37/yQLxoFAXHDvxKJnz7gXz08GUyf9p4Yyo0a9wv5p5z3vzDADCpaf8rpWnvg3zrbQP00tkTDQwAe/ft117E+uBvc+wV5syIamLt9yXtFyXigwQk2vzgs82OZbYS46TnbofGs2PeBfRQBGl/qYLltSsOkQnfvG/u9WpE0Tj+++9qsxC3k70Y0vx2P/8+6bHrIfHbeCcZNy26b+7bLEyLUIKEwQ/vAu+EfR/KgbpN28YVESx6UOjYSe+nfvVarifHDvxazDxRY22z08GBSd2B4jltBxrlhw/p4VsvbfePQx6TDx+4OF5cUBvQ4GKfrYuUtpvsKP1vjL13Wh7jersTrpbZv/8mXzx9i1G8eJOWy5z+69vPyC5n3i4b9Dla5kwcZXahGTvTh3+dYFKpJqLkdd47s8138NXLD5a5E0eZ++AC/R5j+/7hQ5dKhy33kH2ueSZe/IIZk+SxozaROk1ay1+zYso4+91gdx2OueD9Px1AZ+vlLcV81m9SXX6dtSzeNP2QnTnsDxk/fry8edY25hoH8qb8/LmM/XSIeQE/fOgy+fH1R+KnmxWgxw2+R4a/+3xSUTXrsrEcdu+75h624AccvqHJ095yC3pxbWA49aXRMn7qDOncuXOCFw77Hj4ebJvPHr9m2wtNaZB9lh+QROl31TKd89YM+Xf1qjLb116A1nI6bdtPdj/vHjPhkZgMzEdBRE589mcjG7+05eEXyFfP3ibHPfGt1GsRW41rGvvZUOm0zd7m108HXivzp0+U9fY7zwD0lF8+NxM/NuKqlcAs59EjNzL3H3bfe9K0Uy/zQRp4zGayzTkPyecPnCfzJg6XTfqfKt+/8qDRjuNlJWqy+1L7mPpvfeRFCVkAzixu/v5zppnoVRtv37T1kRcLvpq77XyQWRDppIdt/T17tzLj6MEDu8oeFz5gNJl8TE9/dZxUqVY9ns2kHz42W5NACx/QtpvsYK4l0ySweHj9qsPNhI2JDzaVQ68/NuFj9MABnWXHU26Ia7rQtN+/f4f4PeO/esfkoXXWMk989hep07hFHMzt9mqd1t/jCNl4/1NNX9vnA+w6n/v2LHNN/3b6a+OlWuVqca3wljseKetvtrdMGvedvPvqrWUAesbUUfLGc/6LGm9fo80e+dN78vl7j5lLDRq0kqMe/zJelt1GPo4sfOy6bnXkRfLdS/fLin8Wy+aHnCMNWnUUtNPexFhjPDxyaM8EWav5g5ZD3swraJaW/b0wvkvFTtnoj183i7U2G21XJv//PXCJ/DTkUZP3oHP7mHu2OvyC+BjkAb/t6M8ev16+eeHuuPb4oNuHlLFx9sKIFs6ideT//D3WGAj+z+ygyT6XSLPtY+PFmxSgF96+q/zz1zxz+ZjHvpInji97dqPrDvsbcxhNYWAX9l5jI/v82Xsa2GGxEWQjnmyxmKwMG2Lt+7Ajf/H8fmLP3+/ccZY0aNNJNu1/WsL4oo2cHZn0fUy7e+Ctr0vrDWPfMn3v7DHKz/Zi6vmz9zDfDRKL9+Of/M7sfDE3BrVryk+fSoO2XeShg2Lmayg5pv36ZXx+MWVMGGHk9dfs6TLg8A3i9el75ZPmnAvz8jGPfWl2FEhNO28kM8f8mCAuG6C5sPMZt8oH911YRqTcpzBvX+TvQOjoD181Byvt3Vm/OdBvvHAf/UDQKb532l4WJczDmnAfiBtBlTUKHTXR0HnertsWh55ndkKfOXVHWbZkkXTapq98++I95j3jfWIhzDkpoJjUfddDZI/z74v3SZft95U+lz4qb950UsKY14W2lvX9qw/Jx49c4Ssz/jjm0yEy9PrjHECXkVAO/jDgiF6yw8k3ZM1OUquI1hQtHh9l0h+jvpd37jhTFs2ZLtscfVlWThVf1Lue3PL5fJO/bavH73vc+ZG8fW4MLkgde+8t4z4fmgB2urKbNXOGLJw/T8YOvsdoUJMlXiA0Lby4HDbEHKBljy1k6aIF8ufkmNZLX9oZo3+U2o2ayToNmsVfdG/efa54Utr22sYA/VZHXJgUhPRZe1IImkD8Jg5CPXNoC1ABdNEy0R7dVtr2+Kvk08euSfjYo+1t3nt/mTX8c1mxYJZM/Oa9+KSI3eOeFz5kQMub2Np75rSdQkesTvDc6NWEf/Tw5fLDaw/Lbrf/T3quv4GRzUnP/Wq0/m033kE22vckY6agCQ0umlxbExZagQg3qCw10t86DZtJj90Old5HXSIceNvtvHvMpAnAr12vScLHxS97xsu04V+bS8c/9YM8dlQsiMtJz/9mYMtO3tPs9kcC7f9578wyY+vpU7Y3Hzi/1GO3w2T4u8/FL3F4jY+TtmvW77+a+uvY5SAoNu72WLbLrd+6k3Tdfj+zGOh35VOy3pa7G+2Rd8vY+0HjQ05/a/JeP/XlMead0nTO4Cly1z4xDWDlylVlp35ny3uv3RaTlUcDjd2zn9bZTx5Hn/2EPHl3ooebvc5/QN68/bT47ScP+s28t9SRxS4f26AEQNg7V3of78fkHz+VVSuWycF3DDUaJnYnfntnTV/oosabNxo3oPyfRfONFszPLtuGoTv3aCrbHHu5bHrA6UYbBviTMF1iXGBusd/1g8xWsD6n2r66zdrKCU99b+zP1cVmsgVZkBxsgG5+6E3SeLPEg28Lf/tQqtVvLstXiyyu1VRmX7fmYOJxT3wjA4/x14ra5bEwrVm3YXwhxtjHHvTIBz+Kw82Pgx+VjfY5IeEA+P37dzR2sYzZ7166T4CS5t02M+8wC39v8oImWlJMrsKCW/EcCy52BOxdqjeuP84ocPSd4jsDVLXovpnRdNry3u28ew0gTv7pE3N/n8sek3GfDzO7WiQ/CNa/6eJY29O617bCmYgR779gdk8ZJyTvook5HI2nLgRbrr+VAWj7O0IZaqZky4v3HzMC5m/e8aCdR57Z/fz7ZexnQ+La9aCxxOJz4nf/S5jfVXbfvnRf/DvFN4w2Uc9UABqThxVL17hv48Dtp49fJxO//cC3Sqp4UXksmDE5Pm/bD/jVQ/+GUgCzF7T3JBQpe174QLzeAHffKx73bQfjfuWK5UY5FKSY4vzOKS+MjJ9ZcBrowCk7exfyBdCATaueW5mtdhLaYlZn2EXhJYCPC9umdRonbvkkaykvDB/k/a57Xh4/LlF70WHXI+X3954u8zgreT4mmsx29tO3y/fPxmyPSPVad5b5U8YEFt3vqqfl6+duF8DDLwFwgKm+0BwWaNFzC/nt7WeTdhx2WGH36CTC/2qHyM9s8Qy+6oiEdnkLe+H8vkZTgMZjzKdvyPevPmg+qGh8VWtg548G7JNHr5Z97v5Qxr73jIx65+n4ip372Obio6xai3RHpZrFeD8ML16wjzGjaNRtC+l34X1JJ2a77ANueU1evijaoRvGD2POHhPedgA5mH1ssv8pCZPXCU//GNd+6zPYpT17evgBlKiyOv6p7+OH9vRjYT8b9OGIkv8Jz/xkTDTsDw+LA8xONKn9pffj1LRzL5k55idzmy687LGj7iC99TjlxZHmA4JmFShIlrY9+jL59MlEUwq934bgI88cKE/fG3MNmc2ksm3WdROZMer7jLPGNARPNHZSiA3LHDOL395+RrY49FwDZ9+8eE98rsCUSg8/G23X4Eflwwcv8c1St4W9F9VuGwACqFPZpdG80J4Nu/EE82urEx6WBt23kT+G3S3N+8RMiX4+O9gjCNo4TOyipM7b9ZO9LxtobtVdIdtXMmN1x9NulvFfvi0H3BLTXvM3NIQoPH4Z9kRCMWprrX8c/clgGXZDzGyGw889dj04PsfptntQPe33hL4A8FFQ6Nkanjvqkc/kqZNiGuWN9z9FdjjpujLQpABrl4NWmLMb7HyQ2LVh4bb9SdfG50Ygf+WypfHHANZ3bj+9THV7H32pGUuaqHe7zXYuA5CYLAH5uiMV1j9HPvSxWcxnmjj8jBmNNyHTX958yhy4xEytWbdNja045zr4mzchazyb/PrW0/FD+X6gjekFB8vDkiqN2PFRhZn3mVYb9DbfLU32+RoOxmLWock7fydbSMIUaMGTpW2OuVw+eyLmncMBdFhvZuF6vgD60aM2MTaX6hEA+0pO53IABhOCz5+8yZgqpGIHqi8C9lM6qahImvXaUWb89GGohPrf+LK8cmnMllbTlsddK18NDN4O9tuasp9nMq9avZbZLs9FYhHC1qZ30WCXxYuJWcHqlSviByCQF4eWOLzEz2ij0Y7pgTN9ft9rn5OJ338omFMsmR87gNW0+5Yyc0Rs5WwntvDt7bx02svqnwMU2EKS2LnY/dx7Zci1a9z4BX34/crb7sRr5JMB0bxbYNqB5gRNd1hix+L3r95OetsWh5wrXw+6MyyryNf1EGCQRtA7AauZSKQC/jtoE6Zt5KOh9phh+fbqd7x5z9UW1nu/2qLb2p+gPDfe50T5YfAA38vtOm8uE8d8Y6512WAnGf1L2cNMYXUNu37W0KkJW7ph96dzHa2UDVdBebC9y6LDb8G0QZ9j4lDIQhp7ys+fvDGd6pgzDRzu4oxDJqnVcQ9Ig57bG2je4I6fDUj+en6vwCwxDQjaQfF7CCh55eL940oMTEv2vCh2roHxXKdJK/lr1lRh8YO3pbAxbmta0aCySNGEjeyk72PfEnaJ3r/nXONxhDTkmqOk31VPGbMQzBFseAxa3NrzE4uq7U++vsyCpUGbLgbQMONa+Z+fXu9OEgvgR48IlmlY/3m1y0H3s0BDOaMa8bB8s3EdrTZmY36Jg7x+JlN+9+J1CbM/FoS6oElncZhJmyif8wwkL6vgjUO/e1zXczKZlKfPOoDOhhRD8lCAXrZ4ofzw2iPSYavd5ec3Hpe1Klcx5hfYW75/7wXG9IItht3OuSu+5YXrJuxUMWpft3lb2e74q+O2erYJx4MHdTOH+6rg87VSZTniwf8lnL7FBpRDTHwgTnr258itTjYp2hNP5Az/u7H/fZ/IK2eUtTkMy4etskVz/wi7LfR62JZxaAb/mZF8cP9F8ufU32WH8x6SenXWSdBShX1QajduGT84WbtpW1k0M+ZeyZt2Ov0W+d/9ifbAUepXKPcg6+fO3C1uslAo9bLr0Xm7fWTMJ4N9q+Y1V7G3UKPsaKRqE54P+Rx6zzvy/Fm7Jy2qTYdNZPLvMa1w+y5byoTRZRd36dSVQ8CY5ZDQvr95c8xne1jivMLPQx8Pu63M9WSg4JdZ2I5DzTr1zY4SWrpsJVyIoUWNmuoedIvUWDpXZr0RM7dpuvtpMvOdNYcR/fJhlw4bcL9UqUpVowgIS177Wr3fu+sYJFf9u3duxNTjj5HfJjwWU1CscbnoN59yePfefm3KFGdrIbvvcrA5bMb3zy817tDTmPDkIrFz1G0nvHusZc5tpJq8h9hSfT7d+zc76Cyzex2UgpQYmMIMf3dQ3LY83fJz+RzKBw54ZyM5gM6GFEPysAEauzleKuzHOEz38YCrDBCzncKWLHaSHMjr1LuPWaETyW3Pix+WDlvubly5vH3baSYC0brN2hjPEbYNtJ+mGzvQ16841EzO2JYBY8mCh1x99dVyzTVr/JretkuDtCXk1bpqRtjG7XDBo/L2dUfInDGxgCDYH1WqUi1+ujioUE61Y7ebSUK7ffh975XRmFSrtY5xpxMlscptt+lOMvazN8zte93zmbRt0TRe/9NeGVvGjVuUfKPcwwecbVJvwjYTk5BCSXicwISALVngdNhNJ0o2tOmptM9rh5fKs3ovtroPH7LGbloBGtOUVutvlWBv65c/28LqRSWs/KjmBmH5hF0/7N735Lkzy7qRC3vOvt6kRSeZNX1s/E+77Hu+vP/67QlZ4CP6568TFybJABV7Ug5b+SUOxD518nYJ2+fJ6uu1VY3aNg7uqi2t3zNq3x41v7D72KHDmwsKlKipxoZ95J+f15jnVK3XXFbMT1+xELSd760PXjtYbOqZgqj15b5k2lj7cLTmaS881UOEtzzOaUz6IeYqNZ1Uo3Y92f+GF9N6F6KeA8EEb/niRWb+SzU1aNNZ/pzsb+qIxxZ8quci6e5CUN62yUQuytc8kd1rl6/xcJJKWbhK/fSxsn7iMWPl7+wMZ5Iw5Tln2DTnhSMTIUZ51gbozx6/zhihkzhwhl0dLzAwRuIgRP0W6xmfi18/f6dMG/6N9L8x5k2AhIsvAHSLQ86JBND6HKdqsf1t0WNzcyAvagrToibL58zBE43LN286/dXfZeGSZbJ48WJ57eSYD2mdXF++aP+k21iYIvARDUoN23WTuRNj8k2WwrRMYc/SLg69aNrt9g/l3+m/xA8W4RWBg0aZpCAzCewMv34+5mcYWzAONvDBBxjYkmS3Ql11ZVK+/Ww6wMXJdmzItW9ZIOLtIpMx5W0PtpXNu25qXNapqy+9h8OQbIm+c/sZZcTgd5jQvglZrl653GhH8VnMIpQEQOD+jIOIjGNcZIWZBwR5P/Drm0zGZdS+JoIYddfgHV0695Zm7deXj94u6385WZ7b7HaCfPbuo+YWDaCibu70uRMufEEevXXNIdQwc5mgA3/kh3u39+45T/6cPFaWLpxrTtgns+nFFjzTswN+7d/0wDPMITkWUBxie+O6xMOSUftB72P+R5ESZO/JfbYrO36v2mYjWTE50ftCULkAAwtY9Rrhd5/uBLTptV3OzAhYPGMGaA4l/ud/OdmuAu7h9N2157xU5ZvsftrNO4xXhlRTsncVJZXuUKhpkJ1/o/Y9ZM6E4aFFevvdXtyls7PF82jjR7z3gtmxthM27baLOvyR+51Bolw8awy++ojIZmehDQ24wZZx0O6zvo/eLMIOW+r9HbfeS8Z98WaZGrBIYMd+4cxJ8tOQgWWAm+A7XXfc3wF0up0b9TmvCcdRD38cfxSYsP0a21pljeKGOyBNxm7UJiMAACAASURBVIh/rUqyy5m3pQTQPI+HA1yPAQ/JfB3b7Tpvy3WlWe0q8T9xqEI/vMnaf/j97ws2ZrbLGr2fl2LWrFkGoGusXCQTJ4yXrXePHUizT7fb+e90+q0mVDUpGYCRN+YqnOjHBrTHgRfI8Jdi25ya0MRzqI7DOLwg+Mrc6dSb5cOHL5N5U9Zo1Pzax+7BZgeeYXxvYleuaddb35fJb94vYz6JnQL3SxzMSXZdn+HDzO5DEADYhxgAW1bSeF/hoAs2xGEy8tat4zZ9Zdx/mnS/eu9x4YPSfecDI4GvvUMAQDfpuGGZQAP0H5ofvB/Yh+PssttuslOkbUCFc0ygvAeXdKLXU/HYtePxRF0ZhY0jPzmSp/qU1bLnT59g3itN2jbvhM/92IEn20HhHhbOUe1rOVTGLhQu+YISh+MeOmhN+GJs+/e65JF4fx57zP2yau0a8uPXr8tv35f9kATlu3v/i+WdV2IHg22A7tRjO+nYYztZe511pV7DVnFf0tyn0csGX31k3H2V5s8HHDdU2i86znUn4+hHv5CfBg8wu0S4XQPGCbdLIqIoh5js5LV9tl1mBQrL54JX09dz98PMrgPv6YG3Dg48n8Cc9b/7LzTv8UsX7ucLyCzGNj/4HJn26xfmEK0eTtOoolodG2b2uvIZ+fKP5bL8s4GyeEyiX3C7+nUPuV0WDjrfLGD/+XuhsSW2D17h3WXKL5/JT0MeM7tEA47cyMwfuO3LZbLPWqAMmvrLF6HF6QHM0BtTvAEbZwLyfHDvBSk+GVP6qNcg78PYBb9wbp/APKMulIHDP0Z8G7fvtRfj9gFK7Okxb7LNArVwzkxsd8I18uubT8U9cz131u4Jh3Y5yIjW2fZQRCwFfJl7k72ToAGOwoTHol0VTpjM/P3nrPjZH57d+/KBxi2cX1k6H3h3IXQ+tw/42s9zOBxfznayTY04h8R3Fi86UbyLeO9BDi4SYVjPZ+F6ugDtp4F+5ZIDhNPDqWqgaYb6VcStFyYgUVLlSmvJLTvHzDhwBYSZgD2QGrTrJruddYfgF3Pvuz6UoefEXHVhZtKgdacyh/z05QOglyxZIi1atDABWfBBTBrx/ovGTEUTvltnjP4hIVKUN0S03Q6vjd4O17wm/84aIx9bJ+bV5+fs8cPNgRQOxnBAZugNx/kCrrrnoxwNI+59mXa+6W354JIYvAaloBfde796+6Atd+3VIr7yxU1Xleo1jI07pj6271J2Mwg4oe6iUtHybnT8TfLjY2s8CuABZcg1a0Kc6ylxvzwJLNGwwwby94yJxjadAC9rVa5kQgd7fatqO8kHUwXsDvEM480X8xfMVPTvftoawBsQrN0oFlRixpgfZcqPn0qj9XrE3TJ5xwK/4xeWBQeaJ/IHYFRb3/+mV4w5FZOiXdeg8aX5a9RIPQDJyfUP7r9QADh7Acn96kcdLwwLZ0yShm27ytxJo+JFcM/0Ed/Gg8DYh9f8xlWQTareqwEM2Lma/GNs4Y4ZV6++xyUAdOV69WTlvyvlibvWHCoNGsfqnWOvg6+UN1+IbZEqQD9z/4ly6CkPmoAsmvDesZZUkrqt1pPD7ov5dyeCphda1FMD/nRrN2ppfAjjq5cojyz42c5m7JM4pITmlr4Dpm3TINtVpNdjA0qJHrscIs+dtZvJh214TAA4XOe3aCFICgtx5jdvYrfr6Ec+NT5z1TUgHnjwQU3yC1hhu1fsfcxlZh63k9bXLKT+C6bEdVsbe9gjX8o7I2fK0rdukSXjYgen/FKjSz+WjVaPk5477huPoMp9wEqn3nubuYKAL0Ra1B3QoLk1yIQisHC05B43Znpv+813NS7ZSOksaryuGO066PciqF6A3EG3DY67/2ThMPbzoWXgjXnsgwcuklljg88L2e+ed5GVDJCTvbPebwT34hP8rVtOMU1SD0RBkTwHHLFRPPAH32rcLvq5BSSAj23jrHW6Y/cmcS9QLLB+efNJ837gi53AaCQboL3+qr1yh1UOvv0NefGCfmahxHyG2Ql9YD+LeZY5F7GWJLi+s+XoPbekgOwna9yAHnTr6yZgjSZc2BLgRc0u7XbQbuaTVy7pL7qLbV8nDwfQyd72HF5LF6DRbBEFq8+lA6T95rsZ7wS8SEcP+My43QqzgUZL0maj7Q1ksF1DUAC2jYhMZENCsqZzn9pB64DitPDvX79jIlr12u9U2enka42ro3ETJ8vUr4bKiJfviL9k3hfMC9DNmzeXcePGxQEazxSYuaxasUKqrttUuvXe3Wwr2dEJ7SAJ1N0+ya/5YwuMq6mtL3lOOnToII8f2Su+ZaX34BmCjxQrbRYU37xwjzH/sIMKmPw9Lqz8XiaVoR/w6AlzylVn/8lkzsGYmaN/EOxBMVfh437Aza/6BnoIygfNurq78t7DhApAqbuv3e74SOaM/Ep+HBhzPk890bDXa9nBjBcNxqJ+OdF4EoyC1HbLPrLFCddL/do15ZehT8iGfY8zQWiYbIIAGk0hp9014AfjFN+9mrwfGLS+uADENSAeZQg24p3c7DayUKSNGn550Dl7GX/Wnbfta8yY/pV/BRMb6ohf6efOiNkCYyKgIeM1P3vSZFvWL0S3+gnHvRQ7KDufHotWqD637XaZkOMrlsmXz9xmPmBsmW95xAVxbZW2Cx+2jE1chOGG8ulTd0iIIEeewABmUsnGI4cFm3eNaWHYpeCgmHpSYAfl75nTZPUX3wsAXalatbi2uHqNtWXZf668vOPnxItelAG3HCR7H3K1DB10tbmsAO03HlcvXy7zp4yTtbfbRhp1XhMcwu+DFHUa5ll7nPDzJ49dI43bdzc+jHHjR8AFfONzWBLNE+NRkwbCsMdRUH2Yh3GbyDkS9YNOPjbEfPPivfLNoDuN5wiix5GAs9+/fFs69t4r3kf2trsGtrHbTB3YttfwzV89d4fRslPPyT99alxHHv7YN/LOiFky965EH9CaT48bvpCJT54n6xxxv/TfqJXUrBZbdNhwHiRnDayh5lf22A1alKPBY2cFwAFYNHAGPqtXrVye4HfcW27fK54oYwITZkYS21la7bsTyoKIIBd8J9lpYs7SQCMsaJgXUDTg/QjTGyPXHz+Rly/eP6Fq/J0Dlxz6ByBRXuDl4X/3X2zMh0j2+PNq0v2gjoUD7mD95hb9m31eQvO3A1kxpojyu+1xZYN8kAcQqkHBks2RGqCMZ2w3nmjN1X8+O9XM89+98oAJRkK0QIJzBYElBwjVNSG7bwRhwXUdfs/xVoW2fvRHrxqzkH5XxtzZMabwksEBV9zHsRtiH/CjLM77sFuJz/hXLj3QuKjDDh+f3ZwdQGHxxnXHxsHY7hucMOABjAVRs64bm/Gg9vt2O3AhyHeNBPN4o8jyd+QKgOtihuedBjrqjJ3BfekCNEUS0pWoVtjhEMITw/h2m8S0vGEA/eGDl5pB9c/ff5ltdA48ofUAvqMmP4Dm2Rm/j5BBZ+0ie1wyULr2jmlnfv/9d6lSpYq0atnC+J32ThT73P+FdOgUC+KgGmgvQJu48v/+K3///bdMnjJFGtVYLW/fepqgCfLTDOqWuvrEteF4xbIlMnb8JAPQNWrUMFHyFsycHAecZDK4e+/WsvVRF8km+59qyp3w7fuyctk/8Qh++jGx7WPJT0Nt8zMHXPjo7X/9C+Yl1rppVDy/8g+5931p0WWN2yTACU0tW3cNWneM2m1msnr8uC2Mb1FvYmv5mxfuMr6Ijxk0RmbMmGHsuN49b4eEyVF9YGvwDjSt7AbwgScYDJPdwY/HNDQtWyb6Fkc+foAQuQH/3WiDEn/SCTDZx8FbBvW2x6Ne//ale2XTA86Iu7fCRKBhmzVBRrhP+9n78YvaDn2eBQMRJTURivavmZMFX8/mUNr8OSZaWL8rE/3n6v1et19oMglBreFvsdVmgmdhAEhue+wV5iNg+99FUwp4aChq8l69dKksGDwkDtBffPCEDP/+Lam1Tj1Z8ncsgJKdCOHd7/DrDGjvss958v7gmC1+GECvmj/fhPKuVLNmmXmB8cQuhx0NMky+9rjAd3ey4Bvci69efA1rwiVas869EsKJhwE9ZhD4MteALkGLWt4lFioaUU3L1DonA1kWTk27bBzfIeR3Dp8x3tVU6LgXxsiQb8fK3DtjoO5NG949QuxQ3qkAtPpBtw/I6QI6CKCpG3Mr7ip1p0ODE5HfUydv72u+QjCTrjvsFw9Frd6GvPBJRFRbE6zv/qI5f5iATyRVXNgLDXby2BUKkrf2Bzse7JiR0GB32Hov2fygWNh4QBNoar/Zzma7f+L3H8mC6eNl9oQRRotKYrFGn7Nr9sljVxs/z34Ajb03bvg04YKVsa++3vk7iiIWtnaobf7ODtsXT90cD4cd9H4AquO/fkf49p/2cnCcBZ73k4sqA7junWMJpEaUydoNmyUUb+ejP+t32VtP5mLGBO51SZTnp8y7nUi2//7rqyhh7sTvtJ14L/lesUOFQozgKSQ9Z6ZtQT54bTnkrjcDQ60HyVb/zkIK00TmKwfQYdKq4NcVoDlxevbQqbJo0SIz6KtXry5TpkyRpk2bSu3atWMTybRp5n8vTHHgDjdv67TsLO3axQ4VBgG0invhwoUyderUuGba2w18TJhoGrWLhUXVCcH70g8fPjwO0Kl0JdprtvMxQ/FL8Yniv9DNeo9t58zPTOAc9COSlzl09l+yzUVsu/Izhk43sl1z3/HmAFAqwKjPqgYUv5fYxx1y55vmpH+tdRvJw4f2NPaWx74wVv74I3Z6v02T+nGTCH7HDyhb5EGBDQC+LvvGPjR+AJ1Onb2ytkO7co0JmA9Wm17bptKdSe/VvvRG+dMxxf9o11SjnUrBhA1n98cOQpHK83ovi2UinfFhwi6RHZ9PB14jZw2JRTNEW01UsUPuHGaCFbTutY2JOkfoeL/Fg+brBWj+7j0IaNfXtnXedNtD5LtPB0mddZvIIScHe39BA+0H0LooSGecsAuFuUSUhMao49Z94ppgnvlzylipsU5ds3jRRKh1zBk0+dULkwcN4qORD6PUgXvIH6gZ+/kw+e2dZ83COtXEWD1t2Cx58cNv0wJoFljMB8kSZoL9b4qFEqc8NJFAE7s3aPw0sfvBIg7FjCaFUVt2auLkLZMgSRxo011KzHAI7MGheRvWvYfB/HYN2CWcO3m0NOu8UTwiLTt5mP7ojqWf5pS/AVUvXbiPtOy5lTGn6n/jS0nlY5Q8/2kq/W7UOYvdD8xkdIfLC5WYUaAlV7/WnEvosv1+BspQsihkpjpGAF12S9gJTJaQsR9IRtmpsPPlfhb02H2n+mxQ/eyw6VHaj+ceAsn5v7OxEOsk+gb/+Qfd/kbCuI1Sht89DqDTlVwFeY4BworP2B+utZaxV169erUBYQC3SZMmoQCNqEaNGiVVq1Y1MEtSgG7WrJnRXKsNtIoVGF+wYEEgQPuJ36ut5J50ATqse/1W3TzDRwX7Ttzk4JrP/kDbear2BH+bbMe9fsNJsmDKGDn03ncTADq25b88Je1cWN25Dggs/nOm1Ou8WRygvX1AGFzMZ5IBTtCiya8votSrPO7RA6F+7XzggC5myzYdyKMtaDrxb5vu8yoPtnEBhPU293c9h6aFj26tumvcTkbpAz+AXrVqpTx2W8x11Lr1m8uCeWvco9kAvf/Rt8qrT14o69RpKIedGguw4ZeCABqzh3GfD5XD73u/PLo9sEzkhl/mM16f4HuPvvsnPvtzSlFds9FIAHObU2+TFz/5Sebe5u/HO5kGOtVxaAO0nqHRdgTlhZ1/z91iXms0+WmvFSiZ4wYctoGc9Hxi1FmeQWOL5lafZ5v9jNfGJ+SLGQh+ue2E5p7dQBK7k3/P/SMhxD1/13Dk+hwHjNEsB+0Cpdt/YVB5T782xu431b5Jtz76HAd5tzvhKqnXYr2ErL4ZdLeJtBe1Pizc1YaejNipYXGaSdJFVdQ6LP1rvtkdwkwvLNEfBDoj4FmmyQF0phIs8ee9AwQgJXXs2DElgOY5NKs8R5o5c6YsXbpUggAaeAbOvFCXTNxoErzeRSh3vfXWk5rW1nE2uoyXEJdAfS8fKE+evL3M/c8lkb7w2GqFaTJ025P6DL39bFm59G+z9WRroLNR12R5zJs3LxCgeQ4tNFGpglIQQC+aO6PMVl+u25Ju/pjn4GvUb7L+/tWH5ONHroj8MfHWAdd6z5y2U9rPp9sm846N/VmadtowaRZ+AM0DA2450GjyOvfcQcb8tsbPrg3Q+x19i7z25EVSo1YdOerMWNhnvxQE0ERKZUckFbeamcgj6rNhwPPI4RuaAEhRP+5Ry41639Llq+SVH6fKrCsTPQzwfO0uW8t6Jw/wNeFgR0oPGUctCzvges3bx58j2i0LfkyGzn1rTTj6sPywnyUSIpDz8xuxsRImP/oBhQS2/vzMgUO0tLZmlr9jL44pRKYJzS3mBamYEkUpU22Yg9qLu7vvX3nAnDUphIQ5GTsk3gOu+a5bFAVAOnXCFAdvJcl25qLm6wA6qqQq6H1BAI0mGXiKqoEGmP/55x9p2zZmfx0G0Gi3MeNIBaD9uihXAG3b1f728VB598ZjzGHGdLfdJk34XapVrSoNGjctKIAOG/ZBAB32XCFd14Odfh84tFe4X0rHfIM2Ai3YDRJttBBTEEA/cdfRsnzZYmOaMejh0+NVTwDoo26W1566WLbc6WhZf9PYQTm/FATQhSgP6sSHG887yTSRufq4R5GJH0DX27SfzP9uiKB9JvnZQEfJO8o9HPQefNXhxoNJqkk1i5xpsc3v/PJ55LANDFQCtJjcoCnVg8d6P4ePcWdYqO9XqvJx96+RAGHGiSJayMkBdCH3TgHULRlAT58+XRo1aiR16tQxNQWm0Fq1atWqTM39ABqgxobaz4RDNd2FCtB2A//880+ZMvoX6bV17HBnOgnZoXlGluWlge7evXtk7yzaxlIAaHMABfu5dxMDC6TTj8X2TBBAfzDkbhk/6gs55pyn5Ym7Yi4Nu2ywk2y3RyzsNnbS+x51k7z+1CVJDxByb7EBNNv/mKyhMQ1KnL/Am0N5JC9AV2/cTrpeOkx+Prt7XgCaw6icQyBarktOAhVZAg6gK3LvR2h7eQE0UIp3iGIA6BEjRpiFQyZ1VYDmQCYeQ/KVbBOOigrQbNviKk59SudL9oVQThBAf/Xh0/Lrt0MNHOuhwh4b7yFb7xILZsTfDjv1Yfnhi5fjUB3UnmID6ELol2R1sAG6/UkPS42mHaRavWYy7dUbpeX+MVeUudRAF7p8XP2cBPIlAQfQ+ZJ0kZaTCkAnM7sI0kBjAjJ+/Pgy8IkNNM906dIlI8mhyW7fvr3UqlUro3ySPTxhwgRjzw2AppvKC6Dnz58v7CSQ0gFo+pwx4vXCka4c3HP5lUAQQH/76SD56cvXEgB6wy32kc23P8xUcPyoL2W9rmu8LySrtQPo7PapDdA9rv9MqqxTv0wBDqCzK3OXm5OAnwQcQLtxkVQCyQAa92cNGzaMm3AAYqtWrZLWrVuXyRNt8rJlyxJsoPm9cePGRQ/Qc+fONR5D1MNIOkOqvAGafu7WrVvKJhwAdKVKlUxEyUJMQX5GC7Gu5VGnIICeMPoreX/wnQkAvUnvA2Xj3gekXE0H0CmLLOkDNkD3vPkbqVxjHQfQ2RWxy81JIJIEHEBHElPFvckPoNdee21juwwU2wCNthcb3iCAXr58ubRpEwshzrP8jg01Glyv+QOaUVzdFYMGes6cOebAY7EDdNeuXQ0Mp5IKXQPNmMzEtCYVWRTjvUEAvXr1Khnx47vSc5M94yYcW+54lKy/Wep2rw6gszsybIBe/7YfpVLVNX7jtSSngc6uzF1uTgJOA+3GQMoSCNJA4xrOD6ApwA9YFJgVoNG4oq1OBtCzZ8+Wzp0TI8Ol2oB8mHAA0H/99Zdxl5duKm8NNODMYsUBdLo9WJzPBQG03Rq1gd6p71nSoVvvlBvqADplkUXWQG9w52++rukcQGdX5i43JwEH0G4MpCyBZACNjXL9+vWlbt2Y0/RknjO8AM292CWjyQ7SQBcLQFNPIjRmCtAcHlxnnXXyeohQbaArV65sFiupAnQhe+HAfIMDnk4DHfzapwLQB594r9StnxjGN8qE4gA6ipSi32NroNVtnfdpB9DR5enudBJIVwLOhCNdyVWQ5/wAet1115UGDRqYQ35egOaa34EyL0BjP71y5UqTz8SJE31NOLIF0ERNxOwkV4nFAACKCUS6CRAtT4CuUqWKdOrUyQF0uh1YpM+lAtDHnvesVPUxFwhrugPoMAmldl0ButaCiVK3dTffhx1ApyZTd7eTQDoScACdjtQq0DN+AF2vXj0DzpkCNCYc5OMH0LhX43AeUJdJAm7zAdBobjmEl25SgAb0sx01MVmdNOIjYdaJEllKGmhCzo8cOdJpoJMMgFQA+vgLnpfKlaumPMQdQKcssqQPKEDXr1VNqlep7AA6u+J1uTkJRJaAA+jIoqqYNybTQHPID5i2TTiCNNBonFesWBE/RMjvpQLQ3ralM1LKG6CrVatmTFDQpKeSCtmEg/E1atQoB9BZAugTLnxBKlVKbXxQtAPoVN6o8HsdQIfLyN3hJJAPCTiAzoeUi7gM7wBBW4y2Es0xJhapADQmG+qhQwGa5ydNmlQGcopJA63mKH7eR6J2fXkBtNpAO4CO2lOldV9UDfQOfc6Qjt23SdnNoQPo7I8XB9DZl6nL0UkgHQk4gE5HahXoGe8AUY0jAI33CTTOUTXQXoBmi53n/QCaSIT8KxYTDmTgF8I86lApb4AmfDgBZ0pJA814Gz16dIXXQKOJJ9APB1S9KSpAE5Ew3eQ00OlKzv85B9DZlafLzUkgXQk4gE5XchXkuTCABhyBYBL2xrYJByYbaKtJXi0tvwPQPD958uQykAM8o4XGLjeTRJ3atm3rCw+Z5Gs/6213OvmWN0BzgBFbcQfQ6fReYT+j4dr9vJFEAehn7jtBjjjj0bQb6QA6bdH5PugAOrvydLk5CaQrAQfQ6UqugjyXLkDr4TT9aHsBWsNHE3il2AE6G3bA5MHhQVz75fMQocIVZeKjG28cqaRM244ZENEoc5FYwI0ZM6bCa6DxUT5lyhRfOUQB6Ez7xgF0phJMfN4BdHbl6XJzEkhXAg6g05VcBXkuGUDjJQMA9tNAe31Ce8N8O4BOHEDlDdCAOzbc+QboXEYKdAAdG2Ps5uBGMl0NdKZTnQPoTCXoADq7EnS5OQlkRwIOoLMjx5LNJQigOfzHhzkVgMZkQ+2EAUbyrl27tq92DDhHi51JeGw6JR8mHJlqYamnArRqofM1oFQDjfs8+qaUAJpQ8WPHjq3wGuglS5b4BitijDkNdL7etOyV4zTQ2ZOly8lJIBMJOIDORHoV4FnvACGyG3bLmQA0B5rGjx9vPHlwsMlve9kBdH4GlwPo/Mi5PEtxAF2e0s9+2Q6gsy9Tl6OTQDoScACdjtQq0DNBfqABaOALAOZn1fbqIUJAm1DKum2MyYZqoPWDni+AxrYXTbdfwkNBqgfnvPkUswZat/fpRyJIOg106b3cixcv9g1W5DTQxdnXDqCLs99crUtPAg6gS69Ps9qidAEaDTKRCv0AWn0PA9CYDkydOrXMNjsu8hYuXJixCQcgj21vEEBnwwa3FAAa+TRv3jzuNSXqIMq07dmQf1BdnQlHTDJ///23r6tIB9BRR3lh3ecAurD6w9Wm4krAAXTF7ftILQ+ygUbTjI0yAGxroMkUaPa6oQO00EhjZ8vPPNugQQPjdQKA7t69e0KQBgAa7wFEx8skOYBOLj3VQGPL3qxZs5IC6GTgmMmYKrZnFy1aZMykeMe8ydlAF1tvijiALr4+czUuTQk4gC7Nfs1aq7wDBNjlb34ArWAMQBPAgkAWqoG2ARpzDrTQCtBc69atW4UHaBYT+GPm/3wlBWjs2ps2bVpSAK229n7eJ/Il30IoxwF0IfRC9urgADp7snQ5OQlkIgEH0JlIrwI8G2TCEQTQiARbWsw3MOOwAVqv4ZsXF2MANF4nAGovQOMfmA9/RdJAlydA059NmjQpKYD+559/5Pfff6/QXjjY9WEXRneGnAa6+CdtB9DF34euBaUhAQfQpdGPOWuFPUD0Ywxs8Q8bZaBPTThse9hZs2YJhwWJbkeyr6HF5lkFaIKsdOnSRSpVqhRvBwDNFjzhpTNJwANmI5go+KVs2OBmages8kGWhNTGLCZfSW3V6cNGjRpJtWrVUio607ZnQ/5BFXYALebg7siRIx1ApzSqC/tmB9CF3T+udhVHAg6gK05fp9VSL0BrABQFaDTIHAb0QnIygMa+mev5AGjgAY14MoD22l+nKqhMIbI8AVp3A8oToNl9sBdPqcrfAXSwxDCjwpyK5AKpZGtklW8+DqDLV/6udCcBlYADaDcWkkrAHiBos4hohiY6DKAx4UADiAs58rAhU6MUNmzY0GhcyTNXGuhiAegJEyYYmZaXBhobaEw4ykMD3bVr14xdCfoNYmcDLbJs2TIZN26ccU/IO+ZN7hBh8X0AHEAXX5+5GpemBBxAl2a/Zq1VQQANcGGjzKE3Pw00UIydM+YTYQANbHfu3DlBC+nVYKfboCgAnakGNBsaaBYVuJErL4BmN4B/5QHQmco/aGw4gBbzDrLLULVqVfOOOYBOdyYpnOccQBdOX7iaVGwJOICu2P0f2novQAO7aKLRaGHHjN2sH0Bj10yQkhYtWhgwTqaBJs9OnTolaCGLCaAnTZpk5IGpSLoJ+ZSnDXTjxo1NhEkAPpWU6eKBhUM2NdCMOcYsYy5ZBL5U2ljM96ovbNrgTDiKuSfX1N0BdGn0o2tF8UvAAXTx92FOW2APEOAEsAWg+RkNNFrTIIDG/hKAJtKfF6AJ3AGsofHkwGDHjh1TBmjCgYd56UimgdZDkZSdKjjaQgcCxHeBtwAAIABJREFUNQJjup2BfDg8iDzK4xBhqQC0mgcBiw6gRRxAp/tGFu5zDqALt29czSqWBBxAV6z+Trm1XoAGdrFtZrufEMEAHz+TbEhWX88dOnQwZh72NX5WV3dBAI1Wmi149eLhV/EoHhxGjRplIB/tqjcpQGsdUxbOfw9kE6DZaiesdr6SeuFIF6AzbXu2NdAOoBNHjvr55h1knHuTs4HO15uWvXIcQGdPli4nJ4FMJOAAOhPpVYBn7QGCRhkPGnyU0TrjZk5tZ70Ajf9dNKmYeGDekA5AA+pt27YNlHKmAK0uvrANBVzTTZmaMajskFexAXSmbacPOdzGGMlGsgGaBd7EiRMrtB9o9XiDtxy/3RoH0NkYdfnNwwF0fuXtSnMSCJKAA2g3NpJKwAvQaCwBaTRabJEDfX4aaPwvK1wDhUEAzTXy5ONuQ5R68XAAndsBqhpoPHDg6i9VU5ZsAHSmOwAqIUyKJk+ebH7FhMMBtJhdHEydHEDn9j3KZ+4OoPMpbVeWk0CwBBxAu9ERGaA50Y/2GYDGhhkNMdDrB9CAFXCMf2HMNPwAGntqnk8HoNX8IixMczITDqeBFiP7v/76y/Qn/1gYpZKyAdAsngC8TNO8efOEw6sK0OyQcMAzbIxkWm4hP6924A6gC7mXUqubA+jU5OXudhLIlQQcQOdKsiWSrz1A8CmLezrABPd02QJooJyIg7YGmnI4AIUfab80ZcoUA35hcJQMoDkIyXU8gKTqvs2uU6YQSV56iDDfJhxs8QPOaG/zDdC6CMpU/toXCovsimA77wBa4gcpnQ10iUzIIuIAunT60rWkuCXgALq4+y/ntbcHiB5IolAAGqDGw0aQBhooVddoyTTQ6QA0wSEoPwpAN2vWzHjJ8CYH0GJs2ksNoNUjigNoiZuxOIDO+VSZtwIcQOdN1K4gJ4GkEnAA7QZI5AGiB5IAFDxFoCHG3y4RBVWLyv942ACYowA0AD5//nyjMUxFA60hqMPCcBPGuGnTpr4ArWGOM3Vjp4sDXPYhk1TtiFV2yBQZ5NMLhwI0sEm52TDhiHK4kzZnWwOtJhz402ZHA606OxUEamGiq4hJ7cCxb2/dunUZEbhDhMU3KhxAF1+fuRqXpgQcQJdmv2atVfYA4WAfNrMK0NhEc90PoIEo+2BakAZaAZrDgrYnDGxZyT/IhEO9LYR50MgnQOMuD7/TYVpxv85BPgAs8kAjnK9UCACd6QJGZUU4dMw4SPSBA2gxZiyYWvHPL9CPA+h8vWnZK8cBdPZk6XJyEshEAg6gM5FeBXjWHiBALVo+BWg0uKRkAK12tekANPn7ac0oUwE6zINDMoDWMMeZApy2DVMRbKoLFaDpO0xqgHRNNkBjO5zqYT4/+++oGmg9xJmp/LUtuE4EFBWgsZGnfkQ6rKgaaACa94j/2SHxysEBdPFN4g6gi6/PXI1LUwIOoEuzX7PWKnuA4NGADzEADWxhQxwE0IAL5gBqFhAE0JiAEBIcTbNXAx0FoHkumcYWgEYTjjcQb1KADoPwMGFq2zAVobxCBWjdFcA3dykC9NixY40JjdpAL1iwQAjoA0AzzipiQgvPe4opBzskDqCLfxQ4gC7+PozSAr6LfgHAojzr7smPBBxA50fORVuKPUBU66sAjQYRO9YgG2gAWrWafgBNVEPyZ6JA02x7wkDbHQWg0ar5wbEKPBlAA1scRsSNWqq2v3aHEqwD+C8GgEb7DFB6ARrAwnY4Uw10VPeClK8a6EwXMHZf664IixjMaSgDG+iKDNDIgIUvOyReOTgNdPFNzQ6gi6/P0qlx1J28dPLmGTxdMSe4lL4EHECnL7sK8aQ9QLB/BpDwfgEYhwE0MKZQFgTQCBEtGV49gGYNnILmkPz5u19SmGcCUC8gfvdx2JAw1X6QDUCz7c+Bs3QBWoGRRQWabspLVwONJh3AyZUNtB2lLwigWcRw8C5ZCHVbzl4TDoXiKDLINkArMFM/ysdkBV/j2MlXVIDGjIUxygKJBZ4D6OKfth1AF38fRmlBrgE61/lHaWOx3+MAuth7MMf192qgAU3sTNkOJrE9rCYBXkgGoBWiowA0W/AKXmEATX5s0QOttkmCVxx+0Kj3sBDg4BnQHkXzSrvRllOmJhugAXW7Dal0De3JB0CjKQcobYDGQwMaSmTAooK60A96SDRZmG0vQKtnkygArW4Es6WBpq9pH/WmfMYHuxzsMNh236n0S7HfC0CTAGjGp1cOTgNdfD3sALr4+iydGucacHOdfzptLrZnHEAXW4/lub72AJk6daqBLLxxqDYrHYAGMgmeAdyQgDc8BCQDaNWiqYs3BWjg2QZar3gIKV6/fn3frapUAVoPUdpwiBaVrTDqh5Ybc44o8OitZ74A2s+EwwZoQj/THtrAgUiSbfLhrTehs8lTPTyoXXkUGShAZysSIR8EXAiqf3DcI7Jrwg5DRQVoFny8wwA074p3MeQAOs8TahaKcwCdBSEWQRa5BlzyD3MDWwRiKtcqOoAuV/EXfuH2AGFLHEDho8xWP1CCxjFIA435Bhpr/rc1lToxANAKxl6A5n6uqQmH1zRAARrzjWR2XEA5NtpAtDcBWgAv9tfUMSxhT017bThEK40ZCCYcgCjmD1Hg0Q+gkSdb7MkWBGF1DLqusMp1u3544bABmsURruC4J5n2XsvhHj20x9+QKXblUWSQbYAGmBmXuojhd3YysuXlI13Zl+dzvKuMKQCa98ABdHn2RnbKdgCdHTkWei6pAjTzdpTvmD13V+TzIdnofwfQ2ZBiCefhB9BsC/Mh5p8CNLALrJA0kAovM8CNvXQYQHMY0AavMNtaBWi0vjwblJIBNPCLZ5EoAA08A+vY1NpwiMkDZiBoxgEUYDoKPPoBNCYcyBugzXZSzbAXoFnEcNIbwGKxg/YZLXRUgKbtQKtqoBkbyRYRXKeNtDXbAK0LPAVodh8Yl126dCkDjtmWb6HmhxkLCzM+riwibU831NlpoAu154Lr5QC6+PosnRqnCtDp3O8AOp2eWfOMA+jM5FfyT3tDeWPCgVaLjzLgBJihgfYDaMCZe7wADfwCXKqB5uOOTbUfQKvvWoUtwE7LAg6Av6CDhnROGEADvGF5kA+TE5puNW9g4YAM0LiixUVOAPb48ePTBmgF51wAtIa1DgNogFjviaKB5tAk/asAbZu56KKDhYW6T7PzRIY8z4HFVDQnQS8dIeEZn7QBsxNMUNC+Yi6UzI67lF9i3hHazgKJxabt6cYBdHH2vAPo4uy3VGudDhCnorwhf+bJimrelmp/+N3vADobUizhPPwAWqPmAT1oYDmcZNsCA71oowErNF5oZ/0OEQKegDEazzCAtg+naVls0aPJDIpWSLcA5Wje/Dx1qPkF8IcZQlBSrSoaWoAZuzEmH2QDlGhwmUIGaAXXZADNbgFtBUSjaqC9OwUaOtp+3i4zlwCNxplFDuOKhR2J8cHY8mpeS/iVTWga7whtZwHFWPWGmXca6OIbCQ6gi6/P0qlxeQE0Z51QPCTb2U2nPaX4jAPoUuzVLLbJC9BAM1otEj8DlJkCNCAL+Hg10JStwR9sgAa6MaUAXIH0ZC7XkgE04A7ocyBSDyf6ic6GT1s7y8odqAYaSRyGy1QDjXY9F87zowI0/cnBO7S2YRpo3RWwbaBV080iA6DVpIdVvADNDgFeULKhgSZvxiKLOh2jaPMZW8UA0PR9tiMm2nbhfh5rHEBncbLMU1YOoPMk6HIuJh8A7WfeFjbvl7NYCqp4B9AF1R2FVxmvH2iAFb/NAC0/K0Ar1AIBQC9gCpQCmWgBk2mgAWgg1rYf5n7K1uAPtncHwBdQ1ZRs2yqXAE399CAldcHbA+YDqWyj8ZyapAB7uQJooJgDgroAUNnZNtBoJ/GqgYafNqCJwFwnqD32AUo14QCgyQPbOhug9SCfH0Czg8BYipKoG2PBq0nlWRZVwDz/q/s2FiOAo9d0IUpZ+b4n1Q9mlPrZduF+PtMdQEeRYmHd4wA6eX/kYiFaHiMg1fkgnfsdQGfWsw6gM5NfyT/tBWigGDgBYgBjIAqtnw3QfKixhY0C0IA4GkMgJxlAc4+6uQPqgDuS16+xt0MAaCCKOtqJ+pIn9aTsIA20+nnmWV0wMOkoCGJfyj3IAlORTACaegKI5aGBxg5dPVgoZGOfrD6V/QY6iycWMoC/AjSLK/oGGRHYRBN26rTLBmjyps85xBkVoAF+/vlBPX8HoBknmhxAzzO7JCw61Se73ZcOoItvCncAnbzPmLeYb7Kxq1WeoyMdIE6mvGGO57ungbrIn5gA9u6c/b1LVRFUnrIqr7IdQJeX5IukXHuAYFvKywckAU+AkwI0IMx1XkC0yYCpHRgkSAOtAA3g2uYP3I8dlvqbtgEaG10O8+kBw2T2y37bUWqni8aYfJIBtLrP0+5SYNd80bYD0SwqMgFo5IU8meCStSfdYQOoAqzkb0+MqoFmcqVt/E//Yo4StpXHGGAxQ9/YAE3fMTHzv2qCkQ2yQjtN/hqohT7nYxcE0F5tEgcDvW1QmaB5xs7XBmigkfwrqgZaD1bynqpLSQfQ6b5FhfGcA+jk/cC8hVlf1EV5YfRq2VqkAtAKvsmg157P9X6vD/4gU79ClVF518sBdHn3QIGX7wfQbNOj0QL0+B/4tQEaIAVMbbds6QI0eam3C7WRxhQBkwSAgIkA84CgpBpSO1qh2ukC0OTFtaDw2Wp7bedvH5DjOcAXEAUi0wmkoocicwnQyIu28H8YQCMfZAPsAl525EJbDlzjXv633dixGKBP6HNgmaQBb7waaPqHZ/12AGzPK1puMqinLznISRsBRy3Xz/tEob12fkF6slFH5IAmjvdUXUo6gM6GZMsvDwfQ4QCNWVjQnF5+PZdayfkAaM662MoFdg35HpGcBjq8vxxAh8uoQt9hDxDVVgJN6hYLjSWQi3aTjzUvnwK07ZbND6ABHZ7jH67ObPMH1UArQKu9rQ2vPEN5Glbcr6P8AFrtgYFEtJbkEzTZarlBAM3fMUHA9zFaj3QBGg0xpi+50kAzGdMfaISTAbTuIihAA8BBvkLpbw2qowDN74Asmg3c2KmvcGSDNljNOlQDTZ+zk+AH0Iwtr0kM8mXs+U3utBHTEfqXQ4QsGFjcYcbhZzNdKC+2vcuhss6WHSeyQBPHOFaPOA6gC6Xn06uHA+hwgK5oGmhvoDE/CdnKB73fG2TKaaBTeycdQKcmrwp3tx9AA9Lqeg6YsQGaDz/QggbaPhQXBNBs/wM6fgCN5pm8+N8GaA5G4V1Aba+TmTwA0MCxbQOtbumYZGlLMoBWe2vqANzqytyeaAB4oBGQJjBLqit31XLjjYKfc2HCQX0xo0B2fgBNfwK71N9rphIUyY97WUxRX/X3Tf2RKbIFoNXkByDnXl2EYVZB3wPEQQBNXdHM2vXV/ggCaOrKTgVtAcqpVyYAzXjGVIXdjlwl20e3fdiS8ZDMO0yU+nCQU91RqUwcQEeRXOHe4wA6HKCZbyqSDbTfbp1XSjZAa8TYDh06JMxteo/tWalw34Tyr5kD6PLvg4KugT1A1MYUiAFCAWcFaGAIqGVly3Y9QBkVoHn5gTtbewtw2wCtnjcAJ+4DqIEwtNds0QcljRJoA7TmBeShcaVsravXjZjX4wfleF20oX1VkFSARnMbVZus5i/AZlh70h0sHKwBpLyAr0BLO5E3Zht+iwQbWGkX9zIO+BlNMc8jR/6O1pMtVMoEXrkPGSFrJm4SbUXjTn3437sDALgyBrxeQNAs83etD5BNGdjLA4tooAF3bYO2L10NtIYDT3VRlEo/qbcTntEtVT5kGqY+E4hHFvS79plXzu4QYSo9VRj3OoAOB+iKpoFOFaBVIRUE0Dp/FsaIL9xaOIAu3L4piJr5ATRwCFgAPoAjIK0AzccejS4AbXuVSKaBTgbQwDiaM3s7X1fJaOjCgNMGaIVhdTfH85ghAOAAtJ/NmZZrd4YNafydbXc0pazaFVDDDuDZ+altMtrGsPakOyioD9pN6mn7zVbPFbQT+GVhRN8CjBou3TuZqpwwW+EZ+pyFFMDH70At2ngAGpkAvaqJtusPLPoBtEKrmpyoD2meBQiRlwItdQGO6VMOGNIXtpkI0E4+6QI04wfZZBugVetMvuzWqM22+j3HDaTK3T5Am2r/6wKCD6aGiWcBytjndwfQqUq0/O93AB0O0IUEgHzfmHeTRcz1a1EqNtB2nIQg6XC4Gq08ygzmFMwG1bROn1HPS4Ukv/J/44Jr4AC6kHunAOrmBWi0jMASH3w8ZChAq0cGNNCAFNpqAFq1sEEAzXM8A8Ta2lHuB5yxm0VDZ/tYZmLhGhMSz1OnoAQAYQMK5KtJgNoq+wG0DWvkqXBjm3AwAWl72NpnFc/vtBeo1EiFQZMQskEjrtpuoJm6AdBMbMk06ukOCQVogFLtlcnLC9BooDW0uQ3Q6oZOtaUKqoApfaSBS9B2AsCUYXvDQCNNfmoGQ9kANOUxjmzNqNqo83e1p0Zm5KG+pW2A1rzUzaG9eFHPMemaYKjHl2wDtO2Oz5azLji0n22b/3TqoP0LQJMwaVHXgSwsHECn+0aV33MOoIsLoFNZAPM9QyHBvMpcF/WdjwLQzItqmkGdMG9kTmX+5jvOHMzcoHNF1LLL700ov5LpJ/rIAXT59UFRlGwPEPVygEYOMEFbhjYaOLUBGqDVCHNq05sMoJkwVHurAKsAzfPAmX1Aj4mAevE3XvZkAI22jVW3+pnmfj30B0BrGG7VQHsPcak21O4sNUuwIScMoPVkM6YG1N/eOlPtPQAdtiBId9BQJrJFs+kH0GjnqRtAS19oOHYFY8q1TVe6du1qQJlJBDMLvY8xwe887wVoFgr0m2pX0YgD5Cwm9MAp5ShAaz9pmymfcWf7gVZYtqNAZhOgbU1xmOypN4tLwN+r8fYeCrQPQ6prP7/8/QCaZ5NF37TzUbMrxj11UP/purhzAB3Wq4V3vRQBOluHZumtVHb/8tG7Op9FAVKtu861XoVOUH3tQGNB99gArTbQ7PDy/UTzTP10x83ZQIcv0pCXA+h8vEFFXIYXoDHPAKD5MANJbPkDDHyggWlAkZePg1y2iYUfQKPdA9xIQCkg4QVoJh8SednmEbz06kYPjXdQ8gNoDskx4bD6BvyANw3ygcs2rjGRAGUKHfwtKKm5A/nQTuAySFNqAxGwSV1oNxCpgVqSLQjSHUpBAK2ART/Q12jQ0YBrMBxgWyd15KymBsgGmOVeL0AzDhgTjAFNwDDaZ9pLP5IUoBk7LFwon39oRqiPrennfvqGMln0eEODK2x7gZPxw8IkXQ10WDRGuz+SnWBnPCA/5EKiHcje/mj59a29aOFe7+l5fmcBFtQ+7V/d6XEAne4bVDjPlSJA8+6wO8KuVKap0ABaD1uHAbQ9f+gOX7YBGtnyfdIgVsyNfId09475X333a32ZO1AkJPvOZtpnxfa8mtc4gC62nstzfe0BgjkDK1YAGm002/rAkxeggVE93KUmCckAmjLYPuLlVQ2waqDVHZkXoAF5gBMQwbwjGUCzRUUddYJCG60mAV6AphzahHYVOATSgfBkSQEaiEEuXjtcnrUndf0ZzTj/gDzqpO7GcgXQWk9bA20DNPUEsChfXRHaAG3LQOEW8KePVQMNeOvBUi9As5uAZlblqb6igWW1K6eOGizFK3M+rixsyIePAGY1Kks+Auqxw5Z1pgAN+LKIivIhSwbQdp2QD+DLwon28vFChoxpXTBq29VzCr9zr5oh6e9hsKC7RnwEeX/1ECeLPRYdTgOd5wk1C8UFAXT1f5fJCqkqq9eqJMtWrpJ5S5ZL/41aSc1qlbNQam6zCBvHqZTulxfAiNmfms1lU+MdVjd7t4lvC0oE5n3mAFUa2N8IhVzmwSjzDvfbZiKqLPEeiFe5oDhCFuwEMs9TH40CbJuT6UFMNWMMWwCEySEX1/l28N31tjUXZdl5qozZtWUsJUu379owZ9U5/72YgjFZWov0b1gtw3Jx19OSgBegASYAGljhA6wADXCiYWRSAIb5HZBWk4SoAK1gxP282AxQhV3bvljtn4PCOmtjWf3zggHQCmbAn4bwpv6srAEKYIkJBY0of2eS4V7VmAYJkImFyQgNCnUFoAE98vHa6tpwbedH/TTgRS5W+rpi1v+1bBug1fMF5dPPevDFhjavDOgHNM4K0AAyfcbuBJOyJu4DfFnMIBuSDdBol3Ub0QZRuzw9/MKkSf70j5rzMObUx7UXoFmYUG46yU8jE5SPXW80OyzGNHkXUMiDxYouGHhvgGXV8GPiY8uPfHg3GMOaothHA9CAOdBua5/Jw2i0ly6VBYOHSOV69aRStWrpiCj0mdXLl8uq+fNl3X36SaU0+yG0kAp0QxBAN109x0hhZqVGDqD/G998q5hXef900ZjMFaYOIz/AVvenOqerkiVs6PkpT8iDnTaUNKowsecPlAUsrPV7GFaG1k13rHiOxbh91kbzp0z+aRAxNclUBQvzBXMP30IUZlE16GF1zMV12uSNpphqOekspiiXb7keok9WpgPoVHukhO63AVqhE4DhpeIjDzipdpf/AQHggUmKiYsXG1jwA2gmEO4HcLhXzR8YlArQQBKQpxpPNJV4WUDrTN2YJIJON/NioOVTgFZtIvVEcw2EAX+Uz+RKvmicqRP1ZgHA78Ax8EdiQgLa7aQATT7UFbngLYLyvQAdNDQKAaBZAKmGkomTNoTVH/ClzbatNH0GPNoASP8hRzTFTN70LxM1Y4oJXD8YNhQiK90tULlRL7RJ9AMLFv0o6OE7W0vLzxpIJF2ATqZV9valfQBHAZX/NWwuP+tCQd8rbS+LRQ11bt9nl4Hc+GgnA2i2Wm3f0bprhJx1axa5syjiA+AAuvgm62wCtHdBnU1p2K5Hk+XLvKDjWheJgCALPuYNFuRRk/2uqbLCu9DUd5r5nflFI/FpMDD9ntnwagfUIj/vwUDeLw3oZQOZHSQpqB5+c6wusMmT+dHeNfSThSo51A++7tjqooE6AeS0kTmUOUJduDLnqzkZ87LuOqKUQFvt9XwUtS+yeR+KBeZ42ECT2nEjo3R3bfn+wwgoA+1zOGF1Zwwha42G7AA6TGIV9HoygObl0kNTDCi275kwFJwZ8Lz8aDT9ABrgUOAGPpkw/8/eeYBZUlR7vGZ2djaybGRJu+yyZEQFBTOoDxAwgDkrKioGMGFOYHg+FQOYMWAAEUUFxYQ5oSIiiiA5bGBhc84z875fL//ZM7Xdt6v79r1z753q79tvZ6arK5yqOvWrU6eqAGQATABNhxHs8jcaLHGiYFEGgBswhVXTd+VAaWBBREGSNylOFAgKh3wBHHQ+lAXWPf7X2cZ0KPn4CqoBPcDfniYhgKbccimxZxHTdNKsqvZkDxQ5Sk3yqrq55VmgGSAY8BjIqDedpCLFrfz7VlCUCGUWQOtad+SGnHQToSZADE4AnACawZN00zYBIgP+DgQzIeOh7pA9+cParXwRL3/XaSt8Q13pKutQgMbtxF4NHwrQDKhyL7GAy8/2ohS9k7uGBlXaNe1XR/D5Z42ntQd/QJZlzS77CqCxNqmOkCn9ljz0bdjglv/0Z27MxImFLNCrJox3k9dvCGqmVVug/eX4oEykBKpleaItAW7NXhoOKUsVAE3Z6SOAk3RuSNq1whAndcNkELmp7zBp5G9Zj+1j0gM2rE46EhwLOGnDpGNvK9XeAr63bmFpVmDCYETBIEKft8dfEp53OhHJ1wM2Pv8WQN7pPHfAmrGGpwhAM7bqTH6+zXPl0GRFR3/6rl/kEYDGEITMiF9HXPI/7Z00kIF/ipQta71tpOj3jEuMFf7JILY+0GPaWxISP+2IcQ4Z1dLvdjJm3Vc0mYoAHSLtCsKwNA3AFZnhhCSry0aImwf4AkhQYoBEFa4APkDr6DrAFCWBctCMXQCtY3GY4WugxvrL7wIp/udb4ALIkgXaArQsA3RwZuQoIx46u6wAdATKSkfwl7u0ARDlbQEa8BKEkT+AEXgV9PIz+QLqkSHxyMVDx+lZuZAX8ka5GZTwHQNYiJvBw3ZE8k+8vNP//A0Z8vtwAjR5J30eXQ7jA7RvIaa+LJzZ2yEBaJSxLpWROw/1KoCWldoqfNv2qVNkK4BGWfLQlpC3PzEhf9bnsAhAp10dbuPPutKcQUenrNi8S+lqF7595/tsU/e0m6yB3n6L/AB2C9n2ZzvwA9DUCaBEf9OJJ9QJk5H1K1e6uxYtcrMWLgoG6K2jRrl7p011s5csdXj/5dkHLUD3jx6dWJF8X1QGdvJHX5Wl3Z7WwsRGqw9MBAAALOr0a+RLnJQVmfuTIF+X0vdJn3rLgjv0FWmgC8ibzTPthDoAsHknYORn5BpyDCXthX/oPuUHPeFDO2H4O+kTPxDU1d3t/rFqjJs6vtf1YpHr6nJy36CsaS4cukhHJ+EAZ9rAXWYJnL4tg4U2TPv91rob1XJFsH1MR1f6dWbBmjqnru2Tpj/kBpUFrvZ7rYAJVrM2gfPeuuEB94I7+iCP/bYWePtgyu/KsyzINo/aZM5YqZtcaW/8o1+j97RCalerrMWc+Bj/dIkVP6NL1PZob7680m6E9euH8Yy2bE8f0oRK43haP+Rv6HfGWWRJO2VM4H9kwDih1V/CojcZrzXZ4W+UhTKIg/gbXIC8KA/p09+pF+oZdqHO/Psc6GO0U9o2adg2RlvXgQmqN+KivHnexdGFw6/5gr83C6DpQDQae+uesqrTBIoqSwuKDGgasIBaBh8GL8EpjZsGS0cAQAXQNEy+tcejCaDpPFh9CUtn0YDGzzR8GqfOLgbU1Jno5Do/WQDtW1LIC+nSsS1ASyYoIQZD8ovcGFRQxHQUFAKABrAhAx1zJ0VuFb0AmnhQNgy8cmtI/Ewf2DBGnFkP6aL0NOEo2MSGZW7PAAAgAElEQVRyg4dYoJEFMqUcgAOKxF9e9AFaR+NZCzTlRV6yDFEm4Bklh6IEOKhfrUzwLm0DHYXy0yMckEH+qB9/8Ca8NuXxMwBNuJBrfaUYaZu6Tt0OgP6tXRK6DYPSp91qVzthdOazrSTaI+2aNsv3OnvbDqpplmviSIMMHyrIB4OQNnSSFn2VsuncbvrNmuXL3fzFi2sC9Jpx49xEjjnEHcU5N3+3GUlR9l66zC2cMd3NWrrMdQ0MuC7znnejBgbc2rFjXX9fn1s1ZfKQNurXa24DriOA5GXlZoFLP/tncJOkJitKXhMfPzu+xVD6TRNShbcn2WQVibaKTkSHlHnu65rudh9Y5v69boJ7ymG7u8UL5yf9utajc/X9DdPaSEY5aD/oRsmAfPrlq5WGteIRTkYPC9plypv2jZb76f/2NJ80Czff27/b4zOlC2wfl5tEWrpWJjoK1I432ofgQ6rkob/7JxDlycWfQNh2S5yMm4y1unMBHUpdkl/GWBmnfJ1r9Ypff4S1k1F+Z3JBWnLhVHvSMbQqRz393y+rvayLsQtdl/XoBK6s93n5snJlPECXRoDOa511vm8WQGelwwxVZ9TWC9AoT2ZvwBWDP43VB2hmZShWoAAIAHx50gCavBGef8CuD9B0ePKOMiItIEyd3L+d0Lcm6QYoAJ58+9ZKlJR28aJImHHqBBH+Tp60CUNH1JEPoM1XLCggOi8zX8AcaAIq6ZDy1arVjFoBoHWdN3Kj7EBuGkBrU4nqwe7cxkrIAwAIoKkn2oxOmpCLDjBBncpP3t/k5itzfheAa+e1HfDl7+dboIsCtNK11+PSdnS1tgaOtIHfHq+nCZ29qlttQO5DDMbETf3bNqqJF5YWBnTikKL23WhqtSvaM20WkADIsKTQp3Qk5Kply9xCTtRZuMh19fa6zaN73Nit2/399dyz2wy35/IVbnRfn+NnPeM2b3Ybx4ypUzvGz0eKBCyA2ds3Kb9vDaxHJsAhoCPLsI0L/YTO8ScyaXtb9F3aJN4/Ladofv0VTOueogm1Vt2Kxu2HRyehy8gz4y2Ai05gci0LqrW2pkEk4Mn4ymNdc2COTnr8SU9e2Q477LAI0HlCqve9wJZGzEAGXGCppBMBYgAFAIaVAAigErXESYNn4AM+UApYUbRJyLpwyNFfx+IAynJV0I1DLG3WA9CkR96yAJp3lFFXUzNDU/6RoQCasurGOpQEMCSAlu8YafE34kJmhEcBAKMoO/7JF0kdXt+qvsgLigGFmgbQxKkbhYAsoBfZkh5/p26Ab/7Zm/JQINYSRfqkQ/1QHsBcAB3iy0p+SYNZOhMOuSmUbXeyKFA+PXkWaMrLREdLxtbSb5UmZUXxClz53Qdo2iAWfcLwHoAGzmnD1Js2iTKIyb9ZFhcmMtSrXCJ8ZU7/IG7FYWVEfREn6ZB/4qKf0b6KWKCJE4si8cgtAPnpcgFdZa9NeTYPdsKhjSnaqJJWnyofA7tWUghn4/HPvA5tU0oPqxATO8oCqPBo4nvH7be7jZs2JQC9fPo0t2HsWLfPkh0WnC24RkzLvumzbBuN3408CViATnO98v8m2C0qKfR9mksV8WStdPkbdG2a2tAn1w3Fz5ghN5haeaxlTdZGPetHjRxCzhcOlYvAl3FN4I8OhTeQB2nLyCXdw+/+JIFyk9+qwD40/60cLgJ0E2rHAjRWViCYgZ5BjYaqw8wBH/x/gDMdAcfvdEBtDgBWsFrJjxSQkO9PmgUaWAXQARc6Zh5An3322e6cc84ZIhVZvrRDVxsWsIQBirJAW19sOhn55H+dWgGAUDYGcuAOCy0yAG4oD7LxAVpuGnxHWNLWtdIAsk3fX2IHorDcAeJpAE0doBTkw8hEhb8BXaSbnJPb3x8M0MQDLMmv2p5MUcvCIWFrwiErbtmmqYFIVh0Bl2DNDmT2og27aUVpp1mgecd3QJgAGthkQEHxI1PqVFZO6gy5UFf2mEId20Yb0YZK5E/55VftAzRtmX9p1iUtN1u5UZfUPwNG3uMP4DoBxOah1qCudqkJhyziAui0QVFxC/7T/CLT6sDPq8qWtkRtb3BMTt7o7x88YUXxANAL9t4+4ZqxarUbv2WLW7bLLm79uLF5Yovv21gCab62VRbHLt1bP2jbfuV7mgbVGBTQ81qdAuDoT/ahf8sQIsOH7yOt8Fl7LULK7Osi67ZjYVr5sTo0q78KWK0xKA1ebf7EAiF5VhggGl3ImKgTT2SMsLLSqpluNiySRtmweW4VxAtLwDK13CDLpl/ruzxjRQToRkjdi9MCtHY9E0SzTjqiLJw4uNMBGbwBDqx39jxZ6+fsbyL0AVqbChlUdYV0HkD74rCDvgBand0HaABZPkE6nQM4wlLHNz5A845ZMRMIWeHpKHIf0AYHOjyAQXjKJFBGsSJPwbF//ai1lKadv4zVAeUNvKOoZVEUzAFE1BEd3B4NhpwBYm1ykgWacMQj/287U68F0NQNcqOM2txVplnqVAFfWWvJPwugGVSoHxQp9WD9GrMA2p6Jai3QWDSIA6uvANrujNdGPPKIOwFK3U407CUuyMBe5CLrEX8jj9rdrgHFX4Hg+zyABu6pf13KolNDrPzz/OLsQKmfLQhLVhZW1MYUt+9rKblr85egXAOuNvag4Kk3ycJuhlJeCEM55VLDIKojCtMAevTWbW7PlSuHuGuUaY/2m1GbN7uBceOStiE3LOqTPouRQJMN8qZTNiiXJrH0EfQhfYuwQIZAxfdJ1eY2yku/0sROuoY4eNLO2k4rJ/1SZ7RbX1HkSn5pv9Zf2cIUeUOH2mvtpc91vjyTO/5RnjQ3Jj9Pu++5t7vv3oVD/rysa7LrcX1u8sBQuKxVbxoL0uCOPFNXWb7TdvMcadCH+Bv1ZeOzLmyqY9uWbd+R65UMTPYElCyjgPoD+ov07UqbLbuf37z2DEiiYxiPbR79stl+rp9pF7QHWXCRgT1P3k+btOifuliJ8U5jC2FhAcYhjGrapIcbIenQlyi7bTdpkyL0AvGid6y1mfi194a4pHekI/LkVMV70pS7nNVZOniAcTStPghba7WB97X2HOh0F8LJHVTpo0OQB/pJRxbaTf8KFwG6ihaQE4fvwoHi1uNbhS0US1nrfEm+oWOhWPhbLYCmw+G6QThZ30Is0H5R0gBaQACYWYDlW+VVG8kYXGSBpqOiHPUNHQMlw+QBZc2AiWwE0FJ6OqoOIOafIIw0ZM22S+wqAw1ffl8aCARI6gwoFN3GRH5QHKQBjOrkDxSXrQPS0rKcjtCx8CkLSdqmJOXNblRBjsiZPCLbMhZoWQzSAMoeEaczLzU4URcCaN3KiKIVZGQBtD3jVTuldd0rgyn/NCAIoO0ERwBNWvZsY9oIsqady4dcA5OOwkJ2tG1/YEs76qkWQFPH+DFrhYd00jYI1QJooIA2Qxx2t7kdWP2LG+xNi4pbk2gGWp3+4vdF7RcgHZ3swfdZZ81a+fhHgPmgYS3QRVVi79atbsvo0W63lasSP+lR/f1JFAtmTHcDXV0chO32/M+NbteTn+ZGPbBpifdFj4jTSph0kv0fiNDJGFn51xFrWe9pr5o0MzDTrmmL6Aw9WUfo2bwprJ38FJUpdUoe0GG0e52SwP+btva771833z104vrkxI0hz8BAsoFQz6w5+7rR3W5wEsHf0TH0i7SLfnjPZMFOQmjf9DnyQ5/URl7aELqR9uqfw8tkhb+pjtNWVmy+5eplj6Sz7/3v9U5y8uXrb9zNusCK7yiD75bgu00RjjwK8vU74EW/THO/snnyT2Ly88u4x3iP3C1A63QeP7zftuxxeWl7JLQazJhqJwWKV3t67MQ9dHMnug8DEy6i2v+k40q1yZD2RnugDVmDiuTI/7XqUmMi31K3pElZGL99P2zqTsfUqXySj91IrFU/hZGetnny65DJBzpfG7F1Slet/h1P4Siq/bzwZQE6zQKN1QIFh0WzFkBr1mQPHtfZpnwb6mebBtAavAXQNERmi4Aw/1AWOvqNhqxdsT5Ao8h1FiUdi8YJ7NExdOYzoEbDpgMxSKKs1MlJA9CSldI/DJ3wpGGvmtayPPkkHXVcFID82QT8xMvgoVMpVK0oc/nFCaDJO2VQmoTNAmjdUieIUbwsP1JW/xQVybPWhQK1lgjJKwpMx6RJuZGuBWidAU07sdZ1wvkDmIBdLhwqgyz6FqApF20A2WjySHzkh/rR7XuSmTZyCKBlOZHit/7ndqCzrinKD9+SF9+Fw96uaDfw+Ut2wBPWjzQ/ZntcnK8idLQdeaL/04aAZCtL+03RlSErf79+0pbCFcZOiPg58YHGLWrRvYMuHEXVHcfZcQKH/2zo7XVLJ++a+FfHmwiLSjU7fNY50PaLXfpWuWWbu90TH7xv0FXe9E1AnUkE+jzk3HSAR3tu8kqnNgnIonNsn88CFhtnFkCHputPgmWcSbN+2vzYIyot5KflOS+PvNclRjIwadWT/o++Q/YWoOUjnVdO3uu4T8ZlXwdIZ1oDgV0VxfCi/T7ElQf8dmzz9W7IDY3WWl9kIu1fzoMctUE6pB1JjmkTblnBNR6EyDzEVz0CdIgka4QpC9CAB8ubAJCuKg71gaYD2PMTyR75YBAHwC1Y1yoe8HDdddcNntNsj5/zARrlAKyQLg1b/sQ0TIAFgJZrinyaATX+piu7gSqUtwAaazDwwt9Q8LquWXmWlQhFJ9jhnZQQSsICtCy/zCLJK3EjZ+SCNYHOqA0olJW8+6c40Pn9g+oF0IJg8pAG0MgEOUiBC+IJnwXQcpFIA8SsJUvrikCZkZsmGtaqIYAmbcpO3mhrTIj8iwTskpfd9KJLcigD9Ug40gd4ybP82OUzLZijrnVCjOpTVmrFqXOo9Q3/6yzuEIVJO/BdcDTYyO0BeVD/tCHyixzkF2jdq+zJAfaou7T+o7AJpN5xR9KGtIqRNtlJcz/JUzt2AmYHb1lb5KPpQ7NkKajo6u93e9+7OBegR2/b5masXu3unTZtMGvTV69xEzZvTs1qX1eXWzdurNtl1eoI0HmVWeB9CEBv5lztDVvds46YFQTQBZIvFRQw932Xi/RjuUCk6cBaGUpzsaBfAD5yMbO6hZ+tq4mATbom63ING0dWHikDYzlpWyOM0tTYZgHa5qWI4H0dI6OENRBoLNTmfh9kZTSQG0TaWdk6frNI3kJklRWfHXdsGMpbZLKRFb/cIEPLEwE6VFJ1hCsL0CTpn8IBbMpfOs8H2s9yGReOr3/96+7II49M/K3kA62lDh+gSY+OCkwCnmxcAEbkvyiA1gkAusIViygNEcsvy4oCaP6n/LgG6KQO0rYKijzxPT6dWKmBIZ3DS358gNYMnI6vSQTgnJyJu2bNEHcCykKHTQNoK1vyQ5nlhmF9ev06qHWjlEDft0BLGabduMS7tCOgrMVFG3kGgamra/CacfKNggSgWVngZ9qXlmd1TTq/66QIlUntwQdo5IVsLUDTDuTqIAVKXTNBsud2hgC0fFd9n/e0LspgRPsD4mk7yIJ6Is9atiW/lNOe3WwtZrL8Wz+9vIFcS8iE863gaQBd66KJLNUjv0/eA81MFKgjTbis6w5h7ODAZAFroPIy6MIxMJBczJH26GznhdOmur4HrtS1J3ZkDnpbtkSArmP88D8NA+g+t2LDlpYBaN/HVUCaZ7VV2dGp6Al7S2gZkZIe45Iu7FA/RvcCy4wLaeOmdWvJyjN/t0acWvmrpbcpq3SqPT6uSHmVR+l+LNsYS2yfl6tHFkCTHjLRhVWMXegQGRqK5CdNpmoDReLxXdGKfNuIsBGgGyHVDorTKgsBk2amdEYADICVBVggCngCJUCZBWjgUJev6Og9XcPJ35kV61ZCOi5QKx9AGquW9S3E8T3wQ3iAzN+pLUsw/lnAly7fIB3ekVfSQanys/yldSwfUG6XNJGJLMhyhxBAo4itPx0WBJ1LyjtrUfWbieTqw5kFLuu+Qj7t5iQf6qVs5O/tL2PqdiUBNBYZ6g8II02rvO1mOz/fUvaaOFBG6oqNLaQJODNZAqrtzYYANJMXucwQr6wIaRZo6o0yyRKSd0Uw8ZEnu+GQv8n9xpZD1hhrreW9nfBIniFXx1qAZvKgy3qI01q4lYe8q3qLqBTFLzmFrFyM27jRbRw3zu3GnoXJQy896ebWvO7u5OZB0HrT6NFu1YQJbnPv6CFH3kWALlJL5cO2I0CnuQRYfZQ3IeV7nYhUXnI7vrSnCOXFB7jTf2W4yrJSojOte1yteLM2fCMHC9BlIJNvyIuOe5Xxw56apH1U6FS5FOYBf14d5cnRvg+dOPlxRoAeKpGzrtqx3yFL/l08A9qlUaSWYti6JZAG0Drdwgdo3Bp0ji+wisIBLLEIAxS8Bz4Y4JkRy7+Mn6neNIAGRrGO0uGBUZ3CoYKRv7wbsQTQACFQYW+vA5LtVb2UDQUG9KIMUdppAC0o1UYEFDJlIH86xUJXgocqHsoJOGI5TFM2VpmmLYnKMmt9uLACo/yBbcrKaojdWU99WIDWkmGRwSAPoHWRjL+JEIDGiqpd4TpNA3nVcuGQ5STEausPRshQJ2BYGSNzrLiSfZaC14Qxr2P5Z5TbOpH/st3VHdpG8tLlvT0lh41AWQCdFtespUvdggcuw+G9oHnrqG43um/75sCij73Ku3vcuKKfx/CeBNoRoAV1KgqTd/R2WZCqt1HY/llvXPpee4yK+PTaE4yk3+2GQKvzi+ST8RZDiNxF0LUYcPzNnqHyz9rgVyRPNqzGIG0MLxIPea5SXxZJ2w8bLdD1SG8EfJsG0PILA6Dx9RQM6+gXLfsAbvhw6+xcH6DlCoJvqPyksVACFigWFKwsiIhavli286Qth/vV4m944BtgDaXAO+3OB6zIE2lqOZwwgLD1Vdb3utaWcgmgcTfRZjmUGOViGS3k0QU0ssjrG6tkkTF5YfLhP7LoWLCUNZyJAXLGH9ce/m8BWieaaGALXY4U7FJWrOhYeJlM8HfypM2edvUAGeKLqAtcKAsuPlq5SANorVionCFKlJ3hpJH3yKddceqkjJA00uL2j4qztxgKJohbtzqWTadWuWpZa7L6DcC8Zvw4t6WnJzlRY/L6DXmiy30fATpXRIUCtDNASxdLR5WBzkLCyghs+2cV8dUTh/qi9pjYjYtlAdrmR8YQxjd0rP+uijTqKX/RbyNA75BYtEAXbT1NDp8G0DrhQwDtH00HrAFhWKBxMQBOgDFARhfICBKJXwCNryhWUgvQujyFYusc4KIAbY8pEnwRF/nROY8AM3nEsgt4YEEn3wCdPbFD8KOBQBvtAGjtCJZCEryFwhFKXf7haUour+plubVuIvI9ZqDyAZryUg7dCEhYezZsiKsCebI+0EAyYEx6IQBNOMWBvHVkVhpAyzJTBKDtaRt58rMDib/bO+RbG8ZudrHLqQoji06oBaho+gqfNdhkAXSIT3PRvESALiqx2uHbGaDRLzp3vVqpFItNPtmhurlY7MVCqy9K98pVTbHUm0fFn7bxudH6p5gkwkJHgI4AHdZSWiBUGkBrCToNoLVbWieHYNVkmUNW6DSAlhuFjvHB4isLNAAEsAMciqMIQNtlcvKBryllEkAzI8diDEyi2HW5ARMAwBtFaw+wF0DLGi6AlrVZxzMV8e9TNdubFfkbII+VG1/itAs+CKPzOy382WYjlw1ZQHUEIWH4GzKxLhxS4pQH2YQssfkuHNa3WXVFGMpjNyUC2rLwY/HVNdz8PQ+gkQurCHmPteaknffqf6/8+sfE5aWT9h5rP/KkvflnjlrAzaq7Mmn63xQB6FF9fW7v5SuqSHZIHBGgqxVpuwN0yBF51Ups59haEaCle7RKiG7WBr965KEx3N6U2iz9U0++s76NAB0BuhHtqiFxpgG0lI8FaF2prWV2OiuAowsxAAkdbg4oWws0EKpTEgANATTwKyAFcstYoO2FJQIVATRxAm1YG3UetVweyAOW5yyAtrfioeT8g/vLArQumSGvsvTzc9aZ0vZYojRLBRMQfLJ15bu9nZF45cKB/LnEIAv0ajUu3wJtb8JSnpgEUB7rY0zd6LxwrC5YoMlHFkDbjXmhjZ32w6RBbjpZN6spPivDei7CID5tuqW9ZZ0ZXXSVIrTcdoAs4gMdLdBFJdz88O0K0IAhVlDdptd8ye1IMes4tOHIE/rBusvJZU9GHMaoep4I0PVIr/a30Qe6cbLtiJjTAJqCaU8ny+qc3CDXA+AYaMFaDIACTlgL2bync4aBVL7hIX6UKnBFOB3ThxIBoIEfdhPbq0p9ICAOf2OYNvDZg+N9CzTgDJjqLGoUFjdN8QD//C4/af+WOVmgNasH7pAB5eY70i+6PGZvViQPsoLyc9q1w/IjxO0BSzMw7T/IFL9k5MOkxb+iVQDN33Vzpb/RJK8hC6Dl+47lWnJUXfmy4HcAWrJWvsgn5aK+qS/rjqLNiEWWNHVZj66Sr3XEYNkzTbPkYwFa18/7YTVYFilTXn3Y90Us0HwXAbqIdIcnbLsC9PBIKz3VVjrNgT6KzmSSzSOdgB5kM3uRTYlppZXu9S8a0/jL/43SP42o82iB3iHV6APdiBZWYZxZAC2IBj4BMwG0runUBRR8z+YILI+cYACwCpTVgYFQ3TLoAzTx8d6/utmHBF0aob/bM4utv6f1gcYyCyiTL92+hRWWB4WGpQQrJD/7AK1bnKSUZB21xxgVBWiUOhMSKVJ9D1QCYLqyVOf76krzWtUtlxrrz6x4kRFp8g5YR8YhR8OlQSB/A06pXwBccqwF0HxjlTr50iQHgGbwkCyUJq4eDCyhD20Nqz7wLeu6bQ/2Nq6itwHm5UEAjRsTsrZXQuvb4QJo+i11PnvmTHeTuRY9AnRerQ7/+wjQ9ddBqwE0q3YYXXhYqWUzutzd6i2tjrW0l0IpTjb5M/ZGgC4n5WiBLie3EfNVKEBjKQYedYuSPU8YYWEdzQNolAagAdQCFigU4IeOT0fXk2aBFlTqjF8sz1oqTANofHsBCE61APwIi+VYoA5UAq6kryOXlD7xySIspQToA2sAn07s0PXmsrTmNRp7Nbk9N5XNf4CpTt6g/PKvzYsTlw3dxmet/siLd1h+KSv/I2MuZUkDvVrpWBcOwpUFaHs2axZA55XXf4/1nUkJda3b/tQekAeTI9yO1EbrtfbY9GUp0SpN2u2fRSdZRcufZ63p37jRLbj6atc9dqxbveuu0QJdVMDDED4CdDVCz+sb1aSSHwuTeww0VeoeP1XKmgbQjLn2Rsb83A5/iKqP1KunRBGg65HeCPi2KEDr9ALd3GQtbFjiWCan0+q2PeKXBRqgwzWCMBaggVI6uSyPPogQB5ZTLLRpVsQ0gNZlKygV8gNQ4zIigCZ/dA5cSwCtNKgkXlkOAGhm8oSVtZpJBTAty0JIc5HV0rpaaPd0GdiiPnSudQhAh5yt7JfDB2jqUHLMs0BbpW6v6+VnZK7rr0NklxYGgMbaijxlsaedMWjJVaWMXEPyYwGayaVuNPQhm98bZQHKu5oWgF51+RVuzdw5bt3EiRGgQyp2mMNEgK6mAloFoKspTe1Y7FhlQ7YjQDdDXqFphAD0eafMdT1jJoRGWSjc6y79T274eJFKrogaFyAEoAEzlomABB1QL5cB4Ao3CECpFkADerhU+ACN1ZpvAbKs29ryZqRpAK3NhQC3zn0GdGXp1iUq5D1r+d0HaMrAd9bdo2jNCKCt/7MuICkDetQHGwmBUTtpwYKO8pQFmnKyoS3ELaRKgLYXjNjyVQnQyBTrc5oFmLJg7faviC9ab2nhNUDzf5Zcy9RpFXlTHIMAPWeOW7dLBOgqZduouCJAVyPZkQbQaRZoxlzc7Ro1ga+mplo3lhCAvv7aa1zP2PENKURIvUWAbojowyKtBdDEAJwA0EAa/wug5fZgjyMDhrH8YgG0MEfH5m8AKEvqACPfEVa3w3GedNnrjrMAmrjJJ5ZiLNCkJ4DWySCAJXnNWn6XBZo4KAN+tlUAtDbMIWP5BZe5zpb6YHJD+SRzXCWw8mOdpXxMdgTQZWTsW6CJT3JUB2cFgXrWMiVKG+Vtff9sW+M8buSIPOt5dD16rXLJ7ShEGRXJC+XRrYlZ6bcKQPfPmOHu231mtEAXqeBhChsBuhrBjzSAtsYKSVA3tVat+6qpodaPJQSgLX9UXaKQeosAXbXUC8QXAtCAGRACQOt2QWDUP45MAA04YdXlkRUX0NHFJj5A48+Mn2pIY8myBGqTIXGwpC8/a+JmAyCAyd+wwvLIrQSwpFyhAI3LQcjZyVlVAIwC4gAuUM6DZRzQLPMgU9xL8PGWzImHv+OzLYDGis8kpYyMLUAD+aTjA7Sfd511yi2NuM6oLfA/eagKoLVEWQugy0xMQupCfafW6R6tA9DT3X277x4BOqRihzlMBOhqKmCkAbQ96UMSLHM0aDXS74xYQgD6ur9d7bZtXt+QAh919HG58UaAzhVR4wIUBWgBi0488C3QwCCWZsEcS/XMjAFo/I2BWDq6tUDj38wGujJwJzBjCd8CIvkkbeIG7IFeQEcADbACssBnll8wstFmSWCXOLFc1wvQWAW4bEBXbtsNkUVrGlBGSeKL7QM0kx25qFQB0CgT4mFCJTlm1Znald2gSblZyeBvWKzJs3+tedHyD6ePn7/ykTW506ShaNmqCC8XjmiBrkKazYkjAnQ1csZ9reiG6WpSbn4s6CJ7QpRyUOZo0ObnvnVTDAHoTz11tuvbvKEhhYjH2DVErNVFGgrQwA/gpAPqdT6y/R5Q9QGanAI5ADR+v1iuBdCyEgOwnGhRD0BzuoS1Ygus8E3FlQN3ASzfQDYPEIeFFjCu5b8qpYSbBOHZ8FcFQDOpACbTrl8tUrtMSpA7mzpxrbCK0wI0Vlg2YZaRsSZJbJJjUGJSUQagbbkiQBep5fJhBdAD06e7xXtEC2shuwYAACAASURBVHR5STbvywjQzZN1p6TEil7a6qgu6yqj9ztFNvWUIwSgzz1+x7hbT1pp30aArlqiFccXAtBYNoEx368ZGPYBmuV6Zr0W5rD08j3wBWADj4AscAqcAbD1LLdZX1QpCt3IJ4AGegF3ATSb7JgUkCd7mYcVL/HqggwBNBOHeqwaOrVE6VQB0GzeRO5W5ihOyicLdBUAjZsL8bL6IDlmKWbe62bCtKt9uYiFv0cLdMUd2otOAN09ZYrbMnGCG7dla+UJxqu8qxVpBOhq5TmSY9OepQjQ5VpBBOhychsxX5UBaHuupf2ezWtYQrMAGpgD9ABovuOkjKoAGlC2biB29zFp+ACNawfWZ/KUBdC2EQDQTALIc5UALUt+2QaHVZ/yYc23V8ICr/its2Ig146yfuayQKNMSA9LRyhAZ93QB0DTVnT0Xtnya6I0HAOENuiQ9zxXluHIH/kSQI+aMsV19/aWFXPN7yJAVyvWCNDVynMkxxZdOOqr/QjQ9cmv478uA9C+lVYAAUBjVQTefAs0sIEVlPeAHv7JWIT5nw1g9VigSQ8XDXvcnQ/QQC/p6rY/XD5kBW0mQOtmKMmwXoDGgo4M8e9uNEBThygU/M0lxyww5D2wnQXQnNLBZKqdAZo6ZGJFObMs6a2yiTACdPuo8gjQ7VNXrZ5TuVwO1wS+1eWTl78I0HkSGuHvQwEa/1+7SU1i8y3QADJAYWEOK6EP0Fg1gT4BdN6FEEWrSRe+oDhIC4AG6nUrnTYd6gzmvPjxV8aiy+bDrPOG8+LgvVwbFDZt40dIPAojHzeswro4hHfUAXmWBRpFwDXZZRSpLNC6sIVNj3kArXaRtUESgMadR25BRcpsww6nBTokzxGgQ6QUw1gJRICO7aEqCUSArk+SEaDrk1/Hfx0C0IAnmwBDAJqTFbCKWoDGGgzM0RgBWayOPkBXLWhO18AiLoAGesk/m99w29D5vbKe56VP/vnHsWz1ADQQS/p66rVAExeWdODZB2isozp2rgqA5qg8JlLAun8ToS+/PICuCixb/aKAqsqZ1z6z3kcXjrKSG77vIkAPn+w7LWX0Pxvq2a8Un+ISiABdXGYj6otmAjSwg8UUqJULB7uHy1hF8yoJ2OX0DR+gAT+ss7iNcPJHswHaHn1G2vaikbwypb2XBZrj9XCJ0cMkBh9vATQnaJQ9KlAWaCZHWKHxA8eSjhU/61IZlTMrTFVg2eoAzcQTJVzkuvcy7SACdJVSG964IkAPr/xj6lECkkAE6NgWakqgCoDWWcmcRyxfZGsNlQWajXxYhoFa0gUeOc6sEQBtj+8B0rF84y6B6wAbK5SHUIDGfQMg5WpwYLTsUzVAA8q4pdQCaN20WPZcVAE0FmgAGr9mJiekmfXkATS+4LjPWF/5MjJtdYAuU6Yqv4kW6Cql2Zy4IkA3R84xlSiBPAlEgM6T0Ah/Xy9AA6OAMVCpG/+wevoAjTsBFkzcKrD+clsgANUMgFYZcdsgPfyjiwI0rh+UNevM6NBmRF44fQLXDfyI7U19oXHYcMgaazCTGORpLdBMVniyrioPTQ+AxpcO943QCQf5wsKftYkwAnSo9OsLFwG6PvkNx9cRoIdD6jHNKIGdJRABOraKmhIIBWj8qPKshVkADbBivQUcObO4GQBtz79UGYFfrNFsPCsK0OSbSUAVAE2n1MkjVQA0II513QI0vtHUR1UAjeVZT+iKAXLnuMC0i2eqAmi7WTR29Z0lEAG6/VpFBOj2q7OY486UQATozqzXykpVNUDjKkGjs/64QA7WUPxAWfoHQgFSgI8NcKFAVqTQ9nQGC9BYUbGoFgVonfkL+FK+so+VNz9XAdC4cLCxj1NN9ADQWPvJaxUWaCzK1B8rB6H1RZ2zmTTN5SUCdNkWVOy7CNDF5NUKoSNAt0ItxDxECbhk/GTsq/XEmwhHcEsJAWggCCANsUC3CkBbH2iVEfjFMs1GwjIAzZXZnB9dz0NeOP8YcOZnrhTHMl/Pw8kejQZo8ieARo71PhGg65Vg2PcRoMPk1EqhIkC3Um3EvIxkCUSAHsm1H1D2KgEaiyPWRv7VskDji4x1FItpoyzQ8sG1oOwDNBsDAf6QI36wQFcB0FiLcWugY1YF0JyuwWUw3EaoB59l8suDf3Q9R+9pEyFyYgWB+qv3sROJeuKKLhy1pRcBup7WNTzfRoAeHrnHVKMEfAlEgI5toqYEmgHQWH0BZgAPFwAADP9cAJpTMUJdAopWJb7BwKoto/WNLhIf13hXBY9Kl3xxqgeXz9TzZAE0bjIogKoAmvrT1ev15JdvqzrGrmx91pv/dvk+AnS71NSOfEaAbr86iznuTAlEgO7Meq2sVFUDtC5LsRvafIDmdjrOaW40QFtQ5WdAveyxZ60M0Jx2wdnM1pKOBboRAM353VVMeDg5hPqv9ypvNqdiaa8iT5V1qhaKKAJ0C1VGYFYiQAcKKgaLEmiwBCJAN1jA7R59HkADOhy5Bnja2wXTyo0LRxZAAzkAExZozn/mVA8smo20QCuPwO+CBQsSyOJiizKXt9g4qqrzqizQaQCNCwsW86ot0FUBNMcCctRhXpvKk7W9MCcv7Eh8HwG6/Wo9AnT71VnMcWdKIAJ0Z9ZrZaXKA2hBXghA6+Y7LlOxJ0JggbYAzZXaAB5htKGvsgJlREQ5AGhOp2DTXVGLJad3VAWPyiLnSiOrek71IC5dSmNvu0O+TFbwR6/KhYOLWJj4FJVdWpVUBdB2s2ij21A7xh8Buv1qLQJ0+9VZzHFnSiACdGfWa2WlygNoLh7hGDQ2a+VZC2sBtI6tA+qID8DDAt1sgMa1ocyV1o0A6KoqsVkATZ1hia8CoMkzG01r3WYYIp8I0LWlFAE6pBW1VpgI0K1VHzE3I1cCIQB93ilzXc+YCQ0R0usu/U9uvF08A3mH7eVGEwOUkYA94g245TQH+7BpjKX2UIAGULny2VqgsbTiToBfNGngq4srBRvomg3Q9nSOIvIiv1igqzjCrUi6IWHTAJrvqLsqLdBsdmQiVBVA0x789hZSXhtm69atyY2OVeSpaNrtED4CdDvU0tA8RoBuvzqLOe5MCYQA9PXXXuN6xtZ3FG2W9ELGtQjQw9j2mgnQWByBOo6Owx2Aa545DzikkdQrIrlwEA/uJNzcV+TBdaFR144XyUda2KwLWfg7k5+qXDhIm+P8qqiv6MJRb62HfR8BOkxOrRQqAnQr1UbMy0iWQAhAi6EaIaeQsTYCdCMkHxinBWisxP6SuizQ+DEDY7UeXDjwMcZSac8kxgKN5ZnviQ9fXS4PIcxwAHSgaIYEa3WATruQRQDNZCHtNsBQOegcaFYVymzATEunKoCmbRFXiKIJLW8nhYsA3X61GQG6/eos5rgzJRABujPrtbJSCaB1vXajARrAxo+WTYnNdOEAgO0mu6ICtFeDF/220eGzLmSRC0dVAL3HHns4fMHtJTlly0Y8uPrwr54nunDUll4E6Hpa1/B8GwF6eOQeU40S8CUQATq2iZoSsACNawNXQtsHCAOYsPTlWaCXL1/uABpZlxUPG704Ro5NiFipsWbz8+jRo9vmDN+y50c3o/llHYdXJUDjO85xhq324HNPOTkHOz47SyACdPu1igjQ7VdnMcedKYEI0J1Zr5WVqhEAPWHChCGXeliAljsAlu6xY8c2bRNhvQJr5SujGw3QuN8wgcJNJD7tJYEI0O1VX+Q2AnT71VnMcWdKIASgr/vb1W7b5vUNEcBRRx+XG2/0gc4VUeMCCKC5Xpvrtuu1QAPLuErYW/EE0NOnT08s0Tz83MxzoOuVYCtfGU0dsiGTCYm/eoDvc70uHJw+gstF9DOutxU1//sI0M2Xeb0pRoCuV4Lx+yiBaiQQAtCfeups17d5QzUJerGcddWy3HgjQOeKqHEBLEAvWbLE4efqQ1gRFw4slcCzD9BAGBeokAZhRo0a5bjS++abb24LMGtHgK5qEyGTHnzImWTFp70kEAG6veorWqDbr75ijjtXAiEAfe7x0xsmgAjQDRNtNRGHAjRW5LzNY1yrDGhyuobdsIdfNKc3ANA8ABn+tPas6GpK07hYWvm0B+qQyYi/IU+XlTApqucUDuqL7+u99KRxtRNjzpJABOj2axvRAt1+dRZz3JkSiADdmfVaWakE0AcddJBbunRpqgWaCy+A4BCAxlcYMPYBWjca8neu0t5nn32GWKkrK1CDImp1H+g0gMbqj6W/XoDmmDgmENGFo0GNq4HRRoBuoHAbFHUE6AYJNkYbJVBQAhGgCwpspAW3AM0JGf4FI2z6CwXolStXOo57I3wWQOPaIYCu51i5ZtdTq7twHHDAAa63t3eIWKg7FEC9AM3V55x2EQG62a2u/vQiQNcvw2bHEAG62RKP6UUJpEsgAnRsGTUl8OEPf9idfPLJDgt0FQCNryzH3XEShx6s17JA495x4403ujlz5tR1LnOzq7XsFeDNyCeToEYCNNetA9BYuePTXhKIAN1e9UVuI0C3X53FHHemBCJAd2a9VlYqAfSBBx7oOMe5Hgs01zxzWgNnPFuA5truO++8M4kbgM66erqyQjUoIqzQ/kkXDUqqULTIk/rjXG37VGWBvuuuu5LbJYtef16oEDFwQyQQAbohYm1opBGgGyreGHmUQLAEIkAHi2pkBhRAYxHGSuwv0xdx4SgC0GlXT4/MGqi/1M0AaC7HmTlzZv2ZjTE0VQIRoJsq7koSiwBdiRhjJFECdUsgAnTdIuzsCATQc+fOdVgaswAaKzK+zbUerugGojltA+DSw7e4AeCLKwt0BOjq2hUAjQtOT09PwyzQEaCrq69mxhQBupnSriatCNDVyDHGEiVQrwQiQNcrwQ7/XgCNfysAvNtuu+0EYZyq0dfXFwTQbCQkjjyAnjdvXuIWEJ/6JQBAc0YzJ27YpyoXDtxv2PDpt436cx5jaLQEIkA3WsLVxx8BunqZxhijBMpIIAJ0GamNoG8E0AAtPtB77713aYDG/5k4WOq3AA18cxQatxzKAo0/LbcRxqd+CeQBNHJHEZR9IkCXldzwfxcBevjroGgOIkAXlVgMHyXQGAlEgG6MXDsmVgE0l2QsWrQo1YUj1AINQHOSB64a1rocAbqxzSULoHHJ4Wi7egEa9xss0NEHurH12IjYI0A3QqqNjTMCdGPlG2OPEgiVQAToUEmN0HDWAr1hw4bkBA374AYAQHOMWd7NgWvXrh28jCUNoIF0zoHOOnZthFZB3cXmiL00C7NuIqwXoHVWeDwHuu6qanoEEaCbLvK6E4wAXbcIYwRRApVIIAJ0JWLs3EgE0Gzq47a9egAa/2es2L5/MxboW2+9NXEPiQDdvLYkH+h6ARr3GyZP0Qe6eXVXVUoRoKuSZPPiiQDdPFnHlKIEakkgAnRsHzUlYE/h4LpmLkHxLdD4LWPlzLNAy1K53377DTkvGev1LbfcMgSg2+0q73ZsRgA0D5b/enygb7/99mQDafRZb79WEAG6/eosAnT71VnMcWdKIAJ0Z9ZrZaWy50Bv2bKlLoBmsxluIGkAffPNN7tZs2YNWqA59WPMmDGVlSNGtLMEmNAAvhGgR27riADdfnUfAbr96izmuDMlEAG6M+u1slIJoDk1AxeOQw89tLQFmhM4Fi9eHATQhxxyiOvu7q6sHDGinSVQlQUaEGdlAleQ+LSXBCJAt1d9kdsI0O1XZzHHnSmBCNCdWa+VlUoAjX/r1q1bE2ulfYCwUBcOLNj4OvvWZVw4fAt03JBWWRVmRlQlQKNI/MlV40sQU6hXAhGg65Vg87+PAN18mccUowTSJBAC0OedMtf1jJnQEAG+7tL/5MbbxTOAk218mi4BAfTs2bNT/ZwF0GQMkM57sFamAfR///tfh98zx6ERJgJ0niTrf18lQE+ZMmWnyVX9OYwxNFoCEaAbLeHq448AXb1MY4xRAmUkEALQ1197jesZu+Pm5TLpZH0TwkkRoKuUeMG4BNDAMS4VaRepCJzLAjRzo5tuumkQoAtmMQYvKYGqAJoNoKxQANHxaS8J1AvQWDX6urvdqP5+l3UVT/+WLa5v5Uo3+ZSTXXe8XbTuBhIBum4RxgiiBCqRQAhA6/CEShL0IokA3QipVhinAJrLT0aPHr2TlRkI4+g5GlIoQB9wwAHJBR56AOgbb7zRzZkzJ7FAx6c5EqgKoHG/4eZINiTmPatWrUraSt6JLXnxxPfVSKBegL5ntxlJRnZbucqN27o1NVMRoKupK8USAbpaecbYogTKSiAEoK/729Vu2+b1ZZOo+d1RRx+XG2+0QOeKqHEBLEBzKoYPuBGgGyf7RsdcFUDff//9yeTJXo6TlfcFCxYkKxm+L32jyxrjT5dAGkD3P3Cte3eA15wAesKmTW76mrURoJvQ0CJAN0HIMYkogQAJhAD0p5462/Vt3hAQW/EgZ121LPejCNC5ImpcAAE0KaT5uZYB6AMPPND19PQMOXuYZY5ogW5cPabFTN1h/ef4wGY9nQLQbKhlRaYZD5tsqzyRhouLeEaNGuXSAHrJrpPcxjFj3D5LluYWTwBNwFlLlrq0c3OaYYHmjPq7777boVs6/akXoO+6667kzHZWDkfKQ3/1x5x2KDsrs6Gbs9Hl/CujK6xOaAe5tEoeQwD63OOnNyy7EaAbJtpqIrYAzRJ9mg90GReOe+65J4lLVstmAvQdd9zhJkyYkPjtllE21Uh2+GPhVkjgbCQANEcoMrj4l72UhVPa68EHH5xAaKOfejfVrl+/3t17773J5l0e4tOpKQD00p/93I0ZP96NesCtavGUyW7L6NG5AI3/8/wHXDiIt4u2tGx5kob1h64CoBngybP6q389/aZNmxwX+oT4BDa6vhoVv/bRb9ra7y67boGbOr7XjelJb3+bt/W5FRu2uGcdMcuN6x0aBpermTNnjqg9C7T5gw46KIFo5Lh06dK2uDmVfDNOhdzyumzZMnffffcV7gPbtm1LJp+Mxa28MsgkiP4fonPRd804VjUCdKO0XYfEG2KB5oxoFFOoDzQDOdc/Y8GTxQhFMXfu3ARs63noZPwjT2mP/K15518pXk+6w/ktgITcgIwQ5aK8omRQnpyw0oiHuJkoIWc9nLaCG1AzoZ20syYLtDssPEVvYuQ7XQgksPHjyPo7+Zk/f36Q3AF8NtjWA4a42AgYGIi1qYVTbyb09Lib7rjD7bXoXtfzgEV9/vRpboANw0u3Lw+O8lw5sDpjbV5g4Fn1u+u69W6gq8tNWb/D5y8LoNeuXZtpBbUWQ4CPtsSDHBjssThrQoCMuKSJYzLrkVMj+kCVcbJ6M3bsWDdx16l1ATT1Dyg1YtMvExny2CqPrLL0IQw2GIFWrlyZ6AP6vd77erNW321G2WjfyJI6V7vPSld6X/2ccThPp69YsWLwUjTGAX4PPUmJfosOL6oz65UbKyeM60z+aj0a45uhCyJA11urHf69Beg0wMUNYM2aNUlnZCOZHgY8GrK/zI3y3nfffZMBzyqGPIDWkjk3GWbBMfEBCuRH0Iblkc6O/zYXwWB91kN+sUiSdq2LWxiY7abHKqvct6QViRsZ04GBUqyh/J+2SpAVZ6MBmkGAiZKVLbJmgAU+m/FoaZ/24w8stCXaoV/31AlQxkBLmwH2bT0xYUGZawJIm6JMM2Zs31CntgL48Xdck/wHOdD2bJ9Jk4esSmUgn/jIN7DOoKf+ZneFHzJvXgLQ05avcBP7+ty27m63aPq0JOzEjRsd/tAzjG/zht5et3Tyrm7c5s2Jm0fWY90/LEB3jR3r1q1bN3jjKINcWh8gj2w0RX6AgR7qChjiQQ+w+kXfpow8oRcwAR30F+osb0BudDulrdGP9T9WNiyJAA1lo5/TDvhHm+H/FVt73NpRk3a2QA8MJNb/TX39iQX65AfNdJMmjhtSBAE0Fsc82AWs6DcYSEKeeldLSIO+hQyY4KU9fhr006zJAO8oA/2Yh35Ee0KG9Ev6BeMFfRxZC6SZpNH+8iYZ6A/Gs5AHfUO7C3GdEdQq3lowKCMA7h5p4aUDpk2blhhaaGuSIXqRU5R4QseOvPGSuKyLW9pkJHSCgrxoC4zj9An6KzqdQw1oJzCJzxiSXb0ATb/La/cRoENa/ggOYwE6zWILQK9evTpR7HYg4u+cuKCBX0rOP9JFAyidP8sCLSsc6QMrtToGnQzAEUCTniwPWB3Ihx4UGUqaMOQdBUOH8GfWVmHQ8VGEKNu8zkU6KG4GKeLkFkZZyG3+tLRIeBQGypvlJ32X1fw0EFIulB/yBiqYzOjYwVpNl/wwOUAGGrzrtSpYGBKgUlbkxTughSfP+k/ZBDe1FBnKkrISv69I1W4kA8pGncs6o/bAt7JmkkcsPxrESZv2RvtkoKTOmRQQN4+dDPK7nRxYSy/1wuCM8gewNdjlKXncEsgPKzVlfK79Nk96tg/uP3u2u+0B+Jy9ZOkQlwxBsoXh1ePHu1UT81eJsgC6r6cnGbAFwkxuAWoGRNojj80jdQvg6NHqlW3X1KcAmsGWOqFO09qy2qdcPhQPuoe65Ts9yE7uaVkWN9oH9ZrVb+gDlMuuwti8A3PoCNIhHHoUaKON6Vx8C0YCaOK4p3/qDoBOwHnAzRzY7kLDu1UbNruHTFy/k76k/tEv9B1/wkH7tDJQWwmdmBRd0UmzZipN6hqdpnEF6EV/k0c78fL1M3HSPwFgxiHqAL3LA0AyPvCozuQ3jA6lngmDnkLWrNhQxxhmaKPUlV0lJW27klpL36ovoteIj/KRtzRIx/LMuKonS0+QT8YMjY0Kbyfc/pjLpF2uHsiKVUI9jEW12jPhFJ/qAPlRT4w7euwkh3LTt1SPyBPjQt7kVfqbiZ4mQBrnaKO0gzSrufJH3dGvkE+R073QubAA+cYwxZO2sks5qHtNBrLqPvpA1+oVAe8YMOh8IS4OAdENBkE5ULHEzUNnpNJRFgLCIvGlhf3Nb34z6H/F8XM0FhovadAwUWppAG0bsZaNmeVrScp2dOJgIMkCaH+wy5uNEzeKgAGJvDFY0LlRFLLE2fQ1QCFLyuTHL1Cls2qZLGsJFLkQj3w1+Rb4AQIECKStNHjPgC+rurUIpCkH+YKiPOTLrQHB1h/KXydj+BtLBBEWoIkLpaGj6KwPWeiSGEqO72h7lF+rDNT/kiVLdmpeVs7UsYUeq6T5OQu4FY68qx+QkHXV8RNmcLFQwnsAgcEZmQjq7OBFOgw8lIsy1nool29BAqyZyKGcBS/EIeBG/pSRvsDAL1hW+WjPaSs6spZnLUH75fQB2pYjy6psYXjd2DFuecqFSXsuX+5Wj5/g1o/bvnw/c+UqN2br1gTI9164yPU/cA70ivXrk8GbNmItyzYfGiTTZIy8aCt5D7JGP6KzGOjUv5An8dNW6UP28fub6pz80mZoGwz6diJDGCZEpMNjJ8z8btuxbeOkjS4ibh5Bjc0PAE3e0el6aOdY43gGAXpgwI13G92YgS1ujNsOirzbp3tF8jMQgN7VSkiaEcP2GXvRlcJaHeXL3rojyWBB2eSmVWufAeH9vQRKE7nKLQd5ob/5nQd5c6utwtD3BT0yktCPLITmtRneozOpQ/Qw8GXHC1bNfD975TVkgkv7Ud2RlsDQH2/8iT9haX/oefoMul3HgNrJBpMuPegzLO/Avl11tTLI0gW13HvsKq5WPTWpteUgX9JZlJvxT77cwLZOgFLdI28mNIA2kwJkzViHvGs9jOv0R/5HB1q9r/Gc75EH8iN+e1oUeaPO6Wf0EZXJT5OyyZBDPyZuykGZIkCH9Kw6wjQLoLGaaXMc2ZWvl90oxwCgpeaQIvnKlm8AXaxGxA9s0JBQXjQmGimDAsoHZaFl87R4iMta8IiXhkmHsEDgKx75rqVtAFQ6UnakAbAwOPowwTuUhR2gNOAofXVIKRXKBuRkWR1I386sBX+UgQmOHgYXZEOesKDJ0oVcsUDr8ZWr8qpBwlru/PqkblAWWDtkkZByRumhYBmYGFjJpyYaxGMtCLIYMKD7y4+SN8qP75U/DWxZbYy6YyAArKWApUytElT9aBXBj8+2KwYVwjFokr4APqSda0DWIGqtnoKxkHjUfmRpD/lGE0sGHCwzPHaCpT5H/2aSQT3ITUR93G8n1DlypA9qh73iZUCVRSckfxagN/aOdktSzvvGJ3rhA77TxNnDUvWGjW7lLhOHADTuIs14GChpt5oMAey0i1rwTVjrbmPbliaB/iTfTuDQGbRnWZEFA5K74F1t1BoT0vpx1sRT8ksAelS3231g56OsLEArvCYIvi7WJIPJidxjaGe0Swswto1pEm4n1/Q3X8fR9phMyl0uq/8KQOl3Wk1QWH8VIq39IHv0D/0BHdqIxwI98fuTdOlYxkPGB38/j6zFft4EZ/RV5JdmELGTbtoV/xg7VV/EySRR8q81QVX6aYYE+46+4h9NatuOnbwwvpE+bYbyZ02O/bIzDqD3KAftExCWMSEL/G0cVjdjgCBtO0lRWE2GbB9PM7KoH1J/WrUgDsmfumLiponcYYcdFgG6EZ3NxtksgPbTQZnQmOrxN1WH8WfjNHbi9/+uctvZv5as0uRsOwAKAeWpHeIoX4APYLWdAoDAGmEtFyheOoQGJbtUhwIGFH2LU1a9k74mGfKVtIOgvkuzhFuLE+H43c6EbZp28qCO7Q9usqzou6yJSFZZfMsWAxXtBEWF8kJZ8zPgS1gmQpRZIGeXBmVB0OApF40q+w8ylftP2kCjv6HAmGhIkVlIoF3awSQkf3aAssvkWd8iO7lxhMRfK4wAwU46rH8+31qrrCYTdnOdfzkR7STNWsugSR9joLODb638YU3mpkGepbtOcltT/GF99w/CsqFw9cQJbo/F97muZcuSmwgbBdC1dExo/QALTGZ13FlaX6OvYJXUZD90omTz5w/O5K/WRDgr/2mQrLD39E9xspdC/AAAIABJREFU+3TvcFfT37MsbLy3E7i0NK2+pe3RbtEf6FVrsEj71tdjhKEdaqLKe/SKLPKhdeaHS5Nt2biyvpPe9y3FjDlMwNCv5EP3JsiHXRth/Xg1nhXNp++2UfT7NHeotDjSViRsOLlTFE1f4a2esissIfFZ9y3fnS7re7mppBnUQtK0YSJAF5VYifACW8AEEAQ6sf5htUNxoLCZpWujE1Y3+WehrJnNaSMbA6v8eawLhwZT+fDSuQCcqgDaX9YuIYbcT6yvE4oIQMpz0kepU8Y0F4HcBB8IIGuVwiNjIIxBj7hlrfOXvPhdEOlbDGUlD4UU0hbcpuWb+LFAplknsspJuZjoYI1Me0JA0f9Olg3kjszTZvuhcs8qZ9YkQYN/qKKsJx953/rWwTLLxXlpZFmIqFfaih0AtFmRiRCDSt7gUMuVw8/XmC1b3NitW93qGifkpAF0z7Y+t61nlBuHn+cdd9YN0LVWNexAmifXvPdMjkirlrU6zeUiL96q36cB9BbX43rd9hNLqn6QCxNN2npe+/LT5luW0XkwiKDHfHe6qvNbKz471hDOHwNqfSt/8BBjBkDI2E1Z81blmll+m1be5IewTNrL1Hsjy+TXYei4QJ0wbhdZhcsqRwToRtbwA3FbgLaWPiCNGTdwimJiBi4fSRorM3t+p/HKSgU0MyOkM/o+0GkWaMAc5cU/wB0AqnXU2dlnn+3OOeecQanccMMNyc9VAnSaL3ReNZSBvbQ4gTAmMizD6AmFH4XDusk/ABsLCnXqAzRyBjDT/KOyrJe1rFC1rA1l4aEKq11evaUNpLUst/aUhaJxp4XPk02exUPnxlLfGvDpP1gxBBFYf/lbqDUytFy1ZFEL4LJWhWy6xQB6q+vdttWt1dGQHGv3wG2FihM3D4636+7vd/3dO1+nsucN/xkE6KzVAd8C6q/c6L10odUjQADAK9/KEBmHuAaExDNcYdIAmrO57Rncw5W3tHR1IUhR+K6iDL4eSHPdC00HXey75IV+ywoGxrOQR6u8IWEVhm9wYbHuB3kWYnSBXWktkl4zw/rGtDzjWjPyFgG6CVK2AI01mYGAR0tA1reUZS0avACMmZL1y7N+znkAzcwXgAO26VCAXq3jgdJEETLLLipCIJbGD8RmLWv5cTJYMvBSjiK+rTYeZqzaDW/9n5A3cdsTOmqVKW3pizIh7zy/raqhVUv3WW4PtcpR1aSkVho+pOQp8zy/zyJtTfWtY+f8bxnMmLhm+SYCz0xqcAuysmIwplwMVLQj+YXbvqJNjyG+/1llksU9bdAt2o78yRmDpt0QNHXFCrfC7KKvJWeu7V5vzvrt3brV7bFylVs9fpzr3brNcQX4fVOnDIlit1tuddNPOtHd/MAteFoxsq4z5MnuAZBvqD0VAHnaTU78LncXuwE3pJ2gd2kjclcK+aaqML71rIjL0fgJE92G9evctoEu19MFMrfHI8MDE9E8d7osV4y0vpClM7BI0j8ZMwXQAmdgnvbPWCIXAp2oEDomlZG6VlZDvi0yyVV8fGNdY/h7nhHBGn9CrNGhll5bRn9jML8D+9RNrYe8sXcBHax8ak9OyN4Uu7clROaEKeIGFAE6VKp1hPNdOKxPsjaZyVnfQrF2+9sbdYBgbdjKA2g/yzrNIvRIIr7/1re+5Q4//PDBqPI6Y5aYGPBRVChO3arETDzvRAPFZ/2S86DedlZrxfJPclA8KGUgyB7nY8vhz3Sz/AhDFAt5ALT900hserVcOXz5SqkwUPCPuP2dy2X8K/10spY405SNnWD4g4Dvl1tLCerbIlYbm++s3f12sOFnezqLyoPMaEe0TxQ4Pq86+5k8p134g6sM7cju1LfwrjjyNtYqfwz29FkA0bfaFVlyJj6/TfkrJrMWLnIL9t4rSMtNWr/erTHuHAJofYy3dNolK/NmzXJ3LFiQbIJE5tp0lbZvgLjS9hj4p5QAQOgG6gODBJOhWrvidZIQ8sOYQN/2T/kJEoIJlOfDWguamFBSz7irkX/yhbHAgoW/+jdzj73c/Yt3nMzh59daoefud6C76/ZbMk8X8L/1V+OQD302dLlbE+Z6XVyyVl9oM0yyaD8K4+sYezoE8qV9qQ4Iqz0clJ136vPUIxM7W1be0W/tiqWVGZMCrLd5EwJ9ozxnrX5IR9Ce+dmOdciU9mFXWWgr1JE2XlI+/7Qp/uZvxLdl8PuZADWrH2TtU/Enhfyu/TV+ubWPQ+VL2yckA4gm1Xasg6noy3kuknyTdqpJrT4uN0XdHyE3RX/c53etUNaKLx5jV1SjeuHLAjSd2bdAo2jptEBoUYBOu9gir2j2HGjCZg0GFjIFsNZql3ZEXZGGbWEoD6CtRcJCrQ/Qstrm+bQBHyhQDcxlLAPITpuUqFMBdJo7C/HXsqZJ1lk3TqHQgTlgg4cVD+JDydqlvby6t++zBjR/0qDb+aijtF3/tA0Uoqw8Wpa3bgcqn+ScBSjawU34tGVhf2AAhLWfwJ7qIQUtVyrqWmdza5InRRxy9bt/uQLxa98CchE4ohdUH/wN+CN+6k9tTae91GrzIZuBfPeILIDOumHQtoUpa9clp2vo4cZC/7bClRMmuDUTxruu/gE30D3UqUC+3cqDBnybp7KX7aBTkKkmqdZdKA3IB6H/gRsfh5RzypTBs3+zLGXyDdWRYUyeKB/9G/cu+jzgw/f+5JE2T32jA+wkwl8xAbAZqDXB32v2HLdo/o6Tevx+vLZrgttlYL27b8to9+hD57k7b7t5yNnaCg8oMJbYstHP0RuMPVopJW3/vOAs3aG6RdfSL/OOIUvTf2mrN+STupTxCXnZPin5qd/q0hlBMrBFfvyz1O15y8RnLy5Cp6jNUL9AqD85w6DEN/b0kVp61UI/bZT8SHfpJBLKolUu2+8pgw1vJ5mE02a/rGNfCUN7oz61+TrreFB7SZdfHgvkuMBRL4y5xEtbkizsBNn2eTuB0bGwdmWSMQKgZuWc+H2AVn60iuxPRmAN2os9mz3EWKc8qo50BrRc8+y4r2NTQ9xIIkAXIY2UsGUBWj7QKBmULQq5iA80Sg+lrRm2jhhLuxktq4gWoHUcHOdN0kh1gxHfWr9eGhoQImuPACLtsgFm+3SWrBk+cfsWc8EZHcw/LgfFQzoMNuSJfMqtwj+pgA4IrOhCFC0PIycpdp3xal0+igC0LjTheB0pYx3VRCdnkqEbAVUHFiT844iwEFEPlDEP5nzLngaTtLr2N6wxUAEiGrR5z1K3PRJNCtwqeZt3fxBggJCsGTR08xXAQFms+wvyp6z+BTyqF1Y0+F6XPtg8SKkDHmmPBkG1RyloDSb2imkGGtpmLfgqoh5Cr1v3Zcrv5Jd6sMfQCRhqAbYuhJBPPrpEQL9h1Sp37403uhlr1yUWaDYDLuUs3LFDbxns7ut3/aO2+zZPW7NmyFnQ9pi7wcGNUxY4A3rpMrdwxvQhItIEUTDDAMyAraP5BL157buW3NW3mUhiQQq5plgGBsVrJ/3IVwCDHImX/AItVq/ZG9g0WSI+2jt9ivYqYBIMoqNtXyXvxCOdiL6mvhRm3gEHu7/eeJubMXrHZsElXVPdbgPbfWvv657hpvStcMu2jHKPe9C+rqt/awLyfhsRcNnVK91MKECVLNKOl+Mdk1v6tPoudQtwaF+AJgNZbha0Z536o1US9TV0ps6j1/n0yg8ylE+11Wtp/dQvi99urOzVBmTJtbchShfY7wnH32m/1G3ePggL0IonTU/XemfzkaWXdLylhWzGbSzC6EeNZ/4qnS+btMuodCY6/SpL3nbMFjAz1vvH4qnuaB/oXcY72rqFbH+jflq/TxuDbDjaGHpeR8fyDuOPVlioN/Kss56zLu+ifWCI0Sp6BOgio1/JsGUBmuT8UzhoYPK5zLNAs0ERJaRBm8ajmWJoUQTQwIwOxte3KHks4jQqnWNM/HnXw9bqAGlLV34nFQAx05bitsqX97ohjEGY38ljSL4oE1AOfFkLhK+ksyzE1pKqW+80EbJLUCgmHfxuj41LUzxK217YEFJ/WH/sqS18gxL1lxvTLPAaXFFMWdZ/7awnDLDB71KQKCt+pozIUwfe24HBr1faks5w9d9JQfrWS8VnLy4p4qLE97QPJk1YE7PaZlUAHVJvtq3pum/auk6H0FnkdnCUfOQSo5WBvBsf+zdudKsuv8KNmjLFDYwd40b1D7j1Y3rdsl13zczqHljjjL90GkAncn1gQxubC33oCJVDFeHsYJwXn+SY19do0+i6rBsI1a70nnjt6oyvT9MgClDXOelyRWDiOGnKdHfVv+5y88btuFAGaN69f/tpO/w8oW+NW7bZuWMfvK8b1zsq+bs99pDf7fFkvlz8iR4yZDJtz1i2K2CaYCA3K287AU3bqKZ+pct1fJ0LgIfc+lprops3adVqmCb3WKX9sU7y8cvg6wXqC8BCx1pXQuJD5/M3VgItmNcCaJ285KeD6wLxZeklTcLQvzo0gAkZ8Mw/6Zg8vSbQli+xXCmRA/806bXtp0h/4zvKQrxM0hhH/IdyAtG1bhOkDhkDiCOvTLXknacf/PcRoItKbISFF0DLWugXH6WKJYkBIc0vNFRcNGr/og7+lpUu8WoTlM51tNbk0HRrhfMtF77lUhYmBlO5S1hf07yObNPO69S8TztLtVb+0xSZyqAr2Bk0tFQraxH1yWCv25aoW4EAMkdJMZDb2xaLlDVLeUtZp03WGJDIj3x/Ndip/ChQFC3/sq5xLtsmig4IZdNJaw9pN5ypnuzFN5SbvzNpYblSt38K2rLyZAG6u7c3CQb4Yj3OeuyRdfycd+rDfHPBStaFGlXIrIo4dJMgdV6PBdzPi5br6UdpFva0/u+vkOko041b+txl1813h0/cfiU1jw/Qm7f1uRUbtrhnHTFrEKCxGNrbUGsBdC1ZWrcmhQP00uDHN15QTruqljZRLqpLqqj3InHYybw/gQL09I8VOB6MPPTVNOsr7wlPm0gDxCyARt/xL8QopLIxCdclLPyt1g2RvjxkMMq60KqI/NLCahWk3j6Xt9pA2rRf6iKrPoqUJQJ0EWmNwLB5AA2I4YoAtNQL0L61DEuAzslOEz0KALCqoiOUqVot9dulX6y1KDbeYT0MfQSPtSwKtaxdoenYcFhLyKdOJuEdilIXSYTGWQYwsxRdiAIMzVc7h9NtV1ntIaSesOxQt3JzSe1DxgItgCacbzW23+rIupkrVrqx2/LPHF7f3eWWPdAXfDeqdq6jKvOeN4G2aW0H6AXu8Inbb9xb0jXN9Xd1D7FApwE0Ye1pPWXrQleQA+BFH1aZcElhyRyDia5YVzwAPjq/lR+t4jUD9LMAutny0USoauNE1eXA+q9rzquOOy2+CNDNkHIbpyHFnmUJbiRAt5PYBMDaOFEm73lLjWXirPUNVnNcfOq5qbJsnrLKysCqzRtl4+6E7+RmUwt+88oZMrFJs0AnULbrJLdxzFA/aKUngN5jxUrXGwDQ/VwkMdDvJj/iEW5i4FF5eWXrtPfoWVZ1sM7mPT5AY33msS4cWQDNKgWTL/R2WYCuylqYV85WfS9/8GYAtNzampFWq8q7lfMVAbqVa6cF8hYBOrwS2sF6YksznAAdLtUYspESyALopZN2cRvMWc82D4MAvXyF6+3ry80eAN23cmVykUr3uHG54UdiAPSsNs7mld8C9CbX61Z1b/dX37V/jdvQNc5t7RrtsgBacVuXkrz04vudJVDE/aEe+eHegVtDEVeNetKL3xaTQAToYvIacaFDAZoO7i/HFRGW3WRT5LsYtrwEIkCXl12nfJkF0Mt3mejWpcAuJ3BM3LQ5cfGYtXRZcmlK3hMBOk9C2zeyhrpoWYBe0zUxgWb/yQPo/BzFEFECUQJ5EogAnSehEf4+AnTnNgA2FbGhoowvY+dKZWSVLAugV06c4NaMHz/kam6Ospu1fHkiIAA66/QNX4IRoKttUxGgq5VnjC1KoKwEIkCXldwI+S4EoLWjNVqg26tRRIBur/pqRG6zAHr9mDFu2a6T3CiOqxq1/Rg06/McAboRtREWpwXopV1TXV/X9vqxT7RAh8kyhooSqEcCEaDrkd4I+DYCdOdWcgTozq3b0JJlAXR/V5dbMGO6m7pmrVsxaZftAG18niNAh0q4+nAWoO/vmuYGurZfcBMBunpZxxijBGpJIAJ0bB81JRABunMbCADNP3bjx2dkSiALoPFsXjB9mttzxUq3aPr2ixciQLdGGxFAzxzf7bp70k9KiRbo1qirmIvOlkAE6M6u37pLFwG6bhG2bAT4P7ORMAJ0y1ZRwzOWBdBKuK+7yy184AznPZevcKMfOHWj3zm3s90zPbvRB7raahRATx3f68b07Oy+QWoRoKuVeYwtSiBNAhGgY7uo2wKtEzjq9YEuezNWrMJyEogAXU5unfRVLkB3dbmFM7ZfCGQBuogMIkAXkVZ+2AjQ+TKKIaIEmiGBCNDNkHIbpyELdNr1yhRr0aJFg7cQ1nMjIOlEgG5uQ4kA3Vx5t2JqxQB6uRvdh+252BMBupi88kJHgM6TUHwfJdAcCUSAbo6c2zaVCNBtW3W5GQegly5d6g488MDcsDFAZ0qgEEAvW+5G90eAHu6WEAF6uGsgph8lsF0CEaBjS6gpAQH0pEmT3OzZs3cKiwW6t7fXTZw40UULdHs1ppUrV7olS5ZEgG6vaqs0t0UAeq9ly11PBOhK5V8msgjQZaQWv4kSqF4CEaCrl2lHxSiAnjBhgps7d24E6A6q3QjQHVSZJYuSB9A6zo7oI0CXFHLFn0WArligMboogZISiABdUnAj5TMBNBsF99tvvwjQHVTxEaA7qDJLFiUCdEnBDeNnEaCHUfgx6SgBI4EI0LE51JSAABoXjTlz5uwU9t5773U9PT1ul112qduFg+PUcAeJT3MkAEDff//97qCDDmpOgjGVlpNAPkA7t2DGjCTf0QLdGtUXAbo16iHmIkogAnRsA7kAPW3aNLdlyxa3zz77RIDuoPayatUqd99990WA7qA6LVqUXIDmQpXdIkAXlWsjw0eAbqR0Y9xRAuESiAAdLqsRGRILdAhAs8kQN4+yD+lEC3RZ6ZX7LgJ0Obl10lcRoNuvNiNAt1+dxRx3pgQiQHdmvVZWqhCAHjVqlOOc6AjQlYm9KREB0IsXL3YHH3xwU9KLibSeBPIAmiu95+82w81autR180uJJ54DXUJoNT6JAF2tPGNsUQJlJRABuqzkRsh3zQRoziMePXr0CJHs8Bdz9erVDh/2CNDDXxfDlYNQgJ69ZKnrKpnJCNAlBZfxWQToauUZY4sSKCuBCNBlJTdCvgOgp0+f7jZt2pS5ibAqC3QE6OY2qgjQzZV3K6aWB9Dk+Z7dZrgI0K1TexGgW6cuYk5GtgQiQI/s+s8tvQB6/fr1bt68eTuFxwWARjR58uS6XTgiQOdWR6UBIkBXKs62jCwUoPdZsrR0+aIFurToUj+MAF2tPGNsUQJlJRABuqzkRsh3e++9t/v73//uli9f7h70oAc1FKA5To0j8eLTHAkA0NwkecghhzQnwZhKy0kgAnTLVUluhiJA54ooBogSaIoEIkA3RcztmwgNZOHChW7r1q2pLhxVWqAjQDe3naxZsyap2wjQzZV7K6UWAbqVaiMsLxGgw+QUQ0UJNFoCEaAbLeE2j58GcsMNN7ju7u5U0BJAT5kyxY0ZM6Z0aXEViQBdWnylPowAXUpsHfVRBOj2q84I0O1XZzHHnSmBCNCdWa+VlUoAzUbBtNMaAGieqVOnRoCuTOrNiSgCdHPk3MqpRIBu5dpJz1sE6Pars5jjzpRABOjOrNfKSkUD4agzTuGYO3fuTvFWCdD7779/XRBeWaFHSEQA9IIFC9yhhx46Qkoci+lLIAJ0+7WJCNDtV2cxx50pgQjQnVmvlZWKBgIkb9y4MRWguQp6YGAgWqArk3jzIlq7dq2bP39+BOjmibzlUooA3XJVkpuhCNC5IooBogSaIoEI0E0Rc/smEgLQ/f39yXXf9fpAs5kNX+v4NEcCEaCbI+dWTiUCdCvXTnreIkC3X53FHHemBCJAd2a9VlaqZgI0rgSkF5/mSCACdHPk3MqpRIBu5dqJAN1+tRNzPJIkEAF6JNV2ibKGAjS3Ffb29pZIYfsnnMIRAbq0+Ep9uG7dOnf33Xennu9dKsL4UdtJIAJ021WZixbo9quzmOPOlEAE6M6s18pKFdJAKkssRhQlECXQVAlEgG6quCtJLAJ0JWKMkUQJ1C2BED469/jpdaeTFcFZVy3LjbuLZ4CdavFpugRCGkjTMxUTjBKIEqhEAhGgKxFjUyOJAN1UccfEogQyJRDCRxGgR3ADCmkgI1g8sehRAm0tgQjQ7Vd9EaDbr85ijjtTAiF8FAG6M+s+qFQhDSQoohgoSiBKoOUkEAG65aokN0MRoHNFFANECTRFAiF8FAG6KVXRmomENJDWzHnMVZRAlECeBCJA50mo9d5HgG69Ook5GpkSCOGjCNAjs20kpQ5pICNYPLHoUQJtLYEI0O1XfRGg26/OYo47UwIhfBQBujPrPqhUIQ0kKKIYKEogSqDlJBABuuWqJDdDEaBzRRQDRAk0RQIhfBQBuilV0ZqJhDSQ1sx5zFWUQJRAngQiQOdJqPXeR4BuvTqJORqZEgjhowjQI7NtJKUOaSAjWDyx6FECbS2BCNDtV30RoNuvzmKOO1MCIXwUAboz6z6oVCENJCiiGChKIEqg5SQQAbrlqiQ3QxGgc0UUA0QJNEUCIXwUAbopVdGaiYQ0kNbMecxVlECUQJ4EIkDnSaj13keAbr06iTkamRII4aMI0COzbSSlDmkgI1g8sehRAm0tgQjQ7Vd9EaDbr85ijjtTAiF8FAG6M+s+qFQhDSQoohgoSiBKoOUkEAG65aokN0MRoHNFFANECTRFAiF8FAG6KVXRmomENJDWzHnMVZRAlECeBEIAetG0qW6v5Svyosp8379li+tbudJNPuVk1z1uXOl44ofbJRABOraEKIHWkEAIH0WAbo26GpZchDSQYclYTDRKIEqgbgmEAHS9iUSArleCQ7+PAF2tPGNsUQJlJRDCRxGgy0q3A74LaSAdUMxYhCiBESmBCNDtV+0RoNuvzmKOO1MCIXwUAboz6z6oVCENJCiiGChKIEqg5SQQAbrlqiQ3QxGgc0UUA0QJNEUCIXwUAbopVdGaiYQ0kNbMecxVlECUQJ4EIkDnSaj13keAbr06iTkamRII4aMI0COzbSSlDmkgI1g8sehRAm0tgQjQ7Vd9EaDbr85ijjtTAiF8FAG6M+s+qFQhDSQoohgoSiBKoOUkEAG65aokN0MRoHNFFANECTRFAiF8FAG6KVXRmomENJDWzHnMVZRAlECeBCJA50mo9d5HgG69Ook5GpkSCOGjCNAjs20kpQ5pICNYPLHoUQJtLYEI0O1XfRGg26/OYo47UwIhfBQBujPrPqhUIQ0kKKIYKEogSqDlJBABuuWqJDdDEaBzRRQDRAk0RQIhfBQBuilV0ZqJhDSQ1sx5zFWUQJRAngQiQOdJqPXeR4BuvTqJORqZEgjhowjQI7NtJKUOaSAjWDyx6FECbS2BCNDtV30RoNuvzmKOO1MCIXwUAboz6z6oVCENJCiiGChKIEqg5SQQAbrlqiQ3QxGgc0UUA0QJNEUCIXwUAbopVdGaiYQ0kNbMecxVK0pg45oVbmBgwI3fdVorZm/E5akKgP77H77jjjz6eZmy69+yxfWtXOkmn3Ky6x43bsTJuOoCR4CuWqIxviiBchII4aMI0OVk2xFfhTSQjihoLERTJPDTj73OdXV3uxPP+kxT0ouJ1JZAFQD9pf97tnvl277jurtHpSYWAbraVhgBulp5xtiiBMpKIISPIkCXlW4HfBfSQDqgmLEITZJAAtBdXe7Et362SSnGZGpJIA2gb/rnL901v/+2O/WNF+YK7/tff7tbdt+dbta+D3UnPvtdSd36TwToXDEWChABupC4RkzgLRvWujv+dpU7+AnPHDFlHu6ChvBRBOjhrqVhTD+kgZTJ3n23Xu+m7XOgGz0mLumWkV+7fLNtyybX0zt2MLvDAdD9fX2ue1S6dbRd5FhPPnGZWbnoDjd17/12htuNG92qy69wo6ZMcd29vcl7LMo8r37H93KTVVgCnnbWt92ontENB+hb/nCFmzhtd7fXoY/IzV8nBqgXoJfPv81tXr/a7XnwwztRPB1VpovPfJJ78jsvcJP32Ce3XH+75NPujxd+yJ111bLcsDFANRII4aMI0NXIui1jCWkgZQpGo3rOxy93sx/y2DKfZ35z06+/l8DCY17yjswwl771ZLfgX392b7xy4RC4qzQjTYqsv2+bu+IDp7qnvOvL7rPP2M8975M/dnsceESTUq+dzJoli9wFL3rIEIVOvR9y7HPdSW/7XNPySJpZg0qtd1kZBEi3bd7oRo8d35Qy9G3d4kaN3g63ZZ4bfvFt94tPnOnO+OGdbsyESe7ayz7vbvzVd91Lv/g7hwX6sjOe7I495c1u9PgJSfSC4ue9+jPujv/+2R3x6HSL1hUXvdfdt/DmwSyd+Ox3utnzdm579Vqg/QmQBqS3/GJpkjY6ir/1jBnn3vjjBWVE1BLf0K5UHmXoT1//iNvzkCPdvkcdO5jHegH6e29/pusa1eOe9b+XtkS5YyayJUC7ftZHLnNzHvb4zECb1q12Yyfu6jBO3PSrSwsBNAaOzz37QHfGD+6s1MjwmWfMc2f84I5hqVr60WZkssvkutL/5Xlvcce94RM14wjhowjQdVVDe38c0kCKlvDm3/3Q/eT/TnennP1NN++RTyr6ec3wNNZ9Dj/GPfuj388MpwZ95uV3ud7xu1Savh8ZnVnL2pe8+Snu+Z+8Mii9rZs3uoH+ftc7bjvUZD1Y4378oVckcPSZp+/rZh7wUDe+tafzAAAgAElEQVR9n4PcMa88242fPD0orUYFWrnoTvfVlx21E0ADBC/49M8aleyQeJH/J540w+2232Husae+ewiI0A6v/N9Xujf/7D7XPapnp/ysWbLQ3fSr77pHvuDNg+8YcD79lL2T31/+tb+mWnWrLBjw+MkTZxYaFP30/3Th/7q/XvLJ5M9MJNT++RmA/uTJs9zLzrzQ9Y6f6O65/R/u55f9XxJ2tz33d0vuvW0nS/T3L3ybO+Ul/+u+8vHn71TUNKu1D9BXfOBl7uT3XZi0b/zhaz1bNq5355+83fr2xisXuZ7eMYP5Z5LcNWqUO+R/nu0ueNFDB8sXIv8Nq5e7qz75RnfS2z/fcB2Qlx8sh7OPONpdfMbx7pHPf7N77MveNfjJt15/rDvw6Ke5o55zprvzml+6uUce6zZt7XeXXbfATR3f68b0pK+sbN7W51Zs2OKedcQsN653aBg7oOdZK3ELaLSOzJOP/z500nvbn3/qbv/Lz9zjX3WOGzdp6pBomJg89tR3Fk26rvC4V4wZv4vb+7BH5cazcc1K97ln7T8YrlY9IY83/XSx+8Un35gL0CsW3u6m7DVvcEwiTz987wvc/7z+o+7wp70iN1+hAULrKDS+tHArFtzmJu+5707gv/TOG903Tj+mLp1JeiFlCOGjCND11HKbfxvSQICQI055VWIpyXsYND9xwm5BikGBgKANq5a6CVN2c9d89/xkMMl6aKwW0NIGADXoJ7/zS4m/2KIbr3F3/u0q97iXvycv+w5rYN+2rblgq4hI63WX3eau//HX3J+/8RH3qBed5fY98ji3x8EPy0zrjr/+wv3wfS90Bz3+6YllOe257F3PdXdf+2v3iOe/yf3tkk+55557hbv0rJMHg778q39xU2ftUMC5BasRIJH/yiVuwtSZqaE2r1+TWGN9CEVZf+3ljxwCqMhjrwc9MncigZy7ukfVZRWhnj510h6DeT74ic9yT37HFwd//9orHuVQwm/6yb2JhVeTHayzP/vYa4e00fUr7nfbtmx2i2/+RwLdydPV5c76xdJE0Z5+yX8StwL7/Pmb/5e5EhJqVaa9/+ErH8iE/JB6/e0X3+P+8YPt5bYA/cLzfuGm7bmvO//Z+7vT3vQtt3rNEve9r75lMMqenl63bduWQYD+0cXvcw97zLPdld/5gHvkE17s/vrbb+2U/ONPeq3r69vqDjn8+MF3PkBrYPIHqF9/7h3u8JNPSwb4i15/rDv5/d9wTCC+8tIdfcXmnwQOO/FFbt+jjndXnPOSJL3XXHpToifyntv+9BN3xQdemgR7y8+X1AT5y9//YnfKOTuXlW9v/dOVbu7Dn1jXasQFLz7CPeK5Z7pfnn+WO/CYU9xT3/0V99dLPuXmHvk/7luvfWKSR9rop568p3vC6R9y+zzqqe6nd29x0yaMSQB68/KFbsM9/3YT5z3cbVx8WwJHvfMeEQTQr/nOjZn9mnSpo9f/4I7Ewln2sUaEsnHoO02ILVCSR+m71ffNT/oxLg9/+sZH3F8v3m5BfO65P0pcfr7zlqe6PQ95eLIKQxyMR/39fYnr0Q0/u8iN6h2TTMiynlWL73aT95gz+Jrx5YafX+we9ozTc4tmJ655gX3oUnmX3HGD69uyZXD8uP3qn7rLz36JO/OKu90tf/hRstKkfp6WBvEii1kPfnTy+leffbu7/kdfTX5+xocucfsedVxe1tx3znqaO+ltX3CTdtsrM6zt22n1z/unvPsr7qBjTsmMg+/uv+16t/sBhydh/nXl1920OQe5vR/0SCdDxisuvMZN2WvfIXH88vy3un9deWFSv198wWHu9G/fkFsmG+DOa36V9D0ML2/48YJMN9P5//qT2+ehj0vaW60nAnQh8XdW4Fc9bJK74B9rBgulzsBxZLf9+SfuwSe+2H32mfs74GT3Aw93hx77nETpHv/GT7old97onviaDydKau2yex3K7e5rf+P+/r0dG8iYObNUsu8jjncHPPYpqcKTJZOwAFHebNwqEPLy/E/9JFGed1/7W3fZu3Yox8e9/L1u5v4PcZe981k1lc7nn3uIe+2lNyVh/njhh5Nyv/wrV6fmFYvwbvMOG+zUpP/a793iLnnTSW7lwh1LWrYMf/vOee6o557p+rdtdVjcZHmYvOdcd9rX/75TOnf/43eDedbLvR/8aLfw3zvyxO+HPemF7tDjnjvke+pv8X+v3Wmy87sL3ufmPfKEQcX6l4vOdYed+EI3cdoe7prvfsb94SvnuGd++NJEsdiH+LAyr7r3Lvfiz//G/eozb3NPe++Frm/LJve10x6dlOlVF13vdpmx1+BSOxaYZ3/0B27T2lVu5cLbUy0yyA2ZHP2K9w2CbZrAVy2+x/X09roJU3cfsoFt7dJ73Zde+OAhn8zY90FJmJd84bfJ36XYjj3z40nZv/7KxyTAe9vVP0lcfPRYaDvxrZ9zP/v46wbfATQAKo9cJPhZluNDjn2O6xk9xj382a9LrNUC5xDrhs3jiz77K7d103o368GPKaRgFt98nbv4zB0w6wOojWzabnPc8iV3mz+xIXDAPee0T7neMePcRZ87fdAqnZaJxx5/mrv61193uBXJEj0w0O8Gtm4bPMaur2vAnfe02e7pH/x2YvnCDQNwRkcw6PGc/L5vDMItbhm4y6TVBX9jMF34n78Ovj/yOWckqwx7HfrI1MkXkypgKQtQ0spF2DOvuCd10pzAm7cSweoRfv9pGyoVP5PLDSuXulv/+GN33eUXuGPP+FjSd2bu9+CkH7GszoT+qk+9KfkEqMM9zT4Hn/vvBKCvf+OhQ/4+ds8D3Nw3X5YA9JNmdbtJkyYNWc62ZX/Gh74zZFUGMBk1eoxjwsiE0PaRhz7lZTXbXtqkcOld/3XfOP3oZKIZ+qADGV+w1i6+5bpkgqJn2T23JP3UB+invudriaX+px97bbJqhKsSE3v7EObHH3r54J8e8pSXJYYB0njiaz/ibvj5RW6XaXu4PQ45MgHRF55/lfvThR920/c9xO3/mCcnbc3vt2WgGNfFcZOmuRlzD04Vyer7F7gvv3g7NNp2z8+MlZvWrXJPffd26FX6TBwxVqjMVj5Ys8dNmjIk/PS5h7hTv/SHIf0AvfzYl7070dW7zpyVWV1+menvWH0ZS/XYSfLU2Qckk9rnfvzyIe/5pdZYvnz+re7C0x6dhPnvby5LVq0fe+q7XO+ESYlBjcnRCWd91s098olu/OQZg/0NF6V7/vn7QWNB3ioLunrjmuXuF598g3vGBy9JZIKhizEQI8Ok3WcnOm3ClBmDRqJ7b/q7+/YbT3Rv/eXyCNChHbtsuAtefLh7wukfdvs/5qSyUaR+97OPv96NmbhrAqk89/73WvfzT5zp1i5d5B536rvdEU9/Vd3p0ZhQ6swW/3nFVxJl/8gXvsWNGjXaYWHzB2QUDYCp54CjT3a3/uGKzHyc9LbPJ0qPAQef5LTnLxd/IrHeapAJBejF//2Hu/gNT0o6Hcvw/qBJ3qbvc6C7+lsfS5J9yFNOTWa5fvx8h7vJfo8+aTAOBn4GSDrW/H/+0c15+BMGFRRAxmCjWTKw+L23PyNVISpPyGHzhnXu159925Bwr7vs1sHlx0+cMNOdesEfE6US8hx92vsGrfXrlt/nlt19s9vr0KMSgPHL+OWXPtw94nlvSCZEVjHb+n3cy97jHvH8Nw5J2sr02f/3ffe9d2z3l2VChFWf57ATXphYafwHoF1653+SvHz2mfu50y+5MVmiV/qzHvJY95CTXuKu/MirHHHvc8QxQ6K4/7Z/uW+9bjvQP/Rpr0gsKS/67C8Ti4UPjvbDN//s/mRCgzVZDxOVr5y6fQVF7UDvcPH45IlDrctZ8n/E896YgA+TA8qkB0VP/8fNhhUJJklMMh980nbLKY82XFqLTZr1wrfc1Nok+d/fft/95COvHkyjFkBnlWnP2Ye63Wcd7K7782UhzS4J8+IzvuzWrl7qLv/mu9wr33zxIED/6KOvdljNyj70OyxDWc8+Rzze3XPd75KVG1YK0vpy2rd7HnJUsopjN0Hec93v3boV9yerEa/97s3uLxef6x75grckA6ke6ueEsz7jDvmf5wwCOysbj3/1B93im69Nws+//o+DEPiD9z4/GaR/9MGXu1v/+KPBeFhC//Vn3578ftyZ5ybWaPuMHjfBbd24fsjfsgCaQLxbvn6zW/L+IxMg7tu62dGfgJi0yQOT4FO//OchKzZ+W7GyBPJwEWMTuNor8bIx/GVf/nOyWsOq2+++9N4kz9KX/MwEY/O6VcnknG/v/sdv3Z4HH+nGTNgl+V31+9T3fDVxT1O6dmXoqOe+wV1z6XmJ7H9+7hmuu2e0e/NPFzvBU5n21TNmvNu2ecPgp0c8/dXuuh9+afB39Vsf3gkAcNXad0MYyX2Pgx6W6B5WPrZt3TzEwokVGWPEH7/2wSFFUJrEscfBD3cvPO/nyXvF+YoL/+a++rIdm2rf8KP5yaqI5Ik+nn/9n4aUz+prm5gdN3w5sqnR6s0nveV8t/eDHpGkjYFL/Yd8Pe8TP04s/noe89J3JuMkYb75mu3jpcp1/ilzkz6G/v/7ZZ9Lxk/GKR4MHgrv52fuUce6u675lXv1t29wu0zfvtoomeC/zIRDE1wmo0A++p0J+39++R03bfYB7ttvOGEwWjsO8Eet8CoA+b34DSe4CZNnJO5BEaDL9LSC3zQLoL/79me4WYc9OunMepix/+6L73GLbromabj7PfrJ7oS3nBdcAjXGF3/u14OwwscoCwD64c96nbv2sp03hDHDXXbXdqttrcda9PzBjs4PoNIJ/vOLbw9GI2WMRXvX3Wc7NknhxjB9zsGDg7N8gvkISzOWwC+94LCaeZG1CwVyzaXnu9d//3Z31aff7P79028OdnbJY9LM2e5V37ousdR84XmHDioCOztHEQrK8uTAex/cbKeVYthlt73d2iXpEw0/jce/6gOOepCFnfdYKr7w3EMGl+tu/u0P3L9/fpFbesd/3NGnvT+BXauEdj/wCHffLdcNRv3M//1u4u7A5k8sYj/96GtCilYzDBZqfFjP+OFdySDKxPDGX35nyDcAES4tiTXw8rvc8gW3JT6j/sNSKlZhWSxCM4eSxYJj27a+BYr/9p1Ph0blnn7ORe6H739RZng2twDYPHZp1g4SdsBMi4gl299+4d3usBNfnAwADFa4xvhWTzbzsKHGtqU0KK9VuD1mHeL2mH1IIYCesMtUd+BhT3DXXf19d9qbLnL9q1YlF6ngb13PgyVYPtEh8Vhww9KNESDreekXf5+AGIMqD+0BSzHPK795nfvyS45IXL5OfNvnE1j+7tuensAxDyABpK5efE+ywuavVOAqgZ5Qnf/2S+91//j+FwazcsDjnjYEqEPKlgfQ/z1r6AoMcR56/PPdjVddMiT6OQ97QgKx9CtARg+AZ93tWEnTBUgsjbPczz4CJn7Aq9oVE1T89u0DDB949HYXM/Qpq1rAyrlMhgYGkgmyJt/6zq4+TNl7XmLFXHjDXzJFQ5+56Izjh+irEDmGhsGY8blnHTDYZ2WFtH2Ln5m83/bnKxNjBKuIPNdfeaH71flvTU2K1ZjV997tDnz8KYluTnu0+qp3uPSwmltLz5SZLNuysAmcPTh2M16a7mDixaqA2rYMR8e86hz3+wveX1O8z/noDxyrpRgo5j3qhGQlAOv7ad+41n3lpfmnxGBMuPLDpzkmVEe/4r1u8/q17jNP39GGlTgreLiF8WDQuv3qn7l/XrGze+TDnvmaIf3Sz7z0gP4eATq099QRrlkAjRURaJKle93yxe6br3mie8xL35EsAeJTuvyem4csteQVSx3G97Edt+t0t3F1tcflsAzD0gwws+vu+yTWEPJMx/j9l88ezKodBHDPuORNT65ZDPwqaw2cWR+nWWCsAuH9dVd8xf3mc+9IBWgsMCzL1vtgzWKzFcBU5JE1Lu2bJ735vASWbXmQOT6YWHayHqxYU2ft54445dXuD189x93xl+2WkCoelODjXvbuIYO24v2f139s0Dr/6Je83V39zY9WkeRgHCxfZg3OapeVJvhAZLQhfOm++9ahvoBYSlhC9kFEefAHJ1wX/v7d7ZfTJJazyy9wJ7zlfPfPH33V3X/r9YNZZyPep5+S7buYVsapM2a5OfsflcBw2rPXnMPcMSe+xn37Czv8xm24V7zhG25gzdpKADqrDuwEyIZhkzITKqxmLAHXetgsh08rdYJblW8FtN+yDO/XWWj78N1OQr/zwwHQ95z/Qrdh/s4+nvue9UN357lPLxt18p0/eUafHHHyackS+qVnPW1I3E9739fdjz5wamZ61IH8hK8456XJKqXVr+N2neY2rl5eV37ZgKnNsnVFlPGxLKHaS+HDJJM1xpnffH7H5kT8inGrsKtAfvRly86eFAw4WQ9j50B/XylR2MmUVlCz+phN4FEveqv7y0UfL5VmvR/BKOwd2rJhXc2oDjzmZHfL77NXxYvkIwJ0EWmVDCuA5uzNf/zgS26/R5/grv/R15KjhHC/wNcMx3dcL7BEPOlNnxrc1ILf7h+++gGXbF7Yc4475rSzB5eyrQsHfrrAJ/6WdJwXf/7X7t8//VYSJ5tSyj5SElgn8YNtxsPMnSVClmKH82H59a/f3nGMjb+U9OqL/+2u/cEXkhnrC877eeLqwkYfnud87IeJhaqq50FPesEQK3y9SgvXH44ZKmqNJN1JM2e5Nfc35rgwlh61dFeF7DhZIk+h1psOG1lYAi/z1LIS4dKkEz/8uK2LTFa6TJBu/v3lQ5b+cVW496ZrnKxpoXl+6KOe7q7/yw9Tg+Pi8dQXnD14/J0f6JgTTnfz9nhQXQCNxf38k3ds3vLTqMfa5sfFhkE2DtZ6cL3RylSoDKsON/24092yX+7YFFt1/GnxsUEby2uZx19V2f+xT3G3/SnsVKIy6TXyG3T9/bf/OzeJQ497nmMPD32uGQ/A/oP37Hw6Tq20rXGiGXmsKo3Zhx/t5v/zD1VFVyqeCNClxFbsIwvQ+OEAo0ec8soEiH53wfsTIMYfEr8xdl3jQ8uGOlwAvv6qx7mT3vFFt9+jTnAcy8MGplMv+FOyy9j3gfYt3RedcZxjwGTn7vK7b3Y48z/+1R+oeU7w2Wef7c45Zwcof/y4acUKGxB69kMfN7j0GRC84UHYNMFEI+/hKLQlt9+Q+Gp9/v/Zuw4oqYqlXRtYWJackSRgQEWfYs45KxhABRUDGDFgeP8zP7O+h4pZUQRBRZIBE2aeCQOKKFFQomSQtKSF3f3P12sNPb039NydGe6dqT7Ho+707a7+urr76+rq6nM6qLBfOjnD39Ff2Mi4ubb41cG/H3Lh/8V8s72+4SPqN24/r8Kf8MfPbKtQVv41S+ZZ509HRviy+bnaJCKH03Gyzfe6ywjy46Y3FkJOOrl1I2/6BUObOs087K6AS6kYw3qCGw0ubQVNkFkPEZeTk0u48GeTahbVow3rK1xQOOHSoP6oilnOpZc87UugTbcvdldif05zswcXK/iZI9oMojDAVx4uSTYJ8y3cs6Kc8mo3otJ1yT0F9MMDxh7cpwiScPqBSD1upypcJvLAdS8ZKRGXt2TUtz3KOPqqB2KnkxjXpn+9n0xYQ7B+JLJ2+JWZrN9NVyi9XLhl4sKoV6rKhq/rg6Pigg441SMEOlk97VGOTqBxLHjV8Arf4C2bNihrmx7d4J37e1GDFu1VLNDvhj1Gf075Pi7g/ahbulKrfxxKB3W/wZdAw/92/apl1PXBkepi1S8fDFU3S3HhwDYskblomTeZveDDooYLNZwuGvAlDbniCGX9gg8cdvGxkGA+/YALbJSbq24H237jVCTC0sBPFDgu/Pv2Pi6+4FgON67dUuN2e6ibxkhupAzuD7DO8lG6U1k2mwcQAvgEmlEkuDzdT4utOnhdLK9aNbUJg/82AuonM+l+bn7lulmoT/nXc+qERXch0P2BUa5+4TDo0SbLx+GaELIKUUb0hM1D7cY7UN3mO8Z8QqvVKFKRLpD4oh7rP18Swv9jA3zAOdcq6z2TNydL/iUDx8dd+NRdT/jykxeWfETrd5pRo3Z92rRulWe3/OPUi+iX94fE8pjWwN33PoGmTaq49OmXOp9/LyGknZ78CPQlFz9Fv6ycRBPffYkatumgXMk4sUuD7qeI3yAjQkrxIyKMMdwyYP1DeCr8Df7He57Yg0b88wxa8MvXfuKr33s+9z/CmEbyupRoVVgVMsHAAX9qL99eLt7NFz+/TmPautY+ykUVxN3unzoZFhBJ5M07zovJxpf/MMbgs45TwdNufUFtsFj3+NJxuhsEXeVQc35125yqwCcXsZzhRshjBg9ruVr2c3KUz7me9LnAvIzoJKOtwUn/ll3H2B0OPs6wHvttYnUMTCPGCTf0j0WpccPy/Kc+drwr44U9r0EITfp8946xrDsdfLK6OMgJ/Ab3JSSMnZ8mV/F304UDL4BxwgIA1wBYmZB0qzLfxMatbE64UEc5uXT8df18CfSQK49SoXJAXDgN6LEXHd/3Uat4j/gGZFO3Qtscb3JdV42YTh/370uIawxFxgt5aBO3B5cAcTHHJrEVCnkTcTvYv9s1cWHzeLLQrW+4yIAHSBAhwS3ppNBrYsORnX4BzrwYaPqI4UY1wsrFTzYVLyS6tZPrxw1h+AybiV8A5L/DlxYXqPTLgDaYO02A5ndwXdFvMeN3HR/98gtjP+Xj19XNeSS2IjrJ47eAYDE8/4mxyj9eJ4dcFteHB1FwSxx+w7zQIKQcfPrWr1pOy37/ld64/VzCRSUONciXnj5/7nZ1E/+YPg8r/8/hN55Gx17bT42rJTN/Jlhu4a+MsFuLpv4Qu9TDsYW5DzEWEL1Bv2Rqq8c6DoiAw7FtuZ18odetTxE9AGGsTP99fSzhot/A/u4XH/WyL7p+EA15Yls4MPwGAv3689eolwgRI3rgIz0cxdlxv2PUJUt2dWJ94cywbmLRghvaTR/G+3ey/HoUEvwNPppt9jlCxU7GJhgx6eED7pawkcfGhyMGwM0FF5HMhDyIE+6VEFccN/oRScgkcvjOjOxgloW5B0fRet/gvgoMJ2uXzlfZgRkujOl6kFurIZUVO/gMGwQJl525HJsxz3VcMvBbGtzb/8EPmzKD5Ol44vk05aPKkXvgyvPr+0PjNsRmZBZuA05qG+3YQWGLDdPQq45S0UCwYcK8hBCbprtY7UY7qJCreuKQZkHaYX5z5r2vKT/d3kN+iotvzvmY8CGcHIxkHKsev0NXEChAT2grHgV6ttuudMxVD6rIWzjV1i/2Y+7ieQ+n2zsfckrsQus+XS6jY/s8pIr8+Z1BhI223wmBky80LqLiNFM/pcM9G0Rqwf0ShBVEP/CczG3wmwORH4ZAnMaj7+DTjVCUL/bcVxkG0afmfSyO7tTuwONVxJuvBt1vdQkcxrUnTm+loqM836OjMnSuW7E4diKq6xlCte5y+OmKHwmBTsbI8CgjKIF2skCPvrWburVqY4HG056I44oQaZyCEGgQMraGIkzYq9dUDrYOn1pYzA46r69aTHhhxC11+AI7PVbAFnhEhqheVNfzcpM+8JwGnR4+Tz/yZncLyINb9mx1wv/rZEb/f7MrcZz/8eM3xNw1KhE7h109l4H6YTEHDnj04Yhe/6YpHw+L3U4GuZkw6illNWbM/CYX1I/Qeweff7PrAxCw3LFVRk2yq1cotxPbZJIHTB6IdPL1yw/GFWEuXrjIgVjFwBYWA/gHmzjz5gUWWbQBCxovcObigG/ZdQa/4SW2ORM+VdlAhBq3rbi17qQT5mSNfHxLHwShYeuKh2bwkA7C2mGiRzQLkLvLX/1FEV5+xQ8WE/0BBTccYaFYvXAO7de1YgwgHjUiLnS+Y1vcVlzOuuCpj103SGb4J7SDn5/XQ+rhdTUQc4Sq44dfiho0ofV/LYsTz7Q241j7ilcrLha+du2JtPi3n1SouYH9L1RuHE4WZr3AS298hQY9Fu8jDAKNZ72Lajek2nUbx9w5jj7tGhr33ra477qOI+wmTsLMB3/QlxyWTK939G3nKCLJixd+00P+cexvbi9cXHSizmWZeoGnkJ8+q32lLuX5AnMmSBU/ZsIZEdYSIQuxAQNpQaQNyA5rJwwFjdt3pI4n9KAWe+yvNnDm5tppTtNfxWSdhhUV0UAQCemj/n2p07k307vjJ9GaYTdSafFfleRu07MfzRtaEfHhqjGLaNKox9SFQMTdNhNCqtVt3kY9jIHLbthogeCB6KF+bOQRVcGMwuSm/zwfwIrXcs9DVPQjfmrd6Ru3yENm1Amz7yAbLnJ+8/JDKs7/Y6c0V4SYDTUgXRxDn4kbsDvxhvhoOojrDyML+h8baKwjPBejTmy6ET0EVlenkwqcpn4z9D/qoq4e3s1sKzZ9k8YMJEQx4jCiLJe5scX/w8gEbPB6LU5KmTyumDs9LqQb6xCipyBEITbzGBNwJeRTHn3OgFW+4wndY3MP5t0m7bdZWSE37mM13XkvKi8trRROkR8p22YYmKaMCDgt3LKxOC6KixNZdiPQtRo1p+IVixVsbFTidxBgNISBxPyWQ/SZJ8K4m5RfvYZyFwJxd1sfuI9AnD94+Er1cBOiliG0rZ7gToRoRtePmUeYK8Bb4MoEvbYh0E+c0Zbyq3u/KOw2nvz+3mfEFL8skDEnp9yP5vsWs/0yBCXQ2M3B5eG0216gdgeeqI4PEDYMsYCxmPv5QOOBAZCobg+9oSysv44dSt8M+U9CLhxQEMTtxGUmXlDgFoJA8PpOFUczV4+crkAG4R7U6yDq++4CZeH749uxcfFu3XoCr3rBx9uMd8ovBvJ3WBixwM7DgyJ/P4yCwcV/R8ixeogocdSZsckbj7x0vvPluNeTEPLmp7eep0MuqFhs8P9lpVto+rg36T9vDLIAACAASURBVIfhj8d8/fQQVLj40uWul+NecIJ8fMu660Oj48LGQS5YSBHaaptFdCHN+2kcdTzp/FjYMZNkQp7Pn71NLUB4mQ2hebBBgSw2SQ/nw/VCRpAtp4RjdJDsdSsXK/yvfH2yitMKGQ7vdWcsVqlJVFE22gYLRI06DeJicSIiDIjk46e3UpOT/iCCnzUCmz60HfkQNowJIrszmJOpHm4QViS45XR9KP7hCbR71cI/1CSI0xBOcyZ8pizQ+ilHTNf+fs1QD4dmg79bHjz8At95hAPTscQGE1bsFfNmqBCB5qK64Nfx6hQBjx/AzQux1WNE8W8Z+TleTPgLp36vXqbkhRjyTPl4uIqzCh1m6+v3rz1GXw15sCJWM5Wq2M0NGrf29Gc23TWcnu9GfYhxi0vNpm+008ZGxwttx30N87EiWJ4wH8LSxnHXzYUODxmBcHICGcQJGBL6EMfX5vPhbgSaLfcT335RuVh0vnOQijrzxUv30l/zZ8ZiG4N4wvqGjTsiqqD/zITTLVzwwnPLsGrrsXyR12n8I2b07O8/UQ+r1GnSMhYPfmNJKY38dgZtfOsuKp72haqq6fGX09JPKqzuez8+Nfa4Sp/3lsae8uY6OFoFDDHnPbItFrUpM+YDLLsqdF1OTiUCCTxxeRaycTg/0/rLZbpZGs3oTiq/9sKnKRPrDvpMd0PkuO9OuoXwkPx4ktu4hHyYc7BOIs7+3qdfquJY6+VhU4QY5rxB5d9AODF29z/7ahWuDieQZpQWbIqxQYeLHVzY8C3Hb2dsDu91l3qREo/PIKYx3NsQYQpjWZeDT0zMZ9/1tkFPOcQdW6mBF052eEODOwc9nx3n+dorh2nFSQui2PCjZAhsgI2GiTevdXDZ4Jj+LNebd/ags+7bFo4Wf+eNT4ejz1LrLR4Dg0Fty6aNCgPc9fDq22F9T6Eej38QM4KgTLf5BcQXG0I9NCNOAnCfLGiyIdCTfvyB8mvUDFqF53cdO8ZvfpwyZy2BBhiwJOIIYs2SuVS32Y6EGMVMRPwINC+asFbipR1Y63DhQCcPfr3KCmJOWPgO783jpThcgsRrR/oDA0GfbzVfYere/wP1+IdTWjJzEg2/qTP1fbfiqDOZyXwyFj7TiArCT8byootHCmBx2rxhrXJL4GD7kIVJFx4wefnywzxfXUJ5iIWM8EFOSVlc/vsWwYfaNuElp3HP3xnnQ48JB+SDw8Bhtw6rIxZBJFgy8Nog3H70RyW4zg8fvZ4OPv8mRUIgr9tkBcsfrC1OZAJlORFoxFjFQoQjfsQERYJeVVzWXKesCbAqOOkWXhPDwzkIIYUA+rsdfRYhLJlNQtkr5810fV4d/rbw1092MkmyXj7/xhZ9/Tf0K3Qfr35ywgVj86EmlGG+kme24bfP36RxT99K3S9/knILCmI/e10ItCXQXFiiBBquZzhWBuEwE78kmEhfAAcvsgEig7GNONpwKYOFDsThhBser0QCuF5E4NAfwUlEHrenjVGGjdUOBHrUD7Np2b3b8NFJM/571rO9KafNfnTR9XdUItCoAxtsxFxPJDltnjF24KbCxhQm0HC1KCisFSse3/I9ErhPcXxtWHCxgYXbCu6YYE1hDOAaA4vrx0/cpNaAA8+7Ifainik3DDXPnbub5xzr1Va4QXCMa/Q9jBXmHIXoI6gH4VuxYdcNIjC8wKj14xvP0dRPRhDcNHHBDWFO4TrH9zGwuUXMY72f332glwqr5jSX4iESbN703xBDfuqnI2jfM7c9kGS2rWRjsbJUw1IK8m4mtAXWahBUrwSjFFyqMJcjjjLLgVM7uEk5Rfgafdu5cWuOn44BZ1j6V8yZrkLu8lrE32G84I4HTty8kmlYcMsLQ2TTnf6h7sBUNdkQ6ClT/K3EQeXICgIdFJwwfGejIMmWEwMGFhtMoCCsXoqOXSVeXEpFgrWAd9HjX+2nLN7YgXPCwMdFAwxsTET4/4qb5nmVJsmqyocwhrj45vU8cCJ1QFZcRj23X3w8TEwuzTvsF7cZSqRczotFCL5pwMIp6QuW/rsTsU6k/sljX1UuTnAfCXvCZgEWEZB/c6OBGO5j+12rrJZOGxmbtgFLXGTkh0GcvtlaXEzLR4+kms1aWBHok8+5jVq32ydmVe553UtUWLPimNQt6QSao5t45Q+6+bbBJKx5sCkCcTDnMqfxoAj0T/PVK4OcTAK9eWupesq7a6dWMQINl0AQOFzEC5LQLxjXfLFKJ3XY2MAyW6dJC0X4WuxxYJylH3M5Nt1MlviBDZM0wprPx+4sI4wq+dUKFKn1Sk5PiQdpJ3/jtVlzm6dALHE3Qie3z3TroF6yZUMQLnyz+xjX5abzOHUiyon5KVelPVX5Flgs+OUb2nHfo6pSjOO3sFrjsTPoR7LWt6QL6VKgDT+a+P142ro5/hXRZMl3wBGV3WnNsiNvgU4WWNujHBsF2R5ypbtO+FeC8Jj+YroccLmB3xYwc1oI0i2zV33wa8zNq+Z5fLc95P3osesJl08kVR0BuNbASmoSEr3kso0bafXbYyivfv04Av3W0Nto2aLKF+jYXYNJsZv7hl7H26/cQUsX/qb+hBOPZFh+qo5ONErAS394gVNPINCjJy6gpXdVvNS2Q+ebqMkxl8bcNkCmnQh0slo86+v3adrno6nLXYMDF4mwjLCQ+rnzBK4gxR8mssnDnQ9sjIKQQ5yOILkZIlLcTCneBwEbftT/9NZUqj0Rn0xQbcaPEOhkIp5gWTYKkmCRkl0QEARCgoAbgR458EZatSL+sZxju/SlnXareLIXBNqGPCPvmuULafhLfanbAyOpVacjlBuOpOAImAQahBlpxfiR9OfIe5QPdCoJdHDJt30JAgofa93tLxnlShmCQDoRsOFHbv7/yZBTCHQyUExhGTYKksLqpWhBQBBIIQJuBBoh6dauXkqNmralFUsr/PK7X/k01alXcYyeCIEuKymh0lWr1EMquYWFKWxNdhStE+gduvyTmhy97QntP998iFqedWvoCXR29JS0MtMRsOFHQqAzXQs82mejIFkMjzRdEIg0Am4E+pWnLlOvDZ563p30/vD7VBt7XPWsClEnBHr7drlOoFuceQs1PrLys+Nht0BvXwSldkEgOQjY8CMh0MnBOpKl2ChIJBsmQgsCggC5EejB/XtSyeaNdHqPu+ndYXcrpC7oM4CKalfchBcL9PZTnjgCffZt1Pjw8ysJIwR6+/WP1Jw9CNjwIyHQ2aMPlVpqoyBZDI80XRCINAJuBPrFft1VxIYuF95PY165Q7XxwmtfpJpF9dR/f/buk3Ts6ddZtV1cOKxgss6kE+hdbhpFNVtVPCakJyHQ1nBKRkEgMAI2/EgIdGB4o/+hjYJEv5XSAkEgOxFwI9BLF86kt1+5nc666GF6cwhCaRHZhKxzQlEIdHJ1SyfQHR/8lvIdwggKgU4u5lKaIOCEgA0/EgKdxbpjoyBZDI80XRCINAJuBHpLyUYa9FhP6npJPxo9uOKlzov7vkzVayT+JK0Q6OSqCBPo/D++pEb/OE69LicW6ORiLKUJAjYI2PAjIdA2SGZoHhsFydCmS7MEgYxHwI1Al5ZupW8+GUR77ncKjRx4g8Lh0htfoWoFNRLGRAh0wpB5fsAEukHNAqqe7/xQkVigk4u5lCYIiAVadCBhBIRAJwyZfCAIRAYBNwLNDVizajENH1Dh69zrplcpv1r1hNsmBDphyIRAJxcyKU0QSAkCNvxILNApgT4ahdooSDRaIlIKAoKAiYAfgV63ZjkNe+5q2vfQbtTp0LMp18FdwA9VIdB+CCX2u1igE8NLcgsCqULAhh8JgU4V+hEo10ZBItAMEVEQEAQcEPAj0OuLV9GrT19Ol944lKoVBHsERQh0clVPCHRy8ZTSBIGgCNjwIyHQQdHNgO9sFCQDmilNEASyEgE/Ar1xw1oa+mSvwP7PAFUIdHJVSwh0cvGU0gSBoAjY8CMh0EHRzYDvbBQkA5opTRAEshIBPwK9edN6evnxi+nSm16lagH8n4VAJ1+thEAnH1MpURAIgoANPxICHQTZDPnGRkEypKnSDEEg6xDwI9Aczk4IdHhUQwh0ePpCJMluBGz4kRDoLNYRGwXJYnik6YJApBHwI9AIZzewX/fAETjEAp189RACnXxMpURBIAgCNvxICHQQZDPkGxsFyZCmSjMEgaxDwI9AA5ABD3ejXje/Rvn5BYHwER/oQLC5fiQEOrl4SmmCQFAEbPiREOig6GbAdzYKkgHNlCYIAlmJgC2B7n3zMMrLrxYIIyHQgWATAp1c2KQ0QSDpCNjwIyHQSYc9OgXaKEh0WiOSCgKCgI6AEOjo6YNYoKPXZyJxZiJgw4+EQGdm31u1ykZBrAqSTIKAIBA6BKwJ9D+HUV6eWKDD0IFCoMPQCyKDIEBkw4+EQGexptgoSBbDI00XBCKNgD2Bfp3y8vIDtVVcOALB5vqREOjk4imlCQJBEbDhR0Kgg6KbAd/ZKEgGNFOaIAhkJQJCoKPX7UKgo9dnInFmImDDj4RAZ2bfW7XKRkGsCpJMgoAgEDoEbAn0Zf83nHJz8wLJLxboQLCJBTq5sElpgkDSEbDhR0Kgkw57dAq0UZDotEYkFQQEAR0BIdDR0wexQEevz0TizETAhh8Jgc7MvrdqlY2CWBUkmQQBQSB0CAiBDl2X+AokBNoXIskgCKQFARt+JAQ6LV0RzkpsFCSckotUgoAg4IeALYG+/F8jKCcn1684x9/FhSMQbK4fCYFOLp5SmiAQFAEbfiQEOii6GfCdjYJkQDOlCYJAViJgT6BHqpBNQZIQ6CCouX8jBDq5eEppgkBQBGz4kRDooOhmwHc2CpIBzZQmCAJZiYAQ6Oh1uxDo6PWZSJyZCNjwIyHQmdn3Vq2yURCrgiSTICAIhA4BWwJ9xS2jAssuFujA0Dl+KAQ6uXhKaYJAUARs+JEQ6KDoZsB3NgqSAc2UJggCWYmAEOjodbsQ6Oj1mUicmQjY8CMh0JnZ91atslEQq4IkkyAgCIQOASHQoesSX4GEQPtCJBkEgbQgYMOPhECnpSvCWYmNgoRTcpFKEBAE/BAQAu2HUPh+FwIdvj4RibITARt+JAQ6O3VDtdpGQbIYHmm6IBBpBIRAR6/7hEBHr89E4sxEwIYfCYHOzL63apWNglgVJJkEAUEgdAgIgQ5dl/gKJATaFyLJIAikBQEbfiQEOi1dEc5KbBQknJKLVIKAIOCHgBBoP4TC97sQ6PD1iUiUnQjY8CMh0NmpG6rVNgqSxfBI0wWBSCMgBDp63ScEOnp9JhJnJgI2/EgIdGb2vVWrbBTEqiDJJAgIAqFDQAh06LrEVyAh0L4QSQZBIC0I2PCjJ85oS/nVi1IiT58RU3zLzUEqLy8v980pGZKOgI2CJL1SKVAQEATSgoANgf5i7PN05MlXBpZHHlIJDJ3jh0Kgk4unlCYIBEXAhh9N+vEHyq9RM2gVnt917NjRt1wh0L4QpS6DjYKkrnYpWRAQBFKJgA2Brmr9QqCrimD890Kgk4unlCYIBEXAhh9NmeJvJQ5avxDooMil6TsbBUmTKFKNICAIJBkBIdBJBjQNxQmBTgPIUoUgYIGADT8SAm0BZKZmsVGQTG27tEsQyHQEhEBHr4eFQEevz0TizETAhh8Jgc7MvrdqlY2CWBUkmQQBQSB0CAiBDl2X+AokBNoXIskgCKQFARt+JAQ6LV0RzkpsFCSckotUgoAg4IeAEGg/hML3uxDo8PWJSJSdCNjwIyHQ2akbqtU2CpLF8EjTBYFIIyAEOnrdJwQ6en0mEmcmAjb8SAh0Zva9VatsFMSqIMkkCAgCoUNACHTousRXICHQvhBJBkEgLQjY8CMh0GnpinBWYqMg4ZRcpBIEBAE/BIRA+yEUvt+FQIevT0Si7ETAhh9N/H48bd28PiUAHXDE8b7lShxoX4hSl8FGQVJXu5QsCAgCqURACHQq0U1N2UKgU4OrlCoIJIqADT/qf3prKt28IdGirfLf/PEK33xCoH0hSl0GGwVJXe1SsiAgCKQSASHQqUQ3NWULgU4NrlKqIJAoAjb86JETGiVarHV+IdDWUG2fjDYKsn0kk1oFAUGgqggIga4qgun/Xgh0+jGXGgUBJwRs+JEQ6CzWHRsFyWJ4pOmCQKQREAIdve4TAh29PhOJMxMBG34kBDoz+96qVTYKYlWQZBIEBIHQISAEOnRd4iuQEGhfiCSDIJAWBGz4kRDotHRFOCuxUZBwSi5SCQKCgB8CQqD9EArf70Kgw9cnIlF2ImDDj4RAZ6duqFbbKEgWwyNNFwQijYAQ6Oh1nxDo6PWZSJyZCNjwIyHQmdn3Vq2yURCrgiSTICAIhA4BIdCh6xJfgYRA+0IkGQSBtCBgw4+EQKelK8JZiY2ChFNykUoQEAT8EBAC7YdQ+H4XAh2+PhGJshMBG34kBDo7dUO12kZBshgeabogEGkEhEBHr/uEQEevz0TizETAhh8Jgc7MvrdqlY2CWBVkZCorK1PkHP9Iyh4EysvLYxuz7Gl1eFvqRKDLMC7Ly8l2ZKJHvfKWlZRQ6apVVO+MLpRbWFhlMKBD+Cc3N7fKZUWxACHQUew1kTkTEbDhR0KgM7HnLdtkoyCWRcVlmzFjBrVu3Zpq1qwZ5HP5JqIILFy4kKpVq0ZNmjSJaAsyS2yTQJfm5NCfjRtR/XXFVGfjRqvGzmvSmNosW+6aN9kEetmyZYR/OnbsaCVflDOtWbOGCgoKqFDbeFSVQMN4gQ1IXl5elKER2ZOEwIoVK6hRo9S9lpckMUNZjA0/EgIdyq5Lj1A2CpKoJJi8p06dSjvuuCPVqlUr0c8lf4QRmD9/PuXn59MOO+wQ4VZkjug6gS4pqklL69dXjatbvJ7qbthA5Tk5lPv3qYFbq0Gga2/YQPWL1ztaopNNoKdMmaJEyQYC/ccff1Dt2rXjNpxVJdCzZ89W+LVr1y5zFFlaEhgBjKdsGEuBAfL40IYfCYFOBfIRKdNGQRJtyqxZs2jz5s0pIdCwriRytFtSUqJkwSKVyrRlyxaC9RWbhmxO06ZNo3r16qWNQG/YsIFq1KjhqhNYPPbYY484V6KtW7fS2rVrqUGDBmntKlgb69SpU8mtad26dSnTTxDopZ98SoUFBbSmQX1ap50IVdu6lbbk51Prv63Lq4uKqP769ZUwAYFGQj4nVw5bAo1xWL16dV/MmUBj892mTRuF16ZNm9TGDP/4JYxFnIJEIaWCQEd9A4IxbXNyuXHjRkLehg0bRqGrt4uMxcXFNHfuXNpll13USUeyUpTGWFXabMOPhEBXBeGIf2ujIGYTcbzqdUTPEzgmwWRbQZwIkSnfnDlzqEWLFmrC+OuvvwhHWJhAUpF4IsEC//vvv1vv9L18hdevX09FRUWu4mJCbN68uWpfKn3MISNccWBNBkm1JT8g0C1btvSEe8mSJYo0erXTpr9Y1xTBa92asKg2bdo09il+32233eKOs/VFBRn1hQUL8oIFC9TJCXQICTg44QwibkPoWBg33cXfmzVrRtgcgtQnUqYTRtCP+vXrU926dQkEetoff1CzJUtofZ06cQSav625aRNV37KVVtWupVw1KrzYiTYVVKONBdVpXc0Kv+YWK1ZSfllZpSpNAs2bXODYqlWruL5AH2FTy0fKwHb16tVKXh0n/m/8HQQJYwtp9913991AA0/0KXC0mX+gD+k4KcO8CZl441ZaWkrTp09Xcyn+WbRokRprVbVA85jAHBFFcullMeV5E7qwfPly5eoDneD7NokaWGzmGNs8mA8gx/Z2ncGGHPqPdRA6gHEIvbI1GGDO79Chg2ez9T7CnIt1EMYBTtgYYg2wWTNs8eV8qAtrOtpWlQR82rZt61mEDT8SAl2VXoj4tzYKYjbRaYKDUmMCgS+fTmpwdISJDqTKzypkkkqnyRBlY7HzsvQiDxZOyLJq1So1yfpNCEG7kUkRrGtY5GHtxL933nln1yLRTmACvExXB7QZVlxMRiAbTgl1ot8wgdhOikHax5sCTIKox1yMIf+8efOoffv2qj2NGzdWfQ/iphMntzaAHDFJ9ZIPfYi+BInXE/4Oqz8nyIl+0I8rIY+5eOAbfMuJdRTyg8z9+eef6if8HYsR2rjTTjtVqh9lY7EEGbTRb+RHOThBYdK+cuVKWrx4cUwW6K2N9U3HAfq0dOlStRnBpkS3QDKBzikro5qbN9N6h0t+1UtKqMaWLbSmqEhZmZfUr0dFmzbRKuPUJqesnApLSqje+vVUrbQ0JoJJoFH/rrvuSr/99lusL2B9x0KuJ+g3+hX5QCx5jOrzB/oU/+DEAMlvc8b9xfWYpw9uupjsI27oEYgFb4zQ53BvQr/zwm8SaJ5Xk0WgWYdNXdE3gzaEEzqKsY95FGNE/x6/YRwnciroNxeZ6wvIGMYwdAVjBXVijEDvgTE2H+wzj2/dNlnYtEPOqt7PwFrHc4LeFvwNuoo+T1bS10Te+HvpKrBCn2KcYE7Amgt5IRPmKaxNILbmXMryIi/GI05+vE5t9T7Chh2ymfOuk/7puAQNNAAjB9yUgo5ZNnrZuLbY8CMh0MnS9giWY6MgaBYmex7M2KFCeaHImMxAljBYQaLMxAPYxh8a1mJYYXhg6ArOE73N8STnwaQLmTBg9EkVFjAkJjFMuN2Ii5sFEmUwKQKOcF3RSRnLb04ULJ8TSdYJAHBgf3L8NxYL1MPWuGRamEAqTTLLBBqLDtoAMoJ/s4UFZBVthnV/5syZqt/QNi/yz/ggn98JBXQKCzf0zSwT5B1/d0qsP5hkoaNY9NkqDZnRVvxdJ1nw2QeeaBsTaCzYwBzJ3LRxv3AZ0G/kZ2ycjji537EZ4Y0TFivk5eRkKfJbaHjc8ILF9WBc1i4oUBZovwQSvbmggOquX6+IdJ31G2htkfMF4KarVivCjbSkXl1qsmx5XBQO1A9dAs76WHaSARsK1menvMATuGKBRsImAYs7CJMTUdHJN/KzNd9rA41vzFMKltVr7OvtwfyIsclEkudD9CdblvFvXY/x/+g7kC5sQrFxhhwlpUSjJy6gBjULqHq+80XAzVtL6a8NJdS1UysqLIjPo2OAdusnGrzhx7wNQoX/x78xzkwDB9oO3YOVnMe2iRO+T6Z7gD7f8XqDsQldxsYcmxDeTJn6BGsirIp8ed08ycG3ON0DJm4nd36nf6jTicBhc4i5GzJC9202Jn5jEr/zhgFzL/QFG3+dOGJ+gv6w3pn6z3VA7zCW8D3mQsyJTkn/Hn3Nln3MUfpJnb428zwL/DE+9blRlxW4oU+4HPQVcIJs0D8eH5hrvSJ44Tv0Ewg+vmcrMv4byW8zx5ssjDeThPOmltdelKWfejhhJgTaRpMzNI9OoKE8UBj8jYkcDyIom57YaoeFAoQAC4FXgrJjoOPoxbTmgQzhHwxuTOxOBBpKD6suk1TOA+KGyRWLLP4bCxEmfCRMFJCPEy8C+v9jx45JyM1qykSN6zMXVJ5wUC/K4oRJHBM28IM8PLngdy8CrU9gsOJh4sIExRsRHeNkEWie8CCzfgzHBJrrBEmEtYHbwgQaRBiTI1uC0NcgOZxgfQS+nNjKjv8Hrugj1Is+1BdNva1cJqw8KBsTKCZSp4TFBvmYdCEP/gbdghUK1hlYCDnxwov/h3WGCbRZNspAwvgw64dFB3gBA8gKXXAiG/heJ1FOCx4IjU4OsVGAjru5u2BMoV2Mp15mUWEhrbeMtqG3t9bGjVTsEpKu8eo1VLOkRLl6zG/SmFr9uTBGoKl6dUUE3cac1xzB7XYjAea3ThYot29NIqnPdfjG/J3r8vpNlwdjFDrOpzRMoHnzibHKJw3QI+gmCANvnvTf2++yW9IINPQS8y10E8QTGw+nvnE6+TA388AC85weMcTpb259zK5/aDPmDt1thvsDGGEtgS5ArzmBlMLSbasbPBbwb7Qdaw/GNeYifZOK+R1jFZsAjGudGHLdkEc/6eOTLyeLK77htQBEEbg6uWTZbswgM+YqGICYpDvVy/prgw+7DHH7IAv6Gv1hrvPIC73mdZf7nzdiWNuYuGJ+whqBDY+uYygbfYk5Uz911GU1+5vHjdMY5zVbrwP/jfUW/ay78Jm6aBpe9PL1dQnyQE+xJgqB9pq1s/w3nUCzQmOwQuEx4WHwgBzpVjJAZip8IjCCpIBkMNHFbhiWYrb4YYFB3fgbSAgmVUwiGKAYhGy5BLHAgMCihcEP0qQnk0DrRMkkG6gbkwMSFjaUi8HDR1o80EDaMJkCF/O42A8DbAAwMcDqiKTXif9ny4ZfOfx7VQg0JgUsJiCTejvQF5g0oRdsWTDl4UWZjxTN35nsoq9QBxYgPgHQJyl8BzKMfkO9vIkyNyPIx6Hx2KoJ3dA3R7oMTOj1v+mbL1Ne3hjg716bQciItmCx0hcOszwm4aaFnccXJnl28XFb8MxFErrv5q+nu7KYm0RbXUo0H3yl/6pVpHyqdQJdmp8f02+UaXvCpS+GNiQA+XUc+Xuvb9narWOEjQmICVslMd71423TwgqiB90zrd+womNOYMueeSKnE2S2zuuYg2zxyVgiBPrsfVpS9fwcNWex25SJgZtO6H93co3RXZ30vKybOhnR9RXzCcY+Y6SfnMEowIRKd3MD6cIcYRI42zHspL+6IQZ9g7mIE+qG/jBWTCpNAs2uR5CbLfT8DfoUuAEH/fTRlMUkgbqV3W/cAQ/MmWyIQX7oGOYpyMOyQGexBuqbDrey+UQOuox+gu7xKZD5DcrEWg/DCRJf5MWmxCZhbsVY4JM8fON3KqWXa7tJZv2EcYLHATgErylcpjn23DZBPHexJdqrrWKBttEEjzwgRBhMuvWuikWqz7H7xLEL+8yBYGFSwyQPcpiMCyJOBBp1Y6eo+4kmoz1cBgalbh0MUrY+oTsRJpRpTppmPfrxMQ9sv0WD7fcfkAAAIABJREFUJyzUD+KHxSBoYr9Ptoa6WT7dyscChX7CJJHoZQ1uB7tf6HWwNdWtXibQbmSF3R1M/152AeGNk1e72KLqlAdkB1YIc1Pn1Q9eBNqvvWa5fmMD/aJbhLFgwvqn+wD7LSKQFxYV/Bs4Y+MFgmEmPgXgv6eCQNcoKaFNxg1+EGiOzqET6K15eeokKGhKVH6T+HkRaD550Mksywmcscij39jdA4QWbcGii00h+gA6B7LEmy623EIfMf/zaQry6qccmKsxHmySG4GuWb6BNlENKsvJJXbhOKplNVqzusKf302n2I3ErNscE7yJABnHuqOfKmLssmUR9fAxuo4fz0GmTywMHRgDIGzAC+MAOAJDGEfwG28evPBJ1GjjN67RX7o7CBN4NmyYblpO+LI1XieIZhvcSJoTOTS/ZX1G35gua4mOFb1s/VvT0GSjo1XJg/kTc6TfOoA6nO4wOI1x3TgGowwMDl6bMZYfGxPwHLf1Zs899xQLdFU62+bbdBFoTFpQDL4EgYlK9+XEgMc/bseRTm1hSyN2bW4+pTYY6HlADEHq3JLuW5po2ZzfJL9ByuFLZ/pg0ge1PsnwQNYJtK2lzEs29CdbNvQF16Y9sCRg4jYvcDh9iwULi6LpK2fjfuNUHrtrOP0GAg2SYlpleIG2mTi92m8ufDZY8ekF5010MbapwykPdIgfBjEXMPy/mw7xGOHNoRuBBgEA0eakE52gMpvfIUpHaW6u8pHmVLh5M238OyTdDosWE61cqV4iTDeBhjxMRHRf8Kq2nS3TZjlOuqdfaOP8QXSUv23QsDF9Nm9jzAc6t7yUcqmMGpWvpjLKoVwqp3llDZQP9D61KnzDkVAn5l4/dzo3bPA9rJ1Oxg3dOqxvEJ10GgQclk2nUxY+capq/6Tie782Qs/c7vp4ycPugabblxOBxkYCfcCnIF5rTFUItG50SjeBTqTvmMuA18DqbQYp4LKwtmGDhoS2YXNmQ6BRPniUm0VdCHQivRUwb7oItF89mLhgkfILzaI3kweo07FiQDhivrBBv99e35mkUJ9QsTDhGI+tMH7Hjelug5c1AxMyLGmwwGGyxOaG3UiCyum3SXIr18mSYiODnzXJpgw9D+u7jYtBVTZr6Bccj5oTtH5xzEZ2PUqFnt+MRMLEL9lEuuXyFeoFQ7fUYM5canDkETRv8eKETgbM8nS5dVcer0UeGOvuRLBy8mMiNtimIk9VCDTk+bm4VoxA1y1bS4W0OU7MlWU1qWHutouwyWqDudF0Kpf9U83fTAst/p9d4JIlXyrLYVdCtzqcXMts5QEWfGmUv3GyrsIij7kCaziMI/q9GrMuv5Mwzm/Tp7btSHc+rBcwQAAL/GM7tnWXFzeZQbTR56brp55fCHQaepyJLXZAOKbDcR+sABxqDIsfXxjBxIrFm28BwwUAu1rsPOGLhN09X67QXTjY35dvp2Iw68f2IEmQA8d1+oUtv+Yzga7qhK/XwxMp3yD2kyGsv5tHn0HJXzra50agcVwKPz4mvLaTLsscZosRZISlARuCRN1f4KeM8WZDtGwmY7c+9rIS8UVTG/1ws0CbIfm4rKpYp0x5cKGwwbpidWEwFQl9gc2daW1jMs0RGNyscaZOs9+ifpkpFXKnskydQDcrc39GPZUyJFo2xgn0VHf1SMYpnZcc5iliojKnM7+5xjoRaGAHa6t+6TkRGZ0MG4nO4fqdkETqTkXeoIY9G5cpkGec4MHo6JaEQKeiV40ydQKNBQ0kGB3IvjUgxCBjGBiwRjHJ5djBWEB4cIEI4OgLi7vpA+1lgcbxPwgrrKReYVzuvvtuuueee2ItmDx5ckII6ZdddOudvjtnMqdfMrF1FTAjJCQkXBUy2+zS3Xytg1TrNam5/cbH+k4uMDqBxkaOw6lVdQFLJhELgpPfN7rVy8k6gb/h6NS8cGiSMmDKPqx6ndBxEAOn40An/3FTXq/FiMeSLUE3+1gnK2a9yOsV8ssPV/13EOiG64pjPs+JfKvnNRc1njPcfHdZ98y+8nIfQn1u5QWVe3t8V1UC7eZmYatrQdusu0Yla+5wI0O8ToJ08r2aRA0EQduZjO+8/Ht1sq2vnX6677R+6uuJjbtGoqerep/rctusl26uUoyvHx9w8+/36p9EjCdCoJOh6T5l6AQaCzVfQuGIA3pQcj3UCo4m4MOsPwqi+zknQqDxHY65E32dJxGCBYsZdvzs26ofeaEN/Jy1vtBDLuyKMVBs6uLJEgsA2sO3f9EFiVjs9InGbyJ3O5I0ux1kCkRb9xE0ibc5oN0uTHodsZvyclQHxtsp1BpjzhdfODarDeZe6s2y6Bsnt/x+k535nZ+bAQgWxpBbuDo9tjeHheL2Mu76xk7vZw7ZxxdB+TIYf8+bFLb8mjjyRUn8na0kZpQX26kHGPOlLK8FQR9XHDZNf4RFr8+0wtbYtIk2GQ/R2MpXa8NGalhsT6BNnecQjJCJowqgbl6onQivHiXBDGEG3UYkDLdLzjpOpo+43uZ0Wdps3IQgl37pOdkEmsev31xoqxOcz0vnbYwSNvWZ8wTmGSR+7RRjkHUp1RsEltfvxNbGcqrHp0e5brHtddLr5hLGckGnmVeA2GIdxOk2P/KFfJhr9LtTeh/wgys830F3MRYxv+JU3bwIy2OT4yejr9AOno/9XAXRHo72xHO1vs77jR3wCswFNlFBWDcS2WALgbYZoVXMY7pwwGeSExRRj52pk2K4dSDpr9HBgg2lwd9sCTTfFnd6Lc2vaU7EwC1Chql4UEgMKAxYDvODgak/SIJBh8EEYuxG5jDR8tETFl+4HKAtul8jJkssMMBHv2xn+qVx3GoQH3Yh0Rdup0ldv4AAvMxFxovU6NYBkC4Mfp40UC4GuL4JQPkc5s0JD+5D/MY7e0xKmGQgO9qOPPi3fnOYv+OJLNG4qW6bE8YCbYN1h3WW9UpfsCAnXJL0S21ufoVY0EGETAwYTz7WRz1ueqMTJZaHCTG72+j6oVvumUDzhoP117wkij5EG/nvHLlAt4pi8UZfQE+8bs2zjKY+6QTayfrDUSO4vV6kkOswx2qzJUtpSbOKJ86domro8wQIc/Hfz3fj7yaBbrVsOS1o0phyy8qo2tatcZcLkZ8jYzAWwBYLHL9spmMMQs3RRfjvursK/sYGCO5btA3lQRediICpF6b+8HiHjmCOrWpEIK85FvqH+cwmvBj0AqeSmFN/LS6iujWrq4dUgrhwmBZoyIF28nh0CwHpt16Yv3Os80Q26n6h0HgtwMaLL8XrG2PzFVr8xiSb5ysbSyvaAiKMucbmwpnedrd48fx3lsPPfQJzEgcGcJPBjOrjFf2JdR9rMuZrYAidwvqBvkLCXOWmj2yUYLxNK7n5aJOOCb7Rx54exQTGMH7vQf8G+Vke/DfHCvfTJ95sYt1DPV6+4jzfonydn5hhaM049FijMHdJHOhEZ4UE8wcl0E4WaJAtEFDsHG0JNCZDTI4cxzgR8U1F9bJQ8ODgQYTBhoUMg9Mm8ofTDhuDHAqKiYcVlf3DkR9Krr9ophMqk9yYfqL6q0L8HQYe6sKxHzDGBAZCwtYs1I1JA5Ei+FavVwg0/YIZTzb8KhnKwn/r0U1QFiY1yOq0sPMkx1YVYIs6oAsY0ByBxYwZjYkalyywUYHsfOnMbyLSCResvcAcFw71BQnlom7IjInX6XEaflyFMedynQghNkmQlx8u0MPimS/YoRyME8hmTvpOBJoj0UBWYISyoa+YpLnv2cWF9Uyf+IEzMEZ7oXsoBwscL9LmC2a6uwxkhYzQJQ4/p49F6DrkMTeTaAfGLzYewMuMv20SaPaT1Ms2LWKMzZoVK2jB4sXUauEiWl+nDv1VpzbtsHIlLWrY0HWaqFdcTKtr1Yr9XnvDRmpQXKweTkGUjfzSUuUPjVB2m/PzaUmD+nFloX2QGZiZLzjyOORxZi7A+H/zQR/Ow+HO9LsfTvrtR6Che9yvKBv6zndQzHBqaAv0wO133WXAPMnSDRosJ/QKbdf9LvnkBnLzqeW09TWpqLAG1cjLpabl2x4UsZ3bzVB9JrFBPRxf361MzOmwXAIDHvNm9BqTcNnK52a5xsYUcxfwBraceNPoNOZ5/Or/dnKvAvaQH+OZT1Ex1rGpwNhLJCSpuU6C5KJfMcfwS73mqRjaYkvsdRx1IwXqNQk0CCL6EmsZTtKckv5wC8+H/AAK59cfE+O7M05482M3/LAUf28az/B3nstgGMEch341Ler6nK2PdcjpdsKmP2qlcwKntvOG23y+3CTQeqQtjF3M4+x666XXEgfadtS75AtKoNkHWj25W7u2InKJ+kBD+VA/JgL9tSTbJjkRaN3yC2Vnay4PJv11Pt5l2hBoyMQxQtFmkG9MziDCbk+rOrWDFzy2fmDgYgLE5KE/N4pv9SdV9ac+MYECL46lzTiw6wMfNZv+l6YFW59InSYbyMAxUHli5TZxnbwo6cH60R7UzbiYmwuUoU8A7EsW1AeRZQchRN1Y4KBXkMlMTJKZ+EKPdVLDoZ7QH5jUMeGDSLHFnI/nUS4maiw+2FRgsYb8fESr12tOdjZPw/P3HN8X3zjpGX7XX1dz0jnTuuI2vqCL+IefSdbz6fqhjztTb5goQl+BKyyYvIl0e7xHX2R1l7G1K1fSfDyysXAR5Wph6JbXqU0bXFw6Wi9bHrswmL91KxWWbFEEWk+IAQ0CjcTxoPl3nUDrL3Dqeu/08idj4kagnTA3ozywTup59Y006tD1D/nYVxz9oMfV5ovawBzHxNikYDPHm0KQVMwhmLdZfzC/MQl36m+eT/RFH/qObzBeeD5duSWfivPqUJvcyi+8rsmpRXXLK/qjTt36tHZNRRxoPUE2yIp5GRsup7mJHwnBd05H5fiGH7jiUzSe79iSbUugsYYwMUZ9plsGb0Tc5lDzRVi9rTw2sW5hnoEFn9dCnNRh7KA+zPk8v5jPOOvj0XQDwfoEoxYTbNYx/ZI8u4Bx/7mN9UT9i9FOlAVeAPwwV+rh8HTSnMgayvhxWearqcwBnPqDTxlNAu02JwJbGK0wViEj+oAtxl5GP7cILrrrHtcJ3DFfYiyiv93mXf3vuv4zzvg36gXWKBN9LxZot55N0t+DEmhUb0bhAGHlo04bCzS+BwkB0eGLY4k0S584dMVkK7Meh1EfoJiYmOhgImGi7Vc3BiwmZfMYzu87/XeT/CbyLeeFpRCTIrubgNxiAPJxsu7+gW/4/0EIID8mGF4MvSYbL9mAPRYWJpCY/BOZBHkiwwCHziRiQWG5vJ5M9ZPdiazwN06EE4sgNk36E756HcCfo8x4Tcbspxek34N+wxbIRL7Xx5ZOnFAG/+YWXUOvB/2LUwUslsDHdDnQx62+YUQZxatW0fy5c6nF0mVxBHpl7VqOT3WDPOdopNiNQC+vU4car12rxDQJNC/GWKDQ1+a8BEIHkszznK4z+O9ECLSOJTa/egxdLhf4YczCyGDigzz6y6OqPfPmqfmMLVZsIeOxiX9Dl502/siL/sFG3slS7vSiHcgFWy/19iDWsxOBXpFTnxqVV5Dmdjt3oMV/zlPkW486AgINCxosaV6bP37R0+nk0YkEcj7gg74FRnyS5DU28J1+pI//B8Fnazx0AcQF5MotwXfXKUSrU5/qZaBcbNCxgUc9mPNZHzgfh5gz4/2jb/glRWwMYbxBv7KbJm/O9I0i6tFfqjQ3y+ALto9AOV00hMyYR7FRD2I0M+cW6DK/RcC/YSMJDuB0p4rdjHTXU6++xwYVYzrRpJ9Y6xfE3TZZ+jzC65r59Lwug35aar4KzPn8fLCRTyzQifZsBuUfMmQIde/eXU0MpmLC6lAVopsqmLBhgDUokXB9frJgMsfC53YExgsb+1jDgsGTW1ACjQGMSQK73SCbH51A+7UPv+u+t6gPiwlcJrDQJjoRY1FwekpZn8T8Jjobmc08aDMWbXPCD1JWqr/xszKD8JjWUDeZvFxx3BZZlFW6YQOtfuddyq9Xz5FAN1m1mpbVr7iUhWRaleHjDJ/pBsXrXeFaUbOQ1msuH379js0IdN6MFoSNMRbnIATa3KAk0rfQKYxFp5OPRMrxyovy0V59g8whCE2LGve1G4FemtOQmpZXvGqIVwsLC/LUf+sWfJBbtqAxgXSSzzw+5zJAnPSXbrEWoF/Y9YxP6rhMzIEgoehbfTNvPmcPQwTy6s94JwvjZJbDLnLoG33jBOIKHdXXHrQJWJmnn/pciP/GnIUNlH7C6yez31jy+z7Kv7M7E68z2JDjHz8yDj3ke1X4t1fiy4emewd/IwQ6yhqUBtlZQaBIbkqUBjESqkL350roQ4/MILJY5LyexMbiwtY1HEHx8ZPX8WKy5HMqBwsjjqxgTfezaOg+0ZjIYekBaU7E4q3LACy83CjgjqFfpk0lDmEtm617kM9pIeSQlzabJ5NA65shr0W2bONGWv32GMqrX9+RQOvuGpAzCIFeU60aFRfWoK1/u4QEXfRx9I4TKljv3MiIU1/DMolF1QbHsOmKk3XYj0AvyW2snvJeu3ETnbFPmxiBBrkAeeB7FEHairrN6BBmOcijW9LNeUGPl29u7kCwQUDN04cgskblG7Zug8yxBd1pQ+zmRhOVdqZCTuDEF+JTUb5fmUKg/RDK8t9tFCTLIbJqvq2PrFVhCWYCgdYjcpifgyxjUQTBAEFhV4Cg5Bnlg7hjQYgiaUkQ3iplNy+yBi3MXHA5uoiXGw3qciXQtWqpSBt+BLpgyxaqvgU+0O4W6C1bt1LJhg1U7eCDqH7jxp5x6IO2P1O/qwqBxlPeXTu1ihFoWE0xF/hZ6LywhLsCjAhebwlAZic/VJTLJ2rYDMEyG3QzlUn9jU0D+gZWa55zzUvgaC+s/phTYXxAqsqpSqbgB10zTzvS2TYbfiQuHOnskZDVZaMgIRM5lOIE8ZFNVkP00EJmmbBUJuqekSy5pJzkIWASaI4M40dQghJolnx1zZqUV15GtTducm1MWUkJla5aRfXO6EK5hYXJa3QWlORFoBeU1aNWuasrocAWaJNApwsuP59jJtI4GQi7q0a6MDPrcXqmm631sFjjFMZrE7O95E53vdiI6a5E6a7fhh8JgU53r4SoPhsFCZG4IooDAuwr5gSOl3+sgBkdBHQCzX6lHDPVqxVuBPqvWrVonYcFOhFkhEAnglZ8XpwImX6a3Nerygqpfu5G9cFGqk6FVPHk8PYm0MFbK18yAk4E2m8zLOilHwEbfiQEOv39EpoabRQkNMKKIK4I8AUsZNBDJcmknBlKoxNoDpll0zIh0DYohSvPtOnTqay0lDaX51H1nFIlXDEVUi2qINNCoMPVX0GkcTJ6yFwdBMnUfmPDj4RAp7YPQl26jYKEugEinEJAf50OVmeOvewVFkqgiw4CySfQRbSuZs04H2i8LNhqRUV0h0SSWKATQcs/74bNW2n2rBlxGZfkNKJG5X/RipwGCNqsLhFuLxcO/xZIDhsEMKYRTQpkmh+WsvlO8qQPARt+JAQ6ff0RuppsFCR0QotAlRDgBzbM8FMCVWYggNBXiNqBaCtuERCcWupuga5MoDkGdKKICYFOFDHv/BtLSmnC1FnUoNrWWEZYnfUkBDq5mG+P0nDJkmOJ45K3pPAhYMOPhECHr9/SJpGNgqRNGKkoMAII7YeA9XjRC1YNSZmHQJCIHn4EGmHr+CEUIdDh0BkQ6O+m/E6NC7YogeC+UZy77Wl1/E0IdDj6SqTIbARs+JEQ6MzWAc/W2ShIFsMjTRcEQoUAHl+xfUIXgrsR6K25ubSwUUMV91kIdKi6mECgv5r8B+1QvUQJtiynAZXlVDyWwkkIdLj6TKTJTARs+JEQ6Mzse6tW2SiIVUGSSRAQBEKHgBuBhqDlRLFnu1usWEn5ZWWB5BcXjkCwuX4EAj3m53nUsWgDracatC63dqW8QqCTi7mUJgg4IWDDj4RAZ7Hu2ChIFsMjTRcEIo2AF4HmhsEC3XLFCsorA6VOPAmBThwzry9AoN+YOJ/2rrWe1uXUpPU5lZ8jFgKdXMylNEFACLToQMIICIFOGDL5QBCIDALWBHr5CsorFwIdho4FgR49cQHtU6tYCHQYOkRkyFoEbPiRWKCzVj0QESmHcAFNkiAgCGQeAkKgo9en8QS6iNbn1KzUCLFAR69fReLoIWDDj4RAR69fkyaxjYIkrTIpSBAQBNKKgBDotMKdlMp0Au10gRCVCIFOCtRSiCDgiYANPxICncVKZKMgWQyPNF0QiDQCQqCj1306gV6a05DKc3LFAh29bhSJMwABG34kBDoDOjpoE2wUJGjZ8p0gIAhsXwSEQG9f/IPULgQ6CGryjSCQfARs+JEQ6OTjHpkSbRQkMo0RQQUBQSAOAVsC3Wr5CsoNeBdConAkV+mYQO9VtJ5W5DYQC3Ry4ZXSBAFrBGz4kRBoazgzL6ONgmReq6VFgkB2ICAEOnr9zAS6Qc1qVD0/37EB4gMdvX4ViaOHgA0/EgIdvX5NmsQ2CpK0yqQgQUAQSCsC9gR6OeUGDMYjFujkduk2Al1A1fPjXyDkmoRAJxdzKU0QcELAhh8Jgc5i3bFRkCyGR5ouCEQaAWsCvWw5Vb6qZtd0IdB2ONnmEgJti5TkEwRSi4ANPxICndo+CHXpNgoS6gaIcIKAIOCKgBDo6CmHEOjo9ZlInJkI2PAjIdCZ2fdWrbJREKuCJJMgIAiEDgFbAt162XLKCSi9WKADAufymRDo5OIppQkCQRGw4UdCoIOimwHf2ShIBjRTmiAIZCUCQqCj1+1CoKPXZyJxZiJgw4+EQGdm31u1ykZBrAqSTIKAIBA6BIRAh65LfAUSAu0LkWQQBNKCgA0/EgKdlq4IZyU2ChJOyUUqQUAQ8ENACLQfQuH7XQh0+PpEJMpOBGz4kRDo7NQN1WobBclieKTpgkCkERACHb3uEwIdvT4TiTMTARt+JAQ6M/veqlU2CmJVkGQSBASB0CEgBDp0XeIrkBBoX4gkgyCQFgRs+JEQ6LR0RTgrsVGQcEouUgkCgoAfAkKg/RAK3+9CoMPXJyJRdiJgw4+EQGenbqhW2yhIFsMjTRcEIo2AEOjodZ8Q6Oj1mUicmQjY8CMh0JnZ91atslEQq4IkkyAgCIQOAVsC3WbZ8sCySxzowNA5figEOrl4SmmCQFAEbPiREOig6GbAdzYKkgHNlCYIAlmJgBDo6HW7EOjo9ZlInJkI2PAjIdCZ2fdWrbJREKuCJJMgIAiEDgEh0KHrEl+BhED7QiQZBIG0IGDDj4RAp6UrwlmJjYKEU3KRShAQBPwQEALth1D4fhcCHb4+EYmyEwEbfiQEOjt1Q7XaRkGyGB5puiAQaQSEQEev+4RAR6/PROLMRMCGHwmBzsy+t2qVjYJYFSSZBAFBIHQICIEOXZf4CiQE2hciySAIpAUBG34kBDotXRHOSmwUJJySi1SCgCDgh4AQaD+Ewve7EOjw9YlIlJ0I2PAjIdDZqRuq1TYKksXwSNMFgUgjIAQ6et0nBDp6fSYSZyYCNvxICHRm9r1Vq2wUxKogySQICAKhQ0AIdOi6xFcgIdC+EEkGQSAtCNjwIyHQaemKcFZioyDhlFykEgQEAT8EbAh0aU4O5ZWX+xXl+rs8pBIYOscPhUAnF08pTRAIioANPxICHRTdDPjORkEyoJnSBEEgKxGwIdBVBUYIdFURjP9eCHRy8ZTSBIGgCNjwIyHQQdHNgO9sFCQDmilNEASyEgEh0NHrdiHQ0eszkTgzEbDhR0KgM7PvrVployBWBUkmQUAQCB0CQqBD1yW+AgmB9oVIMggCaUHAhh8JgU5LV4SzEhsFCafkIpUgIAj4ISAE2g+h8P0uBDp8fSISZScCNvxICHR26oZqtY2CZDE80nRBINIICIGOXvcJgY5en4nEmYmADT8SAp2ZfW/VKhsFsSpIMgkCgkDoEBACHbou8RVICLQvRJJBEEgLAjb8SAh0WroinJXYKEg4JRepBAFBwA8BIdB+CIXvdyHQ4esTkSg7EbDhR0Kgs1M3VKttFCSL4ZGmCwKRRkAIdPS6Twh09PpMJM5MBGz4kRDozOx7q1bZKIhVQZJJEBAEQoeAEOjQdYmvQEKgfSGSDIJAWhCw4UdCoNPSFeGsxEZBwim5SCUICAJ+CAiB9kMofL8LgQ5fn4hE2YmADT8SAp2duqFabaMgWQyPNF0QiDQCQqCj131CoKPXZyJxZiJgw4+EQGdm31u1ykZBrAqSTIKAIBA6BIRAh65LfAUSAu0LkWQQBNKCgA0/EgKdlq4IZyU2ChJOyUUqQUAQ8ENACLQfQuH7XQh0+PpEJMpOBGz4kRDo7NQN1WobBclieKTpgkCkERACHb3uEwIdvT4TiTMTARt+JAQ6M/veqlU2CmJVkGQSBASB0CEgBDp0XeIrkBBoX4gkgyCQFgRs+JEQ6LR0RTgrsVGQcEouUgkCgoAfAkKg/RAK3+9CoMPXJ6mQqKy0lHLz8lJRtJSZJARs+JEQ6CSBHcVibBQkiu0SmQUBQYBICHT0tEAIdPT6LIjEIF43f7wiyKfyTZoQsOFHQqDT1BlhrMZGQcIot8gkCAgC/ggIgfbHKGw5hECHrUdSIw+I100fLVf3kCSFEwEbfiQEOpx9lxapbBQkLYJIJYKAIJB0BBIl0CWbN1BB9ZoJyVFWUkKlq1ZRvTO6UG5hYULfSubKCAiBzg6tAPG6cexSceMIcXfb8CMh0CHuwFSLZqMgqZZByhcEBIHUIJAogR7wcDe64pZRCQkjBDohuHwzC4H2hSjyGcrLy+nRExvTvmdeQUdf9UDk25OpDbDhR0KgM7X3LdployAWxUgWQUAQCCECtgSaibMQ6PR24qdP/4vaH3Qitd3vGBrU+xC6dOB4qgqBXvzbRHrt2hPEtza93ZhwbX98+yG99e8LaMd9j6auDyWFVvUlAAAgAElEQVS2YU24MvkgMAI2/EgIdGB4o/+hjYJEv5XSAkEgOxFIhEAzQudc9jjVb9iCYCWz8c8UC3Rw3cLie8zVD1GnMy4j9d9XPUi7ndqLRk9cQA1qFlD1fOcoDZu3ltJfG0qoa6dWVFiwLc8nT/6TfnlvsBDo4F2Sli/H3Hsxzfr6PWq99+F0zn/fSkudUkniCNjwIyHQieOaMV/YKEjUGjv6tnOo64Mjoya2yJuFCIy+7Vzq+uCIlLXcj0CXlZXSi/89r1L9p557B70/4n4rd450EOgpH79OHU/onjKctlfBTJr36dKbHj2pCdVv0Y56DPg2MIEe+8i1NPXj1+nM+4ZR+wNP2F7NSqhe242aU6HlZWWUk5ubUH1hyDzmnoto1jfvK1GiGIlj7k//ox33PSoMUKZUBht+JAQ6pV0Q7sJtFAQtWPDreKrbrA3VadLCukGPnNiYznn4DWq516FWFyX+WjCLilcsptb7HOFax6Z1q6lG7Xqx383J9/PnbqeJbw2glnsdQuc98o61rJmecdXC2VSzXiOqXlQnUFO3bNpA1WokdrksUEVp+qgqi3YyRcTku/8519KRvf8duNjVi+bQ8tnT6KP+19M1b/weV44fgX5r6G20bNEs17rPuvhhatysvadsySbQy+dMp3k/jaMV82bQSTc9qepWEQs+XBZJsuQFHtoFH9iNq1fSd68/RnWatqYLX5oQmEAzMatZrzFdPXJ6YJ3y+hDxi7eWbKKCwqKEyncbc2Y4tyfPaEvXvT3Ht+yV82fR4N4HKwK6ftUyKqrfxPebIBmG39w56WuJTrpSTaDn/jiOGrXtQLUaNg/SfMdvMiGCiN8agN9zc3PVSZzfGE4asEZBNrqRg1TuJ2WqJMzycm0J9NCrj6bdjulK+3ftUwmxigl1I/3y3su0f7dr1O8/vTWAxj13u/rvhm060HHX/pda7XWIK9qwJLx9T0+CbxgrjZOCY+DWbrQDXTHsV6XYz3fvSEf0/jftdvTZVLq1hJ44vVWsjuvGzFOT/Ip5v9HLlx1KPZ8bR1tLNtOwvifTQd1vpMMuvrXKvb9hzUoqrNPA86h7xdwZtG75Qtpxv2NUfTbH4iwY5B3/yn9ov659CBgV1W/sKHPJxvX0xm3nUPf+FVYNM718+eG018kXUqczL6/02ydP3ERHXn4PFRTWcvz2m6H/oW9f7af6BZhvWL2ikhzfDXuMDupxo5KRcnJ825hsy9HP77xEzXbZh5p36KTa8PXgB6lm/cY0+4dP4k4jSreU0Iz/vUVj+/VJuuVn7bKFCW0wIScvpF4TZcnG4ri+4amS9ei583an9X8tU+1GOfMnfaWOhpGcCPT0Xz6jL8c+T5fe+AoNeuxCzzGQX606HX/GjVSvYQuqU6+pyrt1awkt+ONnarvrgRV1aFE4yvJyqWTDOrVZg5zYeHkRLfiBnnbrC3GbM5NcjH+1H40f+h+64YPFlJdfLeEx+9Wg++nwS+9I+LuqfmDzUIZpvarVqDld9PKkSgS6vKyU8E9ufoESy82Fg8ur1bAZXfn6lKo2wfH7r19+iL4b9qj1+MF8sWj6BPr1g1forPuGxcrEvDjzq3do/Cv/jZUFzB47ualyZWncviO12OMAeuzkZnHh3iZ/NIza7nc0Pd99T1XWQeffRN+99ij1fe9Pyi+okdQ282U/GyKTSMVOBHr6uDdop4NPjhsLM796l3Y5/PREio7Li/nuxZ6d6PBL76TdjzuH1i5dQNUKi6hm3YY058fPqc0+R1Dp1i007dOR9I9TL7KuB/Kf99h71LLjQa7fvHrt8XTBU5+4/r5l80bC/LI9ThBgEBxxc2eld2jLSTc/TR1PiD+J++O7j2ing08SAm2tFQEzvnDhPnT0lQ/QzoeeErAE58/G9ruGqteqS8f8fUt30fQf6cNHr1Nk7PCLb3ckQ4kKYBJotTjD91E7FoNVd/LYV+mAc6+jg8+/ibAj37HTUTTx7ReVlUOfDJq035MufOYzdRyppwYtd6JLB32nCNbGtX8potzhmLOpWvVCpaC4kcwJSj3qX2fTvJ+/UBY13eKsE47/vfBv+nH0M+qzeju0JVjizATSiteeZn9feSB7TYqYuJrstCfVadKSFk79nlrtdagjtJAH7W2y015xpBGLBoh675cnKDIH69IRve+iPyd/R6fe8jzBBw5H0nnVqtOuR3R27TZu786HnaZ85g6/5A7a+bBTqUGrnWPffPTY9WoDMfJfZxHjbBb40iUHUO3GLZS/Hcrs8fhYWjZ7Cv01fxZNfPsF2mH3/dXf3rm/F838coxqU0HN2oRJ5H8D7lTFtfrHYbTgl6/Vf18ycDwN7n2IWrS2bt5ET5+9E51405P06/tDqHaTlrR/tz5Uu1FzR6sHJk5sdDgGKvp/45qVinRhI7BlYzGtnD+TPup/A3V7eLT6u0nusTD89efvtGHVcpo+7k2a8tFraqxAX2aMe4Pef/jKOH1SerdulTrhGHpVxdHjuY+MifXra9efFPNFhF4vnjaBzrjnFcd+WTxjIo259yK6ctjkuN8TtZKirU92aaPKgC4C+xOuf1S1g8nx+r+W0nPn7UFXj5xBy36fTLPGf0BLZ02iNUsWUJ9RM2jWNx/QmHt6xuQAphhLe3fuRbtAZ756j9oXtKT6bXah3IIK8oWLgki77HkUzZz8P+sp4/J/VbhFLZ4/jd59/W7qdfNrlJ9fEEegX7/lTFo8/UfVnskfvkZfDX6Arh4xjdYu+5Nev+FUOqTnv2jPE3vQ4uk/UfPd9lW62Gf0TLUJ5aTPJ+ijETd3UT/Bqtp7yATXjR7yYG55pusudM5/3lQnWeh3zEXtDjyBVv35O1066HvXzZ2fRcoNqB9GPqWsn7sdczbl5uWrbHMmfEZv3H6uJ8ksK92qyKGZ+ry3tBKBXvntaFo96SNqf9WLar4sKS1TPtBn7tmEahVtOxlK1LJpWn91WaB7syd8Rh2PP0+tB799OYZ2Oex0NS4x3lrscaDrhh3lQM4lM39Wlxo56XOuk6yb16+jp85sW6GfR3ShE/o+Rk+f1Z6ufH2ymkuYYB9//aOEjb+eTv7nM/Tbl29Tl7uGUP9Td6iEPQwpm4vX0Os3nGK9GYMB4/HTKk5dk0mi9bZfPeo3RWjxt0sGfksNW2+b2536h7/t8u+h1KR9R6rbrHUMhmF9T6GTbnoitj4Mv+l0+nPyt+p3nHSBKKNfOdWoXV/1IeZybt+TZ+xItRo0U+s1NjeHXPh/lXQUMpz9wAhqu/+x6renzmpPux7emQ69+LaYcQV5Ln/1FzV/b9m0Pm6Mf/d6f/p68APUouNB1P2x9wgnJ6incbs94uoyjQf6j9CV4pVL4vAyBcWl2kZtOlB+9cK4cT/m3kto1tfv0nmPvkvASO9fzBlwr3nnvkvon5+sFALtNvEl6+/pItAgSK32PIQOvuBmJTomYJDI3754W1l6GrfdXR0HNttlb+umta1fjUYPelpZJ3FE//WQh1RZR19xX6wMHrAHdr+BDr/kdjXQm+60Fy39/VdFoB4/rWVcfX3fWxibdPQfdj+2G037bBR1OOpMZQVEatR2d+r+2PuxSRN/u+bNP9SkiXTxC19Tox07qP9m4tXqH4fSgefdQKNv7WrdTqeMmDA2rl1Fz3TdWW0O9jj+PGrYeheCxer74Y/HfXLj2CUE9xFMBnrSJ8Kz7h9O7Q44Tv2sE33TymTKok/MIIaY/GElaHfA8apvnRImN5BlvS7Oh8XFtCawDNe/uyDOSq+Xzbtx/luzXfehJb/9XCWMeWKaOGYgderSO0Zo8He0YdWCCpcDWCKB35t3VPbHxe+9Bn9P9VtscyX4+PEb6dcPhlaSrbBuQ0XG9XT9O/Np0bQJNOqWs6ntAcfRnB8+VT/D6r7f2VeriZXx2fOk8xXxQ7r2rTlUvag2ffDfPrT36ZcQNlU7H3qqWoCR9ut6NR152T3qe1hdcfR8+h0v0a5HdFGEEX2HExks+iD1DVrvEhub0CVsOjgdd10/+vTJfyrrfc9nxxEsiM+eU6H3SG33P47mTKiQmxOTZf1vOKngTaX+924X96P6TdvQC/85J/bnVu32oQWzg/fveVc8RXXrN4sj0I91qTgBumrEdHru3N2oWo0iOvaa/9CHj1ScTCF1PLEHTflomCK5mNOQjr/uEcKietptL8bwjWus8T9YmEu3bKaiBk3iCLXfWGMrJcgdFl9s8kb+35lUr/mOtGbJfOr2nze8qnX8Ta/zjLuHKuL+9t09af7PX9KlL30bt9ndVLxGEQe4HNSoVTema3rBOoHO27SG1s/9heYMrMBvtzs/oun3nUi7PfKrItBL79pPjSPMBfqGjMuDKwQ2wiASzXftpDYxIEzYeMHgw7J3OvMK5UaUV61ik/XJkzcrEoWNP+YknhuuGDaZBvSosPwiIY4xLMZ6POOpn4ygPY4/l/STEc6PiCNYowZetF8cliCR0BEnQwdn7PbwG4Q56akz23n2UbNdO9GS3yYS1iH4g2/esI4OOOfaOENPhR6eT4f2/BdN/WS4Ilj7nX0V/fTm8zTu+Tvoitd+paIGTVXbOB128W2KBDbZeS/asqGYvh7ysNJXuDV++9qjtHL+b+qbg3vcFGf0MYVl6yf/vfeQH5X+oS8ufvEbtQZhTvnypXvphxFP0pn3vErtDz6JFk79geb8+JmytpsJ6xM2b/q6gzx+40EvB328ZukCevHCfdSfYXya++Pnqu/hsgPDAeYxGJPee+hyOrTnLYqLwJKN00+k85/4SG2Mh994Gv055bs4MTFm2QWU5YKxAEaSV685Xs3NZ98/XM2X2LA9330PdbKGewEg5jAIoI3gAViXcLo4YeRTf+vhEqXTMATlF1SPkXWuB23BvShwm+9ff5ymfjpCGSLN9uP/5//yNY385xnqJyHQnkMtOT+mi0C/eNF+dNTl98Ys3RjssJad0+9t5dYA0ocb2JjkbN0EWMFOvPEJAnnQByAfScftlkfOiFvYnRCEwsPn1i012nE3WjF3m38e3CkwUXNqusvetHTmpNj/73v2VbTvmVfS6sVzYoqdjJ7TyZJtebAQ1G68gzqWNi3nKAOL2bevPkLTPx+tisTRkE4enOphAg0yD+svFi+/xBOV2yQJawwWMU42Eyn0iCcOv/oT+R0W6XXL/lQWC/h4wm8x0QTr/QHnXJdQezhz/ZbtFXF3OqFAHly4euvOHo4i6YTbKQPcmk688XEafWu3mKVH34iA5GKDCbKHhKPpnQ49hSaMepp+HjPQFYYOR59FM8a96QnTXqf0dNxEJIptVfIjZrTuwsEEGiciOJJOVaoLwrt4rirezarpVDesmp3veCk2z93w/iK1YeXEfXdQj5viXLywqK9ZMjduEwfrJBZ0nWRxOXDFwGkHEsglNlQTRj1FuXnV6OcxL3rCcmive2habmtqtuu+NP3mvRzz7nTbh7Rsxve09s1/qygeIBI4UsdxvZlwzA4yc+4j76hja2xWnOYY3BuB688hF/yzEvEyN9dmHVwmiOeA851l5m9woogNpJ6wufxr/kxfdXHaSHp91HLPg9W4xByw6s8/PMvf96wrFYFGwuZ4/27Xqk2gVzrxhseVa4SuQ8h/2CW300Hdb4h9qp9uOM3FOr4wfhx2yR3KsMMJ8/1r15/oKgr6fofd9oudaIDo42THZt7nQnFKM/v7jyvVsccJ3dVGxCk56YWXrmCDiU0Qu9+YZcIi/O4DvdTG22m+RtnQZRB0rwR3r6fP2klZvjntcnhnOuyS22jQpZXdTrARP+qK+5QbIE5rOQmB9h2SVc/ABHrz+jX005sDaKdDTqJJ7wyinLx85X4BaxLCC2HHg0488Yb+MRcJOPhjp7l68Vyqt8OOdGTvu6lNpyOVULoLx7Pn7k4bVi//22cojy589jP6ecxLVFqyiU64ob/Kv27FYmUd4CMhm5bxAGOLMn9z0fNf0JArj4xZHmzKyqY8PZ74kN69v1elXWwQDK59a7a63JfIZHfK/z1LbfY9Sh1r6+4vev0XDfhSnUosnzONhlzhfjEziMzp/gbHxXClwVg6/Y5BVlbKdMvI9cH3FL75VUmwKMJFJQrpkGMuonbNO1LRCcfSgIsqE7hUtEE/aYAFb+DF+yvXM5vktSna+bDT1dEuErsJXPjs54qE8Z0ObPDh2+k27mxksMlTtMshtH7meJusKg/mpGHXn2Sd3y0jyEf/U+IvnDmddlS5oiQUAIst7rdsz+S22QUJb7H7gcrlDnM7+/DzPK/rIVy0+MQJpwCw+lc1nfx/z9LY/15d1WJC9T1OFRb8+k3M4p2ocDgRGtTL3YCDU/bvX6/gU0hCoBNFOEB+nUB/3P8GdakNcT1xTAkXCxBi+HLBYvHK1ccQjmtxHIEdFi53nXLL88pZHUcQuNwEt4V6zdvEEWiIZVq6l/0xhT569Dp1bAwrHzp+9g+f0gVPVd5FcrPuvvtuuueee2Kt7Hd8Q88W12naSl08CJJADLGR+Grw/dafY/f9y/tDrPObGTHRw0+36c5706JpPyg/RCTsxuEbiXT+kx/Ta9eFJ8QTJtIz7n6l0qLFbet818v0zr0XV8IE/tCYTOb+NM4RL1xI6XzXYEc/y0QBBrGY//MXtHn92kQ/zbr8sJ7olo+qAmBO6k7lwe8Tftmc4PLy0iUVl/yimnDa9r8X7iLo3um3D3S09G6vtv3jtIvVpWlJqUfAywLKZB93QhDFKYyJLbKHXnSrsoS/90DvinXoqY9j/uGn3jqA3n/oirSIX9U1Ni1CulRy5GV30xcv3p0yEeCCo/uIC4FOGdTbCtYJ9FeD7qOrhk9TP8Lf5onOreOc7XFRqEGL9uooAZEL/pzyfVwc2FG3dCX4+OL4x7xEaBJo+F3igh+Iek5unnLeP/vBkcrqaJsSsXp6ldm8w760eMZPcVnge4qjz41rV1byeTPLgj8VFiXd7xMbA1h53dJptw9ULznBlxDtwP93OLLCd4kTtw8+Ynxhx+84Et/qftq2WHrl4wX32Gv+S589/X/KDxH+iDZJlxc7cGyazONxRDnZ+/RLE7Jic93wY4PbCSdEKxl61dFxosUio/wddxW44hKLfoFN/4CtKwee17eSP7lfm3GsjstnCJv4+bO3VET2cEm6D/7BF/xTRQtB4uNqt+9w7P35s8GjsDhZ5Hbc71ia++Nnfs1L6Perhk+l3PxqavMHf8v3HrxMfQ+fSFzE5QR/bb58BbcC6Dv6CBevildWuBIkK9Wq04iK165IVnGu5fApGN/2//DR69XlNb8EA8VXL92X0s1ewza70sp5v8WJgkgHmP85JUqKmu+2n7qAGYWES6qT3nmpyqKarj5OdxhOuvkp+u2LMZXuAHR9cJQ6hcNJgGk1hy8s7j0kIzVu15GWzw4e0cRpvcGmsMtdg33nazz1jYhWnPiyPHQF7gZ+7kBO7e9852B1QQ5JnzM5Ly7z4fIgElwbOMJPMrAMUxnsKw/u8c3Qhx1FEwKdhh4zXTguen7bzXYsYiAkiE6BpJNi9kOD/xgndbM4J5eOv66fL4H+4D9XUfFfSwnH+bjcBgv2p0/9H6F+HHXbJFsCDd9e03cILgIg7g1atle+gLgxW7Z1a+xylO6b6ORGoJOQns/9T90oZnn4Mtak9wZXXK76O+EiCS6DmXGecdyNixh8C15vO8pEXZ89/S8Vgq3znYMcJy5MTth8rFk6X13kgt8aLj1OeneQ8j3ny2Mmrjo5d8OcJ1EdEzzd6+T3h7pa7X2YOq04vNdddOC516lLSTjBwKMb+s1qro/L9epPfSKH/ywie8BvHvGy+Tuujx9kQNtwWRQXkPT0+/gPqOWeh8T6miNaoJ9xKQdtQEI+yK4nkL/jru0XdxmJd/7wgYPfIieOouCGK/oVCfkQbWXcgDuVH1+vQd+rNiHqA0KgIfERN8YG7gn8+MaztOCXb2J+fyCoP77xnLqAxAknMJhgcTLEkUfwG7A0+8FtY4aLh/xoAr6F3zR85IEDLgghAggTJ/hO4pIZEl/a5Y04Irq8dOlBKpwZb8g4SgViJK9a+IdyBXvzju5KPvTbnG8/oq9fqWh/shL8nreUbHINgXfZ0IlxvrgIY7lP50vV3MQJixcuD+FCGONhyuc0ZjAmZ/zvTWWtc7KkgXDgkhou1OFSNPzMcenoq5fuTYk7Gi7oXTnsV3WBFPM8fPx/fvtFddkLUW1s51e0HY+pePnFMz7V6jalLWsqIin0HjGLvniyb5x+OfUz5Fq7dD7BB1Ufj/DV3rRuDe11yoUqfr5NumrENBV1BPdv/DahMHB0uXuoirakY4G+Rfg0hCXkiAjQaayFJmbIiwuZfOFUn0MhL/KzrsCXumzrFnXZF/cMnFJh3Ua0cY37BhBrEUfqweUzjFFcauNLenwZ3gYr5DFPh/A3+E7vefIF9MKFnVS/cDLXku79P6BNxatjdzRwTwXkFneCcAlUXYob8UTsYqFu1ea55pR/Pac2k7iYj/5G9CA9PB/PLywDNibjX/0vndC3v3IrxR0OuBiiDNxH+umN55S//bv3Xxoj1wgZyxGFuBycpGNehy83IkCZl/ZMv/Sjr7xfXeDkhH4q2bBWGSRhKJz2aeUHp6AzWzZtpCN736VcWF+9puISv57gP16/1U6xwASY5+Hr3uXfL9O8iV+qu0KIIoIILZwg2yUvjqe8/HyJwmGr6EHzBSXQThZoXEYCObSxQA++7DBFrnCJgRMuGh7R6y7P0Gh6Ow9uWYPO3r0i/i/qXbNoLq1bsSgOik5nXE7HXP2gmqjYYoALF6iHb23rH4DIf/jotXTtm5UvbWARBSE9ps/DKirDuw/0puo1a8f8uDnmq06k2LcbdVz2ys9qMkG0ATNuo1v/fT/8CTrwvOtp3fJFatKGewwSrKzL/phMsPLVrN/E9+Llr2NfoSkfva5cQzhxpAY9/JIuB8LG4ZY/Jni413CUDs5jLhZYkHFzfv2q5eoWMogR0vLZU5VPfaM2u5JTBApeVD575hbHRRixUg+76NbY4mReyuNJVPefR/g9nJR4JZbfDEXG33DfwXKOxRIYVoTvK4iFMMPFKvj3Y4PQuG3lSzu4fW5uXmBxwoVLkC894cSDqFwtdri4hWgHCKOFy5wdjjpDLQZOCzAuP+FyKBJunI+552I6/Y6BlJdfEJMV32GjVlS/qYrOgcTtv27MXBUNgnUKl3gQBg8nM+rm+KYNKoTU1y8/GLvcw3LA7QshBQ88ty81bo8wTjk08KJ9FdnZ6ZBTYpFLEJ0GlxGfO3d3wphE+EGUgbsKsNYiQW/gw4vTCKSl0yfSK9efQM1b7kalZVs9H03x6uee1w2kL8cOIFifDz2+omwOh2d+B5nQl4MvO1Rd9ON2Ij415jdED4J/5h7HnaOILi7kwr949+PPpWmfjFCbRhAW6IvX4xvYUOAyoRkC05QH9eHGPlyauL8uePoT+vrlh+NODNodeLyKAgGfZ2xebRK3DRtzWE/Ny9ufPXOrr5WQF2voLcgAnyS41b/bHWNp+v0nq58RsQNPeevziNNFPsg5b+IXao7Hv2HIgT8o6oSuOl2IxqUykApgrJMXffwAW/QhIh9gzODxG0S22OO4c9U6AgLFsbsR3QB+6hNGPUNnPzA81jzcAyooqq0uwSHhlTtsMNFfiOiADS/IG8bxft36qIhRevrj+4/Vq4uQA/hj/CI8G+qa8cVbiiTh3tGTZ7ZVZWLdwkVHfbOqX1zXN8I4ZXMKTwu8TbLLes9h77z0hyOn6AYCWNoxN26bU2dRYZ36qhhcrIMV3py78BvP3TAW4AIowqey9Z03O2q8XrC3MgY4rZuYNxCAAN8d0+ehWIQnfIfysBmc+NYLyrCD+zSQAy6ouHvQ9aHR6lVC6BD0gf3ndaMOIiwhxCT7ZOMyfkHNWsqI0nvIT2q8123aSrUd0XneffAyFbpTH09Om9HLX52kQs0i4aTNvJzI4Q/1uZrDp+r9A+MDu7zhkitOMGFMs3knI5FNss2coudx6m+zjMg/pBKUQCNSBZTxtNteoHYHnki/fzuWYFW++IWvlDXVz4Xjo/59ae3SP1VcYUyCv48fS+89dJlaTPU4wV6dBgVZNnuqkkN/6QtHxlB4JO5Efo0OJIJDqCWqEEtn/UJTPx0Zi21tfu8WuB5h77AYIfYtXFfgZ5qMAOwg8PCvTCTBR5tjkOoKjoEEiwUiiAA7EzenOoAp3DFAokCWQJo4uT3EgE2AecmH6wJxwWKD2+N9Rs+K3eTmCyx45Q0bCMSfhsVWT0Hi4No8iMKWpkQwNvMCW8QIxUZC18lEy8TlHHPTh4ch/B7VYSuXWR8eGEJ0EX4FDf0JS4vt+EN5WPhBZDjWNTCFJVJ/9AaLA9wx0L+zvnmP2nQ6ihZN/V7pjFfCQyorRo8iql1LhdZCGLszL3qI3hri7r6CeM96uDv8v1NUn99+HUf/++BZuqjPizTkmQrXEiyGvEGFTyraxmE1VfziDcWxzUeifafnR8QatIdDEMKyBuLoF30I/cguIdBLkCycMm1at4pgFBj/Sj+lC5D7j2/Hqio5pjjGGMgaR2zhyEVe7UCbcWLA7mNsONBPn3DiAoMBpz9nTqbh1x2HOKXU8f6vacva5VSj+c4Vi3npVrWRntS3Il4uE2ic/j3ZZcfY2Jjy8XDCXHv0lfc5nso5zS1YTxDvn5M5t+HvfCpSlb7bXt9i8/aPUy9Wl/qgPyCns75+X53UwBq8YvZU+vCx66nPqN+U6yF8YXlTbcq8ZOYkpdeI54/4/JibeBOLvIgygpNMp40Y3H8uefGbWJEmYeZNlw15csMSZSJE7MUDvoxlgQvU7sec7fnSr03fqIAHzSt0zUz6RsxJfsgFtz5+2MicV7HRRaQV3CExY//jvQMOMYp6cYLa5a7K9xBwClqjVusJgr4AACAASURBVD1F0PWXd2HdxskrwgQ6Je4H/UEeIdA2GlHFPEEJNKqFVRJxhxEiqW6zHdVjG23/frHOj0CDKI17/k6aM+ETtQvFMR0s1/DftU1uCsIDwemFHtuyMzkf4n7isRD95Sv4NONBlWP7PORqOfOa8OAzbvtcNj80g/LMF7gw+cM6u+tRZyrrHMfXjHJ/VFh8KmLOwkfa6eQjle2DhUKPQ53KupJZtvkS4e/Tv6HW7fahwf2dXx3ree1AKiyqSyMH3kh5efm0YukcgsuGU1q2+Hf6cNTDdMGVz9LgJy+hq4ZNoer1tj2Iksx2eJVls4nj76FHZkzxROXUXzGz/RakCA9e7HrkGSr2NBIv2CBe+gMSG0tKadRP82nZv/envR+v2DCaqXjZAloxfwadf153ZYHWy6sK8cIpHUKMwoULD+BwgmsT1htYlzM5YYMKa3oiCf0I1wnTzU3vE/w3Npc4WUL8ef1FX5BGuF05WUYTkUPPi9jMsBDv09n9DlHQsv2+Q8QxGPScjBI4YQZO/ACLk0HDrXyc4H3w36tj7jo4gYLbZbLShNHPKPcU/QVPIdDJQjdDy/FSEBzPIAA9dm2S/BHAIwk4rvd6uti/FLscePQBz1eDwHtZTxHwfp/OvdWTuJmQ3ryzB51572u+lsZMaGsy2uD0lDfKfXfY3bRo/jZy1q7DwTR7xrcxsvz2K7dTg8ZtaPqkT1wJNDbZpaVbKLeMqHTVKqp3RhfKLSxMhtgpK+ORExvTZUN+inu9LWWV+RSMp6xfvvwwMjfOINCjJy5Qj6S4EWinp7yxkUCfmCdLQdqXCLEJUn4mfYONBVzvnE4/dHcKbGzwtgJcUsw+GtBjL7pi2K8ZAQvcOOCGlgw9NAHh00xsWkB0be962QALV6IFk8erx+I4CYG2QS6L83gpCC434dldIdBZrCDS9Egj4EagX+zXXfkrduv1KI166SY64Mge9MMXw2Jk+Z3X/k07tN6D9jrgdCqo7k2K9YdUwk6gcaEQF9rCkrDBPe3WF+LEYQJdp6yYiuo1dhTViUCHpU0iRzwCIHv8IqRgkxwE4F5jc2+pqrUJga4qghn+vZeCwC0EFs5k+BpnOIzSPEEglAi4EeiB/Xoo6zHcM3AZ8KCje9J344bGCPR7w++lxs13ogOPdH6hUW9slAh0KDvJEIoJdIOaBVQ9P/6eAmcVAh2FnhQZo46AEOio92CK5bdRkBSLIMULAoJAihBwI9A/fTOafvxqRIxAH3LcJTT+08ExAr1w7mSqXliLGjX19zEUAp3czhMCnVw8pTRBICgCNvxIonAERTcDvrNRkAxopjRBEMhKBNwI9OQJ79OMXz9XLhywQB92Qm/6+uOBrv7OXuAJgU6uagmBTi6eUpogEBQBG34kBDoouhnwnY2CZEAzpQmCQFYi4Eagf53wPiEMXbdejygCfcRJV9CXHw4QAh0CLRECHYJOEBEEAVyFROjI8nJPLIRAZ7Gq2ChIFsMjTRcEIo2AG4GeOfkLmv3bt3RS11sUgT652600dtRDQqBD0NtCoEPQCSKCICAEWnTADwEh0H4Iye+CQHQRcCPQFVaVcsrJyVUEGo+llGzeQNVrFCXcWHHhSBgyzw+EQCcXTylNEAiKgA0/Egt0UHQz4DsbBcmAZkoTBIGsRMCNQOtgLJo3lXZoU/GyXZAkBDoIau7fCIFOLp5SmiAQFAEbfiQEOii6GfCdjYJkQDOlCYJAViJgQ6CrCowQ6KoiGP+9EOjk4imlCQJBEbDhR0Kgg6KbAd/ZKEgGNFOaIAhkJQJCoKPX7UKgo9dnInFmImDDj4RAZ2bfW7XKRkGsCpJMgoAgEDoEhECHrkt8BRIC7QuRZBAE0oKADT8SAp2WrghnJTYKEk7JRSpBQBDwQ0AItB9C4ftdCHT4+kQkyk4EbPiREOjs1A3VahsFyWJ4pOmCQKQREAIdve4TAh29PhOJMxMBG34kBDoz+96qVTYKYlWQZBIEBIHQISAEOnRd4iuQEGhfiCSDIJAWBGz4kRDotHRFOCuxUZBwSi5SCQKCgB8CQqD9EArf70Kgw9cnIlF2ImDDj4RAZ6duqFbbKEgWwyNNFwQijYAQ6Oh1nxDo6PWZSJyZCNjwIyHQmdn3Vq2yURCrgiSTICAIhA4BIdCh6xJfgYRA+0IkGQSBtCBgw4+EQKelK8JZiY2ChFNykUoQEAT8EBAC7YdQ+H4XAh2+PhGJshMBG34kBDo7dUO12kZBshgeabogEGkEhEBHr/uEQEevz0TizETAhh8Jgc7MvrdqlY2CWBUkmQQBQSB0CAiBDl2X+AokBNoXIskgCKQFARt+JAQ6LV0RzkpsFCSckotUgoAg4IeAEGg/hML3uxDo8PWJSJSdCNjwIyHQ2akbqtU2CpLF8EjTBYFIIyAEOnrdJwQ6en0mEmcmAjb8SAh0Zva9VatsFMSqIMkkCAgCoUNACHTousRXICHQvhBJBkEgLQjY8CMh0GnpinBWYqMg4ZRcpBIEBAE/BIRA+yEUvt+FQIevT0Si7ETAhh8Jgc5O3VCttlGQLIZHmi4IRBoBIdDR6z4h0NHrM5E4MxGw4UdCoDOz761aZaMgVgVJJkFAEAgdAkKgQ9clvgIJgfaFSDIIAmlBwIYfCYFOS1eEsxIbBQmn5CKVICAI+CEgBNoPofD9LgQ6fH0iEmUnAjb8SAh0duqGarWNgmQxPNJ0QSDSCAiBjl73CYGOXp+JxJmJgA0/EgKdmX1v1SobBbEqSDIJAoJA6BAQAh26LvEVSAi0L0SSQRBICwI2/EgIdFq6IpyV2ChIOCUXqQQBQcAPASHQfgiF73ch0OHrE5EoOxGw4UdCoLNTN1SrbRQki+GRpgsCkUYgRqBr1SKqVi01bdmyhUqLi6neGV0ot7AwNXVkUalMoGtXr0bV8nIcW76ltJzWbd5CXTu1osKCvCxCR5oqCKQPARt+JAQ6ff0RupqgIJIEAUFAEBAEBAFBQBAQBOIRKC8vDzUkOUjlYZcy1BAGF85mhxW8dPnSBgHpAxuUUp9H+iH1GPvVIH3gh1B6fpd+SA/OXrVIH0gf2CAgBNoGpRTlkUGaImATKFb6IAGwUphV+iGF4FoWLX1gCVSKs0k/pBhgi+KlDyxASnGWKPSBEOgUK4HscrcjwBZVR2GQWjQj8lmkH7Z/F0ofbP8+gATSD9u/H6QPpA9sEBACbYNSivLcfffdhH8kbT8EpA+2H/Z6zdIP278fpA+2fx9AAumH7d8P0gfSBzYICIG2QUnyCAKCgCAgCAgCgoAgIAgIAn8jIARaVEEQEAQEAUFAEBAEBAFBQBBIAAEh0AmAJVkFAUFAEBAEBAFBQBAQBAQBIdCiA4KAICAICAKCgCAgCAgCgkACCAiBTgAsySoICAKCgCAgCAgCgoAgIAgIgRYdEAQEAUFAEBAEBAFBQBAQBBJA4P/buxPYKKo/DuDftrRVCoGWcmi5QssVEJUEBESRIwRIwEpJAaFSW05BKVgIYuQS/AOiFCmHBwZEQQ6xnIVwBCIqlVNAY21ROcotRREo9vrn93Trtuzu7O7Mbvf4TtK0MDNv3nx+b9789u3bWSbQDmAZtWlhYSEmTJiANWvWqCKHDBmChQsXokqVKkYdguWYCdy7dw/jxo3Dnj17cP36dURFRWHy5MlISkpSWzEe7m0ud+/exSOPPKJicfPmTcbAvfzqaFu2bMG0adOQk5ODGjVqqL9Hjx7Na8GNscjLy8PYsWPx1VdfqWc/d+vWDUuWLEHt2rUZBxfEIT09HStXrsSpU6fQu3dvZGRklB1F6x6gtd4F1fXZIq3FQes+7Yn3aibQldBMp0+fjs2bNyMzM1MdXS7m/v37q5sYF+MFbt++jXnz5mHYsGFo0qQJsrKylPm6devQs2dPMB7Gm9sqcdKkSTh27BiOHj1alkAzBu6Lwc6dO5GcnIzVq1ejS5cu+PPPP3HlyhW0aNGC14L7woDY2Fh1tE8//RSlpaVqICUsLAxr165lHFwQh02bNiEwMFANpFy4cKFcAq3V/2itd0F1fbZIa3HQuk8LiKfFgQl0JTTTBg0aqBHnAQMGqKNv2LABqampOHv2bCXUxj8PKS9YWrdujVmzZoHxcF8bkKRZXsi8++67iI+PL0ugGQP3xaBdu3YqgZYR54oL4+C+OLRp0wZTpkzB888/rw762Wef4X//+x9Onz7NPsmFYZAvSTlx4kS5BFqr3Wutd2F1fbZoS3GoeLLm92lZ52lxYALt5uaZn5+PiIgI9dZpTEyMOrr83axZM5VMyNupXFwrUFBQoOzT0tLQvXt3xsO13GWlFxUVoX379sq9pKREjcBJm+c14aYAAJBRnurVq2P+/Pn46KOPlL+MQi9atAihoaG8FtwXCjWdQN6JlN8yAj106FC0atVKJdW8R7guEBUTN63+R/oqxsP4eGgl0Ob3aRls1IpTZeROTKCNbxc2Szx//jwaNmyIa9euITIyUm0rf9epUweyrn79+m6ukX8dTm5UCQkJkPmHe/fuVb8ZD/e0ARldy83NxYoVK7B///6yBJrXhHv85Sjy1rWM4sjop8yDrlWrlhqJlikcH3/8Ma8F94VCDZwkJibi22+/VUft0KEDdu3apV7UsE9yXSAqJm5a/Y/cMxgP4+NhK4GueJ+WqTdacaqM3IkJtPHtwmaJpldRkkhER0erbeXvpk2bcgTaxbGQi3LMmDFq7q3Mg5NXrIyHi9H/LV7auIz2Hz9+XI3mmCfQjIF7YiBHkeQsPDxcjT7LNA5Zzpw5o/of0wt49k2uj4eMasrnMWQakyQSssjvgwcPYvv27eoaYRxcEwdrI9DWvE0j0IyHsfGwlkBbuk/LkT3xPsEE2tg2YVdpMgIkb2PHxcWp7Tdu3IiJEyfi3Llzdu3PjRwXkItSPvF+6NAhNfIsSYRpYTwc93R0D3mbWkY6q1WrpnaVT7XfunVLJQqSMMhbdLwmHFV1bvtGjRqpD+OYnkJjSqDlw4QtW7ZkHJxjdWgveQKNPG3D/F1H8xG2xx9/nHFwSNT+ja3NgbbV//AeYb+vvVtaioOt+7SU62lxYAJtb7QN3E6etrFt2zbs2LFDldqnTx/1djafwmEgcoWiJHmW0Z19+/apt63NF8bDde6mku/cuYMbN26UHUjeth4+fDh++OEHNX1p9uzZvCZcHwZ1hDlz5qgPLptGOuWFzcWLF7F7927VB7Fvck8gZNRfXjjKixlZJKGQDxJKIs04GB8D+QyG/Ehfc/LkSaxfv149lSMkJETTm/EwLh624mDrPi018LQ4MIE2rl3YXZKMvqWkpJR7DrS8+uVzoO0mdGhDebpJ48aN1YekzI3lQzvLly9Xo6GMh0Okujc2n8IhhTEGukntLqC4uFg9B33VqlVqn65du2Lx4sWoV68e42C3ov4Nf/zxR/V9AEeOHFEfqpVR53feeUf95vWg37diCfICZebMmeX+Wz5AK32RlrfWeuNr67slWouD9Ee27tOeeJ9gAu277ZRnRgEKUIACFKAABSjgAgEm0C5AZZEUoAAFKEABClCAAr4rwAS6EmK7devWSjiqc4fs27evcztyLwpQgAIUoAAFKOCjAl6RQAcEBHglv3yi1NJiSqD79evnlefFSlOAAhSgAAUoQAFXCljLoVx5TEfK9poEOjs725HzqvRtmzdvrr5dSiuBli+VcGYJKC5GRHY2gu79jeLQENyQ4wUFlRVVXArkFwYhPLgYQQ6+/qhatSrCwsJUWRyBdiY63IcCFKAABShAAWcFZOCUCbSzemb7CaSvJtDz5s1zSiioqAhRObkoCQpEYHEJ8prGoLhKlbKyCksDkFcYhqjg2wgOsJzIWzuwfEOiPKOUCbRToeFOFKAABShAAQroEGACrQPPfFcm0PdDmhLo4uBgBBUWMoE2qK2xGApQgAIUoAAFKleACbRB/v6QQHfu3NkxrXv3EPL1Nyh98AEE3C3A3092AkJDy8q4V1SK09cL0ToyGKFV7JvDIV80IgtHoB0LBbemAAUoQAEKUMA4ASbQBlm6I4FOSEhA9+7dkZiYaEit7Z0DbZrCwQTaEHYWQgEKUIACFKCAlwswgTYogPYk0NYSYElkMzIy0LJlS5u1YQIN9VXXHIE2qNGyGApQgAIUoAAFnBJgAu0U2/07MYG2AMkpHAa1LhZDAQpQgAIUoIAnCTCBNigaRiXQ27dvx/Lly3Hp0iU0atQIr7/+Otq2batqaT4CnZWVhbFjx2L8+PF4//331aNUBg4ciJdffhn2PpOaUzgMCj6LoQAFKEABClDArwSYQBsUbiMS6KtXr+KNN97AsmXL1HSOPXv2qH/v3LkT4eHh9yXQMhc6NjYW06ZNw8WLF5GUlISUlBQ899xzdp0VE2i7mLgRBShAAQpQgAIUKCfABNqgBmFvAv39998jJCSk3FFv3bql5kAvXLgQTz75JIYNG1a2ftCgQZAfSZQrjkC/8MIL+Oabb1CrVi21/QcffKD+vXLlSrvOigm0XUzciAIUoAAFKEABCjCBdkUbsDeBtvQUDdOHCFNTU5GXl4cqZl82UlRUhJdeegkjR468L4EeMWIETp48WXY6Mv0jPT0dmZmZdp0iE2i7mLgRBShAAQpQgAIUYALtijZgRAK9YMEC9OjRA4MHD7ZYRa0R6A8//BBff/01R6BdEWCWSQEKUIACFKAABf4V4BQOg5qCEQn05cuXMWfOHKSlpaFVq1YoKCjA8ePHER0djbp161qcAy3znU1zoJOTkzFu3DjExcXZdVYcgbaLiRtRgAIUoAAFKEABjkC7og0YkUDLBwdl+oXMZT5//ryaK92mTRvMmDED9erVs/kUjpKSEsTHx+OVV15BYGCgXafIBNouJm5EAQpQgAIUoAAFmEC7og3Yk0AbeVzTY+yOHDnidLFMoJ2m444UoAAFKEABCvixAKdwGBR8JtAWIPlFKga1LhZDAQpQgAIUoIAnCTCBNigaTKCZQBvUlFgMBShAAQpQgAIeLsAE2qAAuTuBNqLanMJhhCLLoAAFKEABClDA3wSYQBsUcX9IoB2lCioqQlROLoqDgxFUWIi8pjEoNnvGdWFpAPIKwxAVfBvBAaUOFR8ZGYnatWurffr27evQvtyYAhSgAAUoQAEK6BFgAq1Hz2xfJtD3Q5oS6JKgQAQWlzCBNqitsRgKUIACFKAABSpXgAm0Qf6+nECvWLHCKaWA4mJEZGcj6N7fKA4NwY3mzVEaFFRWVnEpkF8YhPDgYgQFOHaIqlWrIiwsjCPQjrFxawpQgAIUoAAFDBBgAm0AohQhkN64lJZanjqxdetWdTr9+vXzxtNinSlAAQpQgAIUoIBLBazlUC49qAOFB8hS6um1dOCEvGFT8wR6y5YtHl1lT54D7Q2vUD05uPTTFx366fMzDY7w9uO8I9ug83Zsf/rs6KcGd5lA629GzpXAzs85N9Ne9KOfPgF9e7P96fPjDZh++gX0lcBrmH56BJhA69HTuS8vXn2A9KOfPgF9e7P96fNjAk0//QL6SuA1TD89Akyg9ejp3HfGjBmQHy7OCdDPOTfTXvSjnz4B/XuzDeozpB/99Ano29vf2x8TaH3th3tTgAIUoAAFKEABCviZABNoPws4T5cCFKAABShAAQpQQJ8AE2h9ftybAhSgAAUoQAEKUMDPBJhA+1nAeboUoAAFKEABClCAAvoEmEDr8+PeFKAABShAAQpQgAJ+JsAE2s8CztOlAAUoQAEKUIACFNAnwARan59TexcWFmLChAlYs2aN2n/IkCFYuHAhqlSp4lR5vrTTvXv3MG7cOOzZswfXr19HVFQUJk+ejKSkJHWaiYmJyi0kJKTstHfv3o2OHTuqf/u7rV4ff/erVq1auctJ2mPLli1x8uRJtj8rHU16ejpWrlyJU6dOoXfv3sjIyCjbUqs96V3vC32fNT+tvpD94T/Rt9X+2B9qXyG2/Ngf2vZjAq3dvgzfYvr06di8eTMyMzNV2XLT6d+/P6ZNm2b4sbytwNu3b2PevHkYNmwYmjRpgqysLOWzbt069OzZUyXQNWvWRFpamsVT83dbvT7+7lexUbVp0waDBg3C1KlTyxJotr/ySps2bUJgYKB60XvhwoVyCbRWe9K73tv6N0v1tean1ReaEmh/b4+22h/7Q+0rxJYf+0Mm0NotyM1bNGjQQI04DxgwQB15w4YNSE1NxdmzZ91cE+84nLy4aN26NWbNmqWZQPu7rdYNQ8tHa713tBhjavndd9+hU6dOOHfuHB5++GG7Emh/9pMvVThx4kS5BFrLQ+96YyLtGaVY8qtYM/O+0J4EWsvXM87cmFpY8mN/aL+tVvtjf3i/JUeg7W9fhmyZn5+PiIgI5OTkICYmRpUpfzdr1gw3b95EjRo1DDmOrxRSUFCgnGTEWV5wSIcoo/fyFawPPfQQkpOTkZKSokbAaPvPFBdnfUpKStg2zS6cUaNG4eLFi9i6dWvZ/+rx9fVru+INWOt61GpvWut9zVMrganYF5oSaGevd3/w03O9sv2VzyLYHzKBrvS88vz582jYsCGuXbuGyMhIVR/5u06dOpB19evXr/Q6ekoFSktLkZCQgLy8POzdu1clyceOHYOMqsiLkMOHDyM+Pl7NJ5cf2kKXj3izbf7T+u/cuaNeoH3yySd49tlnyy4Jtj/rvUPFBFDretRqb1rrfa2vtJVAW+oLJRJsj/+1R0t+enzY/v6zZX9oud/jCLSbs0XTqExubi6io6PV0eXvpk2bcgTaLBbSeY0ZMwZHjx5VcyutjZYsXbpUJTmHDh0qG4Gm7X+QjviYRlzoB/WhuNdee029KLP14V5HfH1txK9i12ltBNpae9Jqb1rrfc3TWgJtb18o8fDn9qg1gu+oD9vff1c4+0Mm0G5Ola0fTkZQZUpCXFyc2mjjxo2YOHGimmvJBZAbxtixY1VSLCPP4eHhVlmWL1+ukh3ZVhbalqdy1Id+//h17txZ/cydO9fmJemory9f39bmQNvq67Tam9Z6X/K05OdIXygW/twe7UmgHfXx9/Znur7YHzKB9pi+Vp62sW3bNuzYsUPVqU+fPoiNjeVTOP6NkCTPBw8exL59+1CrVq1ycVu/fj169eqF6tWrq9FpmRct20+aNElt5++2en383U/aUHZ2tnp03U8//aQ+m2C+6PX1mE7IwIoUFRVBfmbPnq0e9ydGMt1KHjWp1Z70rjfwNCqtKFt+tvpCqTDbI1Tbs9b+9Ppotc9KazQGHtiWH/tD29CcwmFgQ7S3KHn2qXzwzfw50DJKw+dAQz2JpHHjxggNDS3nMXToUDW68vTTT6ubtFz08oxo+RChPMFEbtiy+LutXh9/95M2JM8dl8cnHjhw4L5LWq+vvX2EN20nI38zZ84sV+UuXbpg//79mtejVnvTWu9NTtbqas1v1apVNvtCKY/tEbDV/vT6+HP7k+uX/SETaF/oY3kOFKAABShAAQpQgAIeIsARaA8JBKtBAQpQgAIUoAAFKOAdAkygvSNOrCUFKEABClCAAhSggIcIMIH2kECwGhSgAAUoQAEKUIAC3iHABNo74sRaUoACFKAABShAAQp4iAATaA8JBKtBAQpQgAIUoAAFKOAdAkygvSNOrCUFKEABClCAAhSggIcIMIH2kECwGhSgAAUoQAEKUIAC3iHABNo74sRaUoACFLAq8NZbb+HUqVNYu3at25RGjx6Nxx57DPLb1jJixAg88cQTGD58uNvqxgNRgAIUcLUAE2hXC7N8ClCAAjoFqlWrVlbC3bt31bd0BgcHq/976qmnkJmZqfMIju2em5uLbt264cyZM2X1sFbCb7/9hk6dOuHXX39V3zDKhQIUoIAvCDCB9oUo8hwoQAG/EXjmmWcQGxuLlJSUSjvn1NRUdewFCxbYVQeps4xEDxkyxK7tuREFKEABTxdgAu3pEWL9KEABCpgJWEqgZ8yYgRMnTiAjI0NtGRAQgPT0dCxZsgRnz55F//79sWjRIowaNQq7du1CdHS0mu7RokULtf1ff/2FKVOmYMuWLSgoKECvXr2wePFi1KhRw6J9s2bNkJaWhj59+qj1N27cQHJyMg4cOICSkhJV/qZNm9CoUSO1/s0338Tp06exbt06xpICFKCATwgwgfaJMPIkKEABfxGwN4GWKRbr169XCXHbtm1Ru3ZtLFu2DB07dlTJbn5+vkqYZYmPj1fTQpYuXaqmZMh8Zfn36tWr72O9c+cOwsLC1PSNJk2aqPVTp05Vc7AlQZZpGvJ3w4YNERERodZ/8cUXapvs7Gx/CRPPkwIU8HEBJtA+HmCeHgUo4FsC9ibQMi9aRpJNCXJgYCA+//xz9e8dO3Zg5MiRuHDhAq5du4Z69eqp36aENycnB61atYLMtw4KCioHmJeXh/r166vtIyMj1brp06dj9+7dKkF/9NFH7wOXdTJ94+rVq74VDJ4NBSjgtwJMoP029DxxClDAGwXsTaCPHz+unpIhS2JiImrWrKmmXciyf/9+NY/65s2bOHz4MNq3b3/fdA0ZuZZR5qioqHJMlkagZQqITNOQKSR//PEHBg4ciLlz5+LBBx9U+3IE2htbGutMAQrYEmACzfZBAQpQwIsEjE6gL1++rJLkW7duoWrVqnZJVJwDbb6TPG2jb9++ePHFF/Hqq6+qVZwDbRcrN6IABbxIgAm0FwWLVaUABShgdAItonFxcWoEev78+WpaxqVLl5CVlaVGqS0tkhjLlJC3335brd62bRskqY6JiVFzq3v06KFGvcePH6/Wd+3aFUlJSUhISGAAKUABCviEABNonwgjT4ICFPAXAVck0DL6LPOYv/zyS/z++++oW7cuBg8ejFmzZllk/fnnn9G9e3f88ssv6kOHMjXkvffew5UrVyDPrJaEXP4vJCREPQWkQ4cO6jnQDzzwgL+EiedJAQr4uAATaB8Pn6nXyQAAALlJREFUME+PAhSggCsE5JF4Msd6zJgxNouXDyu2a9dOPQeaCwUoQAFfEWAC7SuR5HlQgAIUoAAFKEABCrhFgAm0W5h5EApQgAIUoAAFKEABXxFgAu0rkeR5UIACFKAABShAAQq4RYAJtFuYeRAKUIACFKAABShAAV8RYALtK5HkeVCAAhSgAAUoQAEKuEWACbRbmHkQClCAAhSgAAUoQAFfEVAJtK+cDM+DAhSgAAUoQAEKUIAC7hD4P9DNOpC78n9oAAAAAElFTkSuQmCC\" width=\"800.0000211927631\">"
      ],
      "text/plain": [
       "<IPython.core.display.HTML object>"
      ]
     },
     "metadata": {},
     "output_type": "display_data"
    },
    {
     "data": {
      "application/javascript": "/* Put everything inside the global mpl namespace */\n/* global mpl */\nwindow.mpl = {};\n\nmpl.get_websocket_type = function () {\n    if (typeof WebSocket !== 'undefined') {\n        return WebSocket;\n    } else if (typeof MozWebSocket !== 'undefined') {\n        return MozWebSocket;\n    } else {\n        alert(\n            'Your browser does not have WebSocket support. ' +\n                'Please try Chrome, Safari or Firefox ≥ 6. ' +\n                'Firefox 4 and 5 are also supported but you ' +\n                'have to enable WebSockets in about:config.'\n        );\n    }\n};\n\nmpl.figure = function (figure_id, websocket, ondownload, parent_element) {\n    this.id = figure_id;\n\n    this.ws = websocket;\n\n    this.supports_binary = this.ws.binaryType !== undefined;\n\n    if (!this.supports_binary) {\n        var warnings = document.getElementById('mpl-warnings');\n        if (warnings) {\n            warnings.style.display = 'block';\n            warnings.textContent =\n                'This browser does not support binary websocket messages. ' +\n                'Performance may be slow.';\n        }\n    }\n\n    this.imageObj = new Image();\n\n    this.context = undefined;\n    this.message = undefined;\n    this.canvas = undefined;\n    this.rubberband_canvas = undefined;\n    this.rubberband_context = undefined;\n    this.format_dropdown = undefined;\n\n    this.image_mode = 'full';\n\n    this.root = document.createElement('div');\n    this.root.setAttribute('style', 'display: inline-block');\n    this._root_extra_style(this.root);\n\n    parent_element.appendChild(this.root);\n\n    this._init_header(this);\n    this._init_canvas(this);\n    this._init_toolbar(this);\n\n    var fig = this;\n\n    this.waiting = false;\n\n    this.ws.onopen = function () {\n        fig.send_message('supports_binary', { value: fig.supports_binary });\n        fig.send_message('send_image_mode', {});\n        if (fig.ratio !== 1) {\n            fig.send_message('set_device_pixel_ratio', {\n                device_pixel_ratio: fig.ratio,\n            });\n        }\n        fig.send_message('refresh', {});\n    };\n\n    this.imageObj.onload = function () {\n        if (fig.image_mode === 'full') {\n            // Full images could contain transparency (where diff images\n            // almost always do), so we need to clear the canvas so that\n            // there is no ghosting.\n            fig.context.clearRect(0, 0, fig.canvas.width, fig.canvas.height);\n        }\n        fig.context.drawImage(fig.imageObj, 0, 0);\n    };\n\n    this.imageObj.onunload = function () {\n        fig.ws.close();\n    };\n\n    this.ws.onmessage = this._make_on_message_function(this);\n\n    this.ondownload = ondownload;\n};\n\nmpl.figure.prototype._init_header = function () {\n    var titlebar = document.createElement('div');\n    titlebar.classList =\n        'ui-dialog-titlebar ui-widget-header ui-corner-all ui-helper-clearfix';\n    var titletext = document.createElement('div');\n    titletext.classList = 'ui-dialog-title';\n    titletext.setAttribute(\n        'style',\n        'width: 100%; text-align: center; padding: 3px;'\n    );\n    titlebar.appendChild(titletext);\n    this.root.appendChild(titlebar);\n    this.header = titletext;\n};\n\nmpl.figure.prototype._canvas_extra_style = function (_canvas_div) {};\n\nmpl.figure.prototype._root_extra_style = function (_canvas_div) {};\n\nmpl.figure.prototype._init_canvas = function () {\n    var fig = this;\n\n    var canvas_div = (this.canvas_div = document.createElement('div'));\n    canvas_div.setAttribute('tabindex', '0');\n    canvas_div.setAttribute(\n        'style',\n        'border: 1px solid #ddd;' +\n            'box-sizing: content-box;' +\n            'clear: both;' +\n            'min-height: 1px;' +\n            'min-width: 1px;' +\n            'outline: 0;' +\n            'overflow: hidden;' +\n            'position: relative;' +\n            'resize: both;' +\n            'z-index: 2;'\n    );\n\n    function on_keyboard_event_closure(name) {\n        return function (event) {\n            return fig.key_event(event, name);\n        };\n    }\n\n    canvas_div.addEventListener(\n        'keydown',\n        on_keyboard_event_closure('key_press')\n    );\n    canvas_div.addEventListener(\n        'keyup',\n        on_keyboard_event_closure('key_release')\n    );\n\n    this._canvas_extra_style(canvas_div);\n    this.root.appendChild(canvas_div);\n\n    var canvas = (this.canvas = document.createElement('canvas'));\n    canvas.classList.add('mpl-canvas');\n    canvas.setAttribute(\n        'style',\n        'box-sizing: content-box;' +\n            'pointer-events: none;' +\n            'position: relative;' +\n            'z-index: 0;'\n    );\n\n    this.context = canvas.getContext('2d');\n\n    var backingStore =\n        this.context.backingStorePixelRatio ||\n        this.context.webkitBackingStorePixelRatio ||\n        this.context.mozBackingStorePixelRatio ||\n        this.context.msBackingStorePixelRatio ||\n        this.context.oBackingStorePixelRatio ||\n        this.context.backingStorePixelRatio ||\n        1;\n\n    this.ratio = (window.devicePixelRatio || 1) / backingStore;\n\n    var rubberband_canvas = (this.rubberband_canvas = document.createElement(\n        'canvas'\n    ));\n    rubberband_canvas.setAttribute(\n        'style',\n        'box-sizing: content-box;' +\n            'left: 0;' +\n            'pointer-events: none;' +\n            'position: absolute;' +\n            'top: 0;' +\n            'z-index: 1;'\n    );\n\n    // Apply a ponyfill if ResizeObserver is not implemented by browser.\n    if (this.ResizeObserver === undefined) {\n        if (window.ResizeObserver !== undefined) {\n            this.ResizeObserver = window.ResizeObserver;\n        } else {\n            var obs = _JSXTOOLS_RESIZE_OBSERVER({});\n            this.ResizeObserver = obs.ResizeObserver;\n        }\n    }\n\n    this.resizeObserverInstance = new this.ResizeObserver(function (entries) {\n        var nentries = entries.length;\n        for (var i = 0; i < nentries; i++) {\n            var entry = entries[i];\n            var width, height;\n            if (entry.contentBoxSize) {\n                if (entry.contentBoxSize instanceof Array) {\n                    // Chrome 84 implements new version of spec.\n                    width = entry.contentBoxSize[0].inlineSize;\n                    height = entry.contentBoxSize[0].blockSize;\n                } else {\n                    // Firefox implements old version of spec.\n                    width = entry.contentBoxSize.inlineSize;\n                    height = entry.contentBoxSize.blockSize;\n                }\n            } else {\n                // Chrome <84 implements even older version of spec.\n                width = entry.contentRect.width;\n                height = entry.contentRect.height;\n            }\n\n            // Keep the size of the canvas and rubber band canvas in sync with\n            // the canvas container.\n            if (entry.devicePixelContentBoxSize) {\n                // Chrome 84 implements new version of spec.\n                canvas.setAttribute(\n                    'width',\n                    entry.devicePixelContentBoxSize[0].inlineSize\n                );\n                canvas.setAttribute(\n                    'height',\n                    entry.devicePixelContentBoxSize[0].blockSize\n                );\n            } else {\n                canvas.setAttribute('width', width * fig.ratio);\n                canvas.setAttribute('height', height * fig.ratio);\n            }\n            /* This rescales the canvas back to display pixels, so that it\n             * appears correct on HiDPI screens. */\n            canvas.style.width = width + 'px';\n            canvas.style.height = height + 'px';\n\n            rubberband_canvas.setAttribute('width', width);\n            rubberband_canvas.setAttribute('height', height);\n\n            // And update the size in Python. We ignore the initial 0/0 size\n            // that occurs as the element is placed into the DOM, which should\n            // otherwise not happen due to the minimum size styling.\n            if (fig.ws.readyState == 1 && width != 0 && height != 0) {\n                fig.request_resize(width, height);\n            }\n        }\n    });\n    this.resizeObserverInstance.observe(canvas_div);\n\n    function on_mouse_event_closure(name) {\n        /* User Agent sniffing is bad, but WebKit is busted:\n         * https://bugs.webkit.org/show_bug.cgi?id=144526\n         * https://bugs.webkit.org/show_bug.cgi?id=181818\n         * The worst that happens here is that they get an extra browser\n         * selection when dragging, if this check fails to catch them.\n         */\n        var UA = navigator.userAgent;\n        var isWebKit = /AppleWebKit/.test(UA) && !/Chrome/.test(UA);\n        if(isWebKit) {\n            return function (event) {\n                /* This prevents the web browser from automatically changing to\n                 * the text insertion cursor when the button is pressed. We\n                 * want to control all of the cursor setting manually through\n                 * the 'cursor' event from matplotlib */\n                event.preventDefault()\n                return fig.mouse_event(event, name);\n            };\n        } else {\n            return function (event) {\n                return fig.mouse_event(event, name);\n            };\n        }\n    }\n\n    canvas_div.addEventListener(\n        'mousedown',\n        on_mouse_event_closure('button_press')\n    );\n    canvas_div.addEventListener(\n        'mouseup',\n        on_mouse_event_closure('button_release')\n    );\n    canvas_div.addEventListener(\n        'dblclick',\n        on_mouse_event_closure('dblclick')\n    );\n    // Throttle sequential mouse events to 1 every 20ms.\n    canvas_div.addEventListener(\n        'mousemove',\n        on_mouse_event_closure('motion_notify')\n    );\n\n    canvas_div.addEventListener(\n        'mouseenter',\n        on_mouse_event_closure('figure_enter')\n    );\n    canvas_div.addEventListener(\n        'mouseleave',\n        on_mouse_event_closure('figure_leave')\n    );\n\n    canvas_div.addEventListener('wheel', function (event) {\n        if (event.deltaY < 0) {\n            event.step = 1;\n        } else {\n            event.step = -1;\n        }\n        on_mouse_event_closure('scroll')(event);\n    });\n\n    canvas_div.appendChild(canvas);\n    canvas_div.appendChild(rubberband_canvas);\n\n    this.rubberband_context = rubberband_canvas.getContext('2d');\n    this.rubberband_context.strokeStyle = '#000000';\n\n    this._resize_canvas = function (width, height, forward) {\n        if (forward) {\n            canvas_div.style.width = width + 'px';\n            canvas_div.style.height = height + 'px';\n        }\n    };\n\n    // Disable right mouse context menu.\n    canvas_div.addEventListener('contextmenu', function (_e) {\n        event.preventDefault();\n        return false;\n    });\n\n    function set_focus() {\n        canvas.focus();\n        canvas_div.focus();\n    }\n\n    window.setTimeout(set_focus, 100);\n};\n\nmpl.figure.prototype._init_toolbar = function () {\n    var fig = this;\n\n    var toolbar = document.createElement('div');\n    toolbar.classList = 'mpl-toolbar';\n    this.root.appendChild(toolbar);\n\n    function on_click_closure(name) {\n        return function (_event) {\n            return fig.toolbar_button_onclick(name);\n        };\n    }\n\n    function on_mouseover_closure(tooltip) {\n        return function (event) {\n            if (!event.currentTarget.disabled) {\n                return fig.toolbar_button_onmouseover(tooltip);\n            }\n        };\n    }\n\n    fig.buttons = {};\n    var buttonGroup = document.createElement('div');\n    buttonGroup.classList = 'mpl-button-group';\n    for (var toolbar_ind in mpl.toolbar_items) {\n        var name = mpl.toolbar_items[toolbar_ind][0];\n        var tooltip = mpl.toolbar_items[toolbar_ind][1];\n        var image = mpl.toolbar_items[toolbar_ind][2];\n        var method_name = mpl.toolbar_items[toolbar_ind][3];\n\n        if (!name) {\n            /* Instead of a spacer, we start a new button group. */\n            if (buttonGroup.hasChildNodes()) {\n                toolbar.appendChild(buttonGroup);\n            }\n            buttonGroup = document.createElement('div');\n            buttonGroup.classList = 'mpl-button-group';\n            continue;\n        }\n\n        var button = (fig.buttons[name] = document.createElement('button'));\n        button.classList = 'mpl-widget';\n        button.setAttribute('role', 'button');\n        button.setAttribute('aria-disabled', 'false');\n        button.addEventListener('click', on_click_closure(method_name));\n        button.addEventListener('mouseover', on_mouseover_closure(tooltip));\n\n        var icon_img = document.createElement('img');\n        icon_img.src = '_images/' + image + '.png';\n        icon_img.srcset = '_images/' + image + '_large.png 2x';\n        icon_img.alt = tooltip;\n        button.appendChild(icon_img);\n\n        buttonGroup.appendChild(button);\n    }\n\n    if (buttonGroup.hasChildNodes()) {\n        toolbar.appendChild(buttonGroup);\n    }\n\n    var fmt_picker = document.createElement('select');\n    fmt_picker.classList = 'mpl-widget';\n    toolbar.appendChild(fmt_picker);\n    this.format_dropdown = fmt_picker;\n\n    for (var ind in mpl.extensions) {\n        var fmt = mpl.extensions[ind];\n        var option = document.createElement('option');\n        option.selected = fmt === mpl.default_extension;\n        option.innerHTML = fmt;\n        fmt_picker.appendChild(option);\n    }\n\n    var status_bar = document.createElement('span');\n    status_bar.classList = 'mpl-message';\n    toolbar.appendChild(status_bar);\n    this.message = status_bar;\n};\n\nmpl.figure.prototype.request_resize = function (x_pixels, y_pixels) {\n    // Request matplotlib to resize the figure. Matplotlib will then trigger a resize in the client,\n    // which will in turn request a refresh of the image.\n    this.send_message('resize', { width: x_pixels, height: y_pixels });\n};\n\nmpl.figure.prototype.send_message = function (type, properties) {\n    properties['type'] = type;\n    properties['figure_id'] = this.id;\n    this.ws.send(JSON.stringify(properties));\n};\n\nmpl.figure.prototype.send_draw_message = function () {\n    if (!this.waiting) {\n        this.waiting = true;\n        this.ws.send(JSON.stringify({ type: 'draw', figure_id: this.id }));\n    }\n};\n\nmpl.figure.prototype.handle_save = function (fig, _msg) {\n    var format_dropdown = fig.format_dropdown;\n    var format = format_dropdown.options[format_dropdown.selectedIndex].value;\n    fig.ondownload(fig, format);\n};\n\nmpl.figure.prototype.handle_resize = function (fig, msg) {\n    var size = msg['size'];\n    if (size[0] !== fig.canvas.width || size[1] !== fig.canvas.height) {\n        fig._resize_canvas(size[0], size[1], msg['forward']);\n        fig.send_message('refresh', {});\n    }\n};\n\nmpl.figure.prototype.handle_rubberband = function (fig, msg) {\n    var x0 = msg['x0'] / fig.ratio;\n    var y0 = (fig.canvas.height - msg['y0']) / fig.ratio;\n    var x1 = msg['x1'] / fig.ratio;\n    var y1 = (fig.canvas.height - msg['y1']) / fig.ratio;\n    x0 = Math.floor(x0) + 0.5;\n    y0 = Math.floor(y0) + 0.5;\n    x1 = Math.floor(x1) + 0.5;\n    y1 = Math.floor(y1) + 0.5;\n    var min_x = Math.min(x0, x1);\n    var min_y = Math.min(y0, y1);\n    var width = Math.abs(x1 - x0);\n    var height = Math.abs(y1 - y0);\n\n    fig.rubberband_context.clearRect(\n        0,\n        0,\n        fig.canvas.width / fig.ratio,\n        fig.canvas.height / fig.ratio\n    );\n\n    fig.rubberband_context.strokeRect(min_x, min_y, width, height);\n};\n\nmpl.figure.prototype.handle_figure_label = function (fig, msg) {\n    // Updates the figure title.\n    fig.header.textContent = msg['label'];\n};\n\nmpl.figure.prototype.handle_cursor = function (fig, msg) {\n    fig.canvas_div.style.cursor = msg['cursor'];\n};\n\nmpl.figure.prototype.handle_message = function (fig, msg) {\n    fig.message.textContent = msg['message'];\n};\n\nmpl.figure.prototype.handle_draw = function (fig, _msg) {\n    // Request the server to send over a new figure.\n    fig.send_draw_message();\n};\n\nmpl.figure.prototype.handle_image_mode = function (fig, msg) {\n    fig.image_mode = msg['mode'];\n};\n\nmpl.figure.prototype.handle_history_buttons = function (fig, msg) {\n    for (var key in msg) {\n        if (!(key in fig.buttons)) {\n            continue;\n        }\n        fig.buttons[key].disabled = !msg[key];\n        fig.buttons[key].setAttribute('aria-disabled', !msg[key]);\n    }\n};\n\nmpl.figure.prototype.handle_navigate_mode = function (fig, msg) {\n    if (msg['mode'] === 'PAN') {\n        fig.buttons['Pan'].classList.add('active');\n        fig.buttons['Zoom'].classList.remove('active');\n    } else if (msg['mode'] === 'ZOOM') {\n        fig.buttons['Pan'].classList.remove('active');\n        fig.buttons['Zoom'].classList.add('active');\n    } else {\n        fig.buttons['Pan'].classList.remove('active');\n        fig.buttons['Zoom'].classList.remove('active');\n    }\n};\n\nmpl.figure.prototype.updated_canvas_event = function () {\n    // Called whenever the canvas gets updated.\n    this.send_message('ack', {});\n};\n\n// A function to construct a web socket function for onmessage handling.\n// Called in the figure constructor.\nmpl.figure.prototype._make_on_message_function = function (fig) {\n    return function socket_on_message(evt) {\n        if (evt.data instanceof Blob) {\n            var img = evt.data;\n            if (img.type !== 'image/png') {\n                /* FIXME: We get \"Resource interpreted as Image but\n                 * transferred with MIME type text/plain:\" errors on\n                 * Chrome.  But how to set the MIME type?  It doesn't seem\n                 * to be part of the websocket stream */\n                img.type = 'image/png';\n            }\n\n            /* Free the memory for the previous frames */\n            if (fig.imageObj.src) {\n                (window.URL || window.webkitURL).revokeObjectURL(\n                    fig.imageObj.src\n                );\n            }\n\n            fig.imageObj.src = (window.URL || window.webkitURL).createObjectURL(\n                img\n            );\n            fig.updated_canvas_event();\n            fig.waiting = false;\n            return;\n        } else if (\n            typeof evt.data === 'string' &&\n            evt.data.slice(0, 21) === 'data:image/png;base64'\n        ) {\n            fig.imageObj.src = evt.data;\n            fig.updated_canvas_event();\n            fig.waiting = false;\n            return;\n        }\n\n        var msg = JSON.parse(evt.data);\n        var msg_type = msg['type'];\n\n        // Call the  \"handle_{type}\" callback, which takes\n        // the figure and JSON message as its only arguments.\n        try {\n            var callback = fig['handle_' + msg_type];\n        } catch (e) {\n            console.log(\n                \"No handler for the '\" + msg_type + \"' message type: \",\n                msg\n            );\n            return;\n        }\n\n        if (callback) {\n            try {\n                // console.log(\"Handling '\" + msg_type + \"' message: \", msg);\n                callback(fig, msg);\n            } catch (e) {\n                console.log(\n                    \"Exception inside the 'handler_\" + msg_type + \"' callback:\",\n                    e,\n                    e.stack,\n                    msg\n                );\n            }\n        }\n    };\n};\n\n\n/*\n * return a copy of an object with only non-object keys\n * we need this to avoid circular references\n * https://stackoverflow.com/a/24161582/3208463\n */\nfunction simpleKeys(original) {\n    return Object.keys(original).reduce(function (obj, key) {\n        if (typeof original[key] !== 'object') {\n            obj[key] = original[key];\n        }\n        return obj;\n    }, {});\n}\n\nmpl.figure.prototype.mouse_event = function (event, name) {\n    if (name === 'button_press') {\n        this.canvas.focus();\n        this.canvas_div.focus();\n    }\n\n    // from https://stackoverflow.com/q/1114465\n    var boundingRect = this.canvas.getBoundingClientRect();\n    var x = (event.clientX - boundingRect.left) * this.ratio;\n    var y = (event.clientY - boundingRect.top) * this.ratio;\n\n    this.send_message(name, {\n        x: x,\n        y: y,\n        button: event.button,\n        step: event.step,\n        guiEvent: simpleKeys(event),\n    });\n\n    return false;\n};\n\nmpl.figure.prototype._key_event_extra = function (_event, _name) {\n    // Handle any extra behaviour associated with a key event\n};\n\nmpl.figure.prototype.key_event = function (event, name) {\n    // Prevent repeat events\n    if (name === 'key_press') {\n        if (event.key === this._key) {\n            return;\n        } else {\n            this._key = event.key;\n        }\n    }\n    if (name === 'key_release') {\n        this._key = null;\n    }\n\n    var value = '';\n    if (event.ctrlKey && event.key !== 'Control') {\n        value += 'ctrl+';\n    }\n    else if (event.altKey && event.key !== 'Alt') {\n        value += 'alt+';\n    }\n    else if (event.shiftKey && event.key !== 'Shift') {\n        value += 'shift+';\n    }\n\n    value += 'k' + event.key;\n\n    this._key_event_extra(event, name);\n\n    this.send_message(name, { key: value, guiEvent: simpleKeys(event) });\n    return false;\n};\n\nmpl.figure.prototype.toolbar_button_onclick = function (name) {\n    if (name === 'download') {\n        this.handle_save(this, null);\n    } else {\n        this.send_message('toolbar_button', { name: name });\n    }\n};\n\nmpl.figure.prototype.toolbar_button_onmouseover = function (tooltip) {\n    this.message.textContent = tooltip;\n};\n\n///////////////// REMAINING CONTENT GENERATED BY embed_js.py /////////////////\n// prettier-ignore\nvar _JSXTOOLS_RESIZE_OBSERVER=function(A){var t,i=new WeakMap,n=new WeakMap,a=new WeakMap,r=new WeakMap,o=new Set;function s(e){if(!(this instanceof s))throw new TypeError(\"Constructor requires 'new' operator\");i.set(this,e)}function h(){throw new TypeError(\"Function is not a constructor\")}function c(e,t,i,n){e=0 in arguments?Number(arguments[0]):0,t=1 in arguments?Number(arguments[1]):0,i=2 in arguments?Number(arguments[2]):0,n=3 in arguments?Number(arguments[3]):0,this.right=(this.x=this.left=e)+(this.width=i),this.bottom=(this.y=this.top=t)+(this.height=n),Object.freeze(this)}function d(){t=requestAnimationFrame(d);var s=new WeakMap,p=new Set;o.forEach((function(t){r.get(t).forEach((function(i){var r=t instanceof window.SVGElement,o=a.get(t),d=r?0:parseFloat(o.paddingTop),f=r?0:parseFloat(o.paddingRight),l=r?0:parseFloat(o.paddingBottom),u=r?0:parseFloat(o.paddingLeft),g=r?0:parseFloat(o.borderTopWidth),m=r?0:parseFloat(o.borderRightWidth),w=r?0:parseFloat(o.borderBottomWidth),b=u+f,F=d+l,v=(r?0:parseFloat(o.borderLeftWidth))+m,W=g+w,y=r?0:t.offsetHeight-W-t.clientHeight,E=r?0:t.offsetWidth-v-t.clientWidth,R=b+v,z=F+W,M=r?t.width:parseFloat(o.width)-R-E,O=r?t.height:parseFloat(o.height)-z-y;if(n.has(t)){var k=n.get(t);if(k[0]===M&&k[1]===O)return}n.set(t,[M,O]);var S=Object.create(h.prototype);S.target=t,S.contentRect=new c(u,d,M,O),s.has(i)||(s.set(i,[]),p.add(i)),s.get(i).push(S)}))})),p.forEach((function(e){i.get(e).call(e,s.get(e),e)}))}return s.prototype.observe=function(i){if(i instanceof window.Element){r.has(i)||(r.set(i,new Set),o.add(i),a.set(i,window.getComputedStyle(i)));var n=r.get(i);n.has(this)||n.add(this),cancelAnimationFrame(t),t=requestAnimationFrame(d)}},s.prototype.unobserve=function(i){if(i instanceof window.Element&&r.has(i)){var n=r.get(i);n.has(this)&&(n.delete(this),n.size||(r.delete(i),o.delete(i))),n.size||r.delete(i),o.size||cancelAnimationFrame(t)}},A.DOMRectReadOnly=c,A.ResizeObserver=s,A.ResizeObserverEntry=h,A}; // eslint-disable-line\nmpl.toolbar_items = [[\"Home\", \"Reset original view\", \"fa fa-home\", \"home\"], [\"Back\", \"Back to previous view\", \"fa fa-arrow-left\", \"back\"], [\"Forward\", \"Forward to next view\", \"fa fa-arrow-right\", \"forward\"], [\"\", \"\", \"\", \"\"], [\"Pan\", \"Left button pans, Right button zooms\\nx/y fixes axis, CTRL fixes aspect\", \"fa fa-arrows\", \"pan\"], [\"Zoom\", \"Zoom to rectangle\\nx/y fixes axis\", \"fa fa-square-o\", \"zoom\"], [\"\", \"\", \"\", \"\"], [\"Download\", \"Download plot\", \"fa fa-floppy-o\", \"download\"]];\n\nmpl.extensions = [\"eps\", \"jpeg\", \"pgf\", \"pdf\", \"png\", \"ps\", \"raw\", \"svg\", \"tif\", \"webp\"];\n\nmpl.default_extension = \"png\";/* global mpl */\n\nvar comm_websocket_adapter = function (comm) {\n    // Create a \"websocket\"-like object which calls the given IPython comm\n    // object with the appropriate methods. Currently this is a non binary\n    // socket, so there is still some room for performance tuning.\n    var ws = {};\n\n    ws.binaryType = comm.kernel.ws.binaryType;\n    ws.readyState = comm.kernel.ws.readyState;\n    function updateReadyState(_event) {\n        if (comm.kernel.ws) {\n            ws.readyState = comm.kernel.ws.readyState;\n        } else {\n            ws.readyState = 3; // Closed state.\n        }\n    }\n    comm.kernel.ws.addEventListener('open', updateReadyState);\n    comm.kernel.ws.addEventListener('close', updateReadyState);\n    comm.kernel.ws.addEventListener('error', updateReadyState);\n\n    ws.close = function () {\n        comm.close();\n    };\n    ws.send = function (m) {\n        //console.log('sending', m);\n        comm.send(m);\n    };\n    // Register the callback with on_msg.\n    comm.on_msg(function (msg) {\n        //console.log('receiving', msg['content']['data'], msg);\n        var data = msg['content']['data'];\n        if (data['blob'] !== undefined) {\n            data = {\n                data: new Blob(msg['buffers'], { type: data['blob'] }),\n            };\n        }\n        // Pass the mpl event to the overridden (by mpl) onmessage function.\n        ws.onmessage(data);\n    });\n    return ws;\n};\n\nmpl.mpl_figure_comm = function (comm, msg) {\n    // This is the function which gets called when the mpl process\n    // starts-up an IPython Comm through the \"matplotlib\" channel.\n\n    var id = msg.content.data.id;\n    // Get hold of the div created by the display call when the Comm\n    // socket was opened in Python.\n    var element = document.getElementById(id);\n    var ws_proxy = comm_websocket_adapter(comm);\n\n    function ondownload(figure, _format) {\n        window.open(figure.canvas.toDataURL());\n    }\n\n    var fig = new mpl.figure(id, ws_proxy, ondownload, element);\n\n    // Call onopen now - mpl needs it, as it is assuming we've passed it a real\n    // web socket which is closed, not our websocket->open comm proxy.\n    ws_proxy.onopen();\n\n    fig.parent_element = element;\n    fig.cell_info = mpl.find_output_cell(\"<div id='\" + id + \"'></div>\");\n    if (!fig.cell_info) {\n        console.error('Failed to find cell for figure', id, fig);\n        return;\n    }\n    fig.cell_info[0].output_area.element.on(\n        'cleared',\n        { fig: fig },\n        fig._remove_fig_handler\n    );\n};\n\nmpl.figure.prototype.handle_close = function (fig, msg) {\n    var width = fig.canvas.width / fig.ratio;\n    fig.cell_info[0].output_area.element.off(\n        'cleared',\n        fig._remove_fig_handler\n    );\n    fig.resizeObserverInstance.unobserve(fig.canvas_div);\n\n    // Update the output cell to use the data from the current canvas.\n    fig.push_to_output();\n    var dataURL = fig.canvas.toDataURL();\n    // Re-enable the keyboard manager in IPython - without this line, in FF,\n    // the notebook keyboard shortcuts fail.\n    IPython.keyboard_manager.enable();\n    fig.parent_element.innerHTML =\n        '<img src=\"' + dataURL + '\" width=\"' + width + '\">';\n    fig.close_ws(fig, msg);\n};\n\nmpl.figure.prototype.close_ws = function (fig, msg) {\n    fig.send_message('closing', msg);\n    // fig.ws.close()\n};\n\nmpl.figure.prototype.push_to_output = function (_remove_interactive) {\n    // Turn the data on the canvas into data in the output cell.\n    var width = this.canvas.width / this.ratio;\n    var dataURL = this.canvas.toDataURL();\n    this.cell_info[1]['text/html'] =\n        '<img src=\"' + dataURL + '\" width=\"' + width + '\">';\n};\n\nmpl.figure.prototype.updated_canvas_event = function () {\n    // Tell IPython that the notebook contents must change.\n    IPython.notebook.set_dirty(true);\n    this.send_message('ack', {});\n    var fig = this;\n    // Wait a second, then push the new image to the DOM so\n    // that it is saved nicely (might be nice to debounce this).\n    setTimeout(function () {\n        fig.push_to_output();\n    }, 1000);\n};\n\nmpl.figure.prototype._init_toolbar = function () {\n    var fig = this;\n\n    var toolbar = document.createElement('div');\n    toolbar.classList = 'btn-toolbar';\n    this.root.appendChild(toolbar);\n\n    function on_click_closure(name) {\n        return function (_event) {\n            return fig.toolbar_button_onclick(name);\n        };\n    }\n\n    function on_mouseover_closure(tooltip) {\n        return function (event) {\n            if (!event.currentTarget.disabled) {\n                return fig.toolbar_button_onmouseover(tooltip);\n            }\n        };\n    }\n\n    fig.buttons = {};\n    var buttonGroup = document.createElement('div');\n    buttonGroup.classList = 'btn-group';\n    var button;\n    for (var toolbar_ind in mpl.toolbar_items) {\n        var name = mpl.toolbar_items[toolbar_ind][0];\n        var tooltip = mpl.toolbar_items[toolbar_ind][1];\n        var image = mpl.toolbar_items[toolbar_ind][2];\n        var method_name = mpl.toolbar_items[toolbar_ind][3];\n\n        if (!name) {\n            /* Instead of a spacer, we start a new button group. */\n            if (buttonGroup.hasChildNodes()) {\n                toolbar.appendChild(buttonGroup);\n            }\n            buttonGroup = document.createElement('div');\n            buttonGroup.classList = 'btn-group';\n            continue;\n        }\n\n        button = fig.buttons[name] = document.createElement('button');\n        button.classList = 'btn btn-default';\n        button.href = '#';\n        button.title = name;\n        button.innerHTML = '<i class=\"fa ' + image + ' fa-lg\"></i>';\n        button.addEventListener('click', on_click_closure(method_name));\n        button.addEventListener('mouseover', on_mouseover_closure(tooltip));\n        buttonGroup.appendChild(button);\n    }\n\n    if (buttonGroup.hasChildNodes()) {\n        toolbar.appendChild(buttonGroup);\n    }\n\n    // Add the status bar.\n    var status_bar = document.createElement('span');\n    status_bar.classList = 'mpl-message pull-right';\n    toolbar.appendChild(status_bar);\n    this.message = status_bar;\n\n    // Add the close button to the window.\n    var buttongrp = document.createElement('div');\n    buttongrp.classList = 'btn-group inline pull-right';\n    button = document.createElement('button');\n    button.classList = 'btn btn-mini btn-primary';\n    button.href = '#';\n    button.title = 'Stop Interaction';\n    button.innerHTML = '<i class=\"fa fa-power-off icon-remove icon-large\"></i>';\n    button.addEventListener('click', function (_evt) {\n        fig.handle_close(fig, {});\n    });\n    button.addEventListener(\n        'mouseover',\n        on_mouseover_closure('Stop Interaction')\n    );\n    buttongrp.appendChild(button);\n    var titlebar = this.root.querySelector('.ui-dialog-titlebar');\n    titlebar.insertBefore(buttongrp, titlebar.firstChild);\n};\n\nmpl.figure.prototype._remove_fig_handler = function (event) {\n    var fig = event.data.fig;\n    if (event.target !== this) {\n        // Ignore bubbled events from children.\n        return;\n    }\n    fig.close_ws(fig, {});\n};\n\nmpl.figure.prototype._root_extra_style = function (el) {\n    el.style.boxSizing = 'content-box'; // override notebook setting of border-box.\n};\n\nmpl.figure.prototype._canvas_extra_style = function (el) {\n    // this is important to make the div 'focusable\n    el.setAttribute('tabindex', 0);\n    // reach out to IPython and tell the keyboard manager to turn it's self\n    // off when our div gets focus\n\n    // location in version 3\n    if (IPython.notebook.keyboard_manager) {\n        IPython.notebook.keyboard_manager.register_events(el);\n    } else {\n        // location in version 2\n        IPython.keyboard_manager.register_events(el);\n    }\n};\n\nmpl.figure.prototype._key_event_extra = function (event, _name) {\n    // Check for shift+enter\n    if (event.shiftKey && event.which === 13) {\n        this.canvas_div.blur();\n        // select the cell after this one\n        var index = IPython.notebook.find_cell_index(this.cell_info[0]);\n        IPython.notebook.select(index + 1);\n    }\n};\n\nmpl.figure.prototype.handle_save = function (fig, _msg) {\n    fig.ondownload(fig, null);\n};\n\nmpl.find_output_cell = function (html_output) {\n    // Return the cell and output element which can be found *uniquely* in the notebook.\n    // Note - this is a bit hacky, but it is done because the \"notebook_saving.Notebook\"\n    // IPython event is triggered only after the cells have been serialised, which for\n    // our purposes (turning an active figure into a static one), is too late.\n    var cells = IPython.notebook.get_cells();\n    var ncells = cells.length;\n    for (var i = 0; i < ncells; i++) {\n        var cell = cells[i];\n        if (cell.cell_type === 'code') {\n            for (var j = 0; j < cell.output_area.outputs.length; j++) {\n                var data = cell.output_area.outputs[j];\n                if (data.data) {\n                    // IPython >= 3 moved mimebundle to data attribute of output\n                    data = data.data;\n                }\n                if (data['text/html'] === html_output) {\n                    return [cell, data, j];\n                }\n            }\n        }\n    }\n};\n\n// Register the function which deals with the matplotlib target/channel.\n// The kernel may be null if the page has been refreshed.\nif (IPython.notebook.kernel !== null) {\n    IPython.notebook.kernel.comm_manager.register_target(\n        'matplotlib',\n        mpl.mpl_figure_comm\n    );\n}\n",
      "text/plain": [
       "<IPython.core.display.Javascript object>"
      ]
     },
     "metadata": {},
     "output_type": "display_data"
    },
    {
     "data": {
      "text/html": [
       "<img src=\"data:image/png;base64,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\" width=\"498.88890210493145\">"
      ],
      "text/plain": [
       "<IPython.core.display.HTML object>"
      ]
     },
     "metadata": {},
     "output_type": "display_data"
    }
   ],
   "source": [
    "%matplotlib notebook\n",
    "fig = MS007_data.plot(start=0, duration=120, n_channels=8, scalings=MS007_data._data.max()/20)\n",
    "fig.fake_keypress('a')"
   ]
  },
  {
   "cell_type": "markdown",
   "metadata": {},
   "source": [
    "Compare your revised list of 'bad' electrodes to thoe originally detected above."
   ]
  },
  {
   "cell_type": "code",
   "execution_count": 22,
   "metadata": {},
   "outputs": [
    {
     "data": {
      "text/plain": [
       "['laglt10',\n",
       " 'laglt8',\n",
       " 'laglt9',\n",
       " 'lcmfo7',\n",
       " 'lmcms1',\n",
       " 'lmcms2',\n",
       " 'lmcms9',\n",
       " 'lmolf4',\n",
       " 'lmolf5',\n",
       " 'racas8',\n",
       " 'rpcip7',\n",
       " 'laimm12',\n",
       " 'lcmfo14',\n",
       " 'lmolf7']"
      ]
     },
     "execution_count": 22,
     "metadata": {},
     "output_type": "execute_result"
    }
   ],
   "source": [
    "MS007_data.info['bads']"
   ]
  },
  {
   "cell_type": "markdown",
   "metadata": {},
   "source": [
    "## Re-reference the data"
   ]
  },
  {
   "cell_type": "markdown",
   "metadata": {},
   "source": [
    "If you're like me, you find the concept of re-referencing somewhat confusing. Isn't the data recorded relative to a ground and reference in the EMU (https://ahleighton.github.io/OE-ephys-course/EEA/theoryday3.html)? \n",
    "\n",
    "It is, but we do digital re-referencing of the recorded signal to clean up any remaining shared noise. \n",
    "\n",
    "**Re-referencing should be an EXTREMELY conscious choice as it changes the LFP signal dramatically!** In our case, we choose to do local white-matter re-referencing because electrodes in white matter should be fairly stable (low-variance) and not contain local, slow oscillations of interest. "
   ]
  },
  {
   "cell_type": "markdown",
   "metadata": {},
   "source": [
    "Now, let's use the localization data to determine the gray vs. white matter electrodes. \n",
    "Then, let's re-reference each gray matter electrode to the closest and most low-amplitude white matter electrode. \n",
    "\n",
    "Make sure 'bad' electrodes are not used in the re-referencing. Same with unmatched seeg electrodes (not present in the mne data structure)."
   ]
  },
  {
   "cell_type": "code",
   "execution_count": 23,
   "metadata": {},
   "outputs": [],
   "source": [
    "anode_list, cathode_list, drop_wm_channels, oob_channels = lfp_preprocess_utils.wm_ref(mne_data=MS007_data, \n",
    "                                                                                       loc_data=elec_locs, \n",
    "                                                                                       bad_channels=MS007_data.info['bads'], \n",
    "                                                                                       unmatched_seeg=unmatched_seeg,\n",
    "                                                                                       site='MSSM')\n",
    "\n"
   ]
  },
  {
   "cell_type": "code",
   "execution_count": 25,
   "metadata": {},
   "outputs": [
    {
     "data": {
      "text/plain": [
       "['lmolf1',\n",
       " 'lacas9',\n",
       " 'lacas9',\n",
       " 'lmolf1',\n",
       " 'lmolf1',\n",
       " 'lacas8',\n",
       " 'lacas8',\n",
       " 'lacas8',\n",
       " 'lacas8',\n",
       " 'lhplt5',\n",
       " 'laglt6',\n",
       " 'lhplt5',\n",
       " 'lhplt5',\n",
       " 'lhplt6',\n",
       " 'laglt6',\n",
       " 'laglt6',\n",
       " 'laglt5',\n",
       " 'laimm11',\n",
       " 'laimm11',\n",
       " 'laimm6',\n",
       " 'lmolf6',\n",
       " 'laimm8',\n",
       " 'laimm6',\n",
       " 'laimm8',\n",
       " 'lcmfo4',\n",
       " 'lcmfo10',\n",
       " 'lcmfo10',\n",
       " 'lcmfo4',\n",
       " 'lcmfo4',\n",
       " 'lcmfo6',\n",
       " 'lcmfo6',\n",
       " 'laglt5',\n",
       " 'lhplt8',\n",
       " 'laglt5',\n",
       " 'laglt4',\n",
       " 'lhplt6',\n",
       " 'lhplt8',\n",
       " 'lmcms5',\n",
       " 'lmcms5',\n",
       " 'lmcms5',\n",
       " 'lmcms5',\n",
       " 'lmcms8',\n",
       " 'lmolf6',\n",
       " 'laimm6',\n",
       " 'laimm6',\n",
       " 'laimm6',\n",
       " 'lmolf1',\n",
       " 'laimm8',\n",
       " 'lhplt5',\n",
       " 'lhplt5',\n",
       " 'lhplt5',\n",
       " 'lhplt5',\n",
       " 'lhplt7',\n",
       " 'lhplt8',\n",
       " 'lhplt8',\n",
       " 'lhplt8',\n",
       " 'lpcip4',\n",
       " 'lpcip10',\n",
       " 'lpcip5',\n",
       " 'rmolf4',\n",
       " 'racas10',\n",
       " 'rmolf4',\n",
       " 'racas6',\n",
       " 'racas5',\n",
       " 'racas10',\n",
       " 'raglt4',\n",
       " 'raglt4',\n",
       " 'raglt4',\n",
       " 'raglt5',\n",
       " 'raglt8',\n",
       " 'rhplt8',\n",
       " 'raglt5',\n",
       " 'racas12',\n",
       " 'racas12',\n",
       " 'raimm5',\n",
       " 'rmolf8',\n",
       " 'rmolf8',\n",
       " 'rmolf8',\n",
       " 'racas9',\n",
       " 'racas10',\n",
       " 'rcmfo5',\n",
       " 'rcmfo5',\n",
       " 'rcmfo5',\n",
       " 'raimm5',\n",
       " 'raimm5',\n",
       " 'rcmfo5',\n",
       " 'rcmfo5',\n",
       " 'rcmfo5',\n",
       " 'rcmfo5',\n",
       " 'rcmfo5',\n",
       " 'rcmfo5',\n",
       " 'raglt4',\n",
       " 'rhplt4',\n",
       " 'rhplt4',\n",
       " 'rmcms7',\n",
       " 'rmcms7',\n",
       " 'rmcms1',\n",
       " 'rmcms8',\n",
       " 'rmcms7',\n",
       " 'rmcms7',\n",
       " 'racas3',\n",
       " 'racas3',\n",
       " 'rmolf8',\n",
       " 'rmolf3',\n",
       " 'rmolf3',\n",
       " 'rmolf3',\n",
       " 'rmtpt3',\n",
       " 'rmtpt3',\n",
       " 'rmtpt4',\n",
       " 'rmtpt4',\n",
       " 'rmtpt4',\n",
       " 'rpcip5',\n",
       " 'rpcip8',\n",
       " 'rpcip5',\n",
       " 'rpcip6',\n",
       " 'rpcip8']"
      ]
     },
     "execution_count": 25,
     "metadata": {},
     "output_type": "execute_result"
    }
   ],
   "source": [
    "cathode_list"
   ]
  },
  {
   "cell_type": "code",
   "execution_count": 26,
   "metadata": {},
   "outputs": [
    {
     "name": "stdout",
     "output_type": "stream",
     "text": [
      "sEEG channel type selected for re-referencing\n",
      "Creating RawArray with float64 data, n_channels=116, n_times=1867008\n",
      "    Range : 0 ... 1867007 =      0.000 ...  1823.249 secs\n",
      "Ready.\n",
      "Added the following bipolar channels:\n",
      "lacas1-lmolf1, lacas10-lacas9, lacas12-lacas9, lacas2-lmolf1, lacas3-lmolf1, lacas4-lacas8, lacas5-lacas8, lacas6-lacas8, lacas7-lacas8, laglt1-lhplt5, laglt10-laglt6, laglt2-lhplt5, laglt3-lhplt5, laglt7-lhplt6, laglt8-laglt6, laglt9-laglt6, laimm1-laglt5, laimm12-laimm11, laimm13-laimm11, laimm2-laimm6, laimm3-lmolf6, laimm4-laimm8, laimm5-laimm6, laimm7-laimm8, lcmfo1-lcmfo4, lcmfo12-lcmfo10, lcmfo13-lcmfo10, lcmfo2-lcmfo4, lcmfo3-lcmfo4, lcmfo7-lcmfo6, lcmfo8-lcmfo6, lhplt1-laglt5, lhplt10-lhplt8, lhplt2-laglt5, lhplt3-laglt4, lhplt4-lhplt6, lhplt9-lhplt8, lmcms1-lmcms5, lmcms2-lmcms5, lmcms3-lmcms5, lmcms4-lmcms5, lmcms9-lmcms8, lmolf2-lmolf6, lmolf3-laimm6, lmolf4-laimm6, lmolf5-laimm6, lmolf7-lmolf1, lmolf8-laimm8, lmtpt1-lhplt5, lmtpt2-lhplt5, lmtpt3-lhplt5, lmtpt4-lhplt5, lmtpt5-lhplt7, lmtpt6-lhplt8, lmtpt7-lhplt8, lmtpt8-lhplt8, lpcip1-lpcip4, lpcip11-lpcip10, lpcip2-lpcip5, racas1-rmolf4, racas11-racas10, racas2-rmolf4, racas4-racas6, racas7-racas5, racas8-racas10, raglt1-raglt4, raglt2-raglt4, raglt3-raglt4, raglt6-raglt5, raglt7-raglt8, raglt9-rhplt8, raimm1-raglt5, raimm11-racas12, raimm12-racas12, raimm2-raimm5, raimm3-rmolf8, raimm4-rmolf8, raimm6-rmolf8, raimm7-racas9, raimm8-racas10, rcmfo1-rcmfo5, rcmfo10-rcmfo5, rcmfo11-rcmfo5, rcmfo12-raimm5, rcmfo13-raimm5, rcmfo2-rcmfo5, rcmfo3-rcmfo5, rcmfo4-rcmfo5, rcmfo7-rcmfo5, rcmfo8-rcmfo5, rcmfo9-rcmfo5, rhplt1-raglt4, rhplt2-rhplt4, rhplt3-rhplt4, rmcms2-rmcms7, rmcms3-rmcms7, rmcms4-rmcms1, rmcms5-rmcms8, rmcms6-rmcms7, rmcms9-rmcms7, rmolf1-racas3, rmolf2-racas3, rmolf5-rmolf8, rmolf6-rmolf3, rmolf7-rmolf3, rmolf9-rmolf3, rmtpt1-rmtpt3, rmtpt2-rmtpt3, rmtpt6-rmtpt4, rmtpt7-rmtpt4, rmtpt8-rmtpt4, rpcip1-rpcip5, rpcip11-rpcip8, rpcip2-rpcip5, rpcip7-rpcip6, rpcip9-rpcip8\n"
     ]
    }
   ],
   "source": [
    "MS007_data_reref = mne.set_bipolar_reference(MS007_data, \n",
    "                          anode=anode_list, \n",
    "                          cathode=cathode_list,\n",
    "                          copy=True)"
   ]
  },
  {
   "cell_type": "code",
   "execution_count": 27,
   "metadata": {},
   "outputs": [
    {
     "data": {
      "text/html": [
       "<table class=\"table table-hover table-striped table-sm table-responsive small\">\n",
       "    <tr>\n",
       "        <th>Measurement date</th>\n",
       "        \n",
       "        <td>January 01, 2001  16:05:56 GMT</td>\n",
       "        \n",
       "    </tr>\n",
       "    <tr>\n",
       "        <th>Experimenter</th>\n",
       "        \n",
       "        <td>Unknown</td>\n",
       "        \n",
       "    </tr>\n",
       "        <th>Participant</th>\n",
       "        \n",
       "        <td>Unknown</td>\n",
       "        \n",
       "    </tr>\n",
       "    <tr>\n",
       "        <th>Digitized points</th>\n",
       "        \n",
       "        <td>196 points</td>\n",
       "        \n",
       "    </tr>\n",
       "    <tr>\n",
       "        <th>Good channels</th>\n",
       "        <td>127 sEEG</td>\n",
       "    </tr>\n",
       "    <tr>\n",
       "        <th>Bad channels</th>\n",
       "        <td>lcmfo14</td>\n",
       "    </tr>\n",
       "    <tr>\n",
       "        <th>EOG channels</th>\n",
       "        <td>Not available</td>\n",
       "    </tr>\n",
       "    <tr>\n",
       "        <th>ECG channels</th>\n",
       "        <td>Not available</td>\n",
       "    \n",
       "    <tr>\n",
       "        <th>Sampling frequency</th>\n",
       "        <td>1024.00 Hz</td>\n",
       "    </tr>\n",
       "    \n",
       "    \n",
       "    <tr>\n",
       "        <th>Highpass</th>\n",
       "        <td>0.00 Hz</td>\n",
       "    </tr>\n",
       "    \n",
       "    \n",
       "    <tr>\n",
       "        <th>Lowpass</th>\n",
       "        <td>512.00 Hz</td>\n",
       "    </tr>\n",
       "    \n",
       "    \n",
       "    \n",
       "    <tr>\n",
       "        <th>Filenames</th>\n",
       "        <td>MS007_MemBandit.edf</td>\n",
       "    </tr>\n",
       "    \n",
       "    <tr>\n",
       "        <th>Duration</th>\n",
       "        <td>00:30:24 (HH:MM:SS)</td>\n",
       "    </tr>\n",
       "</table>"
      ],
      "text/plain": [
       "<RawEDF | MS007_MemBandit.edf, 127 x 1867008 (1823.2 s), ~1.77 GB, data loaded>"
      ]
     },
     "execution_count": 27,
     "metadata": {},
     "output_type": "execute_result"
    }
   ],
   "source": [
    "MS007_data_reref.drop_channels(drop_wm_channels)"
   ]
  },
  {
   "cell_type": "code",
   "execution_count": 28,
   "metadata": {},
   "outputs": [
    {
     "data": {
      "text/plain": [
       "['lacas11',\n",
       " 'laimm10',\n",
       " 'laimm9',\n",
       " 'lcmfo11',\n",
       " 'lcmfo5',\n",
       " 'lcmfo9',\n",
       " 'lmcms6',\n",
       " 'lmcms7',\n",
       " 'lpcip3',\n",
       " 'lpcip6',\n",
       " 'lpcip7',\n",
       " 'lpcip8',\n",
       " 'lpcip9',\n",
       " 'raimm10',\n",
       " 'raimm9',\n",
       " 'rcmfo6',\n",
       " 'rhplt5',\n",
       " 'rhplt6',\n",
       " 'rhplt7',\n",
       " 'rmtpt5',\n",
       " 'rpcip10',\n",
       " 'rpcip3',\n",
       " 'rpcip4']"
      ]
     },
     "execution_count": 28,
     "metadata": {},
     "output_type": "execute_result"
    }
   ],
   "source": [
    "drop_wm_channels"
   ]
  },
  {
   "cell_type": "code",
   "execution_count": 29,
   "metadata": {},
   "outputs": [
    {
     "data": {
      "text/html": [
       "<table class=\"table table-hover table-striped table-sm table-responsive small\">\n",
       "    <tr>\n",
       "        <th>Measurement date</th>\n",
       "        \n",
       "        <td>January 01, 2001  16:05:56 GMT</td>\n",
       "        \n",
       "    </tr>\n",
       "    <tr>\n",
       "        <th>Experimenter</th>\n",
       "        \n",
       "        <td>Unknown</td>\n",
       "        \n",
       "    </tr>\n",
       "        <th>Participant</th>\n",
       "        \n",
       "        <td>Unknown</td>\n",
       "        \n",
       "    </tr>\n",
       "    <tr>\n",
       "        <th>Digitized points</th>\n",
       "        \n",
       "        <td>196 points</td>\n",
       "        \n",
       "    </tr>\n",
       "    <tr>\n",
       "        <th>Good channels</th>\n",
       "        <td>116 sEEG</td>\n",
       "    </tr>\n",
       "    <tr>\n",
       "        <th>Bad channels</th>\n",
       "        <td>None</td>\n",
       "    </tr>\n",
       "    <tr>\n",
       "        <th>EOG channels</th>\n",
       "        <td>Not available</td>\n",
       "    </tr>\n",
       "    <tr>\n",
       "        <th>ECG channels</th>\n",
       "        <td>Not available</td>\n",
       "    \n",
       "    <tr>\n",
       "        <th>Sampling frequency</th>\n",
       "        <td>1024.00 Hz</td>\n",
       "    </tr>\n",
       "    \n",
       "    \n",
       "    <tr>\n",
       "        <th>Highpass</th>\n",
       "        <td>0.00 Hz</td>\n",
       "    </tr>\n",
       "    \n",
       "    \n",
       "    <tr>\n",
       "        <th>Lowpass</th>\n",
       "        <td>512.00 Hz</td>\n",
       "    </tr>\n",
       "    \n",
       "    \n",
       "    \n",
       "    <tr>\n",
       "        <th>Filenames</th>\n",
       "        <td>MS007_MemBandit.edf</td>\n",
       "    </tr>\n",
       "    \n",
       "    <tr>\n",
       "        <th>Duration</th>\n",
       "        <td>00:30:24 (HH:MM:SS)</td>\n",
       "    </tr>\n",
       "</table>"
      ],
      "text/plain": [
       "<RawEDF | MS007_MemBandit.edf, 116 x 1867008 (1823.2 s), ~1.61 GB, data loaded>"
      ]
     },
     "execution_count": 29,
     "metadata": {},
     "output_type": "execute_result"
    }
   ],
   "source": [
    "MS007_data_reref.drop_channels(oob_channels)"
   ]
  },
  {
   "cell_type": "code",
   "execution_count": 30,
   "metadata": {},
   "outputs": [
    {
     "data": {
      "text/html": [
       "<table class=\"table table-hover table-striped table-sm table-responsive small\">\n",
       "    <tr>\n",
       "        <th>Measurement date</th>\n",
       "        \n",
       "        <td>January 01, 2001  16:05:56 GMT</td>\n",
       "        \n",
       "    </tr>\n",
       "    <tr>\n",
       "        <th>Experimenter</th>\n",
       "        \n",
       "        <td>Unknown</td>\n",
       "        \n",
       "    </tr>\n",
       "        <th>Participant</th>\n",
       "        \n",
       "        <td>Unknown</td>\n",
       "        \n",
       "    </tr>\n",
       "    <tr>\n",
       "        <th>Digitized points</th>\n",
       "        \n",
       "        <td>196 points</td>\n",
       "        \n",
       "    </tr>\n",
       "    <tr>\n",
       "        <th>Good channels</th>\n",
       "        <td>116 sEEG</td>\n",
       "    </tr>\n",
       "    <tr>\n",
       "        <th>Bad channels</th>\n",
       "        <td>None</td>\n",
       "    </tr>\n",
       "    <tr>\n",
       "        <th>EOG channels</th>\n",
       "        <td>Not available</td>\n",
       "    </tr>\n",
       "    <tr>\n",
       "        <th>ECG channels</th>\n",
       "        <td>Not available</td>\n",
       "    \n",
       "    <tr>\n",
       "        <th>Sampling frequency</th>\n",
       "        <td>1024.00 Hz</td>\n",
       "    </tr>\n",
       "    \n",
       "    \n",
       "    <tr>\n",
       "        <th>Highpass</th>\n",
       "        <td>0.00 Hz</td>\n",
       "    </tr>\n",
       "    \n",
       "    \n",
       "    <tr>\n",
       "        <th>Lowpass</th>\n",
       "        <td>512.00 Hz</td>\n",
       "    </tr>\n",
       "    \n",
       "    \n",
       "    \n",
       "    <tr>\n",
       "        <th>Filenames</th>\n",
       "        <td>MS007_MemBandit.edf</td>\n",
       "    </tr>\n",
       "    \n",
       "    <tr>\n",
       "        <th>Duration</th>\n",
       "        <td>00:30:24 (HH:MM:SS)</td>\n",
       "    </tr>\n",
       "</table>"
      ],
      "text/plain": [
       "<RawEDF | MS007_MemBandit.edf, 116 x 1867008 (1823.2 s), ~1.61 GB, data loaded>"
      ]
     },
     "execution_count": 30,
     "metadata": {},
     "output_type": "execute_result"
    }
   ],
   "source": [
    "right_seeg_names = [i for i in MS007_data_reref.ch_names if i.startswith('r')]\n",
    "left_seeg_names = [i for i in MS007_data_reref.ch_names if i.startswith('l')]\n",
    "sEEG_mapping_dict = {f'{x}':'seeg' for x in left_seeg_names+right_seeg_names}\n",
    "MS007_data_reref.set_channel_types(sEEG_mapping_dict)\n"
   ]
  },
  {
   "cell_type": "markdown",
   "metadata": {},
   "source": [
    "## Annotate data? Optional"
   ]
  },
  {
   "cell_type": "code",
   "execution_count": 31,
   "metadata": {},
   "outputs": [],
   "source": [
    "# We COULD annotate the bad timepoints post-referencing. However, my personal preference is to do so after EPOCHING so I am not sending \n",
    "# too much subjective stuff to all my downstream analyses... \n",
    "\n",
    "# Furthermore, we only filter after epoching which definitely helps visualize bad epochs \n",
    "\n"
   ]
  },
  {
   "cell_type": "code",
   "execution_count": 36,
   "metadata": {},
   "outputs": [
    {
     "name": "stdout",
     "output_type": "stream",
     "text": [
      "Channels marked as bad:\n",
      "['laglt10', 'laglt8', 'laglt9', 'lcmfo7', 'lmcms1', 'lmcms2', 'lmcms9', 'lmolf4', 'lmolf5', 'racas8', 'rpcip7', 'laimm12', 'lcmfo14', 'lmolf7']\n"
     ]
    },
    {
     "ename": "ValueError",
     "evalue": "list.remove(x): x not in list",
     "output_type": "error",
     "traceback": [
      "\u001b[0;31m---------------------------------------------------------------------------\u001b[0m",
      "\u001b[0;31mValueError\u001b[0m                                Traceback (most recent call last)",
      "Cell \u001b[0;32mIn[36], line 1\u001b[0m\n\u001b[0;32m----> 1\u001b[0m \u001b[43mget_ipython\u001b[49m\u001b[43m(\u001b[49m\u001b[43m)\u001b[49m\u001b[38;5;241;43m.\u001b[39;49m\u001b[43mrun_line_magic\u001b[49m\u001b[43m(\u001b[49m\u001b[38;5;124;43m'\u001b[39;49m\u001b[38;5;124;43mmatplotlib\u001b[39;49m\u001b[38;5;124;43m'\u001b[39;49m\u001b[43m,\u001b[49m\u001b[43m \u001b[49m\u001b[38;5;124;43m'\u001b[39;49m\u001b[38;5;124;43mnotebook\u001b[39;49m\u001b[38;5;124;43m'\u001b[39;49m\u001b[43m)\u001b[49m\n\u001b[1;32m      2\u001b[0m fig \u001b[38;5;241m=\u001b[39m MS007_data_reref\u001b[38;5;241m.\u001b[39mplot(start\u001b[38;5;241m=\u001b[39m\u001b[38;5;241m0\u001b[39m, duration\u001b[38;5;241m=\u001b[39m\u001b[38;5;241m120\u001b[39m, n_channels\u001b[38;5;241m=\u001b[39m\u001b[38;5;241m8\u001b[39m, scalings\u001b[38;5;241m=\u001b[39mMS007_data\u001b[38;5;241m.\u001b[39m_data\u001b[38;5;241m.\u001b[39mmax()\u001b[38;5;241m/\u001b[39m\u001b[38;5;241m20\u001b[39m)\n\u001b[1;32m      3\u001b[0m \u001b[38;5;66;03m# fig.fake_keypress('a')\u001b[39;00m\n",
      "File \u001b[0;32m/sc/arion/work/qasims01/test-env/envs/LFPAnalysis/lib/python3.11/site-packages/IPython/core/interactiveshell.py:2364\u001b[0m, in \u001b[0;36mInteractiveShell.run_line_magic\u001b[0;34m(self, magic_name, line, _stack_depth)\u001b[0m\n\u001b[1;32m   2362\u001b[0m     kwargs[\u001b[38;5;124m'\u001b[39m\u001b[38;5;124mlocal_ns\u001b[39m\u001b[38;5;124m'\u001b[39m] \u001b[38;5;241m=\u001b[39m \u001b[38;5;28mself\u001b[39m\u001b[38;5;241m.\u001b[39mget_local_scope(stack_depth)\n\u001b[1;32m   2363\u001b[0m \u001b[38;5;28;01mwith\u001b[39;00m \u001b[38;5;28mself\u001b[39m\u001b[38;5;241m.\u001b[39mbuiltin_trap:\n\u001b[0;32m-> 2364\u001b[0m     result \u001b[38;5;241m=\u001b[39m \u001b[43mfn\u001b[49m\u001b[43m(\u001b[49m\u001b[38;5;241;43m*\u001b[39;49m\u001b[43margs\u001b[49m\u001b[43m,\u001b[49m\u001b[43m \u001b[49m\u001b[38;5;241;43m*\u001b[39;49m\u001b[38;5;241;43m*\u001b[39;49m\u001b[43mkwargs\u001b[49m\u001b[43m)\u001b[49m\n\u001b[1;32m   2365\u001b[0m \u001b[38;5;28;01mreturn\u001b[39;00m result\n",
      "File \u001b[0;32m/sc/arion/work/qasims01/test-env/envs/LFPAnalysis/lib/python3.11/site-packages/IPython/core/magics/pylab.py:99\u001b[0m, in \u001b[0;36mPylabMagics.matplotlib\u001b[0;34m(self, line)\u001b[0m\n\u001b[1;32m     97\u001b[0m     \u001b[38;5;28mprint\u001b[39m(\u001b[38;5;124m\"\u001b[39m\u001b[38;5;124mAvailable matplotlib backends: \u001b[39m\u001b[38;5;132;01m%s\u001b[39;00m\u001b[38;5;124m\"\u001b[39m \u001b[38;5;241m%\u001b[39m backends_list)\n\u001b[1;32m     98\u001b[0m \u001b[38;5;28;01melse\u001b[39;00m:\n\u001b[0;32m---> 99\u001b[0m     gui, backend \u001b[38;5;241m=\u001b[39m \u001b[38;5;28;43mself\u001b[39;49m\u001b[38;5;241;43m.\u001b[39;49m\u001b[43mshell\u001b[49m\u001b[38;5;241;43m.\u001b[39;49m\u001b[43menable_matplotlib\u001b[49m\u001b[43m(\u001b[49m\u001b[43margs\u001b[49m\u001b[38;5;241;43m.\u001b[39;49m\u001b[43mgui\u001b[49m\u001b[38;5;241;43m.\u001b[39;49m\u001b[43mlower\u001b[49m\u001b[43m(\u001b[49m\u001b[43m)\u001b[49m\u001b[43m \u001b[49m\u001b[38;5;28;43;01mif\u001b[39;49;00m\u001b[43m \u001b[49m\u001b[38;5;28;43misinstance\u001b[39;49m\u001b[43m(\u001b[49m\u001b[43margs\u001b[49m\u001b[38;5;241;43m.\u001b[39;49m\u001b[43mgui\u001b[49m\u001b[43m,\u001b[49m\u001b[43m \u001b[49m\u001b[38;5;28;43mstr\u001b[39;49m\u001b[43m)\u001b[49m\u001b[43m \u001b[49m\u001b[38;5;28;43;01melse\u001b[39;49;00m\u001b[43m \u001b[49m\u001b[43margs\u001b[49m\u001b[38;5;241;43m.\u001b[39;49m\u001b[43mgui\u001b[49m\u001b[43m)\u001b[49m\n\u001b[1;32m    100\u001b[0m     \u001b[38;5;28mself\u001b[39m\u001b[38;5;241m.\u001b[39m_show_matplotlib_backend(args\u001b[38;5;241m.\u001b[39mgui, backend)\n",
      "File \u001b[0;32m/sc/arion/work/qasims01/test-env/envs/LFPAnalysis/lib/python3.11/site-packages/IPython/core/interactiveshell.py:3528\u001b[0m, in \u001b[0;36mInteractiveShell.enable_matplotlib\u001b[0;34m(self, gui)\u001b[0m\n\u001b[1;32m   3524\u001b[0m         \u001b[38;5;28mprint\u001b[39m(\u001b[38;5;124m'\u001b[39m\u001b[38;5;124mWarning: Cannot change to a different GUI toolkit: \u001b[39m\u001b[38;5;132;01m%s\u001b[39;00m\u001b[38;5;124m.\u001b[39m\u001b[38;5;124m'\u001b[39m\n\u001b[1;32m   3525\u001b[0m                 \u001b[38;5;124m'\u001b[39m\u001b[38;5;124m Using \u001b[39m\u001b[38;5;132;01m%s\u001b[39;00m\u001b[38;5;124m instead.\u001b[39m\u001b[38;5;124m'\u001b[39m \u001b[38;5;241m%\u001b[39m (gui, \u001b[38;5;28mself\u001b[39m\u001b[38;5;241m.\u001b[39mpylab_gui_select))\n\u001b[1;32m   3526\u001b[0m         gui, backend \u001b[38;5;241m=\u001b[39m pt\u001b[38;5;241m.\u001b[39mfind_gui_and_backend(\u001b[38;5;28mself\u001b[39m\u001b[38;5;241m.\u001b[39mpylab_gui_select)\n\u001b[0;32m-> 3528\u001b[0m \u001b[43mpt\u001b[49m\u001b[38;5;241;43m.\u001b[39;49m\u001b[43mactivate_matplotlib\u001b[49m\u001b[43m(\u001b[49m\u001b[43mbackend\u001b[49m\u001b[43m)\u001b[49m\n\u001b[1;32m   3529\u001b[0m configure_inline_support(\u001b[38;5;28mself\u001b[39m, backend)\n\u001b[1;32m   3531\u001b[0m \u001b[38;5;66;03m# Now we must activate the gui pylab wants to use, and fix %run to take\u001b[39;00m\n\u001b[1;32m   3532\u001b[0m \u001b[38;5;66;03m# plot updates into account\u001b[39;00m\n",
      "File \u001b[0;32m/sc/arion/work/qasims01/test-env/envs/LFPAnalysis/lib/python3.11/site-packages/IPython/core/pylabtools.py:360\u001b[0m, in \u001b[0;36mactivate_matplotlib\u001b[0;34m(backend)\u001b[0m\n\u001b[1;32m    355\u001b[0m \u001b[38;5;66;03m# Due to circular imports, pyplot may be only partially initialised\u001b[39;00m\n\u001b[1;32m    356\u001b[0m \u001b[38;5;66;03m# when this function runs.\u001b[39;00m\n\u001b[1;32m    357\u001b[0m \u001b[38;5;66;03m# So avoid needing matplotlib attribute-lookup to access pyplot.\u001b[39;00m\n\u001b[1;32m    358\u001b[0m \u001b[38;5;28;01mfrom\u001b[39;00m \u001b[38;5;21;01mmatplotlib\u001b[39;00m \u001b[38;5;28;01mimport\u001b[39;00m pyplot \u001b[38;5;28;01mas\u001b[39;00m plt\n\u001b[0;32m--> 360\u001b[0m \u001b[43mplt\u001b[49m\u001b[38;5;241;43m.\u001b[39;49m\u001b[43mswitch_backend\u001b[49m\u001b[43m(\u001b[49m\u001b[43mbackend\u001b[49m\u001b[43m)\u001b[49m\n\u001b[1;32m    362\u001b[0m plt\u001b[38;5;241m.\u001b[39mshow\u001b[38;5;241m.\u001b[39m_needmain \u001b[38;5;241m=\u001b[39m \u001b[38;5;28;01mFalse\u001b[39;00m\n\u001b[1;32m    363\u001b[0m \u001b[38;5;66;03m# We need to detect at runtime whether show() is called by the user.\u001b[39;00m\n\u001b[1;32m    364\u001b[0m \u001b[38;5;66;03m# For this, we wrap it into a decorator which adds a 'called' flag.\u001b[39;00m\n",
      "File \u001b[0;32m/sc/arion/work/qasims01/test-env/envs/LFPAnalysis/lib/python3.11/site-packages/matplotlib/pyplot.py:227\u001b[0m, in \u001b[0;36mswitch_backend\u001b[0;34m(newbackend)\u001b[0m\n\u001b[1;32m    225\u001b[0m \u001b[38;5;66;03m# make sure the init is pulled up so we can assign to it later\u001b[39;00m\n\u001b[1;32m    226\u001b[0m \u001b[38;5;28;01mimport\u001b[39;00m \u001b[38;5;21;01mmatplotlib\u001b[39;00m\u001b[38;5;21;01m.\u001b[39;00m\u001b[38;5;21;01mbackends\u001b[39;00m\n\u001b[0;32m--> 227\u001b[0m \u001b[43mclose\u001b[49m\u001b[43m(\u001b[49m\u001b[38;5;124;43m\"\u001b[39;49m\u001b[38;5;124;43mall\u001b[39;49m\u001b[38;5;124;43m\"\u001b[39;49m\u001b[43m)\u001b[49m\n\u001b[1;32m    229\u001b[0m \u001b[38;5;28;01mif\u001b[39;00m newbackend \u001b[38;5;129;01mis\u001b[39;00m rcsetup\u001b[38;5;241m.\u001b[39m_auto_backend_sentinel:\n\u001b[1;32m    230\u001b[0m     current_framework \u001b[38;5;241m=\u001b[39m cbook\u001b[38;5;241m.\u001b[39m_get_running_interactive_framework()\n",
      "File \u001b[0;32m/sc/arion/work/qasims01/test-env/envs/LFPAnalysis/lib/python3.11/site-packages/matplotlib/pyplot.py:912\u001b[0m, in \u001b[0;36mclose\u001b[0;34m(fig)\u001b[0m\n\u001b[1;32m    910\u001b[0m         _pylab_helpers\u001b[38;5;241m.\u001b[39mGcf\u001b[38;5;241m.\u001b[39mdestroy(manager)\n\u001b[1;32m    911\u001b[0m \u001b[38;5;28;01melif\u001b[39;00m fig \u001b[38;5;241m==\u001b[39m \u001b[38;5;124m'\u001b[39m\u001b[38;5;124mall\u001b[39m\u001b[38;5;124m'\u001b[39m:\n\u001b[0;32m--> 912\u001b[0m     \u001b[43m_pylab_helpers\u001b[49m\u001b[38;5;241;43m.\u001b[39;49m\u001b[43mGcf\u001b[49m\u001b[38;5;241;43m.\u001b[39;49m\u001b[43mdestroy_all\u001b[49m\u001b[43m(\u001b[49m\u001b[43m)\u001b[49m\n\u001b[1;32m    913\u001b[0m \u001b[38;5;28;01melif\u001b[39;00m \u001b[38;5;28misinstance\u001b[39m(fig, \u001b[38;5;28mint\u001b[39m):\n\u001b[1;32m    914\u001b[0m     _pylab_helpers\u001b[38;5;241m.\u001b[39mGcf\u001b[38;5;241m.\u001b[39mdestroy(fig)\n",
      "File \u001b[0;32m/sc/arion/work/qasims01/test-env/envs/LFPAnalysis/lib/python3.11/site-packages/matplotlib/_pylab_helpers.py:82\u001b[0m, in \u001b[0;36mGcf.destroy_all\u001b[0;34m(cls)\u001b[0m\n\u001b[1;32m     80\u001b[0m \u001b[38;5;28;01mfor\u001b[39;00m manager \u001b[38;5;129;01min\u001b[39;00m \u001b[38;5;28mlist\u001b[39m(\u001b[38;5;28mcls\u001b[39m\u001b[38;5;241m.\u001b[39mfigs\u001b[38;5;241m.\u001b[39mvalues()):\n\u001b[1;32m     81\u001b[0m     manager\u001b[38;5;241m.\u001b[39mcanvas\u001b[38;5;241m.\u001b[39mmpl_disconnect(manager\u001b[38;5;241m.\u001b[39m_cidgcf)\n\u001b[0;32m---> 82\u001b[0m     \u001b[43mmanager\u001b[49m\u001b[38;5;241;43m.\u001b[39;49m\u001b[43mdestroy\u001b[49m\u001b[43m(\u001b[49m\u001b[43m)\u001b[49m\n\u001b[1;32m     83\u001b[0m \u001b[38;5;28mcls\u001b[39m\u001b[38;5;241m.\u001b[39mfigs\u001b[38;5;241m.\u001b[39mclear()\n",
      "File \u001b[0;32m/sc/arion/work/qasims01/test-env/envs/LFPAnalysis/lib/python3.11/site-packages/matplotlib/backends/backend_nbagg.py:144\u001b[0m, in \u001b[0;36mFigureManagerNbAgg.destroy\u001b[0;34m(self)\u001b[0m\n\u001b[1;32m    142\u001b[0m \u001b[38;5;28;01mfor\u001b[39;00m comm \u001b[38;5;129;01min\u001b[39;00m \u001b[38;5;28mlist\u001b[39m(\u001b[38;5;28mself\u001b[39m\u001b[38;5;241m.\u001b[39mweb_sockets):\n\u001b[1;32m    143\u001b[0m     comm\u001b[38;5;241m.\u001b[39mon_close()\n\u001b[0;32m--> 144\u001b[0m \u001b[38;5;28;43mself\u001b[39;49m\u001b[38;5;241;43m.\u001b[39;49m\u001b[43mclearup_closed\u001b[49m\u001b[43m(\u001b[49m\u001b[43m)\u001b[49m\n",
      "File \u001b[0;32m/sc/arion/work/qasims01/test-env/envs/LFPAnalysis/lib/python3.11/site-packages/matplotlib/backends/backend_nbagg.py:152\u001b[0m, in \u001b[0;36mFigureManagerNbAgg.clearup_closed\u001b[0;34m(self)\u001b[0m\n\u001b[1;32m    148\u001b[0m \u001b[38;5;28mself\u001b[39m\u001b[38;5;241m.\u001b[39mweb_sockets \u001b[38;5;241m=\u001b[39m {socket \u001b[38;5;28;01mfor\u001b[39;00m socket \u001b[38;5;129;01min\u001b[39;00m \u001b[38;5;28mself\u001b[39m\u001b[38;5;241m.\u001b[39mweb_sockets\n\u001b[1;32m    149\u001b[0m                     \u001b[38;5;28;01mif\u001b[39;00m socket\u001b[38;5;241m.\u001b[39mis_open()}\n\u001b[1;32m    151\u001b[0m \u001b[38;5;28;01mif\u001b[39;00m \u001b[38;5;28mlen\u001b[39m(\u001b[38;5;28mself\u001b[39m\u001b[38;5;241m.\u001b[39mweb_sockets) \u001b[38;5;241m==\u001b[39m \u001b[38;5;241m0\u001b[39m:\n\u001b[0;32m--> 152\u001b[0m     \u001b[38;5;28;43mself\u001b[39;49m\u001b[38;5;241;43m.\u001b[39;49m\u001b[43mcanvas\u001b[49m\u001b[38;5;241;43m.\u001b[39;49m\u001b[43mclose_event\u001b[49m\u001b[43m(\u001b[49m\u001b[43m)\u001b[49m\n",
      "File \u001b[0;32m/sc/arion/work/qasims01/test-env/envs/LFPAnalysis/lib/python3.11/site-packages/matplotlib/_api/deprecation.py:200\u001b[0m, in \u001b[0;36mdeprecated.<locals>.deprecate.<locals>.wrapper\u001b[0;34m(*args, **kwargs)\u001b[0m\n\u001b[1;32m    198\u001b[0m \u001b[38;5;28;01mdef\u001b[39;00m \u001b[38;5;21mwrapper\u001b[39m(\u001b[38;5;241m*\u001b[39margs, \u001b[38;5;241m*\u001b[39m\u001b[38;5;241m*\u001b[39mkwargs):\n\u001b[1;32m    199\u001b[0m     emit_warning()\n\u001b[0;32m--> 200\u001b[0m     \u001b[38;5;28;01mreturn\u001b[39;00m \u001b[43mfunc\u001b[49m\u001b[43m(\u001b[49m\u001b[38;5;241;43m*\u001b[39;49m\u001b[43margs\u001b[49m\u001b[43m,\u001b[49m\u001b[43m \u001b[49m\u001b[38;5;241;43m*\u001b[39;49m\u001b[38;5;241;43m*\u001b[39;49m\u001b[43mkwargs\u001b[49m\u001b[43m)\u001b[49m\n",
      "File \u001b[0;32m/sc/arion/work/qasims01/test-env/envs/LFPAnalysis/lib/python3.11/site-packages/matplotlib/backend_bases.py:1771\u001b[0m, in \u001b[0;36mFigureCanvasBase.close_event\u001b[0;34m(self, guiEvent)\u001b[0m\n\u001b[1;32m   1769\u001b[0m \u001b[38;5;28;01mtry\u001b[39;00m:\n\u001b[1;32m   1770\u001b[0m     event \u001b[38;5;241m=\u001b[39m CloseEvent(s, \u001b[38;5;28mself\u001b[39m, guiEvent\u001b[38;5;241m=\u001b[39mguiEvent)\n\u001b[0;32m-> 1771\u001b[0m     \u001b[38;5;28;43mself\u001b[39;49m\u001b[38;5;241;43m.\u001b[39;49m\u001b[43mcallbacks\u001b[49m\u001b[38;5;241;43m.\u001b[39;49m\u001b[43mprocess\u001b[49m\u001b[43m(\u001b[49m\u001b[43ms\u001b[49m\u001b[43m,\u001b[49m\u001b[43m \u001b[49m\u001b[43mevent\u001b[49m\u001b[43m)\u001b[49m\n\u001b[1;32m   1772\u001b[0m \u001b[38;5;28;01mexcept\u001b[39;00m (\u001b[38;5;167;01mTypeError\u001b[39;00m, \u001b[38;5;167;01mAttributeError\u001b[39;00m):\n\u001b[1;32m   1773\u001b[0m     \u001b[38;5;28;01mpass\u001b[39;00m\n",
      "File \u001b[0;32m/sc/arion/work/qasims01/test-env/envs/LFPAnalysis/lib/python3.11/site-packages/matplotlib/cbook/__init__.py:312\u001b[0m, in \u001b[0;36mCallbackRegistry.process\u001b[0;34m(self, s, *args, **kwargs)\u001b[0m\n\u001b[1;32m    310\u001b[0m \u001b[38;5;28;01mexcept\u001b[39;00m \u001b[38;5;167;01mException\u001b[39;00m \u001b[38;5;28;01mas\u001b[39;00m exc:\n\u001b[1;32m    311\u001b[0m     \u001b[38;5;28;01mif\u001b[39;00m \u001b[38;5;28mself\u001b[39m\u001b[38;5;241m.\u001b[39mexception_handler \u001b[38;5;129;01mis\u001b[39;00m \u001b[38;5;129;01mnot\u001b[39;00m \u001b[38;5;28;01mNone\u001b[39;00m:\n\u001b[0;32m--> 312\u001b[0m         \u001b[38;5;28;43mself\u001b[39;49m\u001b[38;5;241;43m.\u001b[39;49m\u001b[43mexception_handler\u001b[49m\u001b[43m(\u001b[49m\u001b[43mexc\u001b[49m\u001b[43m)\u001b[49m\n\u001b[1;32m    313\u001b[0m     \u001b[38;5;28;01melse\u001b[39;00m:\n\u001b[1;32m    314\u001b[0m         \u001b[38;5;28;01mraise\u001b[39;00m\n",
      "File \u001b[0;32m/sc/arion/work/qasims01/test-env/envs/LFPAnalysis/lib/python3.11/site-packages/matplotlib/cbook/__init__.py:96\u001b[0m, in \u001b[0;36m_exception_printer\u001b[0;34m(exc)\u001b[0m\n\u001b[1;32m     94\u001b[0m \u001b[38;5;28;01mdef\u001b[39;00m \u001b[38;5;21m_exception_printer\u001b[39m(exc):\n\u001b[1;32m     95\u001b[0m     \u001b[38;5;28;01mif\u001b[39;00m _get_running_interactive_framework() \u001b[38;5;129;01min\u001b[39;00m [\u001b[38;5;124m\"\u001b[39m\u001b[38;5;124mheadless\u001b[39m\u001b[38;5;124m\"\u001b[39m, \u001b[38;5;28;01mNone\u001b[39;00m]:\n\u001b[0;32m---> 96\u001b[0m         \u001b[38;5;28;01mraise\u001b[39;00m exc\n\u001b[1;32m     97\u001b[0m     \u001b[38;5;28;01melse\u001b[39;00m:\n\u001b[1;32m     98\u001b[0m         traceback\u001b[38;5;241m.\u001b[39mprint_exc()\n",
      "File \u001b[0;32m/sc/arion/work/qasims01/test-env/envs/LFPAnalysis/lib/python3.11/site-packages/matplotlib/cbook/__init__.py:307\u001b[0m, in \u001b[0;36mCallbackRegistry.process\u001b[0;34m(self, s, *args, **kwargs)\u001b[0m\n\u001b[1;32m    305\u001b[0m \u001b[38;5;28;01mif\u001b[39;00m func \u001b[38;5;129;01mis\u001b[39;00m \u001b[38;5;129;01mnot\u001b[39;00m \u001b[38;5;28;01mNone\u001b[39;00m:\n\u001b[1;32m    306\u001b[0m     \u001b[38;5;28;01mtry\u001b[39;00m:\n\u001b[0;32m--> 307\u001b[0m         \u001b[43mfunc\u001b[49m\u001b[43m(\u001b[49m\u001b[38;5;241;43m*\u001b[39;49m\u001b[43margs\u001b[49m\u001b[43m,\u001b[49m\u001b[43m \u001b[49m\u001b[38;5;241;43m*\u001b[39;49m\u001b[38;5;241;43m*\u001b[39;49m\u001b[43mkwargs\u001b[49m\u001b[43m)\u001b[49m\n\u001b[1;32m    308\u001b[0m     \u001b[38;5;66;03m# this does not capture KeyboardInterrupt, SystemExit,\u001b[39;00m\n\u001b[1;32m    309\u001b[0m     \u001b[38;5;66;03m# and GeneratorExit\u001b[39;00m\n\u001b[1;32m    310\u001b[0m     \u001b[38;5;28;01mexcept\u001b[39;00m \u001b[38;5;167;01mException\u001b[39;00m \u001b[38;5;28;01mas\u001b[39;00m exc:\n",
      "File \u001b[0;32m/sc/arion/work/qasims01/test-env/envs/LFPAnalysis/lib/python3.11/site-packages/matplotlib/backends/backend_nbagg.py:81\u001b[0m, in \u001b[0;36mFigureManagerNbAgg.create_with_canvas.<locals>.destroy\u001b[0;34m(event)\u001b[0m\n\u001b[1;32m     79\u001b[0m \u001b[38;5;28;01mdef\u001b[39;00m \u001b[38;5;21mdestroy\u001b[39m(event):\n\u001b[1;32m     80\u001b[0m     canvas\u001b[38;5;241m.\u001b[39mmpl_disconnect(cid)\n\u001b[0;32m---> 81\u001b[0m     \u001b[43mGcf\u001b[49m\u001b[38;5;241;43m.\u001b[39;49m\u001b[43mdestroy\u001b[49m\u001b[43m(\u001b[49m\u001b[43mmanager\u001b[49m\u001b[43m)\u001b[49m\n",
      "File \u001b[0;32m/sc/arion/work/qasims01/test-env/envs/LFPAnalysis/lib/python3.11/site-packages/matplotlib/_pylab_helpers.py:66\u001b[0m, in \u001b[0;36mGcf.destroy\u001b[0;34m(cls, num)\u001b[0m\n\u001b[1;32m     64\u001b[0m \u001b[38;5;28;01mif\u001b[39;00m \u001b[38;5;28mhasattr\u001b[39m(manager, \u001b[38;5;124m\"\u001b[39m\u001b[38;5;124m_cidgcf\u001b[39m\u001b[38;5;124m\"\u001b[39m):\n\u001b[1;32m     65\u001b[0m     manager\u001b[38;5;241m.\u001b[39mcanvas\u001b[38;5;241m.\u001b[39mmpl_disconnect(manager\u001b[38;5;241m.\u001b[39m_cidgcf)\n\u001b[0;32m---> 66\u001b[0m \u001b[43mmanager\u001b[49m\u001b[38;5;241;43m.\u001b[39;49m\u001b[43mdestroy\u001b[49m\u001b[43m(\u001b[49m\u001b[43m)\u001b[49m\n\u001b[1;32m     67\u001b[0m \u001b[38;5;28;01mdel\u001b[39;00m manager, num\n",
      "File \u001b[0;32m/sc/arion/work/qasims01/test-env/envs/LFPAnalysis/lib/python3.11/site-packages/matplotlib/backends/backend_nbagg.py:144\u001b[0m, in \u001b[0;36mFigureManagerNbAgg.destroy\u001b[0;34m(self)\u001b[0m\n\u001b[1;32m    142\u001b[0m \u001b[38;5;28;01mfor\u001b[39;00m comm \u001b[38;5;129;01min\u001b[39;00m \u001b[38;5;28mlist\u001b[39m(\u001b[38;5;28mself\u001b[39m\u001b[38;5;241m.\u001b[39mweb_sockets):\n\u001b[1;32m    143\u001b[0m     comm\u001b[38;5;241m.\u001b[39mon_close()\n\u001b[0;32m--> 144\u001b[0m \u001b[38;5;28;43mself\u001b[39;49m\u001b[38;5;241;43m.\u001b[39;49m\u001b[43mclearup_closed\u001b[49m\u001b[43m(\u001b[49m\u001b[43m)\u001b[49m\n",
      "File \u001b[0;32m/sc/arion/work/qasims01/test-env/envs/LFPAnalysis/lib/python3.11/site-packages/matplotlib/backends/backend_nbagg.py:152\u001b[0m, in \u001b[0;36mFigureManagerNbAgg.clearup_closed\u001b[0;34m(self)\u001b[0m\n\u001b[1;32m    148\u001b[0m \u001b[38;5;28mself\u001b[39m\u001b[38;5;241m.\u001b[39mweb_sockets \u001b[38;5;241m=\u001b[39m {socket \u001b[38;5;28;01mfor\u001b[39;00m socket \u001b[38;5;129;01min\u001b[39;00m \u001b[38;5;28mself\u001b[39m\u001b[38;5;241m.\u001b[39mweb_sockets\n\u001b[1;32m    149\u001b[0m                     \u001b[38;5;28;01mif\u001b[39;00m socket\u001b[38;5;241m.\u001b[39mis_open()}\n\u001b[1;32m    151\u001b[0m \u001b[38;5;28;01mif\u001b[39;00m \u001b[38;5;28mlen\u001b[39m(\u001b[38;5;28mself\u001b[39m\u001b[38;5;241m.\u001b[39mweb_sockets) \u001b[38;5;241m==\u001b[39m \u001b[38;5;241m0\u001b[39m:\n\u001b[0;32m--> 152\u001b[0m     \u001b[38;5;28;43mself\u001b[39;49m\u001b[38;5;241;43m.\u001b[39;49m\u001b[43mcanvas\u001b[49m\u001b[38;5;241;43m.\u001b[39;49m\u001b[43mclose_event\u001b[49m\u001b[43m(\u001b[49m\u001b[43m)\u001b[49m\n",
      "File \u001b[0;32m/sc/arion/work/qasims01/test-env/envs/LFPAnalysis/lib/python3.11/site-packages/matplotlib/_api/deprecation.py:200\u001b[0m, in \u001b[0;36mdeprecated.<locals>.deprecate.<locals>.wrapper\u001b[0;34m(*args, **kwargs)\u001b[0m\n\u001b[1;32m    198\u001b[0m \u001b[38;5;28;01mdef\u001b[39;00m \u001b[38;5;21mwrapper\u001b[39m(\u001b[38;5;241m*\u001b[39margs, \u001b[38;5;241m*\u001b[39m\u001b[38;5;241m*\u001b[39mkwargs):\n\u001b[1;32m    199\u001b[0m     emit_warning()\n\u001b[0;32m--> 200\u001b[0m     \u001b[38;5;28;01mreturn\u001b[39;00m \u001b[43mfunc\u001b[49m\u001b[43m(\u001b[49m\u001b[38;5;241;43m*\u001b[39;49m\u001b[43margs\u001b[49m\u001b[43m,\u001b[49m\u001b[43m \u001b[49m\u001b[38;5;241;43m*\u001b[39;49m\u001b[38;5;241;43m*\u001b[39;49m\u001b[43mkwargs\u001b[49m\u001b[43m)\u001b[49m\n",
      "File \u001b[0;32m/sc/arion/work/qasims01/test-env/envs/LFPAnalysis/lib/python3.11/site-packages/matplotlib/backend_bases.py:1771\u001b[0m, in \u001b[0;36mFigureCanvasBase.close_event\u001b[0;34m(self, guiEvent)\u001b[0m\n\u001b[1;32m   1769\u001b[0m \u001b[38;5;28;01mtry\u001b[39;00m:\n\u001b[1;32m   1770\u001b[0m     event \u001b[38;5;241m=\u001b[39m CloseEvent(s, \u001b[38;5;28mself\u001b[39m, guiEvent\u001b[38;5;241m=\u001b[39mguiEvent)\n\u001b[0;32m-> 1771\u001b[0m     \u001b[38;5;28;43mself\u001b[39;49m\u001b[38;5;241;43m.\u001b[39;49m\u001b[43mcallbacks\u001b[49m\u001b[38;5;241;43m.\u001b[39;49m\u001b[43mprocess\u001b[49m\u001b[43m(\u001b[49m\u001b[43ms\u001b[49m\u001b[43m,\u001b[49m\u001b[43m \u001b[49m\u001b[43mevent\u001b[49m\u001b[43m)\u001b[49m\n\u001b[1;32m   1772\u001b[0m \u001b[38;5;28;01mexcept\u001b[39;00m (\u001b[38;5;167;01mTypeError\u001b[39;00m, \u001b[38;5;167;01mAttributeError\u001b[39;00m):\n\u001b[1;32m   1773\u001b[0m     \u001b[38;5;28;01mpass\u001b[39;00m\n",
      "File \u001b[0;32m/sc/arion/work/qasims01/test-env/envs/LFPAnalysis/lib/python3.11/site-packages/matplotlib/cbook/__init__.py:312\u001b[0m, in \u001b[0;36mCallbackRegistry.process\u001b[0;34m(self, s, *args, **kwargs)\u001b[0m\n\u001b[1;32m    310\u001b[0m \u001b[38;5;28;01mexcept\u001b[39;00m \u001b[38;5;167;01mException\u001b[39;00m \u001b[38;5;28;01mas\u001b[39;00m exc:\n\u001b[1;32m    311\u001b[0m     \u001b[38;5;28;01mif\u001b[39;00m \u001b[38;5;28mself\u001b[39m\u001b[38;5;241m.\u001b[39mexception_handler \u001b[38;5;129;01mis\u001b[39;00m \u001b[38;5;129;01mnot\u001b[39;00m \u001b[38;5;28;01mNone\u001b[39;00m:\n\u001b[0;32m--> 312\u001b[0m         \u001b[38;5;28;43mself\u001b[39;49m\u001b[38;5;241;43m.\u001b[39;49m\u001b[43mexception_handler\u001b[49m\u001b[43m(\u001b[49m\u001b[43mexc\u001b[49m\u001b[43m)\u001b[49m\n\u001b[1;32m    313\u001b[0m     \u001b[38;5;28;01melse\u001b[39;00m:\n\u001b[1;32m    314\u001b[0m         \u001b[38;5;28;01mraise\u001b[39;00m\n",
      "File \u001b[0;32m/sc/arion/work/qasims01/test-env/envs/LFPAnalysis/lib/python3.11/site-packages/matplotlib/cbook/__init__.py:96\u001b[0m, in \u001b[0;36m_exception_printer\u001b[0;34m(exc)\u001b[0m\n\u001b[1;32m     94\u001b[0m \u001b[38;5;28;01mdef\u001b[39;00m \u001b[38;5;21m_exception_printer\u001b[39m(exc):\n\u001b[1;32m     95\u001b[0m     \u001b[38;5;28;01mif\u001b[39;00m _get_running_interactive_framework() \u001b[38;5;129;01min\u001b[39;00m [\u001b[38;5;124m\"\u001b[39m\u001b[38;5;124mheadless\u001b[39m\u001b[38;5;124m\"\u001b[39m, \u001b[38;5;28;01mNone\u001b[39;00m]:\n\u001b[0;32m---> 96\u001b[0m         \u001b[38;5;28;01mraise\u001b[39;00m exc\n\u001b[1;32m     97\u001b[0m     \u001b[38;5;28;01melse\u001b[39;00m:\n\u001b[1;32m     98\u001b[0m         traceback\u001b[38;5;241m.\u001b[39mprint_exc()\n",
      "File \u001b[0;32m/sc/arion/work/qasims01/test-env/envs/LFPAnalysis/lib/python3.11/site-packages/matplotlib/cbook/__init__.py:307\u001b[0m, in \u001b[0;36mCallbackRegistry.process\u001b[0;34m(self, s, *args, **kwargs)\u001b[0m\n\u001b[1;32m    305\u001b[0m \u001b[38;5;28;01mif\u001b[39;00m func \u001b[38;5;129;01mis\u001b[39;00m \u001b[38;5;129;01mnot\u001b[39;00m \u001b[38;5;28;01mNone\u001b[39;00m:\n\u001b[1;32m    306\u001b[0m     \u001b[38;5;28;01mtry\u001b[39;00m:\n\u001b[0;32m--> 307\u001b[0m         \u001b[43mfunc\u001b[49m\u001b[43m(\u001b[49m\u001b[38;5;241;43m*\u001b[39;49m\u001b[43margs\u001b[49m\u001b[43m,\u001b[49m\u001b[43m \u001b[49m\u001b[38;5;241;43m*\u001b[39;49m\u001b[38;5;241;43m*\u001b[39;49m\u001b[43mkwargs\u001b[49m\u001b[43m)\u001b[49m\n\u001b[1;32m    308\u001b[0m     \u001b[38;5;66;03m# this does not capture KeyboardInterrupt, SystemExit,\u001b[39;00m\n\u001b[1;32m    309\u001b[0m     \u001b[38;5;66;03m# and GeneratorExit\u001b[39;00m\n\u001b[1;32m    310\u001b[0m     \u001b[38;5;28;01mexcept\u001b[39;00m \u001b[38;5;167;01mException\u001b[39;00m \u001b[38;5;28;01mas\u001b[39;00m exc:\n",
      "File \u001b[0;32m/sc/arion/work/qasims01/test-env/envs/LFPAnalysis/lib/python3.11/site-packages/mne/viz/_figure.py:427\u001b[0m, in \u001b[0;36mBrowserBase._close\u001b[0;34m(self, event)\u001b[0m\n\u001b[1;32m    425\u001b[0m \u001b[38;5;28;01mwhile\u001b[39;00m \u001b[38;5;28mlen\u001b[39m(\u001b[38;5;28mself\u001b[39m\u001b[38;5;241m.\u001b[39mmne\u001b[38;5;241m.\u001b[39mchild_figs):\n\u001b[1;32m    426\u001b[0m     fig \u001b[38;5;241m=\u001b[39m \u001b[38;5;28mself\u001b[39m\u001b[38;5;241m.\u001b[39mmne\u001b[38;5;241m.\u001b[39mchild_figs[\u001b[38;5;241m-\u001b[39m\u001b[38;5;241m1\u001b[39m]\n\u001b[0;32m--> 427\u001b[0m     \u001b[43mclose\u001b[49m\u001b[43m(\u001b[49m\u001b[43mfig\u001b[49m\u001b[43m)\u001b[49m\n\u001b[1;32m    428\u001b[0m     \u001b[38;5;28mself\u001b[39m\u001b[38;5;241m.\u001b[39m_close_event(fig)\n",
      "File \u001b[0;32m/sc/arion/work/qasims01/test-env/envs/LFPAnalysis/lib/python3.11/site-packages/matplotlib/pyplot.py:925\u001b[0m, in \u001b[0;36mclose\u001b[0;34m(fig)\u001b[0m\n\u001b[1;32m    923\u001b[0m         _pylab_helpers\u001b[38;5;241m.\u001b[39mGcf\u001b[38;5;241m.\u001b[39mdestroy(num)\n\u001b[1;32m    924\u001b[0m \u001b[38;5;28;01melif\u001b[39;00m \u001b[38;5;28misinstance\u001b[39m(fig, Figure):\n\u001b[0;32m--> 925\u001b[0m     \u001b[43m_pylab_helpers\u001b[49m\u001b[38;5;241;43m.\u001b[39;49m\u001b[43mGcf\u001b[49m\u001b[38;5;241;43m.\u001b[39;49m\u001b[43mdestroy_fig\u001b[49m\u001b[43m(\u001b[49m\u001b[43mfig\u001b[49m\u001b[43m)\u001b[49m\n\u001b[1;32m    926\u001b[0m \u001b[38;5;28;01melse\u001b[39;00m:\n\u001b[1;32m    927\u001b[0m     \u001b[38;5;28;01mraise\u001b[39;00m \u001b[38;5;167;01mTypeError\u001b[39;00m(\u001b[38;5;124m\"\u001b[39m\u001b[38;5;124mclose() argument must be a Figure, an int, a string, \u001b[39m\u001b[38;5;124m\"\u001b[39m\n\u001b[1;32m    928\u001b[0m                     \u001b[38;5;124m\"\u001b[39m\u001b[38;5;124mor None, not \u001b[39m\u001b[38;5;132;01m%s\u001b[39;00m\u001b[38;5;124m\"\u001b[39m \u001b[38;5;241m%\u001b[39m \u001b[38;5;28mtype\u001b[39m(fig))\n",
      "File \u001b[0;32m/sc/arion/work/qasims01/test-env/envs/LFPAnalysis/lib/python3.11/site-packages/matplotlib/_pylab_helpers.py:75\u001b[0m, in \u001b[0;36mGcf.destroy_fig\u001b[0;34m(cls, fig)\u001b[0m\n\u001b[1;32m     72\u001b[0m num \u001b[38;5;241m=\u001b[39m \u001b[38;5;28mnext\u001b[39m((manager\u001b[38;5;241m.\u001b[39mnum \u001b[38;5;28;01mfor\u001b[39;00m manager \u001b[38;5;129;01min\u001b[39;00m \u001b[38;5;28mcls\u001b[39m\u001b[38;5;241m.\u001b[39mfigs\u001b[38;5;241m.\u001b[39mvalues()\n\u001b[1;32m     73\u001b[0m             \u001b[38;5;28;01mif\u001b[39;00m manager\u001b[38;5;241m.\u001b[39mcanvas\u001b[38;5;241m.\u001b[39mfigure \u001b[38;5;241m==\u001b[39m fig), \u001b[38;5;28;01mNone\u001b[39;00m)\n\u001b[1;32m     74\u001b[0m \u001b[38;5;28;01mif\u001b[39;00m num \u001b[38;5;129;01mis\u001b[39;00m \u001b[38;5;129;01mnot\u001b[39;00m \u001b[38;5;28;01mNone\u001b[39;00m:\n\u001b[0;32m---> 75\u001b[0m     \u001b[38;5;28;43mcls\u001b[39;49m\u001b[38;5;241;43m.\u001b[39;49m\u001b[43mdestroy\u001b[49m\u001b[43m(\u001b[49m\u001b[43mnum\u001b[49m\u001b[43m)\u001b[49m\n",
      "File \u001b[0;32m/sc/arion/work/qasims01/test-env/envs/LFPAnalysis/lib/python3.11/site-packages/matplotlib/_pylab_helpers.py:66\u001b[0m, in \u001b[0;36mGcf.destroy\u001b[0;34m(cls, num)\u001b[0m\n\u001b[1;32m     64\u001b[0m \u001b[38;5;28;01mif\u001b[39;00m \u001b[38;5;28mhasattr\u001b[39m(manager, \u001b[38;5;124m\"\u001b[39m\u001b[38;5;124m_cidgcf\u001b[39m\u001b[38;5;124m\"\u001b[39m):\n\u001b[1;32m     65\u001b[0m     manager\u001b[38;5;241m.\u001b[39mcanvas\u001b[38;5;241m.\u001b[39mmpl_disconnect(manager\u001b[38;5;241m.\u001b[39m_cidgcf)\n\u001b[0;32m---> 66\u001b[0m \u001b[43mmanager\u001b[49m\u001b[38;5;241;43m.\u001b[39;49m\u001b[43mdestroy\u001b[49m\u001b[43m(\u001b[49m\u001b[43m)\u001b[49m\n\u001b[1;32m     67\u001b[0m \u001b[38;5;28;01mdel\u001b[39;00m manager, num\n",
      "File \u001b[0;32m/sc/arion/work/qasims01/test-env/envs/LFPAnalysis/lib/python3.11/site-packages/matplotlib/backends/backend_nbagg.py:144\u001b[0m, in \u001b[0;36mFigureManagerNbAgg.destroy\u001b[0;34m(self)\u001b[0m\n\u001b[1;32m    142\u001b[0m \u001b[38;5;28;01mfor\u001b[39;00m comm \u001b[38;5;129;01min\u001b[39;00m \u001b[38;5;28mlist\u001b[39m(\u001b[38;5;28mself\u001b[39m\u001b[38;5;241m.\u001b[39mweb_sockets):\n\u001b[1;32m    143\u001b[0m     comm\u001b[38;5;241m.\u001b[39mon_close()\n\u001b[0;32m--> 144\u001b[0m \u001b[38;5;28;43mself\u001b[39;49m\u001b[38;5;241;43m.\u001b[39;49m\u001b[43mclearup_closed\u001b[49m\u001b[43m(\u001b[49m\u001b[43m)\u001b[49m\n",
      "File \u001b[0;32m/sc/arion/work/qasims01/test-env/envs/LFPAnalysis/lib/python3.11/site-packages/matplotlib/backends/backend_nbagg.py:152\u001b[0m, in \u001b[0;36mFigureManagerNbAgg.clearup_closed\u001b[0;34m(self)\u001b[0m\n\u001b[1;32m    148\u001b[0m \u001b[38;5;28mself\u001b[39m\u001b[38;5;241m.\u001b[39mweb_sockets \u001b[38;5;241m=\u001b[39m {socket \u001b[38;5;28;01mfor\u001b[39;00m socket \u001b[38;5;129;01min\u001b[39;00m \u001b[38;5;28mself\u001b[39m\u001b[38;5;241m.\u001b[39mweb_sockets\n\u001b[1;32m    149\u001b[0m                     \u001b[38;5;28;01mif\u001b[39;00m socket\u001b[38;5;241m.\u001b[39mis_open()}\n\u001b[1;32m    151\u001b[0m \u001b[38;5;28;01mif\u001b[39;00m \u001b[38;5;28mlen\u001b[39m(\u001b[38;5;28mself\u001b[39m\u001b[38;5;241m.\u001b[39mweb_sockets) \u001b[38;5;241m==\u001b[39m \u001b[38;5;241m0\u001b[39m:\n\u001b[0;32m--> 152\u001b[0m     \u001b[38;5;28;43mself\u001b[39;49m\u001b[38;5;241;43m.\u001b[39;49m\u001b[43mcanvas\u001b[49m\u001b[38;5;241;43m.\u001b[39;49m\u001b[43mclose_event\u001b[49m\u001b[43m(\u001b[49m\u001b[43m)\u001b[49m\n",
      "File \u001b[0;32m/sc/arion/work/qasims01/test-env/envs/LFPAnalysis/lib/python3.11/site-packages/matplotlib/_api/deprecation.py:200\u001b[0m, in \u001b[0;36mdeprecated.<locals>.deprecate.<locals>.wrapper\u001b[0;34m(*args, **kwargs)\u001b[0m\n\u001b[1;32m    198\u001b[0m \u001b[38;5;28;01mdef\u001b[39;00m \u001b[38;5;21mwrapper\u001b[39m(\u001b[38;5;241m*\u001b[39margs, \u001b[38;5;241m*\u001b[39m\u001b[38;5;241m*\u001b[39mkwargs):\n\u001b[1;32m    199\u001b[0m     emit_warning()\n\u001b[0;32m--> 200\u001b[0m     \u001b[38;5;28;01mreturn\u001b[39;00m \u001b[43mfunc\u001b[49m\u001b[43m(\u001b[49m\u001b[38;5;241;43m*\u001b[39;49m\u001b[43margs\u001b[49m\u001b[43m,\u001b[49m\u001b[43m \u001b[49m\u001b[38;5;241;43m*\u001b[39;49m\u001b[38;5;241;43m*\u001b[39;49m\u001b[43mkwargs\u001b[49m\u001b[43m)\u001b[49m\n",
      "File \u001b[0;32m/sc/arion/work/qasims01/test-env/envs/LFPAnalysis/lib/python3.11/site-packages/matplotlib/backend_bases.py:1771\u001b[0m, in \u001b[0;36mFigureCanvasBase.close_event\u001b[0;34m(self, guiEvent)\u001b[0m\n\u001b[1;32m   1769\u001b[0m \u001b[38;5;28;01mtry\u001b[39;00m:\n\u001b[1;32m   1770\u001b[0m     event \u001b[38;5;241m=\u001b[39m CloseEvent(s, \u001b[38;5;28mself\u001b[39m, guiEvent\u001b[38;5;241m=\u001b[39mguiEvent)\n\u001b[0;32m-> 1771\u001b[0m     \u001b[38;5;28;43mself\u001b[39;49m\u001b[38;5;241;43m.\u001b[39;49m\u001b[43mcallbacks\u001b[49m\u001b[38;5;241;43m.\u001b[39;49m\u001b[43mprocess\u001b[49m\u001b[43m(\u001b[49m\u001b[43ms\u001b[49m\u001b[43m,\u001b[49m\u001b[43m \u001b[49m\u001b[43mevent\u001b[49m\u001b[43m)\u001b[49m\n\u001b[1;32m   1772\u001b[0m \u001b[38;5;28;01mexcept\u001b[39;00m (\u001b[38;5;167;01mTypeError\u001b[39;00m, \u001b[38;5;167;01mAttributeError\u001b[39;00m):\n\u001b[1;32m   1773\u001b[0m     \u001b[38;5;28;01mpass\u001b[39;00m\n",
      "File \u001b[0;32m/sc/arion/work/qasims01/test-env/envs/LFPAnalysis/lib/python3.11/site-packages/matplotlib/cbook/__init__.py:312\u001b[0m, in \u001b[0;36mCallbackRegistry.process\u001b[0;34m(self, s, *args, **kwargs)\u001b[0m\n\u001b[1;32m    310\u001b[0m \u001b[38;5;28;01mexcept\u001b[39;00m \u001b[38;5;167;01mException\u001b[39;00m \u001b[38;5;28;01mas\u001b[39;00m exc:\n\u001b[1;32m    311\u001b[0m     \u001b[38;5;28;01mif\u001b[39;00m \u001b[38;5;28mself\u001b[39m\u001b[38;5;241m.\u001b[39mexception_handler \u001b[38;5;129;01mis\u001b[39;00m \u001b[38;5;129;01mnot\u001b[39;00m \u001b[38;5;28;01mNone\u001b[39;00m:\n\u001b[0;32m--> 312\u001b[0m         \u001b[38;5;28;43mself\u001b[39;49m\u001b[38;5;241;43m.\u001b[39;49m\u001b[43mexception_handler\u001b[49m\u001b[43m(\u001b[49m\u001b[43mexc\u001b[49m\u001b[43m)\u001b[49m\n\u001b[1;32m    313\u001b[0m     \u001b[38;5;28;01melse\u001b[39;00m:\n\u001b[1;32m    314\u001b[0m         \u001b[38;5;28;01mraise\u001b[39;00m\n",
      "File \u001b[0;32m/sc/arion/work/qasims01/test-env/envs/LFPAnalysis/lib/python3.11/site-packages/matplotlib/cbook/__init__.py:96\u001b[0m, in \u001b[0;36m_exception_printer\u001b[0;34m(exc)\u001b[0m\n\u001b[1;32m     94\u001b[0m \u001b[38;5;28;01mdef\u001b[39;00m \u001b[38;5;21m_exception_printer\u001b[39m(exc):\n\u001b[1;32m     95\u001b[0m     \u001b[38;5;28;01mif\u001b[39;00m _get_running_interactive_framework() \u001b[38;5;129;01min\u001b[39;00m [\u001b[38;5;124m\"\u001b[39m\u001b[38;5;124mheadless\u001b[39m\u001b[38;5;124m\"\u001b[39m, \u001b[38;5;28;01mNone\u001b[39;00m]:\n\u001b[0;32m---> 96\u001b[0m         \u001b[38;5;28;01mraise\u001b[39;00m exc\n\u001b[1;32m     97\u001b[0m     \u001b[38;5;28;01melse\u001b[39;00m:\n\u001b[1;32m     98\u001b[0m         traceback\u001b[38;5;241m.\u001b[39mprint_exc()\n",
      "File \u001b[0;32m/sc/arion/work/qasims01/test-env/envs/LFPAnalysis/lib/python3.11/site-packages/matplotlib/cbook/__init__.py:307\u001b[0m, in \u001b[0;36mCallbackRegistry.process\u001b[0;34m(self, s, *args, **kwargs)\u001b[0m\n\u001b[1;32m    305\u001b[0m \u001b[38;5;28;01mif\u001b[39;00m func \u001b[38;5;129;01mis\u001b[39;00m \u001b[38;5;129;01mnot\u001b[39;00m \u001b[38;5;28;01mNone\u001b[39;00m:\n\u001b[1;32m    306\u001b[0m     \u001b[38;5;28;01mtry\u001b[39;00m:\n\u001b[0;32m--> 307\u001b[0m         \u001b[43mfunc\u001b[49m\u001b[43m(\u001b[49m\u001b[38;5;241;43m*\u001b[39;49m\u001b[43margs\u001b[49m\u001b[43m,\u001b[49m\u001b[43m \u001b[49m\u001b[38;5;241;43m*\u001b[39;49m\u001b[38;5;241;43m*\u001b[39;49m\u001b[43mkwargs\u001b[49m\u001b[43m)\u001b[49m\n\u001b[1;32m    308\u001b[0m     \u001b[38;5;66;03m# this does not capture KeyboardInterrupt, SystemExit,\u001b[39;00m\n\u001b[1;32m    309\u001b[0m     \u001b[38;5;66;03m# and GeneratorExit\u001b[39;00m\n\u001b[1;32m    310\u001b[0m     \u001b[38;5;28;01mexcept\u001b[39;00m \u001b[38;5;167;01mException\u001b[39;00m \u001b[38;5;28;01mas\u001b[39;00m exc:\n",
      "File \u001b[0;32m/sc/arion/work/qasims01/test-env/envs/LFPAnalysis/lib/python3.11/site-packages/mne/viz/_mpl_figure.py:190\u001b[0m, in \u001b[0;36mMNEAnnotationFigure._close\u001b[0;34m(self, event)\u001b[0m\n\u001b[1;32m    188\u001b[0m parent\u001b[38;5;241m.\u001b[39mcanvas\u001b[38;5;241m.\u001b[39mcallbacks\u001b[38;5;241m.\u001b[39mdisconnect(callback_id)\n\u001b[1;32m    189\u001b[0m \u001b[38;5;66;03m# do all the other cleanup activities\u001b[39;00m\n\u001b[0;32m--> 190\u001b[0m \u001b[38;5;28;43msuper\u001b[39;49m\u001b[43m(\u001b[49m\u001b[43m)\u001b[49m\u001b[38;5;241;43m.\u001b[39;49m\u001b[43m_close\u001b[49m\u001b[43m(\u001b[49m\u001b[43mevent\u001b[49m\u001b[43m)\u001b[49m\n",
      "File \u001b[0;32m/sc/arion/work/qasims01/test-env/envs/LFPAnalysis/lib/python3.11/site-packages/mne/viz/_mpl_figure.py:114\u001b[0m, in \u001b[0;36mMNEFigure._close\u001b[0;34m(self, event)\u001b[0m\n\u001b[1;32m    112\u001b[0m is_named \u001b[38;5;241m=\u001b[39m \u001b[38;5;28mgetattr\u001b[39m(\u001b[38;5;28mself\u001b[39m\u001b[38;5;241m.\u001b[39mmne, \u001b[38;5;124m'\u001b[39m\u001b[38;5;124mfig_name\u001b[39m\u001b[38;5;124m'\u001b[39m, \u001b[38;5;28;01mNone\u001b[39;00m) \u001b[38;5;129;01mis\u001b[39;00m \u001b[38;5;129;01mnot\u001b[39;00m \u001b[38;5;28;01mNone\u001b[39;00m\n\u001b[1;32m    113\u001b[0m \u001b[38;5;28;01mif\u001b[39;00m is_child:\n\u001b[0;32m--> 114\u001b[0m     \u001b[38;5;28;43mself\u001b[39;49m\u001b[38;5;241;43m.\u001b[39;49m\u001b[43mmne\u001b[49m\u001b[38;5;241;43m.\u001b[39;49m\u001b[43mparent_fig\u001b[49m\u001b[38;5;241;43m.\u001b[39;49m\u001b[43mmne\u001b[49m\u001b[38;5;241;43m.\u001b[39;49m\u001b[43mchild_figs\u001b[49m\u001b[38;5;241;43m.\u001b[39;49m\u001b[43mremove\u001b[49m\u001b[43m(\u001b[49m\u001b[38;5;28;43mself\u001b[39;49m\u001b[43m)\u001b[49m\n\u001b[1;32m    115\u001b[0m     \u001b[38;5;28;01mif\u001b[39;00m is_named:\n\u001b[1;32m    116\u001b[0m         \u001b[38;5;28msetattr\u001b[39m(\u001b[38;5;28mself\u001b[39m\u001b[38;5;241m.\u001b[39mmne\u001b[38;5;241m.\u001b[39mparent_fig\u001b[38;5;241m.\u001b[39mmne, \u001b[38;5;28mself\u001b[39m\u001b[38;5;241m.\u001b[39mmne\u001b[38;5;241m.\u001b[39mfig_name, \u001b[38;5;28;01mNone\u001b[39;00m)\n",
      "\u001b[0;31mValueError\u001b[0m: list.remove(x): x not in list"
     ]
    }
   ],
   "source": [
    "%matplotlib notebook\n",
    "fig = MS007_data_reref.plot(start=0, duration=120, n_channels=8, scalings=MS007_data._data.max()/20)\n",
    "# fig.fake_keypress('a')"
   ]
  },
  {
   "cell_type": "code",
   "execution_count": 33,
   "metadata": {},
   "outputs": [
    {
     "name": "stdout",
     "output_type": "stream",
     "text": [
      "Overwriting existing file.\n",
      "Writing /sc/arion/work/qasims01/MemoryBanditData/EMU/Subjects/MS007/wm_ref_ieeg.fif\n",
      "Closing /sc/arion/work/qasims01/MemoryBanditData/EMU/Subjects/MS007/wm_ref_ieeg.fif\n",
      "[done]\n"
     ]
    }
   ],
   "source": [
    "# Save out the re-referenced data:\n",
    "\n",
    "MS007_data_reref.save(f'{save_dir}/wm_ref_ieeg.fif', overwrite=True)\n"
   ]
  },
  {
   "cell_type": "code",
   "execution_count": null,
   "metadata": {},
   "outputs": [],
   "source": []
  }
 ],
 "metadata": {
  "kernelspec": {
   "display_name": "Python 3",
   "language": "python",
   "name": "python3"
  },
  "language_info": {
   "codemirror_mode": {
    "name": "ipython",
    "version": 3
   },
   "file_extension": ".py",
   "mimetype": "text/x-python",
   "name": "python",
   "nbconvert_exporter": "python",
   "pygments_lexer": "ipython3",
   "version": "3.10.5 (v3.10.5:f377153967, Jun  6 2022, 12:36:10) [Clang 13.0.0 (clang-1300.0.29.30)]"
  },
  "vscode": {
   "interpreter": {
    "hash": "aee8b7b246df8f9039afb4144a1f6fd8d2ca17a180786b69acc140d282b71a49"
   }
  }
 },
 "nbformat": 4,
 "nbformat_minor": 2
}
